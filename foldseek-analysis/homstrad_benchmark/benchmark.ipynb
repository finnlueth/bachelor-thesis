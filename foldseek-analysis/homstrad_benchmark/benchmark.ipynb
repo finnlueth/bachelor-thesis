{
 "cells": [
  {
   "cell_type": "code",
   "execution_count": 78,
   "id": "a74158c0-b3fb-4857-a3b0-c4ac334c746a",
   "metadata": {},
   "outputs": [],
   "source": [
    "import numpy as np\n",
    "import matplotlib.pyplot as plt\n",
    "import matplotlib.colors as colors\n",
    "import sys\n",
    "import warnings\n",
    "import random\n",
    "import pickle\n",
    "import re\n",
    "import os\n",
    "import os.path as osp\n",
    "import copy\n",
    "import itertools\n",
    "\n",
    "from tqdm.notebook import tqdm"
   ]
  },
  {
   "cell_type": "markdown",
   "id": "dbd99f2c-7d75-448c-aae2-ee547aef7276",
   "metadata": {},
   "source": [
    "# Download Homstrad"
   ]
  },
  {
   "cell_type": "code",
   "execution_count": 2,
   "id": "cadc7408-bf3f-42f3-9ffa-2e8d99fbfaba",
   "metadata": {},
   "outputs": [],
   "source": [
    "%%bash\n",
    "\n",
    "if [ ! -d homstrad_db ]; then\n",
    "    mkdir homstrad_db\n",
    "    curl https://mizuguchilab.org/homstrad/data/homstrad_with_PDB_2022_Aug_1.tar.gz | tar -xz -C homstrad_db\n",
    "    \n",
    "    # Fix the igV PDB, because the chain order is wrong (corrects only the first two)\n",
    "    mv homstrad_db/igV/igV-sup.pdb homstrad_db/igV/igV-sup.pdb.orig\n",
    "\n",
    "    echo \\\n",
    "    'REMARK The domains in this file are:\n",
    "    REMARK    1tvdb   chain    H\n",
    "    REMARK    1qfpa   chain    G\n",
    "    REMARK    1b88a   chain    A\n",
    "    REMARK    1cd8    chain    A\n",
    "    REMARK    3cd4    chain    A\n",
    "    REMARK    1neu    chain    A\n",
    "    REMARK    1hnga   chain    A\n",
    "    REMARK    1cid1   chain    A\n",
    "    REMARK    1hnf    chain    A' > homstrad_db/igV/igV-sup.pdb\n",
    "    cat homstrad_db/igV/igV-sup.pdb.orig >> homstrad_db/igV/igV-sup.pdb\n",
    "fi"
   ]
  },
  {
   "cell_type": "code",
   "execution_count": 3,
   "id": "6b5ea042-86cd-48e9-bb8a-30de120765fb",
   "metadata": {},
   "outputs": [],
   "source": [
    "%%bash\n",
    "mkdir -p out/pdbs"
   ]
  },
  {
   "cell_type": "markdown",
   "id": "1686c564-c4fd-4962-be53-3d49a482388c",
   "metadata": {},
   "source": [
    "### Homstradt parsing gotchas\n",
    "- the chain order in PDBs doesn't always match the order in the alignment files (see Remarks in some PDB files for order)\n",
    "- the chain in the PDB can be a number (not only A,B,C,...)\n",
    "- there can be multiple chains with the same label (e.g. in the case with more than 26 chains)"
   ]
  },
  {
   "cell_type": "markdown",
   "id": "1296ff15-1e4d-49ff-86ee-8b0a8dd23a96",
   "metadata": {},
   "source": [
    "# Copy structures into single PDBs"
   ]
  },
  {
   "cell_type": "code",
   "execution_count": 4,
   "id": "8d40a71d-f628-4d1a-9c7d-c3eb53d71bce",
   "metadata": {},
   "outputs": [
    {
     "data": {
      "application/vnd.jupyter.widget-view+json": {
       "model_id": "81807368f8d64677b96a1ed04220e4ff",
       "version_major": 2,
       "version_minor": 0
      },
      "text/plain": [
       "  0%|          | 0/1032 [00:00<?, ?it/s]"
      ]
     },
     "metadata": {},
     "output_type": "display_data"
    },
    {
     "data": {
      "text/plain": [
       "(106, 926)"
      ]
     },
     "execution_count": 4,
     "metadata": {},
     "output_type": "execute_result"
    }
   ],
   "source": [
    "explicit_mapping_cnt, implicit_mapping_cnt = 0, 0\n",
    "for family in tqdm(os.listdir('homstrad_db/')):\n",
    "    os.makedirs(f'out/pdbs/{family}', exist_ok=True)\n",
    "    \n",
    "    # Parse family member names\n",
    "    with open(f'homstrad_db/{family}/{family}.ali') as file:\n",
    "        fam_members = []\n",
    "        for line in file:\n",
    "            if line.startswith('>'):\n",
    "                name = line[4:-1]\n",
    "                fam_members.append(name)\n",
    "                assert len(name) != 0, f'{fam_members[-1]} is to short'\n",
    "        \n",
    "    \n",
    "    # Split family PDB\n",
    "    chains = ''  # \n",
    "    with open(f'homstrad_db/{family}/{family}-sup.pdb') as file:\n",
    "        single_pdbs = [[] for _ in fam_members]\n",
    "        last_chain = None\n",
    "        i = -1\n",
    "        for line in file:\n",
    "            if line.startswith('ATOM'):\n",
    "                chain = line[21:22]\n",
    "                if chain != last_chain:\n",
    "                    i += 1\n",
    "                    last_chain = chain\n",
    "                    chains += chain\n",
    "                assert i >= 0\n",
    "                single_pdbs[i].append(line)\n",
    "\n",
    "    assert len(chains) == len(single_pdbs)\n",
    "                \n",
    "    # Select family members:\n",
    "    q_name, t_name = fam_members[0], fam_members[-1]  # first and last\n",
    "                \n",
    "    # Find mapping between alignment and pdb file\n",
    "    with open(f'homstrad_db/{family}/{family}-sup.pdb') as file:\n",
    "        pdb_txt = file.read()\n",
    "    # mapping is contained in remark section of pdb file\n",
    "    if 'REMARK The domains in this file are:' in pdb_txt:\n",
    "        lines = pdb_txt.splitlines()\n",
    "        idx = lines.index([line for line in lines if line.startswith('REMARK The domains in this file are:')][0])\n",
    "        id2chain = {}\n",
    "        for line in lines[idx+1:idx+1+len(fam_members)]:\n",
    "            _, name, chain, chain_name = line.split()\n",
    "            assert chain == 'chain'\n",
    "            id2chain[name] = chain_name\n",
    "        \n",
    "        q_pdb_idx = chains.index(id2chain[q_name])\n",
    "        t_pdb_idx = chains.index(id2chain[t_name])\n",
    "        q_pdb = single_pdbs[q_pdb_idx]\n",
    "        t_pdb = single_pdbs[t_pdb_idx]\n",
    "        explicit_mapping_cnt += 1\n",
    "                \n",
    "    else:  # pdb file has same order as alignment file\n",
    "        q_pdb, t_pdb = single_pdbs[0], single_pdbs[-1]\n",
    "        implicit_mapping_cnt += 1\n",
    "    \n",
    "    # Write selected pdbs\n",
    "    for lines, name in zip((q_pdb, t_pdb), (q_name, t_name)):\n",
    "        assert len(lines) > 0\n",
    "        with open(f'out/pdbs/{family}/{name}.pdb', 'w') as pdb_file:\n",
    "            pdb_file.writelines(lines)\n",
    "    with open(f'out/pdbs/{family}/names.txt', 'w') as file:\n",
    "        file.write(f'{q_name} {t_name}\\n')\n",
    "        \n",
    "explicit_mapping_cnt, implicit_mapping_cnt"
   ]
  },
  {
   "cell_type": "markdown",
   "id": "338f3c56-ec2f-424d-8fdc-0671f974aa2e",
   "metadata": {},
   "source": [
    "# Generate Alignments"
   ]
  },
  {
   "cell_type": "markdown",
   "id": "6c64895b-53ee-495f-9fe5-3d04dce9a4e1",
   "metadata": {},
   "source": [
    "## Foldseek"
   ]
  },
  {
   "cell_type": "code",
   "execution_count": 5,
   "id": "56a1b079-afca-4432-af49-d6869ca084ba",
   "metadata": {
    "tags": []
   },
   "outputs": [
    {
     "name": "stdout",
     "output_type": "stream",
     "text": [
      "Do 1. Sep 18:58:00 CEST 2022\n",
      "Do 1. Sep 19:04:37 CEST 2022\n"
     ]
    }
   ],
   "source": [
    "%%bash\n",
    "\n",
    "date\n",
    "FOLDSEEK=../../foldseek/build/src/foldseek\n",
    "\n",
    "fake_pref() {\n",
    "    QDB=\"$1\"\n",
    "    TDB=\"$2\"\n",
    "    RES=\"$3\"\n",
    "    \n",
    "    # create link to data file which contains a list of all targets that should be aligned\n",
    "    ln -s \"${TDB}.index\" \"${RES}\"\n",
    "    # create new index repeatedly pointing to same entry\n",
    "    INDEX_SIZE=\"$(echo $(wc -c < \"${TDB}.index\"))\"\n",
    "    awk -v size=$INDEX_SIZE '{ print $1\"\\t0\\t\"size; }' \"${QDB}.index\" > \"${RES}.index\"\n",
    "    # create dbtype (7)\n",
    "    awk 'BEGIN { printf(\"%c%c%c%c\",7,0,0,0); exit; }' > \"${RES}.dbtype\"\n",
    "}\n",
    "\n",
    "for fam in out/pdbs/*\n",
    "do\n",
    "    mkdir -p $fam/foldseek_tmp\n",
    "    rm -f $fam/foldseek_tmp/*\n",
    "    rm -f out/result.tsv\n",
    "    rm -f $fam/foldseek.aln*\n",
    "    \n",
    "    $FOLDSEEK createdb $fam out/db >> $fam/foldseek_tmp/foldseek.log\n",
    "\n",
    "    rm -f out/fakeprefdb*\n",
    "    fake_pref out/db out/db out/fakeprefdb\n",
    "    ln -sf db.index out/fakeprefdb\n",
    "\n",
    "    #   --sub-mat mat3di_bias10.out\n",
    "    $FOLDSEEK structurealign out/db out/db out/fakeprefdb out/result -e 100000 -a >> $fam/foldseek_tmp/foldseek.log\n",
    "    $FOLDSEEK convertalis out/db out/db out/result out/result.tsv --format-output \"query,target,qstart,tstart,qaln,taln,evalue,bits\" >> $fam/foldseek_tmp/foldseek.log\n",
    "    awk '{split($1, name1, \".\"); split($2, name2, \".\"); print name1[1], name2[1], $3-1, $4-1, $5, $6}' out/result.tsv > $fam/foldseek.aln\n",
    "done\n",
    "date"
   ]
  },
  {
   "cell_type": "markdown",
   "id": "fab18ee2-2e28-41dd-9af9-0ed2dc1c5e9b",
   "metadata": {},
   "source": [
    "## Foldseek (TM-align mode)"
   ]
  },
  {
   "cell_type": "code",
   "execution_count": 5,
   "id": "f7d57578-86ae-4ada-b2d3-c61f14b0d5b7",
   "metadata": {},
   "outputs": [
    {
     "name": "stdout",
     "output_type": "stream",
     "text": [
      "Di 6. Dez 18:38:23 CET 2022\n",
      "Di 6. Dez 18:40:40 CET 2022\n"
     ]
    }
   ],
   "source": [
    "%%bash\n",
    "\n",
    "date\n",
    "FOLDSEEK=foldseek\n",
    "\n",
    "fake_pref() {\n",
    "    QDB=\"$1\"\n",
    "    TDB=\"$2\"\n",
    "    RES=\"$3\"\n",
    "    \n",
    "    # create link to data file which contains a list of all targets that should be aligned\n",
    "    ln -s \"${TDB}.index\" \"${RES}\"\n",
    "    # create new index repeatedly pointing to same entry\n",
    "    INDEX_SIZE=\"$(echo $(wc -c < \"${TDB}.index\"))\"\n",
    "    awk -v size=$INDEX_SIZE '{ print $1\"\\t0\\t\"size; }' \"${QDB}.index\" > \"${RES}.index\"\n",
    "    # create dbtype (7)\n",
    "    awk 'BEGIN { printf(\"%c%c%c%c\",7,0,0,0); exit; }' > \"${RES}.dbtype\"\n",
    "}\n",
    "\n",
    "for fam in out/pdbs/*\n",
    "do\n",
    "    mkdir -p $fam/foldseektm_tmp\n",
    "    rm -f $fam/foldseektm_tmp/*\n",
    "    rm -f out/result.tsv\n",
    "    rm -f $fam/foldseektm.aln*\n",
    "    rm -f out/db*\n",
    "    rm -f out/result*\n",
    "    \n",
    "    $FOLDSEEK createdb $fam out/db >> $fam/foldseektm_tmp/foldseek.log\n",
    "\n",
    "    rm -f out/fakeprefdb*\n",
    "    fake_pref out/db out/db out/fakeprefdb\n",
    "    ln -sf db.index out/fakeprefdb\n",
    "\n",
    "    $FOLDSEEK tmalign out/db out/db out/fakeprefdb out/result -a >> $fam/foldseektm_tmp/foldseek.log\n",
    "    $FOLDSEEK convertalis out/db out/db out/result out/result.tsv --format-output \"query,target,qstart,tstart,qaln,taln,evalue,bits\" >> $fam/foldseektm_tmp/foldseek.log\n",
    "    awk '{split($1, name1, \".\"); split($2, name2, \".\"); print name1[1], name2[1], $3-1, $4-1, $5, $6}' out/result.tsv > $fam/foldseektm.aln\n",
    "done\n",
    "date"
   ]
  },
  {
   "cell_type": "markdown",
   "id": "2bdb08c1-f3f4-49b9-a795-a8f0af6b23a1",
   "metadata": {},
   "source": [
    "## MMseqs"
   ]
  },
  {
   "cell_type": "code",
   "execution_count": 6,
   "id": "93c9133f-09fe-4c55-aaf9-2fb2903a4195",
   "metadata": {},
   "outputs": [
    {
     "name": "stdout",
     "output_type": "stream",
     "text": [
      "Do 1. Sep 19:04:37 CEST 2022\n",
      "Do 1. Sep 19:11:56 CEST 2022\n"
     ]
    }
   ],
   "source": [
    "%%bash\n",
    "\n",
    "date\n",
    "FOLDSEEK=../../foldseek/build/src/foldseek\n",
    "\n",
    "fake_pref() {\n",
    "    QDB=\"$1\"\n",
    "    TDB=\"$2\"\n",
    "    RES=\"$3\"\n",
    "    \n",
    "    # create link to data file which contains a list of all targets that should be aligned\n",
    "    ln -s \"${TDB}.index\" \"${RES}\"\n",
    "    # create new index repeatedly pointing to same entry\n",
    "    INDEX_SIZE=\"$(echo $(wc -c < \"${TDB}.index\"))\"\n",
    "    awk -v size=$INDEX_SIZE '{ print $1\"\\t0\\t\"size; }' \"${QDB}.index\" > \"${RES}.index\"\n",
    "    # create dbtype (7)\n",
    "    awk 'BEGIN { printf(\"%c%c%c%c\",7,0,0,0); exit; }' > \"${RES}.dbtype\"\n",
    "}\n",
    "\n",
    "for fam in out/pdbs/*\n",
    "do\n",
    "    mkdir -p $fam/mmseqs_tmp\n",
    "    rm -f $fam/mmseqs_tmp/*\n",
    "    rm -f out/result.tsv\n",
    "    rm -f $fam/mmseqs.aln*\n",
    "    \n",
    "    $FOLDSEEK createdb $fam out/db >> $fam/mmseqs_tmp/mmseqs.log\n",
    "\n",
    "    rm -f out/fakeprefdb*\n",
    "    fake_pref out/db out/db out/fakeprefdb\n",
    "    ln -sf db.index out/fakeprefdb\n",
    "\n",
    "    $FOLDSEEK align out/db out/db out/fakeprefdb out/result -e 100000 -a >> $fam/mmseqs_tmp/mmseqs.log\n",
    "    $FOLDSEEK convertalis out/db out/db out/result out/result.tsv --format-output \"query,target,qstart,tstart,qaln,taln,evalue,bits\" >> $fam/mmseqs_tmp/mmseqs.log\n",
    "    awk '{split($1, name1, \".\"); split($2, name2, \".\"); print name1[1], name2[1], $3-1, $4-1, $5, $6}' out/result.tsv > $fam/mmseqs.aln\n",
    "done\n",
    "date"
   ]
  },
  {
   "cell_type": "markdown",
   "id": "ec4b31e5-d637-446a-bf4b-21793bb12a63",
   "metadata": {},
   "source": [
    "## TM-align"
   ]
  },
  {
   "cell_type": "code",
   "execution_count": 7,
   "id": "ba10412f-5254-45a3-b936-1eef92357d86",
   "metadata": {},
   "outputs": [
    {
     "name": "stdout",
     "output_type": "stream",
     "text": [
      "Do 1. Sep 19:11:57 CEST 2022\n",
      "Do 1. Sep 19:16:03 CEST 2022\n"
     ]
    }
   ],
   "source": [
    "%%bash\n",
    "TMALIGN=../tmalign_benchmark/tmalign/TMalign\n",
    "\n",
    "date\n",
    "for fam in out/pdbs/*\n",
    "do\n",
    "    mkdir -p $fam/tmalign_tmp\n",
    "    rm -f $fam/tmalign_tmp/*\n",
    "    rm -f $fam/tmalign.aln*\n",
    "    name1=\"$fam/\"$(awk '{print $1}' $fam/names.txt)\".pdb\"\n",
    "    name2=\"$fam/\"$(awk '{print $2}' $fam/names.txt)\".pdb\"\n",
    "    n1=$(basename $name1 .pdb)\n",
    "    n2=$(basename $name2 .pdb)\n",
    "\n",
    "    $TMALIGN $name1 $name2 \\\n",
    "        | tee -a $fam/tmalign_tmp/tmalign.out \\\n",
    "        | sed -n '19p;21p;' | sed -z \"s/\\n/ /g\" \\\n",
    "        | awk -v name1=$n1 -v name2=$n2 '{print name1, name2, 0, 0, $1, $2}' \\\n",
    "        >> $fam/tmalign.aln\n",
    "\n",
    "done\n",
    "date"
   ]
  },
  {
   "cell_type": "markdown",
   "id": "a02957f1-f503-40d7-bb85-00cf2c05d93c",
   "metadata": {},
   "source": [
    "## TM-align fast"
   ]
  },
  {
   "cell_type": "code",
   "execution_count": 8,
   "id": "cb8382be-1727-4b7b-a1b7-09283114303d",
   "metadata": {},
   "outputs": [
    {
     "name": "stdout",
     "output_type": "stream",
     "text": [
      "Do 1. Sep 19:16:03 CEST 2022\n",
      "Do 1. Sep 19:17:44 CEST 2022\n"
     ]
    }
   ],
   "source": [
    "%%bash\n",
    "TMALIGN=../tmalign_benchmark/tmalign/TMalign\n",
    "\n",
    "date\n",
    "for fam in out/pdbs/*\n",
    "do\n",
    "    mkdir -p $fam/tmalignfast_tmp\n",
    "    rm -f $fam/tmalignfast.aln\n",
    "    rm -f $fam/tmalignfast_tmp/*\n",
    "    \n",
    "    name1=\"$fam/\"$(awk '{print $1}' $fam/names.txt)\".pdb\"\n",
    "    name2=\"$fam/\"$(awk '{print $2}' $fam/names.txt)\".pdb\"    \n",
    "    n1=$(basename $name1 .pdb)\n",
    "    n2=$(basename $name2 .pdb)\n",
    "    \n",
    "    $TMALIGN $name1 $name2 -fast \\\n",
    "        | tee -a $fam/tmalignfast_tmp/tmalign.out \\\n",
    "        | sed -n '19p;21p;' | sed -z \"s/\\n/ /g\" \\\n",
    "        | awk -v name1=$n1 -v name2=$n2 '{print name1, name2, 0, 0, $1, $2}' \\\n",
    "        >> $fam/tmalignfast.aln\n",
    "done\n",
    "date"
   ]
  },
  {
   "cell_type": "markdown",
   "id": "31a20cfe-921a-4289-b721-76896f2db97a",
   "metadata": {},
   "source": [
    "## DALI"
   ]
  },
  {
   "cell_type": "code",
   "execution_count": 9,
   "id": "f71ea6bb-8877-4e0a-b1cc-56702e7c75de",
   "metadata": {
    "tags": []
   },
   "outputs": [],
   "source": [
    "%%bash\n",
    "if [ ! -d out/DaliLite.v5 ]; then\n",
    "    curl http://ekhidna2.biocenter.helsinki.fi/dali/DaliLite.v5.tar.gz | tar -xz -C out\n",
    "    \n",
    "    cd out/DaliLite.v5/bin\n",
    "    make clean\n",
    "    make\n",
    "fi"
   ]
  },
  {
   "cell_type": "code",
   "execution_count": 123,
   "id": "224b8d14-9566-40bb-979f-56cd5d1b7a57",
   "metadata": {},
   "outputs": [
    {
     "name": "stdout",
     "output_type": "stream",
     "text": [
      "Overwriting out/unalign_lowerletters.py\n"
     ]
    }
   ],
   "source": [
    "%%writefile out/unalign_lowerletters.py\n",
    "\n",
    "\"\"\"\n",
    "In the DALI alignment output format, lowercase letters indicate that there is\n",
    "no alignment between them.\n",
    "This script inserts a gap in each sequence such that other programs interpret\n",
    "the alignment correctly.\n",
    "\"\"\"\n",
    "import sys\n",
    "\n",
    "aln1, aln2 = open(sys.argv[1]).read().splitlines()\n",
    "\n",
    "assert len(aln1) == len(aln2)\n",
    "res1, res2 = '', ''\n",
    "buffer1, buffer2 = '', ''\n",
    "for c1, c2 in zip(aln1, aln2):\n",
    "    if c1.islower() and c2.islower():\n",
    "        #res1 += '-' + c1\n",
    "        #res2 += c2 + '-'\n",
    "        buffer1 += c1\n",
    "        buffer2 += c2\n",
    "    else:\n",
    "        if buffer1:\n",
    "            res1 += buffer1 + ('-' * len(buffer1))\n",
    "            res2 += ('-' * len(buffer2)) + buffer2\n",
    "            buffer1, buffer2 = '', ''\n",
    "        res1 += c1\n",
    "        res2 += c2\n",
    "                     \n",
    "if buffer1:\n",
    "    res1 += buffer1 + ('-' * len(buffer1))\n",
    "    res2 += ('-' * len(buffer2)) + buffer2\n",
    "    buffer1, buffer2 = '', ''\n",
    "        \n",
    "print(res1, res2)"
   ]
  },
  {
   "cell_type": "code",
   "execution_count": 125,
   "id": "281d0c61-4ca0-4c4a-ac57-013cd2a36589",
   "metadata": {
    "collapsed": true,
    "jupyter": {
     "outputs_hidden": true
    },
    "tags": []
   },
   "outputs": [
    {
     "name": "stdout",
     "output_type": "stream",
     "text": [
      "Di 6. Sep 15:52:45 CEST 2022\n",
      "Di 6. Sep 16:36:58 CEST 2022\n"
     ]
    },
    {
     "name": "stderr",
     "output_type": "stream",
     "text": [
      "Traceback (most recent call last):\n",
      "  File \"/home/michel/ownCloud/project1/foldseek/foldseek-analysis/homstrad_benchmark/out/unalign_lowerletters.py\", line 10, in <module>\n",
      "    aln1, aln2 = open(sys.argv[1]).read().splitlines()\n",
      "ValueError: not enough values to unpack (expected 2, got 1)\n",
      "Traceback (most recent call last):\n",
      "  File \"/home/michel/ownCloud/project1/foldseek/foldseek-analysis/homstrad_benchmark/out/unalign_lowerletters.py\", line 10, in <module>\n",
      "    aln1, aln2 = open(sys.argv[1]).read().splitlines()\n",
      "ValueError: not enough values to unpack (expected 2, got 1)\n",
      "Traceback (most recent call last):\n",
      "  File \"/home/michel/ownCloud/project1/foldseek/foldseek-analysis/homstrad_benchmark/out/unalign_lowerletters.py\", line 10, in <module>\n",
      "    aln1, aln2 = open(sys.argv[1]).read().splitlines()\n",
      "ValueError: not enough values to unpack (expected 2, got 1)\n",
      "Traceback (most recent call last):\n",
      "  File \"/home/michel/ownCloud/project1/foldseek/foldseek-analysis/homstrad_benchmark/out/unalign_lowerletters.py\", line 10, in <module>\n",
      "    aln1, aln2 = open(sys.argv[1]).read().splitlines()\n",
      "ValueError: not enough values to unpack (expected 2, got 1)\n",
      "Traceback (most recent call last):\n",
      "  File \"/home/michel/ownCloud/project1/foldseek/foldseek-analysis/homstrad_benchmark/out/unalign_lowerletters.py\", line 10, in <module>\n",
      "    aln1, aln2 = open(sys.argv[1]).read().splitlines()\n",
      "ValueError: not enough values to unpack (expected 2, got 1)\n",
      "Traceback (most recent call last):\n",
      "  File \"/home/michel/ownCloud/project1/foldseek/foldseek-analysis/homstrad_benchmark/out/unalign_lowerletters.py\", line 10, in <module>\n",
      "    aln1, aln2 = open(sys.argv[1]).read().splitlines()\n",
      "ValueError: not enough values to unpack (expected 2, got 1)\n",
      "Traceback (most recent call last):\n",
      "  File \"/home/michel/ownCloud/project1/foldseek/foldseek-analysis/homstrad_benchmark/out/unalign_lowerletters.py\", line 10, in <module>\n",
      "    aln1, aln2 = open(sys.argv[1]).read().splitlines()\n",
      "ValueError: not enough values to unpack (expected 2, got 1)\n",
      "Traceback (most recent call last):\n",
      "  File \"/home/michel/ownCloud/project1/foldseek/foldseek-analysis/homstrad_benchmark/out/unalign_lowerletters.py\", line 10, in <module>\n",
      "    aln1, aln2 = open(sys.argv[1]).read().splitlines()\n",
      "ValueError: not enough values to unpack (expected 2, got 1)\n",
      "Traceback (most recent call last):\n",
      "  File \"/home/michel/ownCloud/project1/foldseek/foldseek-analysis/homstrad_benchmark/out/unalign_lowerletters.py\", line 10, in <module>\n",
      "    aln1, aln2 = open(sys.argv[1]).read().splitlines()\n",
      "ValueError: not enough values to unpack (expected 2, got 1)\n",
      "awk: fatal: cannot open file `.txt' for reading (No such file or directory)\n",
      "awk: fatal: cannot open file `.txt' for reading (No such file or directory)\n",
      "mv: cannot stat '.txt': No such file or directory\n",
      "Traceback (most recent call last):\n",
      "  File \"/home/michel/ownCloud/project1/foldseek/foldseek-analysis/homstrad_benchmark/out/unalign_lowerletters.py\", line 10, in <module>\n",
      "    aln1, aln2 = open(sys.argv[1]).read().splitlines()\n",
      "ValueError: not enough values to unpack (expected 2, got 1)\n",
      "Traceback (most recent call last):\n",
      "  File \"/home/michel/ownCloud/project1/foldseek/foldseek-analysis/homstrad_benchmark/out/unalign_lowerletters.py\", line 10, in <module>\n",
      "    aln1, aln2 = open(sys.argv[1]).read().splitlines()\n",
      "ValueError: not enough values to unpack (expected 2, got 1)\n",
      "awk: fatal: cannot open file `.txt' for reading (No such file or directory)\n",
      "awk: fatal: cannot open file `.txt' for reading (No such file or directory)\n",
      "mv: cannot stat '.txt': No such file or directory\n",
      "Traceback (most recent call last):\n",
      "  File \"/home/michel/ownCloud/project1/foldseek/foldseek-analysis/homstrad_benchmark/out/unalign_lowerletters.py\", line 10, in <module>\n",
      "    aln1, aln2 = open(sys.argv[1]).read().splitlines()\n",
      "ValueError: not enough values to unpack (expected 2, got 1)\n",
      "Traceback (most recent call last):\n",
      "  File \"/home/michel/ownCloud/project1/foldseek/foldseek-analysis/homstrad_benchmark/out/unalign_lowerletters.py\", line 10, in <module>\n",
      "    aln1, aln2 = open(sys.argv[1]).read().splitlines()\n",
      "ValueError: not enough values to unpack (expected 2, got 1)\n",
      "Traceback (most recent call last):\n",
      "  File \"/home/michel/ownCloud/project1/foldseek/foldseek-analysis/homstrad_benchmark/out/unalign_lowerletters.py\", line 10, in <module>\n",
      "    aln1, aln2 = open(sys.argv[1]).read().splitlines()\n",
      "ValueError: not enough values to unpack (expected 2, got 1)\n",
      "awk: fatal: cannot open file `.txt' for reading (No such file or directory)\n",
      "awk: fatal: cannot open file `.txt' for reading (No such file or directory)\n",
      "mv: cannot stat '.txt': No such file or directory\n",
      "Traceback (most recent call last):\n",
      "  File \"/home/michel/ownCloud/project1/foldseek/foldseek-analysis/homstrad_benchmark/out/unalign_lowerletters.py\", line 10, in <module>\n",
      "    aln1, aln2 = open(sys.argv[1]).read().splitlines()\n",
      "ValueError: not enough values to unpack (expected 2, got 1)\n",
      "Traceback (most recent call last):\n",
      "  File \"/home/michel/ownCloud/project1/foldseek/foldseek-analysis/homstrad_benchmark/out/unalign_lowerletters.py\", line 10, in <module>\n",
      "    aln1, aln2 = open(sys.argv[1]).read().splitlines()\n",
      "ValueError: not enough values to unpack (expected 2, got 1)\n",
      "Traceback (most recent call last):\n",
      "  File \"/home/michel/ownCloud/project1/foldseek/foldseek-analysis/homstrad_benchmark/out/unalign_lowerletters.py\", line 10, in <module>\n",
      "    aln1, aln2 = open(sys.argv[1]).read().splitlines()\n",
      "ValueError: not enough values to unpack (expected 2, got 1)\n",
      "Traceback (most recent call last):\n",
      "  File \"/home/michel/ownCloud/project1/foldseek/foldseek-analysis/homstrad_benchmark/out/unalign_lowerletters.py\", line 10, in <module>\n",
      "    aln1, aln2 = open(sys.argv[1]).read().splitlines()\n",
      "ValueError: not enough values to unpack (expected 2, got 1)\n",
      "Traceback (most recent call last):\n",
      "  File \"/home/michel/ownCloud/project1/foldseek/foldseek-analysis/homstrad_benchmark/out/unalign_lowerletters.py\", line 10, in <module>\n",
      "    aln1, aln2 = open(sys.argv[1]).read().splitlines()\n",
      "ValueError: not enough values to unpack (expected 2, got 1)\n",
      "awk: fatal: cannot open file `.txt' for reading (No such file or directory)\n",
      "awk: fatal: cannot open file `.txt' for reading (No such file or directory)\n",
      "mv: cannot stat '.txt': No such file or directory\n",
      "Traceback (most recent call last):\n",
      "  File \"/home/michel/ownCloud/project1/foldseek/foldseek-analysis/homstrad_benchmark/out/unalign_lowerletters.py\", line 10, in <module>\n",
      "    aln1, aln2 = open(sys.argv[1]).read().splitlines()\n",
      "ValueError: not enough values to unpack (expected 2, got 1)\n",
      "Traceback (most recent call last):\n",
      "  File \"/home/michel/ownCloud/project1/foldseek/foldseek-analysis/homstrad_benchmark/out/unalign_lowerletters.py\", line 10, in <module>\n",
      "    aln1, aln2 = open(sys.argv[1]).read().splitlines()\n",
      "ValueError: not enough values to unpack (expected 2, got 1)\n",
      "Traceback (most recent call last):\n",
      "  File \"/home/michel/ownCloud/project1/foldseek/foldseek-analysis/homstrad_benchmark/out/unalign_lowerletters.py\", line 10, in <module>\n",
      "    aln1, aln2 = open(sys.argv[1]).read().splitlines()\n",
      "ValueError: not enough values to unpack (expected 2, got 1)\n",
      "Traceback (most recent call last):\n",
      "  File \"/home/michel/ownCloud/project1/foldseek/foldseek-analysis/homstrad_benchmark/out/unalign_lowerletters.py\", line 10, in <module>\n",
      "    aln1, aln2 = open(sys.argv[1]).read().splitlines()\n",
      "ValueError: not enough values to unpack (expected 2, got 1)\n",
      "Traceback (most recent call last):\n",
      "  File \"/home/michel/ownCloud/project1/foldseek/foldseek-analysis/homstrad_benchmark/out/unalign_lowerletters.py\", line 10, in <module>\n",
      "    aln1, aln2 = open(sys.argv[1]).read().splitlines()\n",
      "ValueError: not enough values to unpack (expected 2, got 1)\n",
      "Traceback (most recent call last):\n",
      "  File \"/home/michel/ownCloud/project1/foldseek/foldseek-analysis/homstrad_benchmark/out/unalign_lowerletters.py\", line 10, in <module>\n",
      "    aln1, aln2 = open(sys.argv[1]).read().splitlines()\n",
      "ValueError: not enough values to unpack (expected 2, got 1)\n",
      "Traceback (most recent call last):\n",
      "  File \"/home/michel/ownCloud/project1/foldseek/foldseek-analysis/homstrad_benchmark/out/unalign_lowerletters.py\", line 10, in <module>\n",
      "    aln1, aln2 = open(sys.argv[1]).read().splitlines()\n",
      "ValueError: not enough values to unpack (expected 2, got 1)\n",
      "Traceback (most recent call last):\n",
      "  File \"/home/michel/ownCloud/project1/foldseek/foldseek-analysis/homstrad_benchmark/out/unalign_lowerletters.py\", line 10, in <module>\n",
      "    aln1, aln2 = open(sys.argv[1]).read().splitlines()\n",
      "ValueError: not enough values to unpack (expected 2, got 1)\n",
      "Traceback (most recent call last):\n",
      "  File \"/home/michel/ownCloud/project1/foldseek/foldseek-analysis/homstrad_benchmark/out/unalign_lowerletters.py\", line 10, in <module>\n",
      "    aln1, aln2 = open(sys.argv[1]).read().splitlines()\n",
      "ValueError: not enough values to unpack (expected 2, got 1)\n",
      "awk: fatal: cannot open file `.txt' for reading (No such file or directory)\n",
      "awk: fatal: cannot open file `.txt' for reading (No such file or directory)\n",
      "mv: cannot stat '.txt': No such file or directory\n",
      "Traceback (most recent call last):\n",
      "  File \"/home/michel/ownCloud/project1/foldseek/foldseek-analysis/homstrad_benchmark/out/unalign_lowerletters.py\", line 10, in <module>\n",
      "    aln1, aln2 = open(sys.argv[1]).read().splitlines()\n",
      "ValueError: not enough values to unpack (expected 2, got 1)\n",
      "Traceback (most recent call last):\n",
      "  File \"/home/michel/ownCloud/project1/foldseek/foldseek-analysis/homstrad_benchmark/out/unalign_lowerletters.py\", line 10, in <module>\n",
      "    aln1, aln2 = open(sys.argv[1]).read().splitlines()\n",
      "ValueError: not enough values to unpack (expected 2, got 1)\n",
      "Traceback (most recent call last):\n",
      "  File \"/home/michel/ownCloud/project1/foldseek/foldseek-analysis/homstrad_benchmark/out/unalign_lowerletters.py\", line 10, in <module>\n",
      "    aln1, aln2 = open(sys.argv[1]).read().splitlines()\n",
      "ValueError: not enough values to unpack (expected 2, got 1)\n",
      "Traceback (most recent call last):\n",
      "  File \"/home/michel/ownCloud/project1/foldseek/foldseek-analysis/homstrad_benchmark/out/unalign_lowerletters.py\", line 10, in <module>\n",
      "    aln1, aln2 = open(sys.argv[1]).read().splitlines()\n",
      "ValueError: not enough values to unpack (expected 2, got 1)\n",
      "Traceback (most recent call last):\n",
      "  File \"/home/michel/ownCloud/project1/foldseek/foldseek-analysis/homstrad_benchmark/out/unalign_lowerletters.py\", line 10, in <module>\n",
      "    aln1, aln2 = open(sys.argv[1]).read().splitlines()\n",
      "ValueError: not enough values to unpack (expected 2, got 1)\n",
      "awk: fatal: cannot open file `.txt' for reading (No such file or directory)\n",
      "awk: fatal: cannot open file `.txt' for reading (No such file or directory)\n",
      "mv: cannot stat '.txt': No such file or directory\n",
      "Traceback (most recent call last):\n",
      "  File \"/home/michel/ownCloud/project1/foldseek/foldseek-analysis/homstrad_benchmark/out/unalign_lowerletters.py\", line 10, in <module>\n",
      "    aln1, aln2 = open(sys.argv[1]).read().splitlines()\n",
      "ValueError: not enough values to unpack (expected 2, got 1)\n",
      "Traceback (most recent call last):\n",
      "  File \"/home/michel/ownCloud/project1/foldseek/foldseek-analysis/homstrad_benchmark/out/unalign_lowerletters.py\", line 10, in <module>\n",
      "    aln1, aln2 = open(sys.argv[1]).read().splitlines()\n",
      "ValueError: not enough values to unpack (expected 2, got 1)\n"
     ]
    }
   ],
   "source": [
    "%%bash\n",
    "\n",
    "DALI=./out/DaliLite.v5/bin\n",
    "\n",
    "date\n",
    "for fam in out/pdbs/*\n",
    "do    \n",
    "    name1=\"$fam/\"$(awk '{print $1}' $fam/names.txt)\".pdb\"\n",
    "    name2=\"$fam/\"$(awk '{print $2}' $fam/names.txt)\".pdb\"\n",
    "    rm -f $fam/dali.aln*\n",
    "    mkdir -p $fam/dali_tmp\n",
    "    rm -f $fam/dali_tmp/*\n",
    "    \n",
    "    # Convert PDBs into Dali's format    \n",
    "    $DALI/import.pl --pdbfile $name1 --pdbid aaaa --dat $fam/dali_tmp/ --clean &> $fam/dali_tmp/dali.log\n",
    "    $DALI/import.pl --pdbfile $name2 --pdbid bbbb --dat $fam/dali_tmp/ --clean &>> $fam/dali_tmp/dali.log\n",
    "\n",
    "    # Alignment\n",
    "    id1=$(find $fam/dali_tmp/ -name \"aaaa?.dat\" -exec basename {} .dat \\;)\n",
    "    id2=$(find $fam/dali_tmp/ -name \"bbbb?.dat\" -exec basename {} .dat \\;)\n",
    "    $DALI/dali.pl --cd1 $id1 --cd2 $id2 --dat1 $fam/dali_tmp/ --dat2 $fam/dali_tmp/ --clean --outfmt \"summary,alignments\" &>> $fam/dali_tmp/dali.log\n",
    "\n",
    "    # Extract alignment\n",
    "    awk '/^Query/{print $2}' $id1.txt | sed -z \"s/\\n//g\" > $fam/dali_tmp/tmp_aln.txt\n",
    "    echo '' >> $fam/dali_tmp/tmp_aln.txt\n",
    "    awk '/^Sbjct/{print $2}' $id1.txt | sed -z \"s/\\n//g\" >> $fam/dali_tmp/tmp_aln.txt\n",
    "    mv $id1.txt $fam/dali_tmp/result.txt\n",
    "\n",
    "    # Note: lower-case letters in the alignment are unaligned!\n",
    "    # Reformat output\n",
    "    n1=$(basename $name1 .pdb)\n",
    "    n2=$(basename $name2 .pdb)\n",
    "    python3 out/unalign_lowerletters.py $fam/dali_tmp/tmp_aln.txt \\\n",
    "    | awk -v name1=$n1 -v name2=$n2 '{print name1, name2, 0, 0, $1, $2}' \\\n",
    "    >> $fam/dali.aln\n",
    "    \n",
    "done\n",
    "date"
   ]
  },
  {
   "cell_type": "markdown",
   "id": "4fda17c7-16d6-492b-8ac3-1d9e8a0ea65a",
   "metadata": {},
   "source": [
    "## CE"
   ]
  },
  {
   "cell_type": "code",
   "execution_count": 42,
   "id": "a92b0df7-c515-4b5c-9b4c-de0d7c6b8eda",
   "metadata": {
    "tags": []
   },
   "outputs": [
    {
     "name": "stdout",
     "output_type": "stream",
     "text": [
      "Fr 2. Sep 07:37:51 CEST 2022\n",
      "Fr 2. Sep 07:37:54 CEST 2022\n"
     ]
    }
   ],
   "source": [
    "%%bash\n",
    "date\n",
    "for fam in out/pdbs/*\n",
    "do\n",
    "    rm -f out/ce/targets/*\n",
    "    rm -f out/ce/output*\n",
    "    rm -f out/ce/query.txt\n",
    "    mkdir -p $fam/ce_tmp\n",
    "    rm -f $fam/ce_tmp/*\n",
    "    rm -f $fam/ce.aln\n",
    "\n",
    "    name1=\"$fam/\"$(awk '{print $1}' $fam/names.txt)\".pdb\"\n",
    "    name2=\"$fam/\"$(awk '{print $2}' $fam/names.txt)\".pdb\"\n",
    "    n1=$(basename $name1 .pdb)\n",
    "    n2=$(basename $name2 .pdb)\n",
    "\n",
    "    echo $name1 > out/ce/query.txt\n",
    "    mkdir -p out/ce/targets\n",
    "    cp $name2 out/ce/targets\n",
    "    java -jar res/ce.jar out/ce/query.txt out/ce/targets out/ce/output_ &> /dev/null\n",
    "    \n",
    "    \n",
    "    cat out/ce/output_*.result >> $fam/ce_tmp/ce.log\n",
    "    sed '0,/^Alignment length/d' out/ce/output_*.result \\\n",
    "        | awk -v name1=$n1 -v name2=$n2 \\\n",
    "            'BEGIN {qstart=-1;tstart=-1} \n",
    "             /^Chain 1:/ && qstart==-1 {qstart=$3-1}\n",
    "             /^Chain 1:/ {qaln=qaln$4}\n",
    "             /^Chain 2:/ && tstart==-1 {tstart=$3-1}\n",
    "             /^Chain 2:/ {taln=taln$4}\n",
    "             END { if (!(qstart==-1)) {print name1,name2,qstart,tstart,qaln,taln}}' \\\n",
    "        > $fam/ce.aln\n",
    "    \n",
    "done\n",
    "date"
   ]
  },
  {
   "cell_type": "markdown",
   "id": "7e0b1673-2b6a-4d79-84c5-57ab190d7b3e",
   "metadata": {},
   "source": [
    "## CLE-SW"
   ]
  },
  {
   "cell_type": "code",
   "execution_count": 13,
   "id": "8236881f-3830-49fa-a78d-a250c820db46",
   "metadata": {
    "tags": []
   },
   "outputs": [],
   "source": [
    "%%bash\n",
    "if [ ! -d out/ssw ]; then\n",
    "    git clone https://github.com/mengyao/Complete-Striped-Smith-Waterman-Library.git out/ssw\n",
    "    cd out/ssw/src\n",
    "    make\n",
    "fi\n",
    "\n",
    "if [ ! -d out/PDB_Tool ]; then\n",
    "    git clone https://github.com/realbigws/PDB_Tool.git out/PDB_Tool\n",
    "    cd out/PDB_Tool/source_code/\n",
    "    make\n",
    "fi"
   ]
  },
  {
   "cell_type": "code",
   "execution_count": 14,
   "id": "fdbd7ae5-6694-43cc-89b2-dce64663ea6d",
   "metadata": {
    "tags": []
   },
   "outputs": [
    {
     "name": "stdout",
     "output_type": "stream",
     "text": [
      "Do 1. Sep 20:59:28 CEST 2022\n",
      "Do 1. Sep 21:00:46 CEST 2022\n"
     ]
    }
   ],
   "source": [
    "%%bash\n",
    "mkdir -p out/cle\n",
    "date\n",
    "for fam in out/pdbs/*\n",
    "do    \n",
    "    name1=\"$fam/\"$(awk '{print $1}' $fam/names.txt)\".pdb\"\n",
    "    name2=\"$fam/\"$(awk '{print $2}' $fam/names.txt)\".pdb\"\n",
    "    n1=$(basename $name1 .pdb)\n",
    "    n2=$(basename $name2 .pdb)\n",
    "    fn=$(basename $fam)  # family name without path\n",
    "    pdb=homstrad_db/$fn/$fn-sup.pdb  # family pdb\n",
    "    mkdir -p $fam/cle_tmp\n",
    "    rm -f $fam/cle_tmp/*\n",
    "    rm -f $fam/cle.aln*\n",
    "    \n",
    "    if [[ \"$fn\" == 'prc' ]]; then\n",
    "        touch $fam/cle.aln\n",
    "        continue\n",
    "    fi\n",
    "\n",
    "    firstchain=$(awk '/^ATOM/' $name1 | head -n 1 | cut -c 22)\n",
    "    lastchain=$(awk '/^ATOM/' $name2 | head -n 1 | cut -c 22)\n",
    "    # check if length == 1\n",
    "    # CLE hangs when used on the splitted PDBs\n",
    "    out/PDB_Tool/PDB_Tool -i $pdb -r $firstchain -F 1 -o out/cle/aaaa.txt\n",
    "    out/PDB_Tool/PDB_Tool -i $pdb -r $lastchain -F 1 -o out/cle/bbbb.txt\n",
    "    out/ssw/src/ssw_test -o 100 -e 10 -a ../scopbenchmark/scripts/cle.shen.mat -p -f 1 -c out/cle/bbbb.cle out/cle/aaaa.cle 2> /dev/null \\\n",
    "        | tee -a $fam/cle_tmp/results.txt \\\n",
    "        | awk -v name1=$n1 -v name2=$n2 \\\n",
    "            'BEGIN {qstart=-1;tstart=-1} \n",
    "             /^Query:/ && qstart==-1 {qstart=$2-1}\n",
    "             /^Query:/ {qaln=qaln$3}\n",
    "             /^Target:/ && tstart==-1 {tstart=$2-1}\n",
    "             /^Target:/ {taln=taln$3}\n",
    "             END { if (!(qstart==-1)) {print name1,name2,qstart,tstart,qaln,taln}}' \\\n",
    "        > $fam/cle.aln 2>> out/cle.log\n",
    "    echo $fam >> out/cle.list\n",
    "done\n",
    "date"
   ]
  },
  {
   "cell_type": "markdown",
   "id": "a993a658-4810-4dff-a2ae-f5af910bb2e9",
   "metadata": {},
   "source": [
    "# Parse alignments"
   ]
  },
  {
   "cell_type": "code",
   "execution_count": 15,
   "id": "a626abc6-25b0-4fd2-aa76-bd9afd077746",
   "metadata": {},
   "outputs": [],
   "source": [
    "def pairs_from_aln(start1, aln1, start2, aln2):\n",
    "    i1, i2 = start1, start2\n",
    "    pairs = []\n",
    "    for letter1, letter2 in zip(aln1, aln2):\n",
    "        if letter1 not in ('-', '/') and letter2 not in ('-', '/'):\n",
    "            pairs.append((i1, i2))\n",
    "        if letter1 not in ('-', '/'):\n",
    "            i1 += 1\n",
    "        if letter2 not in ('-', '/'):\n",
    "            i2 += 1\n",
    "    return pairs"
   ]
  },
  {
   "cell_type": "code",
   "execution_count": 16,
   "id": "1c39575e-365b-4644-908d-45879c5fb7e6",
   "metadata": {},
   "outputs": [],
   "source": [
    "def parse_homstrad_ali(path):\n",
    "    with open(path) as file:\n",
    "        lines = file.readlines()\n",
    "    aln = []\n",
    "    \n",
    "    while True:\n",
    "        line = lines.pop(0)\n",
    "        \n",
    "        if line.startswith('C;'):\n",
    "            pass\n",
    "        elif not line.rstrip('\\n'):\n",
    "            pass\n",
    "        elif line.startswith('>'):\n",
    "            name = line[4:-1]\n",
    "            aln.append((name, []))\n",
    "            info_line = lines.pop(0)\n",
    "            assert info_line.startswith('structure'), info_line + ' ' + path\n",
    "        else:\n",
    "            aln[-1][1].append(line)\n",
    "            \n",
    "        if not lines:\n",
    "            break\n",
    "\n",
    "    res = []\n",
    "    for name, lst in aln:\n",
    "        assert lst\n",
    "        assert lst[-1].rstrip('\\n').endswith('*'), f'{name} might be wrong'\n",
    "        res.append((name, ''.join(line.rstrip('*\\n') for line in lst)))\n",
    "    return res\n",
    "\n",
    "def parse_test_ali(path):\n",
    "    aln = {}\n",
    "    for name1, name2, start1, start2, qaln, taln in (i.split()[:6] for i in open(path)):\n",
    "        if name1 != name2:\n",
    "            aln[(name1, name2)] = (int(start1), qaln, int(start2), taln)\n",
    "    return aln"
   ]
  },
  {
   "cell_type": "code",
   "execution_count": 84,
   "id": "0e83ff61-3966-4fab-803e-ee8e070c9e50",
   "metadata": {},
   "outputs": [],
   "source": [
    "def check_alignment(fam_name_fn, family):\n",
    "    aln = parse_test_ali(fam_name_fn(family))\n",
    "    ref_aln = parse_homstrad_ali(f'homstrad_db/{family}/{family}.ali')\n",
    "\n",
    "    res = []\n",
    "    log = ''\n",
    "    \n",
    "    name1, ref_aln1 = ref_aln[0]\n",
    "    name2, ref_aln2 = ref_aln[-1]\n",
    "\n",
    "    if (name1, name2) not in aln:\n",
    "        res.append([name1, name2, None, None, family, None])\n",
    "        return res\n",
    "    start1, aln1, start2, aln2 = predicted_aln = aln[(name1, name2)]\n",
    "\n",
    "    ref_pairs = pairs_from_aln(0, ref_aln1, 0, ref_aln2)  # here\n",
    "    pairs = pairs_from_aln(start1, aln1, start2, aln2)\n",
    "\n",
    "    sensitivity = len([p for p in ref_pairs if p in pairs]) / len(ref_pairs)\n",
    "    accuracy = len([p for p in pairs if p in ref_pairs]) / len(pairs)\n",
    "\n",
    "    res.append([name1, name2, sensitivity, accuracy, family, predicted_aln])\n",
    "\n",
    "    # Logging\n",
    "    correct_pairs = [p for p in pairs if p in ref_pairs]\n",
    "    correct_pos1 = {p[0] for p in correct_pairs}\n",
    "    correct_pos2 = {p[1] for p in correct_pairs}\n",
    "    refaln_pos1 = [p[0] for p in ref_pairs]\n",
    "    refaln_pos2 = [p[1] for p in ref_pairs]\n",
    "    seq1, between, seq2 = '', '', ''\n",
    "    assert len(aln1) == len(aln2)\n",
    "    i = start1\n",
    "    for letter in aln1:\n",
    "        if letter not in ('-', '/'):\n",
    "            if i in correct_pos1:\n",
    "                seq1 += str(refaln_pos1.index(i) % 10)  # 'o'\n",
    "            else:\n",
    "                if i in refaln_pos1:\n",
    "                    #seq1 += 'x'\n",
    "                    seq1 += str(refaln_pos1.index(i) % 10)  # 'x'\n",
    "                else:\n",
    "                    seq1 += 'n'  # FP\n",
    "            i += 1\n",
    "        else:\n",
    "            seq1 += '-'\n",
    "    i = start2\n",
    "    for letter in aln2:\n",
    "        if letter not in ('-', '/'):\n",
    "            if i in correct_pos2:\n",
    "                #seq2 += 'o'\n",
    "                seq2 += str(refaln_pos2.index(i) % 10)  # 'o'\n",
    "                between += '|'\n",
    "            else:                        \n",
    "                between += ' '\n",
    "                if i in refaln_pos2:\n",
    "                    seq2 += str(refaln_pos2.index(i) % 10)  # 'x'\n",
    "                else:\n",
    "                    seq2 += 'n'  # FP\n",
    "            i += 1\n",
    "        else:\n",
    "            seq2 += '-'\n",
    "            between += ' '\n",
    "\n",
    "    log += f'> {name1} - {name2} (sensitivity: {sensitivity:.2f}, precision: {accuracy:.2f})\\n\\n'\n",
    "    for i in range((len(aln1) + 99) // 100):\n",
    "        log += seq1[i*100:(i+1)*100] + '\\n' + between[i*100:(i+1)*100] + '\\n' + seq2[i*100:(i+1)*100] + '\\n\\n'\n",
    "\n",
    "    log += '*' * 100 + '\\n\\n'\n",
    "\n",
    "                \n",
    "    with open(fam_name_fn(family) + '.log', 'w') as file:\n",
    "        file.write(log)\n",
    "            \n",
    "    return res\n",
    "\n",
    "def check_alignments(fam_name_fn):\n",
    "    res = []\n",
    "    for family in tqdm(os.listdir('homstrad_db/')):\n",
    "        res += check_alignment(fam_name_fn, family)        \n",
    "    return res"
   ]
  },
  {
   "cell_type": "raw",
   "id": "a3bcb58d-0779-4ae0-bf1f-b02cbf3d762a",
   "metadata": {
    "jupyter": {
     "outputs_hidden": true
    },
    "tags": []
   },
   "source": [
    "check_alignment(lambda family: f'out/pdbs/{family}/tmalign.aln', 'ghf1')  # ghf1\n",
    "check_alignment(lambda family: f'out/pdbs/{family}/foldseek.aln', 'ins')  # ghf1"
   ]
  },
  {
   "cell_type": "code",
   "execution_count": 190,
   "id": "55c626c3-fab4-4ac4-8288-1fab8873cf59",
   "metadata": {},
   "outputs": [],
   "source": [
    "def stats(res):\n",
    "    found_ration = len([r for r in res if r[2] is not None]) / len(res)\n",
    "    sensitivity = np.mean([r[2] or 0 for r in res])\n",
    "    precision = np.mean([r[3] for r in res if r[3] is not None])\n",
    "    return found_ration, sensitivity, precision"
   ]
  },
  {
   "cell_type": "markdown",
   "id": "89309471-f2cd-4713-8251-450177ae75b9",
   "metadata": {},
   "source": [
    "## Results"
   ]
  },
  {
   "cell_type": "markdown",
   "id": "a5dde3fe-4ded-4b7d-8d91-a3e96a46043b",
   "metadata": {},
   "source": [
    "### Foldseek"
   ]
  },
  {
   "cell_type": "code",
   "execution_count": 191,
   "id": "0ff04e15-c00b-4452-8386-8b32a586f147",
   "metadata": {},
   "outputs": [
    {
     "data": {
      "application/vnd.jupyter.widget-view+json": {
       "model_id": "ac94321f665f40239614562df58fd3c3",
       "version_major": 2,
       "version_minor": 0
      },
      "text/plain": [
       "  0%|          | 0/1032 [00:00<?, ?it/s]"
      ]
     },
     "metadata": {},
     "output_type": "display_data"
    },
    {
     "data": {
      "text/plain": [
       "(1.0, 0.832795949070469, 0.8676502935547377)"
      ]
     },
     "execution_count": 191,
     "metadata": {},
     "output_type": "execute_result"
    }
   ],
   "source": [
    "res_fs = check_alignments(lambda family: f'out/pdbs/{family}/foldseek.aln')\n",
    "stats(res_fs)  # all-against-all: (1.0, 0.7190246318551318, 0.7368688999073056)"
   ]
  },
  {
   "cell_type": "markdown",
   "id": "de4c47bc-4e2d-4391-a3f8-d2ea25d36efa",
   "metadata": {},
   "source": [
    "### Foldseek (TM-align mode)"
   ]
  },
  {
   "cell_type": "code",
   "execution_count": 12,
   "id": "05ece07e-e845-47ef-bdef-f07fe4735ead",
   "metadata": {},
   "outputs": [
    {
     "data": {
      "application/vnd.jupyter.widget-view+json": {
       "model_id": "6b2da22ab5d948549898f9ee66df6ead",
       "version_major": 2,
       "version_minor": 0
      },
      "text/plain": [
       "  0%|          | 0/1032 [00:00<?, ?it/s]"
      ]
     },
     "metadata": {},
     "output_type": "display_data"
    },
    {
     "data": {
      "text/plain": [
       "(1.0, 0.871878945980746, 0.8849067362283265)"
      ]
     },
     "execution_count": 12,
     "metadata": {},
     "output_type": "execute_result"
    }
   ],
   "source": [
    "res_fstm = check_alignments(lambda family: f'out/pdbs/{family}/foldseektm.aln')\n",
    "stats(res_fstm)"
   ]
  },
  {
   "cell_type": "markdown",
   "id": "fd9a35f9-548e-410a-baf5-624bdc86091a",
   "metadata": {},
   "source": [
    "### TMalign"
   ]
  },
  {
   "cell_type": "code",
   "execution_count": 87,
   "id": "53011a4e-78ec-497b-b581-02c6d40c2dd3",
   "metadata": {},
   "outputs": [
    {
     "data": {
      "application/vnd.jupyter.widget-view+json": {
       "model_id": "8352527d99aa4b62ab7d21f6a7cc8471",
       "version_major": 2,
       "version_minor": 0
      },
      "text/plain": [
       "  0%|          | 0/1032 [00:00<?, ?it/s]"
      ]
     },
     "metadata": {},
     "output_type": "display_data"
    },
    {
     "data": {
      "text/plain": [
       "(1.0, 0.8772380297766375, 0.8902917168118472)"
      ]
     },
     "execution_count": 87,
     "metadata": {},
     "output_type": "execute_result"
    }
   ],
   "source": [
    "res_tm = check_alignments(lambda family: f'out/pdbs/{family}/tmalign.aln')\n",
    "stats(res_tm)  # all-against-all: (1.0, 0.7547780847723125, 0.7565486620503287)"
   ]
  },
  {
   "cell_type": "markdown",
   "id": "1b4ac0dc-0758-41e4-9183-c683521fc95b",
   "metadata": {},
   "source": [
    "### TMalign fast"
   ]
  },
  {
   "cell_type": "code",
   "execution_count": 88,
   "id": "c810a856-89dd-4a9e-85d3-e49c1a1108d8",
   "metadata": {},
   "outputs": [
    {
     "data": {
      "application/vnd.jupyter.widget-view+json": {
       "model_id": "2db1ab92ccb1462faab057a9ecf220e2",
       "version_major": 2,
       "version_minor": 0
      },
      "text/plain": [
       "  0%|          | 0/1032 [00:00<?, ?it/s]"
      ]
     },
     "metadata": {},
     "output_type": "display_data"
    },
    {
     "data": {
      "text/plain": [
       "(1.0, 0.8762032359129004, 0.8891794015219772)"
      ]
     },
     "execution_count": 88,
     "metadata": {},
     "output_type": "execute_result"
    }
   ],
   "source": [
    "res_tmfast = check_alignments(lambda family: f'out/pdbs/{family}/tmalignfast.aln')\n",
    "stats(res_tmfast)  # all-against-all: (1.0, 0.7547780847723125, 0.7565486620503287)"
   ]
  },
  {
   "cell_type": "markdown",
   "id": "407cbc8d-ce36-4eed-aa6c-d8aa63415097",
   "metadata": {},
   "source": [
    "### Dali"
   ]
  },
  {
   "cell_type": "code",
   "execution_count": 126,
   "id": "2dd8ce43-95ce-4bcd-91d4-d56fe70674f2",
   "metadata": {},
   "outputs": [
    {
     "data": {
      "application/vnd.jupyter.widget-view+json": {
       "model_id": "b0097b4d95744ccda8c8f25e74f2191f",
       "version_major": 2,
       "version_minor": 0
      },
      "text/plain": [
       "  0%|          | 0/1032 [00:00<?, ?it/s]"
      ]
     },
     "metadata": {},
     "output_type": "display_data"
    },
    {
     "data": {
      "text/plain": [
       "(0.9660852713178295, 0.8877948278377517, 0.9133286931401462)"
      ]
     },
     "execution_count": 126,
     "metadata": {},
     "output_type": "execute_result"
    }
   ],
   "source": [
    "res_dali = check_alignments(lambda family: f'out/pdbs/{family}/dali.aln')\n",
    "stats(res_dali)"
   ]
  },
  {
   "cell_type": "markdown",
   "id": "534193a3-6f39-4d9a-8530-331d14d8852c",
   "metadata": {},
   "source": [
    "### CE"
   ]
  },
  {
   "cell_type": "code",
   "execution_count": 193,
   "id": "bab6b86b-cb16-4e81-b84c-cf4e386b3ee6",
   "metadata": {},
   "outputs": [
    {
     "data": {
      "application/vnd.jupyter.widget-view+json": {
       "model_id": "5d57c6e963dc4693ba3e352d0b8cdd4d",
       "version_major": 2,
       "version_minor": 0
      },
      "text/plain": [
       "  0%|          | 0/1032 [00:00<?, ?it/s]"
      ]
     },
     "metadata": {},
     "output_type": "display_data"
    },
    {
     "data": {
      "text/plain": [
       "(0.999031007751938, 0.8656549487669968, 0.8972534299680329)"
      ]
     },
     "execution_count": 193,
     "metadata": {},
     "output_type": "execute_result"
    }
   ],
   "source": [
    "res_ce = check_alignments(lambda family: f'out/pdbs/{family}/ce.aln')\n",
    "stats(res_ce)"
   ]
  },
  {
   "cell_type": "markdown",
   "id": "c6300ba3-89b1-408a-9824-57a76385f305",
   "metadata": {},
   "source": [
    "### CLEsw"
   ]
  },
  {
   "cell_type": "code",
   "execution_count": 194,
   "id": "ffa69ba9-f4ed-4560-91db-7843d37aff83",
   "metadata": {
    "tags": []
   },
   "outputs": [
    {
     "data": {
      "application/vnd.jupyter.widget-view+json": {
       "model_id": "8ece539e875b45a09d1a7209b887797d",
       "version_major": 2,
       "version_minor": 0
      },
      "text/plain": [
       "  0%|          | 0/1032 [00:00<?, ?it/s]"
      ]
     },
     "metadata": {},
     "output_type": "display_data"
    },
    {
     "data": {
      "text/plain": [
       "(0.999031007751938, 0.7592871282435089, 0.794089993428627)"
      ]
     },
     "execution_count": 194,
     "metadata": {},
     "output_type": "execute_result"
    }
   ],
   "source": [
    "res_cle = check_alignments(lambda family: f'out/pdbs/{family}/cle.aln')\n",
    "stats(res_cle)"
   ]
  },
  {
   "cell_type": "markdown",
   "id": "6270b888-4146-41e4-a1c3-310502495d9e",
   "metadata": {},
   "source": [
    "### MMseqs"
   ]
  },
  {
   "cell_type": "code",
   "execution_count": 92,
   "id": "5add1c82-bea5-4e92-8002-13fc8061ca7e",
   "metadata": {
    "tags": []
   },
   "outputs": [
    {
     "data": {
      "application/vnd.jupyter.widget-view+json": {
       "model_id": "6e115c8bbbcf4841b2c1e40c177d1876",
       "version_major": 2,
       "version_minor": 0
      },
      "text/plain": [
       "  0%|          | 0/1032 [00:00<?, ?it/s]"
      ]
     },
     "metadata": {},
     "output_type": "display_data"
    },
    {
     "data": {
      "text/plain": [
       "(1.0, 0.32478969519557205, 0.5971369636520221)"
      ]
     },
     "execution_count": 92,
     "metadata": {},
     "output_type": "execute_result"
    }
   ],
   "source": [
    "res_mmseqs = check_alignments(lambda family: f'out/pdbs/{family}/mmseqs.aln')\n",
    "stats(res_mmseqs)"
   ]
  },
  {
   "cell_type": "markdown",
   "id": "51e3bb47-091c-4c95-9c11-cb2f9b08cd68",
   "metadata": {},
   "source": [
    "# Summary"
   ]
  },
  {
   "cell_type": "code",
   "execution_count": 32,
   "id": "25545df2-3ebf-4cc0-a4e5-1ea9cf8882a3",
   "metadata": {},
   "outputs": [
    {
     "name": "stdout",
     "output_type": "stream",
     "text": [
      "Name     \tSensitvity\tPrecision\n",
      "----------------------------------------\n",
      "DALI            \t0.858\t\t0.913\n",
      "CE              \t0.866\t\t0.897\n",
      "TMalign         \t0.877\t\t0.890\n",
      "TMalign-fast    \t0.876\t\t0.889\n",
      "Foldseek/TMalign\t0.872\t\t0.885\n",
      "Foldseek        \t0.831\t\t0.863\n",
      "CLE-SW          \t0.759\t\t0.794\n",
      "MMseqs2         \t0.325\t\t0.597\n"
     ]
    }
   ],
   "source": [
    "tools = [('DALI', res_dali), ('TMalign', res_tm), ('Foldseek', res_fs), ('Foldseek/TMalign', res_fstm),  ('TMalign-fast', res_tmfast), \n",
    "         ('CE', res_ce), ('CLE-SW', res_cle), ('MMseqs2', res_mmseqs)]\n",
    "print('Name     \\tSensitvity\\tPrecision')\n",
    "print('-' * 40)\n",
    "lines = []\n",
    "for name, res in tools:\n",
    "    found, sens, prec = stats(res)\n",
    "    lines.append(f'{name:<16}\\t{sens:.3f}\\t\\t{prec:.3f}')\n",
    "print('\\n'.join(sorted(lines, key=lambda x: x.split()[2], reverse=True)))"
   ]
  },
  {
   "cell_type": "code",
   "execution_count": 211,
   "id": "1a7f438c-fd5f-471e-be00-582200899c2a",
   "metadata": {},
   "outputs": [
    {
     "data": {
      "text/plain": [
       "(224.05620155038758, 182.0)"
      ]
     },
     "execution_count": 211,
     "metadata": {},
     "output_type": "execute_result"
    }
   ],
   "source": [
    "l = []\n",
    "for fam in os.listdir('homstrad_db/'):\n",
    "    l += open(f'out/pdbs/{fam}/tmalign.aln').read().rstrip('\\n').split()[-2:]\n",
    "seq_len = [len(i.replace('-', '').replace('/', '')) for i in l]\n",
    "np.mean(seq_len), np.median(seq_len)"
   ]
  },
  {
   "cell_type": "markdown",
   "id": "4307235a-9f99-4720-91ed-82dfa2d4dfdd",
   "metadata": {},
   "source": [
    "## Only common fams (996 of 1032)"
   ]
  },
  {
   "cell_type": "code",
   "execution_count": 201,
   "id": "a982ea7c-e775-4752-8e10-be399d2c7549",
   "metadata": {},
   "outputs": [
    {
     "name": "stdout",
     "output_type": "stream",
     "text": [
      "DALI 997\n",
      "TMalign 1032\n",
      "Foldseek 1032\n",
      "TMalign-fast 1032\n",
      "CE 1031\n",
      "CLE-SW 1031\n",
      "MMseqs2 1032\n"
     ]
    }
   ],
   "source": [
    "fams = []\n",
    "for name, res in tools:\n",
    "    valid_fams = {fam for _, _, sens, prec, fam, _ in res if sens is not None and prec is not None}\n",
    "    print(name, len(valid_fams))\n",
    "    fams.append(valid_fams)\n",
    "\n",
    "common_families = fams[0].intersection(*fams[1:])"
   ]
  },
  {
   "cell_type": "markdown",
   "id": "e1a999a4-0eb4-4baa-884d-30f6d92889a9",
   "metadata": {},
   "source": [
    "## Plot"
   ]
  },
  {
   "cell_type": "code",
   "execution_count": 196,
   "id": "14abe5cf-ccc2-4a3c-9fa8-57aa2768ca59",
   "metadata": {},
   "outputs": [
    {
     "data": {
      "image/png": "[encoded data removed]",
      "text/plain": [
       "<Figure size 360x360 with 1 Axes>"
      ]
     },
     "metadata": {
      "needs_background": "light"
     },
     "output_type": "display_data"
    },
    {
     "name": "stdout",
     "output_type": "stream",
     "text": [
      "Name     \tSensitvity\tPrecision\n",
      "----------------------------------------\n",
      "DALI      \t0.858\t\t0.913\n",
      "CE        \t0.866\t\t0.897\n",
      "TMalign   \t0.877\t\t0.890\n",
      "TMalign-fast\t0.876\t\t0.889\n",
      "Foldseek  \t0.833\t\t0.868\n",
      "CLE-SW    \t0.759\t\t0.794\n",
      "MMseqs2   \t0.325\t\t0.597\n"
     ]
    }
   ],
   "source": [
    "#tools = [('Dali', res_dali), ('TM-align', res_tm), ('Foldseek', res_fs),  ('TM-align fast', res_tmfast), \n",
    "#         ('CE', res_ce), ('CLE-SW', res_cle), ('MMseqs2', res_mmseqs)]\n",
    "colors = {\"DALI\":\"#A495AF\",\"TMalign\":\"#3B76AF\",\"Foldseek\":\"#D1382C\",\"TMalign-fast\":\"#ADCDE1\",\n",
    "          \"CE\":\"#559E3E\",\"CLE-SW\":\"#EE8632\",\"3D-BLAST\":\"#643F95\",\"MMseqs2\":\"#F4C27B\"}\n",
    "lines = []\n",
    "csv_lines = []\n",
    "plt.figure(figsize=(5,5))\n",
    "for name, res in tools:\n",
    "    # found, sens, prec = stats(list(filter(lambda fam_record: fam_record[4] in common_families, res)))  # filter subset\n",
    "    found, sens, prec = stats(res)\n",
    "    lines.append(f'{name:<10}\\t{sens:.3f}\\t\\t{prec:.3f}')\n",
    "    csv_lines.append([name, sens, prec])\n",
    "    plt.scatter([prec], [sens], label=name, color=colors[name],s=100)\n",
    "\n",
    "# Plot\n",
    "plt.xlim([0, 1])\n",
    "plt.ylim([0, 1])\n",
    "plt.ylabel('Sensitivity')\n",
    "plt.xlabel('Precision')\n",
    "plt.legend()\n",
    "plt.savefig('out/plot.jpg', dpi=400)\n",
    "plt.show()\n",
    "\n",
    "# Print\n",
    "print('Name     \\tSensitvity\\tPrecision')\n",
    "print('-' * 40)\n",
    "print('\\n'.join(sorted(lines, key=lambda x: x.split()[2], reverse=True)))\n",
    "\n",
    "# Export CSV\n",
    "with open('out/homstrad_average.csv', 'w') as file:\n",
    "    file.write('TOOL,SENSITIVITY,PRECISION\\n')\n",
    "    file.writelines(','.join([str(i) for i in line]) + '\\n' for line in csv_lines)"
   ]
  },
  {
   "cell_type": "markdown",
   "id": "281d8d15-597a-458f-8338-8000d8dbe841",
   "metadata": {},
   "source": [
    "## List all results"
   ]
  },
  {
   "cell_type": "code",
   "execution_count": 221,
   "id": "ea2f4e18-f3b8-4242-904e-bea2721932c6",
   "metadata": {
    "tags": []
   },
   "outputs": [],
   "source": [
    "l = []\n",
    "for i in range(len(tools[0][1])):\n",
    "    name1, name2, sens, prec, fam_name, _ = tools[0][1][i]\n",
    "    line = [fam_name, name1, name2, sens, prec]\n",
    "    for name, res in tools[1:]:\n",
    "        _name1, _name2, sens, prec, _fam_name, _ = res[i]\n",
    "        assert name1 == _name1\n",
    "        assert name2 == _name2\n",
    "        assert fam_name == _fam_name\n",
    "        line += [sens, prec]    \n",
    "            \n",
    "    line = '\\t'.join([f'{line[0]:<20}'] + line[1:2] + [f'{val:.3f}' if val is not None else '-' for val in line[3:]])\n",
    "    l.append(line)\n",
    "l = sorted(l, key=lambda x: x.split()[0].lower())\n",
    "#print('\\n'.join(l))"
   ]
  },
  {
   "cell_type": "markdown",
   "id": "76177b2d-0192-4a9d-91be-ae937f1bf121",
   "metadata": {},
   "source": [
    "## Export alignments"
   ]
  },
  {
   "cell_type": "code",
   "execution_count": 212,
   "id": "424066a4-4419-4d82-82e0-0c44736bf4a1",
   "metadata": {
    "tags": []
   },
   "outputs": [],
   "source": [
    "tool2fam2res = {name: {line[4]: line for line in res} for name, res in tools}\n",
    "\n",
    "WIDTH = 80\n",
    "def print_alignment(fam, first, last, tool, sens, prec, aln):\n",
    "    if aln is not None:\n",
    "        start1, aln1, start2, aln2 = aln\n",
    "        lines.append(f'>{fam} {first} {last} {tool} sensitvity: {sens:.3f} precision: {prec:.3f}\\n\\n')\n",
    "        while aln1:\n",
    "            lines.append(f'{first:<6} {start1+1:>5} {aln1[:WIDTH]}\\n')\n",
    "            lines.append(f'{last:<6} {start2+1:>5} {aln2[:WIDTH]}\\n')\n",
    "            lines.append('\\n')\n",
    "            aln1 = aln1[WIDTH:]\n",
    "            aln2 = aln2[WIDTH:]\n",
    "            start1 += WIDTH\n",
    "            start2 += WIDTH\n",
    "    else:\n",
    "        lines.append(f'>{fam} {first} {last} {tool} sensitvity: 0 precision: -\\n')    \n",
    "\n",
    "lines = []\n",
    "for fam in sorted(os.listdir('homstrad_db/'), key=lambda x: x.lower()):\n",
    "    ref_aln = parse_homstrad_ali(f'homstrad_db/{fam}/{fam}.ali')\n",
    "    first, ref_aln1 = ref_aln[0]\n",
    "    last, ref_aln2 = ref_aln[-1]\n",
    "    print_alignment(fam, first, last, 'HOMSTRAD', 1, 1, (0, ref_aln1, 0, ref_aln2))\n",
    "    for name, _ in tools:\n",
    "        first, last, sens, prec, _, aln = tool2fam2res[name][fam]     \n",
    "        print_alignment(fam, first, last, name, sens, prec, aln)\n",
    "    lines.append('\\n')\n",
    "\n",
    "with open('out/alignments.txt', 'w') as file:\n",
    "    file.writelines(lines)"
   ]
  },
  {
   "cell_type": "markdown",
   "id": "0f968657-b7d3-4b47-8708-d5b74e47f652",
   "metadata": {},
   "source": [
    "## All tools fails here"
   ]
  },
  {
   "cell_type": "code",
   "execution_count": 33,
   "id": "34321557-7394-456b-a724-cd5708a50b47",
   "metadata": {},
   "outputs": [
    {
     "name": "stdout",
     "output_type": "stream",
     "text": [
      "hexapep {'Foldseek': 0.0, 'TM-align': 0.0, 'TM-align fast': 0.0, 'Dali': 0.0, 'CE': 0.0, 'CLE-SW': 0.0, 'MMseqs2': 0.0}\n",
      "PARATHYROID {'Foldseek': 0.0, 'TM-align': 0.0, 'TM-align fast': 0.0, 'Dali': None, 'CE': 0.0, 'CLE-SW': 0.0, 'MMseqs2': 0.0}\n",
      "fusion_gly {'Foldseek': 0.0, 'TM-align': 0.0, 'TM-align fast': 0.0, 'Dali': 0.0, 'CE': 0.0, 'CLE-SW': 0.0, 'MMseqs2': 0.0}\n",
      "TPR {'Foldseek': 0.0, 'TM-align': 0.0, 'TM-align fast': 0.0, 'Dali': 0.0, 'CE': 0.0, 'CLE-SW': 0.0, 'MMseqs2': 0.0}\n",
      "LRR {'Foldseek': 0.0, 'TM-align': 0.0, 'TM-align fast': 0.0, 'Dali': 0.0, 'CE': 0.0, 'CLE-SW': 0.0, 'MMseqs2': 0.0}\n"
     ]
    }
   ],
   "source": [
    "lookup = {}\n",
    "for tool_name, res in tools:\n",
    "    for _, _, sens, _, fam in res:\n",
    "        if fam not in lookup:\n",
    "            lookup[fam] = {}\n",
    "        lookup[fam][tool_name] = sens\n",
    "        \n",
    "for fam in lookup:\n",
    "    if len([i for i in lookup[fam].values() if i is not None and i > 0]) == 0:\n",
    "        print(fam, lookup[fam])"
   ]
  },
  {
   "cell_type": "markdown",
   "id": "55626f4f-2866-483a-bc34-9df7e7034efd",
   "metadata": {},
   "source": [
    "## Outliers"
   ]
  },
  {
   "cell_type": "code",
   "execution_count": 34,
   "id": "0061e428-23ec-4367-a045-9696a6bed241",
   "metadata": {},
   "outputs": [],
   "source": [
    "tmscores = !cat out/pdbs/*/tmalignfast_tmp/tmalign.out | awk '/TM-score=.*Chain_1/{print $2}'"
   ]
  },
  {
   "cell_type": "code",
   "execution_count": 35,
   "id": "66dcd9e5-fecd-4928-9490-ca8159ae5410",
   "metadata": {},
   "outputs": [],
   "source": [
    "sens = !cat out/pdbs/*/tmalignfast.aln.log | awk '/^>/ {print $6}'"
   ]
  },
  {
   "cell_type": "code",
   "execution_count": 36,
   "id": "a5c8c132-98b3-4f4b-9030-5ab4fc402b21",
   "metadata": {},
   "outputs": [],
   "source": [
    "fams = !ls -l out/pdbs/*/tmalignfast.aln.log"
   ]
  },
  {
   "cell_type": "code",
   "execution_count": 37,
   "id": "9d8e892b-c86e-4ff1-b5ab-2a7e16283c49",
   "metadata": {},
   "outputs": [
    {
     "data": {
      "image/png": "[encoded data removed]",
      "text/plain": [
       "<Figure size 432x288 with 1 Axes>"
      ]
     },
     "metadata": {
      "needs_background": "light"
     },
     "output_type": "display_data"
    }
   ],
   "source": [
    "plt.scatter([float(i) for i in tmscores], [float(i[:-1]) for i in sens], marker='.', alpha=0.4)\n",
    "plt.show()"
   ]
  }
 ],
 "metadata": {
  "kernelspec": {
   "display_name": "Python 3 (ipykernel)",
   "language": "python",
   "name": "python3"
  },
  "language_info": {
   "codemirror_mode": {
    "name": "ipython",
    "version": 3
   },
   "file_extension": ".py",
   "mimetype": "text/x-python",
   "name": "python",
   "nbconvert_exporter": "python",
   "pygments_lexer": "ipython3",
   "version": "3.9.13"
  },
  "widgets": {
   "application/vnd.jupyter.widget-state+json": {
    "state": {
     "01d95a27614341c999eb7ad62417b193": {
      "model_module": "@jupyter-widgets/controls",
      "model_module_version": "1.5.0",
      "model_name": "HBoxModel",
      "state": {
       "children": [
        "IPY_MODEL_d890736a2f38485ab902e617ea0bde27",
        "IPY_MODEL_139a5edf89684b969b3f9c51877abc8b",
        "IPY_MODEL_f5f18ca3528449b3bab56ab899d27b39"
       ],
       "layout": "IPY_MODEL_233b6415ea244ca1843249aea8fd44cf"
      }
     },
     "02a691b3bd894b5e85c3667bead5df10": {
      "model_module": "@jupyter-widgets/base",
      "model_module_version": "1.2.0",
      "model_name": "LayoutModel",
      "state": {}
     },
     "03f01893a84b41689744e084018db64d": {
      "model_module": "@jupyter-widgets/controls",
      "model_module_version": "1.5.0",
      "model_name": "DescriptionStyleModel",
      "state": {
       "description_width": ""
      }
     },
     "0630061c04a64bbcad7198ed098d647b": {
      "model_module": "@jupyter-widgets/controls",
      "model_module_version": "1.5.0",
      "model_name": "DescriptionStyleModel",
      "state": {
       "description_width": ""
      }
     },
     "06692e3331b046d2a3a7ec7805bde505": {
      "model_module": "@jupyter-widgets/controls",
      "model_module_version": "1.5.0",
      "model_name": "HTMLModel",
      "state": {
       "layout": "IPY_MODEL_5c418f662b0f41ff9cc36cad9badb396",
       "style": "IPY_MODEL_2669173bdd02457fadbb9a7d2f601231",
       "value": " 1032/1032 [00:05&lt;00:00, 206.72it/s]"
      }
     },
     "07d4eb05192a4ec78991e7beac70825e": {
      "model_module": "@jupyter-widgets/controls",
      "model_module_version": "1.5.0",
      "model_name": "FloatProgressModel",
      "state": {
       "bar_style": "success",
       "layout": "IPY_MODEL_d6ed072eaca44894a2664a0878713f7f",
       "max": 1032,
       "style": "IPY_MODEL_6daa9c9f31a44a7dbeeda29f23a71257",
       "value": 1032
      }
     },
     "0893bd22469648af8e7fab9369864a36": {
      "model_module": "@jupyter-widgets/base",
      "model_module_version": "1.2.0",
      "model_name": "LayoutModel",
      "state": {}
     },
     "0a757f92b6404f85ba54179d3086886d": {
      "model_module": "@jupyter-widgets/base",
      "model_module_version": "1.2.0",
      "model_name": "LayoutModel",
      "state": {}
     },
     "0ad53a11213a481a8dfca7121181ab92": {
      "model_module": "@jupyter-widgets/base",
      "model_module_version": "1.2.0",
      "model_name": "LayoutModel",
      "state": {}
     },
     "0b31e75dcf644f02b1a694b0c98e0232": {
      "model_module": "@jupyter-widgets/controls",
      "model_module_version": "1.5.0",
      "model_name": "HTMLModel",
      "state": {
       "layout": "IPY_MODEL_8f2f1b7e4d7246df912bb5912fb55153",
       "style": "IPY_MODEL_df495c7961f0472e9a641fb1482cf052",
       "value": "100%"
      }
     },
     "0b33e35e2e2f4989a4bfc631abaf0820": {
      "model_module": "@jupyter-widgets/controls",
      "model_module_version": "1.5.0",
      "model_name": "DescriptionStyleModel",
      "state": {
       "description_width": ""
      }
     },
     "0c59bc6534fb4e66bf2257f3c83e373c": {
      "model_module": "@jupyter-widgets/base",
      "model_module_version": "1.2.0",
      "model_name": "LayoutModel",
      "state": {}
     },
     "0e46106bb791403d8cd05ec0d6b6692d": {
      "model_module": "@jupyter-widgets/controls",
      "model_module_version": "1.5.0",
      "model_name": "DescriptionStyleModel",
      "state": {
       "description_width": ""
      }
     },
     "0e9894a0097845d4b2620341c600f849": {
      "model_module": "@jupyter-widgets/controls",
      "model_module_version": "1.5.0",
      "model_name": "FloatProgressModel",
      "state": {
       "bar_style": "success",
       "layout": "IPY_MODEL_a23b1b466d034652b97e6f03119ceb68",
       "max": 1032,
       "style": "IPY_MODEL_fd692ccf9a404320b1b509394b797efb",
       "value": 1032
      }
     },
     "103dfae4eb7544fab4a7ac30cdb53334": {
      "model_module": "@jupyter-widgets/controls",
      "model_module_version": "1.5.0",
      "model_name": "HBoxModel",
      "state": {
       "children": [
        "IPY_MODEL_74992eec75064a02a6c77ae2e3d2ed81",
        "IPY_MODEL_63aa7d8c507241d9abd30919339ccda2",
        "IPY_MODEL_c017c302e9aa4176a588e04ad5382188"
       ],
       "layout": "IPY_MODEL_66f1467ef3344ba989b3125d8abf1f27"
      }
     },
     "105986a32a2e48059167398c78b90bde": {
      "model_module": "@jupyter-widgets/controls",
      "model_module_version": "1.5.0",
      "model_name": "DescriptionStyleModel",
      "state": {
       "description_width": ""
      }
     },
     "10c8411ae1ea4d0f9bae2968700db69d": {
      "model_module": "@jupyter-widgets/base",
      "model_module_version": "1.2.0",
      "model_name": "LayoutModel",
      "state": {}
     },
     "12433eba1cb245a2979b329611b5a0db": {
      "model_module": "@jupyter-widgets/controls",
      "model_module_version": "1.5.0",
      "model_name": "HTMLModel",
      "state": {
       "layout": "IPY_MODEL_a89b73c7c6364c40bca628fbc1837d2e",
       "style": "IPY_MODEL_50c0a759cf1c44b3b958336f0f7c288f",
       "value": "100%"
      }
     },
     "12f5d5bf3614487980c7e755f38f8314": {
      "model_module": "@jupyter-widgets/base",
      "model_module_version": "1.2.0",
      "model_name": "LayoutModel",
      "state": {}
     },
     "138caf3ff9c84f088dc722f3df84ae9f": {
      "model_module": "@jupyter-widgets/controls",
      "model_module_version": "1.5.0",
      "model_name": "HTMLModel",
      "state": {
       "layout": "IPY_MODEL_44aa8add20dd49cd8bba09bf122b4af2",
       "style": "IPY_MODEL_03f01893a84b41689744e084018db64d",
       "value": " 1032/1032 [00:07&lt;00:00, 137.45it/s]"
      }
     },
     "139a5edf89684b969b3f9c51877abc8b": {
      "model_module": "@jupyter-widgets/controls",
      "model_module_version": "1.5.0",
      "model_name": "FloatProgressModel",
      "state": {
       "bar_style": "success",
       "layout": "IPY_MODEL_4d4b9a4d38ad46a3bae5076fae9c91a1",
       "max": 1032,
       "style": "IPY_MODEL_322ac977eafb4a69b257792f5a5803f8",
       "value": 1032
      }
     },
     "14f1dc09f6b04b0bb195e2af4f138060": {
      "model_module": "@jupyter-widgets/base",
      "model_module_version": "1.2.0",
      "model_name": "LayoutModel",
      "state": {}
     },
     "17426447485045108e6ae2072ce77116": {
      "model_module": "@jupyter-widgets/base",
      "model_module_version": "1.2.0",
      "model_name": "LayoutModel",
      "state": {}
     },
     "175f150afc444a53b72b5b2eecd82cd1": {
      "model_module": "@jupyter-widgets/base",
      "model_module_version": "1.2.0",
      "model_name": "LayoutModel",
      "state": {}
     },
     "1805dbc692c84c76a2fa6a424dc840ea": {
      "model_module": "@jupyter-widgets/base",
      "model_module_version": "1.2.0",
      "model_name": "LayoutModel",
      "state": {}
     },
     "1859e66cfd8046988fcd41e33cd4b76c": {
      "model_module": "@jupyter-widgets/controls",
      "model_module_version": "1.5.0",
      "model_name": "HTMLModel",
      "state": {
       "layout": "IPY_MODEL_3b5a696304c14a30a4217e5044bd4b46",
       "style": "IPY_MODEL_c54d184adb794bda8139eb8c4d221892",
       "value": "100%"
      }
     },
     "19657e73ce3d42f4ab009aee557c5b55": {
      "model_module": "@jupyter-widgets/base",
      "model_module_version": "1.2.0",
      "model_name": "LayoutModel",
      "state": {}
     },
     "1aa45809881c4e41970f914e66080cdc": {
      "model_module": "@jupyter-widgets/controls",
      "model_module_version": "1.5.0",
      "model_name": "ProgressStyleModel",
      "state": {
       "description_width": ""
      }
     },
     "1c00970ddba94c25a5213cf17e1efd9f": {
      "model_module": "@jupyter-widgets/controls",
      "model_module_version": "1.5.0",
      "model_name": "ProgressStyleModel",
      "state": {
       "description_width": ""
      }
     },
     "1c9ef83bf79446e59facdd0bab07ebf1": {
      "model_module": "@jupyter-widgets/controls",
      "model_module_version": "1.5.0",
      "model_name": "ProgressStyleModel",
      "state": {
       "description_width": ""
      }
     },
     "1e0ed833cc9f40d9b78a121865c7df4d": {
      "model_module": "@jupyter-widgets/controls",
      "model_module_version": "1.5.0",
      "model_name": "ProgressStyleModel",
      "state": {
       "description_width": ""
      }
     },
     "202700b7721b48e698f889e1594e4940": {
      "model_module": "@jupyter-widgets/controls",
      "model_module_version": "1.5.0",
      "model_name": "DescriptionStyleModel",
      "state": {
       "description_width": ""
      }
     },
     "20ea5e9d2a504ae09caa7c55340f18d2": {
      "model_module": "@jupyter-widgets/controls",
      "model_module_version": "1.5.0",
      "model_name": "HBoxModel",
      "state": {
       "children": [
        "IPY_MODEL_662905c782524a8dbcfa72fc9d305491",
        "IPY_MODEL_d2953e7576cb41828e4cc787f80de05e",
        "IPY_MODEL_06692e3331b046d2a3a7ec7805bde505"
       ],
       "layout": "IPY_MODEL_f8e4ede4129045d98fa080d6d875a31c"
      }
     },
     "22695f21f13846d093844839765402ca": {
      "model_module": "@jupyter-widgets/base",
      "model_module_version": "1.2.0",
      "model_name": "LayoutModel",
      "state": {}
     },
     "2316c9deb63d4cc9bd7bf104bd8fc898": {
      "model_module": "@jupyter-widgets/controls",
      "model_module_version": "1.5.0",
      "model_name": "HTMLModel",
      "state": {
       "layout": "IPY_MODEL_232e33da3543473ba3885cd2b328b4fb",
       "style": "IPY_MODEL_73dc5c736aa9482889efe884da3d821f",
       "value": "100%"
      }
     },
     "232e33da3543473ba3885cd2b328b4fb": {
      "model_module": "@jupyter-widgets/base",
      "model_module_version": "1.2.0",
      "model_name": "LayoutModel",
      "state": {}
     },
     "233b6415ea244ca1843249aea8fd44cf": {
      "model_module": "@jupyter-widgets/base",
      "model_module_version": "1.2.0",
      "model_name": "LayoutModel",
      "state": {}
     },
     "24e14aa8ba12467e87c7af4423179b38": {
      "model_module": "@jupyter-widgets/base",
      "model_module_version": "1.2.0",
      "model_name": "LayoutModel",
      "state": {}
     },
     "24f438dafdec4b28ba39fdaa0df1233e": {
      "model_module": "@jupyter-widgets/controls",
      "model_module_version": "1.5.0",
      "model_name": "HTMLModel",
      "state": {
       "layout": "IPY_MODEL_7b7e90a55d3144e1a39c440d14821842",
       "style": "IPY_MODEL_7ff2cd7ebd88464b8acf5875ede0707f",
       "value": "100%"
      }
     },
     "2591b5039bb943819ee9f8e00f1d995e": {
      "model_module": "@jupyter-widgets/base",
      "model_module_version": "1.2.0",
      "model_name": "LayoutModel",
      "state": {}
     },
     "2669173bdd02457fadbb9a7d2f601231": {
      "model_module": "@jupyter-widgets/controls",
      "model_module_version": "1.5.0",
      "model_name": "DescriptionStyleModel",
      "state": {
       "description_width": ""
      }
     },
     "2ac0c88ae8cf47399db25979518471fe": {
      "model_module": "@jupyter-widgets/base",
      "model_module_version": "1.2.0",
      "model_name": "LayoutModel",
      "state": {}
     },
     "2af3fc0eb1ab4356a24a4784c30a869a": {
      "model_module": "@jupyter-widgets/base",
      "model_module_version": "1.2.0",
      "model_name": "LayoutModel",
      "state": {}
     },
     "2c7c2d76513845b0855c789169c073a1": {
      "model_module": "@jupyter-widgets/base",
      "model_module_version": "1.2.0",
      "model_name": "LayoutModel",
      "state": {}
     },
     "2ccb06cb2a2347308e183b5b31183e46": {
      "model_module": "@jupyter-widgets/base",
      "model_module_version": "1.2.0",
      "model_name": "LayoutModel",
      "state": {}
     },
     "2d7a6c0b1b574183ac6490f2f534a0e2": {
      "model_module": "@jupyter-widgets/controls",
      "model_module_version": "1.5.0",
      "model_name": "ProgressStyleModel",
      "state": {
       "description_width": ""
      }
     },
     "2db1ab92ccb1462faab057a9ecf220e2": {
      "model_module": "@jupyter-widgets/controls",
      "model_module_version": "1.5.0",
      "model_name": "HBoxModel",
      "state": {
       "children": [
        "IPY_MODEL_12433eba1cb245a2979b329611b5a0db",
        "IPY_MODEL_9b3830c53b5c44efb9e6de2a91ee88b6",
        "IPY_MODEL_65d96101f26e4f2797f82c9a7a05660f"
       ],
       "layout": "IPY_MODEL_b440bdf0960e4e14b6374d1918d22d37"
      }
     },
     "2dde5c97084f490ba23a176fa3f5bcb2": {
      "model_module": "@jupyter-widgets/controls",
      "model_module_version": "1.5.0",
      "model_name": "DescriptionStyleModel",
      "state": {
       "description_width": ""
      }
     },
     "309f89ff485d4902afb6362be052ee58": {
      "model_module": "@jupyter-widgets/base",
      "model_module_version": "1.2.0",
      "model_name": "LayoutModel",
      "state": {}
     },
     "310d7df21f3b4c528669e99b0e8dc272": {
      "model_module": "@jupyter-widgets/base",
      "model_module_version": "1.2.0",
      "model_name": "LayoutModel",
      "state": {}
     },
     "31f081683f7d4e67903097fc2a4800ae": {
      "model_module": "@jupyter-widgets/controls",
      "model_module_version": "1.5.0",
      "model_name": "ProgressStyleModel",
      "state": {
       "description_width": ""
      }
     },
     "322ac977eafb4a69b257792f5a5803f8": {
      "model_module": "@jupyter-widgets/controls",
      "model_module_version": "1.5.0",
      "model_name": "ProgressStyleModel",
      "state": {
       "description_width": ""
      }
     },
     "355cfdb505d44109913c43eadb526c3f": {
      "model_module": "@jupyter-widgets/base",
      "model_module_version": "1.2.0",
      "model_name": "LayoutModel",
      "state": {}
     },
     "3698aea1fc734c0981d9d62ad7e96a9a": {
      "model_module": "@jupyter-widgets/controls",
      "model_module_version": "1.5.0",
      "model_name": "HBoxModel",
      "state": {
       "children": [
        "IPY_MODEL_a8555a456a2e40baaf70c4cebc5ebc81",
        "IPY_MODEL_5c5a39bae4b14825819a239ebe15b420",
        "IPY_MODEL_b4090cbb261f4d12856069c6b530d257"
       ],
       "layout": "IPY_MODEL_175f150afc444a53b72b5b2eecd82cd1"
      }
     },
     "3910f5a706884f9b9f73f04ff89f879c": {
      "model_module": "@jupyter-widgets/base",
      "model_module_version": "1.2.0",
      "model_name": "LayoutModel",
      "state": {}
     },
     "3b0322fc265142919fb766c3a4519ac0": {
      "model_module": "@jupyter-widgets/base",
      "model_module_version": "1.2.0",
      "model_name": "LayoutModel",
      "state": {}
     },
     "3b5a696304c14a30a4217e5044bd4b46": {
      "model_module": "@jupyter-widgets/base",
      "model_module_version": "1.2.0",
      "model_name": "LayoutModel",
      "state": {}
     },
     "3ba1c436aec646a0993eb356eb7ef633": {
      "model_module": "@jupyter-widgets/base",
      "model_module_version": "1.2.0",
      "model_name": "LayoutModel",
      "state": {}
     },
     "3c7fd3e57571470cbb840be38bc081a5": {
      "model_module": "@jupyter-widgets/controls",
      "model_module_version": "1.5.0",
      "model_name": "DescriptionStyleModel",
      "state": {
       "description_width": ""
      }
     },
     "3cdd1a7e3caa4e39b9f8de5c8a98320f": {
      "model_module": "@jupyter-widgets/controls",
      "model_module_version": "1.5.0",
      "model_name": "ProgressStyleModel",
      "state": {
       "description_width": ""
      }
     },
     "3da4e7375e1e4d068453606d03c777ac": {
      "model_module": "@jupyter-widgets/controls",
      "model_module_version": "1.5.0",
      "model_name": "ProgressStyleModel",
      "state": {
       "description_width": ""
      }
     },
     "3e178e0bc9054d28a736572dfc0a5d6f": {
      "model_module": "@jupyter-widgets/base",
      "model_module_version": "1.2.0",
      "model_name": "LayoutModel",
      "state": {}
     },
     "3eee45433b4f4e01833fbb36c69e2948": {
      "model_module": "@jupyter-widgets/controls",
      "model_module_version": "1.5.0",
      "model_name": "HTMLModel",
      "state": {
       "layout": "IPY_MODEL_f89c3354a97e47148da06fe038c27618",
       "style": "IPY_MODEL_d11625cf7912483f9b65499823ed1e2a",
       "value": " 1032/1032 [00:05&lt;00:00, 193.34it/s]"
      }
     },
     "3f8a3678f6e948aba7950da2f1977691": {
      "model_module": "@jupyter-widgets/base",
      "model_module_version": "1.2.0",
      "model_name": "LayoutModel",
      "state": {}
     },
     "4037c0dac72d47529125760e71c552f0": {
      "model_module": "@jupyter-widgets/controls",
      "model_module_version": "1.5.0",
      "model_name": "HBoxModel",
      "state": {
       "children": [
        "IPY_MODEL_a55bc5287a794667a822b90d489a6740",
        "IPY_MODEL_87b20446578148e48b26c5cca6177bfb",
        "IPY_MODEL_3eee45433b4f4e01833fbb36c69e2948"
       ],
       "layout": "IPY_MODEL_0ad53a11213a481a8dfca7121181ab92"
      }
     },
     "413fb4d5391c4b59a3acfc6976b4152f": {
      "model_module": "@jupyter-widgets/base",
      "model_module_version": "1.2.0",
      "model_name": "LayoutModel",
      "state": {}
     },
     "44a2c0e4f2984cf9bc76f963d0792fbb": {
      "model_module": "@jupyter-widgets/controls",
      "model_module_version": "1.5.0",
      "model_name": "HTMLModel",
      "state": {
       "layout": "IPY_MODEL_17426447485045108e6ae2072ce77116",
       "style": "IPY_MODEL_3c7fd3e57571470cbb840be38bc081a5",
       "value": "100%"
      }
     },
     "44aa8add20dd49cd8bba09bf122b4af2": {
      "model_module": "@jupyter-widgets/base",
      "model_module_version": "1.2.0",
      "model_name": "LayoutModel",
      "state": {}
     },
     "4a40a9396eb94019bd40644a6b7dc912": {
      "model_module": "@jupyter-widgets/controls",
      "model_module_version": "1.5.0",
      "model_name": "ProgressStyleModel",
      "state": {
       "description_width": ""
      }
     },
     "4d4b9a4d38ad46a3bae5076fae9c91a1": {
      "model_module": "@jupyter-widgets/base",
      "model_module_version": "1.2.0",
      "model_name": "LayoutModel",
      "state": {}
     },
     "4e6afbe0b3dc4d18b84a2bb993b6b374": {
      "model_module": "@jupyter-widgets/controls",
      "model_module_version": "1.5.0",
      "model_name": "HTMLModel",
      "state": {
       "layout": "IPY_MODEL_3f8a3678f6e948aba7950da2f1977691",
       "style": "IPY_MODEL_e3c0a96237654d74aefff89e25c1dcbd",
       "value": " 1032/1032 [00:05&lt;00:00, 204.12it/s]"
      }
     },
     "4ec416384b8b42ed87fd9bc00733e262": {
      "model_module": "@jupyter-widgets/controls",
      "model_module_version": "1.5.0",
      "model_name": "DescriptionStyleModel",
      "state": {
       "description_width": ""
      }
     },
     "4f3c6de2024b49b8b8a17c01c8cb5769": {
      "model_module": "@jupyter-widgets/base",
      "model_module_version": "1.2.0",
      "model_name": "LayoutModel",
      "state": {}
     },
     "50c0a759cf1c44b3b958336f0f7c288f": {
      "model_module": "@jupyter-widgets/controls",
      "model_module_version": "1.5.0",
      "model_name": "DescriptionStyleModel",
      "state": {
       "description_width": ""
      }
     },
     "559767a41b894aa8aea36a390665cc1b": {
      "model_module": "@jupyter-widgets/controls",
      "model_module_version": "1.5.0",
      "model_name": "DescriptionStyleModel",
      "state": {
       "description_width": ""
      }
     },
     "55e11fef7b254bcc99e8b2c40697842e": {
      "model_module": "@jupyter-widgets/controls",
      "model_module_version": "1.5.0",
      "model_name": "HBoxModel",
      "state": {
       "children": [
        "IPY_MODEL_0b31e75dcf644f02b1a694b0c98e0232",
        "IPY_MODEL_77c1f5c7ad1b4546817b4ae30572fec0",
        "IPY_MODEL_e9b5da629fd64b3ebcd479cb77c0f271"
       ],
       "layout": "IPY_MODEL_eef0d453c4154283947e3b4ac93fa074"
      }
     },
     "568c144ee46a4112ae64bf02b0e95897": {
      "model_module": "@jupyter-widgets/base",
      "model_module_version": "1.2.0",
      "model_name": "LayoutModel",
      "state": {}
     },
     "56fa4cd2e8a94acbac8e8b30f12376c2": {
      "model_module": "@jupyter-widgets/base",
      "model_module_version": "1.2.0",
      "model_name": "LayoutModel",
      "state": {}
     },
     "57e9dfe55e10438ca2ca71c98ba3b85b": {
      "model_module": "@jupyter-widgets/controls",
      "model_module_version": "1.5.0",
      "model_name": "DescriptionStyleModel",
      "state": {
       "description_width": ""
      }
     },
     "586daff86bd04be4aa9efa4201946eb5": {
      "model_module": "@jupyter-widgets/controls",
      "model_module_version": "1.5.0",
      "model_name": "HTMLModel",
      "state": {
       "layout": "IPY_MODEL_10c8411ae1ea4d0f9bae2968700db69d",
       "style": "IPY_MODEL_0e46106bb791403d8cd05ec0d6b6692d",
       "value": "100%"
      }
     },
     "5887aa3822064c308bacff01d1632cb9": {
      "model_module": "@jupyter-widgets/base",
      "model_module_version": "1.2.0",
      "model_name": "LayoutModel",
      "state": {}
     },
     "593bb2c1c7b2498ba40040881499dbec": {
      "model_module": "@jupyter-widgets/controls",
      "model_module_version": "1.5.0",
      "model_name": "FloatProgressModel",
      "state": {
       "bar_style": "success",
       "layout": "IPY_MODEL_12f5d5bf3614487980c7e755f38f8314",
       "max": 1032,
       "style": "IPY_MODEL_5e5d785bebf649ecbbb3912b21d75dae",
       "value": 1032
      }
     },
     "5c418f662b0f41ff9cc36cad9badb396": {
      "model_module": "@jupyter-widgets/base",
      "model_module_version": "1.2.0",
      "model_name": "LayoutModel",
      "state": {}
     },
     "5c5a39bae4b14825819a239ebe15b420": {
      "model_module": "@jupyter-widgets/controls",
      "model_module_version": "1.5.0",
      "model_name": "FloatProgressModel",
      "state": {
       "bar_style": "success",
       "layout": "IPY_MODEL_8538e9d7fa9f41e79b181c581c10574b",
       "max": 1032,
       "style": "IPY_MODEL_f6ca03f952d04f1fbf0c2ef0d10be04c",
       "value": 1032
      }
     },
     "5d57c6e963dc4693ba3e352d0b8cdd4d": {
      "model_module": "@jupyter-widgets/controls",
      "model_module_version": "1.5.0",
      "model_name": "HBoxModel",
      "state": {
       "children": [
        "IPY_MODEL_1859e66cfd8046988fcd41e33cd4b76c",
        "IPY_MODEL_7c3f14a5c4654f7cb04c77f4e803cebd",
        "IPY_MODEL_a76642e79d9046cb829951231efe3e5e"
       ],
       "layout": "IPY_MODEL_6b25d4d267d0438e9f74769b74711909"
      }
     },
     "5d6b8f5dcd7a49ec9c5c3ca21fea3f20": {
      "model_module": "@jupyter-widgets/controls",
      "model_module_version": "1.5.0",
      "model_name": "HBoxModel",
      "state": {
       "children": [
        "IPY_MODEL_919dbcc418f5450a87d264b569c08f2e",
        "IPY_MODEL_d09d1ebfbaa34561b9c1cabe7ef2514b",
        "IPY_MODEL_fff881d47c9044799a14fb883e39ff55"
       ],
       "layout": "IPY_MODEL_c619ec6ee4344f82af3c5067c3c47ed5"
      }
     },
     "5d8f5f9b8d924b6bba216c0c547a3901": {
      "model_module": "@jupyter-widgets/base",
      "model_module_version": "1.2.0",
      "model_name": "LayoutModel",
      "state": {}
     },
     "5e5d785bebf649ecbbb3912b21d75dae": {
      "model_module": "@jupyter-widgets/controls",
      "model_module_version": "1.5.0",
      "model_name": "ProgressStyleModel",
      "state": {
       "description_width": ""
      }
     },
     "5efab0992dca4935982cec726a576806": {
      "model_module": "@jupyter-widgets/base",
      "model_module_version": "1.2.0",
      "model_name": "LayoutModel",
      "state": {}
     },
     "6008d2b77271424386f910a1c26aac89": {
      "model_module": "@jupyter-widgets/controls",
      "model_module_version": "1.5.0",
      "model_name": "DescriptionStyleModel",
      "state": {
       "description_width": ""
      }
     },
     "601d77fb9d464f8fadb332eecc3d4865": {
      "model_module": "@jupyter-widgets/controls",
      "model_module_version": "1.5.0",
      "model_name": "ProgressStyleModel",
      "state": {
       "description_width": ""
      }
     },
     "60871f043559437994823cf31d62e7de": {
      "model_module": "@jupyter-widgets/controls",
      "model_module_version": "1.5.0",
      "model_name": "ProgressStyleModel",
      "state": {
       "description_width": ""
      }
     },
     "63aa7d8c507241d9abd30919339ccda2": {
      "model_module": "@jupyter-widgets/controls",
      "model_module_version": "1.5.0",
      "model_name": "FloatProgressModel",
      "state": {
       "bar_style": "success",
       "layout": "IPY_MODEL_8cd512c3ed8f42f289c316e7bd01b4fe",
       "max": 1032,
       "style": "IPY_MODEL_60871f043559437994823cf31d62e7de",
       "value": 1032
      }
     },
     "65d96101f26e4f2797f82c9a7a05660f": {
      "model_module": "@jupyter-widgets/controls",
      "model_module_version": "1.5.0",
      "model_name": "HTMLModel",
      "state": {
       "layout": "IPY_MODEL_1805dbc692c84c76a2fa6a424dc840ea",
       "style": "IPY_MODEL_8119d26ec55e423b9c8a78a4bde16d2d",
       "value": " 1032/1032 [00:05&lt;00:00, 203.16it/s]"
      }
     },
     "662905c782524a8dbcfa72fc9d305491": {
      "model_module": "@jupyter-widgets/controls",
      "model_module_version": "1.5.0",
      "model_name": "HTMLModel",
      "state": {
       "layout": "IPY_MODEL_a3a680ff3f7f44399cca8c55896a6368",
       "style": "IPY_MODEL_fe2e35d6f1b34ce8a317a29528a76c3f",
       "value": "100%"
      }
     },
     "66f1467ef3344ba989b3125d8abf1f27": {
      "model_module": "@jupyter-widgets/base",
      "model_module_version": "1.2.0",
      "model_name": "LayoutModel",
      "state": {}
     },
     "69c1f81b2bea4742be5eb4f5ae3f89ed": {
      "model_module": "@jupyter-widgets/controls",
      "model_module_version": "1.5.0",
      "model_name": "HTMLModel",
      "state": {
       "layout": "IPY_MODEL_2c7c2d76513845b0855c789169c073a1",
       "style": "IPY_MODEL_6008d2b77271424386f910a1c26aac89",
       "value": " 1032/1032 [00:06&lt;00:00, 188.41it/s]"
      }
     },
     "6a88efa94ba64cc1ac4f5abfbe3496b3": {
      "model_module": "@jupyter-widgets/base",
      "model_module_version": "1.2.0",
      "model_name": "LayoutModel",
      "state": {}
     },
     "6b25d4d267d0438e9f74769b74711909": {
      "model_module": "@jupyter-widgets/base",
      "model_module_version": "1.2.0",
      "model_name": "LayoutModel",
      "state": {}
     },
     "6daa9c9f31a44a7dbeeda29f23a71257": {
      "model_module": "@jupyter-widgets/controls",
      "model_module_version": "1.5.0",
      "model_name": "ProgressStyleModel",
      "state": {
       "description_width": ""
      }
     },
     "6e115c8bbbcf4841b2c1e40c177d1876": {
      "model_module": "@jupyter-widgets/controls",
      "model_module_version": "1.5.0",
      "model_name": "HBoxModel",
      "state": {
       "children": [
        "IPY_MODEL_903fd35249d94ca9b851e475bdd829e0",
        "IPY_MODEL_71eaaed5a52b4bd78a556dc15450910e",
        "IPY_MODEL_8a2c6e75f4c347a1af3372f32909a379"
       ],
       "layout": "IPY_MODEL_02a691b3bd894b5e85c3667bead5df10"
      }
     },
     "71eaaed5a52b4bd78a556dc15450910e": {
      "model_module": "@jupyter-widgets/controls",
      "model_module_version": "1.5.0",
      "model_name": "FloatProgressModel",
      "state": {
       "bar_style": "success",
       "layout": "IPY_MODEL_c04a46192d9d4ef1b9e341c000ebe4f1",
       "max": 1032,
       "style": "IPY_MODEL_e8ad28408f2c4019a7f1e5321f7f8451",
       "value": 1032
      }
     },
     "73dc5c736aa9482889efe884da3d821f": {
      "model_module": "@jupyter-widgets/controls",
      "model_module_version": "1.5.0",
      "model_name": "DescriptionStyleModel",
      "state": {
       "description_width": ""
      }
     },
     "748506d6d9544dceae2425b69790046a": {
      "model_module": "@jupyter-widgets/base",
      "model_module_version": "1.2.0",
      "model_name": "LayoutModel",
      "state": {}
     },
     "74992eec75064a02a6c77ae2e3d2ed81": {
      "model_module": "@jupyter-widgets/controls",
      "model_module_version": "1.5.0",
      "model_name": "HTMLModel",
      "state": {
       "layout": "IPY_MODEL_9c9b6fd35bf143878ad60ed78500c6f4",
       "style": "IPY_MODEL_cbd86428812b42809707b0184b6f9a62",
       "value": "100%"
      }
     },
     "74b89c717e924cd59a8c5d30a11e500c": {
      "model_module": "@jupyter-widgets/controls",
      "model_module_version": "1.5.0",
      "model_name": "DescriptionStyleModel",
      "state": {
       "description_width": ""
      }
     },
     "752002c95d084943b9aaf6a1e1319026": {
      "model_module": "@jupyter-widgets/controls",
      "model_module_version": "1.5.0",
      "model_name": "HBoxModel",
      "state": {
       "children": [
        "IPY_MODEL_bee32caff20c4740a1d8bd6382f94322",
        "IPY_MODEL_9cc23b3c56244e42a02e1ded8d66a98d",
        "IPY_MODEL_e064ad0ff86144088ac2b190bfe56d42"
       ],
       "layout": "IPY_MODEL_93eb4b1bfa87411d8330c434dd59192f"
      }
     },
     "77c1f5c7ad1b4546817b4ae30572fec0": {
      "model_module": "@jupyter-widgets/controls",
      "model_module_version": "1.5.0",
      "model_name": "FloatProgressModel",
      "state": {
       "bar_style": "success",
       "layout": "IPY_MODEL_8e489d6341ec444599c6b534b6805688",
       "max": 1032,
       "style": "IPY_MODEL_a5074525fee74dcd96d931693661e789",
       "value": 1032
      }
     },
     "7a861de325df4e7098b4e119f4fc5b24": {
      "model_module": "@jupyter-widgets/controls",
      "model_module_version": "1.5.0",
      "model_name": "HTMLModel",
      "state": {
       "layout": "IPY_MODEL_748506d6d9544dceae2425b69790046a",
       "style": "IPY_MODEL_d8d56ea98f1d4953adb3ae83532e3f48",
       "value": " 1032/1032 [00:05&lt;00:00, 200.70it/s]"
      }
     },
     "7b7e90a55d3144e1a39c440d14821842": {
      "model_module": "@jupyter-widgets/base",
      "model_module_version": "1.2.0",
      "model_name": "LayoutModel",
      "state": {}
     },
     "7c3f14a5c4654f7cb04c77f4e803cebd": {
      "model_module": "@jupyter-widgets/controls",
      "model_module_version": "1.5.0",
      "model_name": "FloatProgressModel",
      "state": {
       "bar_style": "success",
       "layout": "IPY_MODEL_9b9d577ac7a44f99946436c07f09af1c",
       "max": 1032,
       "style": "IPY_MODEL_1e0ed833cc9f40d9b78a121865c7df4d",
       "value": 1032
      }
     },
     "7e946cfd8a0a4413adab4665c59e8a2e": {
      "model_module": "@jupyter-widgets/controls",
      "model_module_version": "1.5.0",
      "model_name": "DescriptionStyleModel",
      "state": {
       "description_width": ""
      }
     },
     "7ff2cd7ebd88464b8acf5875ede0707f": {
      "model_module": "@jupyter-widgets/controls",
      "model_module_version": "1.5.0",
      "model_name": "DescriptionStyleModel",
      "state": {
       "description_width": ""
      }
     },
     "8024c5468f384523b2b63bdfd427bfc5": {
      "model_module": "@jupyter-widgets/base",
      "model_module_version": "1.2.0",
      "model_name": "LayoutModel",
      "state": {}
     },
     "81130ba9436c47418cf6d683ae0b3e25": {
      "model_module": "@jupyter-widgets/controls",
      "model_module_version": "1.5.0",
      "model_name": "HBoxModel",
      "state": {
       "children": [
        "IPY_MODEL_a1d5c7ece3eb44feaf8c0eaadb1379cb",
        "IPY_MODEL_bda2608d00ac464393b309b8b76a9db3",
        "IPY_MODEL_eec47eea17844407a6cb91de51912d8d"
       ],
       "layout": "IPY_MODEL_0a757f92b6404f85ba54179d3086886d"
      }
     },
     "8119d26ec55e423b9c8a78a4bde16d2d": {
      "model_module": "@jupyter-widgets/controls",
      "model_module_version": "1.5.0",
      "model_name": "DescriptionStyleModel",
      "state": {
       "description_width": ""
      }
     },
     "81807368f8d64677b96a1ed04220e4ff": {
      "model_module": "@jupyter-widgets/controls",
      "model_module_version": "1.5.0",
      "model_name": "HBoxModel",
      "state": {
       "children": [
        "IPY_MODEL_e8e459945fcc4effa82abc03e6a86330",
        "IPY_MODEL_b57df53deb0f4a1e93914b0270b8b681",
        "IPY_MODEL_69c1f81b2bea4742be5eb4f5ae3f89ed"
       ],
       "layout": "IPY_MODEL_6a88efa94ba64cc1ac4f5abfbe3496b3"
      }
     },
     "8352527d99aa4b62ab7d21f6a7cc8471": {
      "model_module": "@jupyter-widgets/controls",
      "model_module_version": "1.5.0",
      "model_name": "HBoxModel",
      "state": {
       "children": [
        "IPY_MODEL_2316c9deb63d4cc9bd7bf104bd8fc898",
        "IPY_MODEL_ef024a5c92df46558ba9aa70ed3605ce",
        "IPY_MODEL_7a861de325df4e7098b4e119f4fc5b24"
       ],
       "layout": "IPY_MODEL_a54512efbaa2461dae21ec4b45106f15"
      }
     },
     "8538e9d7fa9f41e79b181c581c10574b": {
      "model_module": "@jupyter-widgets/base",
      "model_module_version": "1.2.0",
      "model_name": "LayoutModel",
      "state": {}
     },
     "853e4ddc48144bb2bb8b12738c0889ff": {
      "model_module": "@jupyter-widgets/controls",
      "model_module_version": "1.5.0",
      "model_name": "DescriptionStyleModel",
      "state": {
       "description_width": ""
      }
     },
     "86206129a200438e9690da88e0b00d89": {
      "model_module": "@jupyter-widgets/base",
      "model_module_version": "1.2.0",
      "model_name": "LayoutModel",
      "state": {}
     },
     "864ade7f775541b6b3cc50292c688c98": {
      "model_module": "@jupyter-widgets/base",
      "model_module_version": "1.2.0",
      "model_name": "LayoutModel",
      "state": {}
     },
     "87b20446578148e48b26c5cca6177bfb": {
      "model_module": "@jupyter-widgets/controls",
      "model_module_version": "1.5.0",
      "model_name": "FloatProgressModel",
      "state": {
       "bar_style": "success",
       "layout": "IPY_MODEL_d9a66f0bbb10429d9bae6128d5ae64ca",
       "max": 1032,
       "style": "IPY_MODEL_2d7a6c0b1b574183ac6490f2f534a0e2",
       "value": 1032
      }
     },
     "89e77fa0b01c4db5998fa7d27e34f06a": {
      "model_module": "@jupyter-widgets/controls",
      "model_module_version": "1.5.0",
      "model_name": "DescriptionStyleModel",
      "state": {
       "description_width": ""
      }
     },
     "8a2c6e75f4c347a1af3372f32909a379": {
      "model_module": "@jupyter-widgets/controls",
      "model_module_version": "1.5.0",
      "model_name": "HTMLModel",
      "state": {
       "layout": "IPY_MODEL_2ccb06cb2a2347308e183b5b31183e46",
       "style": "IPY_MODEL_b5829e35f7b448c0affba02f4d9719bb",
       "value": " 1032/1032 [00:03&lt;00:00, 318.21it/s]"
      }
     },
     "8b350270dfb8408a84d3aebcddf1b033": {
      "model_module": "@jupyter-widgets/base",
      "model_module_version": "1.2.0",
      "model_name": "LayoutModel",
      "state": {}
     },
     "8cd512c3ed8f42f289c316e7bd01b4fe": {
      "model_module": "@jupyter-widgets/base",
      "model_module_version": "1.2.0",
      "model_name": "LayoutModel",
      "state": {}
     },
     "8d5b8b5f50c4485198a203c34ad0417f": {
      "model_module": "@jupyter-widgets/controls",
      "model_module_version": "1.5.0",
      "model_name": "DescriptionStyleModel",
      "state": {
       "description_width": ""
      }
     },
     "8e489d6341ec444599c6b534b6805688": {
      "model_module": "@jupyter-widgets/base",
      "model_module_version": "1.2.0",
      "model_name": "LayoutModel",
      "state": {}
     },
     "8ece539e875b45a09d1a7209b887797d": {
      "model_module": "@jupyter-widgets/controls",
      "model_module_version": "1.5.0",
      "model_name": "HBoxModel",
      "state": {
       "children": [
        "IPY_MODEL_24f438dafdec4b28ba39fdaa0df1233e",
        "IPY_MODEL_b5bd91b165324a5fb178686a81035dd5",
        "IPY_MODEL_f8b2381e52574a278f69f2a39e7d9bd0"
       ],
       "layout": "IPY_MODEL_8b350270dfb8408a84d3aebcddf1b033"
      }
     },
     "8f2f1b7e4d7246df912bb5912fb55153": {
      "model_module": "@jupyter-widgets/base",
      "model_module_version": "1.2.0",
      "model_name": "LayoutModel",
      "state": {}
     },
     "903fd35249d94ca9b851e475bdd829e0": {
      "model_module": "@jupyter-widgets/controls",
      "model_module_version": "1.5.0",
      "model_name": "HTMLModel",
      "state": {
       "layout": "IPY_MODEL_86206129a200438e9690da88e0b00d89",
       "style": "IPY_MODEL_e94c3f0b4ad444138b06248ab6e6ca43",
       "value": "100%"
      }
     },
     "919198e67e744f659b333d5fc539c26c": {
      "model_module": "@jupyter-widgets/controls",
      "model_module_version": "1.5.0",
      "model_name": "FloatProgressModel",
      "state": {
       "bar_style": "success",
       "layout": "IPY_MODEL_e185d618fc7844c797105d431243b434",
       "max": 1032,
       "style": "IPY_MODEL_fd6d66914a08470789985f9aed14be92",
       "value": 1032
      }
     },
     "919dbcc418f5450a87d264b569c08f2e": {
      "model_module": "@jupyter-widgets/controls",
      "model_module_version": "1.5.0",
      "model_name": "HTMLModel",
      "state": {
       "layout": "IPY_MODEL_22695f21f13846d093844839765402ca",
       "style": "IPY_MODEL_7e946cfd8a0a4413adab4665c59e8a2e",
       "value": "100%"
      }
     },
     "92068152151d4959a43ca7b38898c534": {
      "model_module": "@jupyter-widgets/base",
      "model_module_version": "1.2.0",
      "model_name": "LayoutModel",
      "state": {}
     },
     "93eb4b1bfa87411d8330c434dd59192f": {
      "model_module": "@jupyter-widgets/base",
      "model_module_version": "1.2.0",
      "model_name": "LayoutModel",
      "state": {}
     },
     "94248950acb6424991b63e0c150dc188": {
      "model_module": "@jupyter-widgets/controls",
      "model_module_version": "1.5.0",
      "model_name": "FloatProgressModel",
      "state": {
       "bar_style": "success",
       "layout": "IPY_MODEL_ed2c3391a6144715a0f66f65cd155975",
       "max": 1032,
       "style": "IPY_MODEL_3cdd1a7e3caa4e39b9f8de5c8a98320f",
       "value": 1032
      }
     },
     "955567e713644afc9881725598de1e48": {
      "model_module": "@jupyter-widgets/controls",
      "model_module_version": "1.5.0",
      "model_name": "DescriptionStyleModel",
      "state": {
       "description_width": ""
      }
     },
     "97d9302c3d5a4e1e9cd3015acef28ccd": {
      "model_module": "@jupyter-widgets/controls",
      "model_module_version": "1.5.0",
      "model_name": "FloatProgressModel",
      "state": {
       "bar_style": "success",
       "layout": "IPY_MODEL_2ac0c88ae8cf47399db25979518471fe",
       "max": 1032,
       "style": "IPY_MODEL_da49003257ee41199a543573b6b7dda1",
       "value": 1032
      }
     },
     "9b3830c53b5c44efb9e6de2a91ee88b6": {
      "model_module": "@jupyter-widgets/controls",
      "model_module_version": "1.5.0",
      "model_name": "FloatProgressModel",
      "state": {
       "bar_style": "success",
       "layout": "IPY_MODEL_ea8115ad1ae143fabe8231aa1b88a6a4",
       "max": 1032,
       "style": "IPY_MODEL_601d77fb9d464f8fadb332eecc3d4865",
       "value": 1032
      }
     },
     "9b9d577ac7a44f99946436c07f09af1c": {
      "model_module": "@jupyter-widgets/base",
      "model_module_version": "1.2.0",
      "model_name": "LayoutModel",
      "state": {}
     },
     "9c9b6fd35bf143878ad60ed78500c6f4": {
      "model_module": "@jupyter-widgets/base",
      "model_module_version": "1.2.0",
      "model_name": "LayoutModel",
      "state": {}
     },
     "9cc23b3c56244e42a02e1ded8d66a98d": {
      "model_module": "@jupyter-widgets/controls",
      "model_module_version": "1.5.0",
      "model_name": "FloatProgressModel",
      "state": {
       "bar_style": "success",
       "layout": "IPY_MODEL_ec7b6dcbdc1b45109ecdf90e50ac099b",
       "max": 1032,
       "style": "IPY_MODEL_3da4e7375e1e4d068453606d03c777ac",
       "value": 1032
      }
     },
     "9d5afc007ce440a39d83439b699e5829": {
      "model_module": "@jupyter-widgets/controls",
      "model_module_version": "1.5.0",
      "model_name": "ProgressStyleModel",
      "state": {
       "description_width": ""
      }
     },
     "9da9bf2b72234309aac51b353075d444": {
      "model_module": "@jupyter-widgets/base",
      "model_module_version": "1.2.0",
      "model_name": "LayoutModel",
      "state": {}
     },
     "9f71b0f4a0f4414cb3c23a6baa11d77b": {
      "model_module": "@jupyter-widgets/controls",
      "model_module_version": "1.5.0",
      "model_name": "HTMLModel",
      "state": {
       "layout": "IPY_MODEL_413fb4d5391c4b59a3acfc6976b4152f",
       "style": "IPY_MODEL_fc303ecad0f14983b693e9741eed22fb",
       "value": " 1032/1032 [00:05&lt;00:00, 193.97it/s]"
      }
     },
     "a1533068207a494e895c80581e0c8f5c": {
      "model_module": "@jupyter-widgets/base",
      "model_module_version": "1.2.0",
      "model_name": "LayoutModel",
      "state": {}
     },
     "a198e164be9942ceb8782f7c338ddbcd": {
      "model_module": "@jupyter-widgets/base",
      "model_module_version": "1.2.0",
      "model_name": "LayoutModel",
      "state": {}
     },
     "a1d5c7ece3eb44feaf8c0eaadb1379cb": {
      "model_module": "@jupyter-widgets/controls",
      "model_module_version": "1.5.0",
      "model_name": "HTMLModel",
      "state": {
       "layout": "IPY_MODEL_af309ee1a9ed4e058eb5fe07a54fe30f",
       "style": "IPY_MODEL_c8da7f323689458b88b9c4bae29c6c74",
       "value": "100%"
      }
     },
     "a23b1b466d034652b97e6f03119ceb68": {
      "model_module": "@jupyter-widgets/base",
      "model_module_version": "1.2.0",
      "model_name": "LayoutModel",
      "state": {}
     },
     "a2f01d9096a644ab8a83503995610f13": {
      "model_module": "@jupyter-widgets/base",
      "model_module_version": "1.2.0",
      "model_name": "LayoutModel",
      "state": {}
     },
     "a3a680ff3f7f44399cca8c55896a6368": {
      "model_module": "@jupyter-widgets/base",
      "model_module_version": "1.2.0",
      "model_name": "LayoutModel",
      "state": {}
     },
     "a5074525fee74dcd96d931693661e789": {
      "model_module": "@jupyter-widgets/controls",
      "model_module_version": "1.5.0",
      "model_name": "ProgressStyleModel",
      "state": {
       "description_width": ""
      }
     },
     "a54512efbaa2461dae21ec4b45106f15": {
      "model_module": "@jupyter-widgets/base",
      "model_module_version": "1.2.0",
      "model_name": "LayoutModel",
      "state": {}
     },
     "a55bc5287a794667a822b90d489a6740": {
      "model_module": "@jupyter-widgets/controls",
      "model_module_version": "1.5.0",
      "model_name": "HTMLModel",
      "state": {
       "layout": "IPY_MODEL_e10240627da149c8ac4ad0148d8c964b",
       "style": "IPY_MODEL_0630061c04a64bbcad7198ed098d647b",
       "value": "100%"
      }
     },
     "a76642e79d9046cb829951231efe3e5e": {
      "model_module": "@jupyter-widgets/controls",
      "model_module_version": "1.5.0",
      "model_name": "HTMLModel",
      "state": {
       "layout": "IPY_MODEL_b4b13267bc0f45bb90bd5c48bde5a2b9",
       "style": "IPY_MODEL_f915f9dc85cb4c81ba8a6f46fce07459",
       "value": " 1032/1032 [00:06&lt;00:00, 164.48it/s]"
      }
     },
     "a83cce734e6949d185fbce3e4325d016": {
      "model_module": "@jupyter-widgets/controls",
      "model_module_version": "1.5.0",
      "model_name": "ProgressStyleModel",
      "state": {
       "description_width": ""
      }
     },
     "a8555a456a2e40baaf70c4cebc5ebc81": {
      "model_module": "@jupyter-widgets/controls",
      "model_module_version": "1.5.0",
      "model_name": "HTMLModel",
      "state": {
       "layout": "IPY_MODEL_0c59bc6534fb4e66bf2257f3c83e373c",
       "style": "IPY_MODEL_0b33e35e2e2f4989a4bfc631abaf0820",
       "value": "100%"
      }
     },
     "a89b73c7c6364c40bca628fbc1837d2e": {
      "model_module": "@jupyter-widgets/base",
      "model_module_version": "1.2.0",
      "model_name": "LayoutModel",
      "state": {}
     },
     "a930a78fd54a4edebf42b5f587e18d59": {
      "model_module": "@jupyter-widgets/controls",
      "model_module_version": "1.5.0",
      "model_name": "HTMLModel",
      "state": {
       "layout": "IPY_MODEL_cde7647e437848898c98f7485507723c",
       "style": "IPY_MODEL_4ec416384b8b42ed87fd9bc00733e262",
       "value": "100%"
      }
     },
     "aa536fb0ca4e4d14948d6d405f3f9759": {
      "model_module": "@jupyter-widgets/controls",
      "model_module_version": "1.5.0",
      "model_name": "HTMLModel",
      "state": {
       "layout": "IPY_MODEL_bd41c250f8ab4ef8819015afaf2289c2",
       "style": "IPY_MODEL_89e77fa0b01c4db5998fa7d27e34f06a",
       "value": "100%"
      }
     },
     "aafa42f94a24456296e879b13be535fe": {
      "model_module": "@jupyter-widgets/controls",
      "model_module_version": "1.5.0",
      "model_name": "DescriptionStyleModel",
      "state": {
       "description_width": ""
      }
     },
     "ab003653efc1483399b30cb356da616e": {
      "model_module": "@jupyter-widgets/base",
      "model_module_version": "1.2.0",
      "model_name": "LayoutModel",
      "state": {}
     },
     "abdab90eba6b44ba8d86a27ce72dcd29": {
      "model_module": "@jupyter-widgets/base",
      "model_module_version": "1.2.0",
      "model_name": "LayoutModel",
      "state": {}
     },
     "ac94321f665f40239614562df58fd3c3": {
      "model_module": "@jupyter-widgets/controls",
      "model_module_version": "1.5.0",
      "model_name": "HBoxModel",
      "state": {
       "children": [
        "IPY_MODEL_e130214942684ea49f9ac7a25055d670",
        "IPY_MODEL_edd964ee7d774c04a9e35ea2df1a6111",
        "IPY_MODEL_eb003b5ce9f14d638e90e503ce6fef7b"
       ],
       "layout": "IPY_MODEL_ce7e0d1095704f6aa4616de92b1f78ff"
      }
     },
     "aed0b9297a3b4f01a94ba613d84ccb64": {
      "model_module": "@jupyter-widgets/controls",
      "model_module_version": "1.5.0",
      "model_name": "HBoxModel",
      "state": {
       "children": [
        "IPY_MODEL_d6692d5b9ff64a299990551677aeafa5",
        "IPY_MODEL_c852086113d54bc58325c4b9088d20f7",
        "IPY_MODEL_e821ea223b9c4156be2aa1bb0c593e18"
       ],
       "layout": "IPY_MODEL_f7f4907924924ec08adcc68ad161b6bb"
      }
     },
     "af309ee1a9ed4e058eb5fe07a54fe30f": {
      "model_module": "@jupyter-widgets/base",
      "model_module_version": "1.2.0",
      "model_name": "LayoutModel",
      "state": {}
     },
     "b0097b4d95744ccda8c8f25e74f2191f": {
      "model_module": "@jupyter-widgets/controls",
      "model_module_version": "1.5.0",
      "model_name": "HBoxModel",
      "state": {
       "children": [
        "IPY_MODEL_a930a78fd54a4edebf42b5f587e18d59",
        "IPY_MODEL_919198e67e744f659b333d5fc539c26c",
        "IPY_MODEL_fb9f8f3830c044ea94e5d63edc30a60f"
       ],
       "layout": "IPY_MODEL_568c144ee46a4112ae64bf02b0e95897"
      }
     },
     "b1a204836f4049588db32d8ccfdcc412": {
      "model_module": "@jupyter-widgets/controls",
      "model_module_version": "1.5.0",
      "model_name": "DescriptionStyleModel",
      "state": {
       "description_width": ""
      }
     },
     "b3beee0c8f084294bb8820e90f0e8cf6": {
      "model_module": "@jupyter-widgets/controls",
      "model_module_version": "1.5.0",
      "model_name": "HTMLModel",
      "state": {
       "layout": "IPY_MODEL_3ba1c436aec646a0993eb356eb7ef633",
       "style": "IPY_MODEL_e1e8eff337c047aca3d7b1b4f089e314",
       "value": "100%"
      }
     },
     "b4090cbb261f4d12856069c6b530d257": {
      "model_module": "@jupyter-widgets/controls",
      "model_module_version": "1.5.0",
      "model_name": "HTMLModel",
      "state": {
       "layout": "IPY_MODEL_f00038a6709f42b49b16a80ff73d89e0",
       "style": "IPY_MODEL_b544d6526a4d44459980b0b82d8705aa",
       "value": " 1032/1032 [00:05&lt;00:00, 202.66it/s]"
      }
     },
     "b440bdf0960e4e14b6374d1918d22d37": {
      "model_module": "@jupyter-widgets/base",
      "model_module_version": "1.2.0",
      "model_name": "LayoutModel",
      "state": {}
     },
     "b4b13267bc0f45bb90bd5c48bde5a2b9": {
      "model_module": "@jupyter-widgets/base",
      "model_module_version": "1.2.0",
      "model_name": "LayoutModel",
      "state": {}
     },
     "b544d6526a4d44459980b0b82d8705aa": {
      "model_module": "@jupyter-widgets/controls",
      "model_module_version": "1.5.0",
      "model_name": "DescriptionStyleModel",
      "state": {
       "description_width": ""
      }
     },
     "b57df53deb0f4a1e93914b0270b8b681": {
      "model_module": "@jupyter-widgets/controls",
      "model_module_version": "1.5.0",
      "model_name": "FloatProgressModel",
      "state": {
       "bar_style": "success",
       "layout": "IPY_MODEL_3910f5a706884f9b9f73f04ff89f879c",
       "max": 1032,
       "style": "IPY_MODEL_31f081683f7d4e67903097fc2a4800ae",
       "value": 1032
      }
     },
     "b5829e35f7b448c0affba02f4d9719bb": {
      "model_module": "@jupyter-widgets/controls",
      "model_module_version": "1.5.0",
      "model_name": "DescriptionStyleModel",
      "state": {
       "description_width": ""
      }
     },
     "b5a18755e4244e2cb0236a5efdc60408": {
      "model_module": "@jupyter-widgets/controls",
      "model_module_version": "1.5.0",
      "model_name": "HTMLModel",
      "state": {
       "layout": "IPY_MODEL_ba859bb6a0e54bcc801f960a942bef74",
       "style": "IPY_MODEL_bba9707cbc0149adba0b6a2b30ed0a74",
       "value": " 1032/1032 [00:05&lt;00:00, 202.22it/s]"
      }
     },
     "b5bd91b165324a5fb178686a81035dd5": {
      "model_module": "@jupyter-widgets/controls",
      "model_module_version": "1.5.0",
      "model_name": "FloatProgressModel",
      "state": {
       "bar_style": "success",
       "layout": "IPY_MODEL_ab003653efc1483399b30cb356da616e",
       "max": 1032,
       "style": "IPY_MODEL_b5cf8715faa6454baa4398028a952f1b",
       "value": 1032
      }
     },
     "b5cf8715faa6454baa4398028a952f1b": {
      "model_module": "@jupyter-widgets/controls",
      "model_module_version": "1.5.0",
      "model_name": "ProgressStyleModel",
      "state": {
       "description_width": ""
      }
     },
     "ba859bb6a0e54bcc801f960a942bef74": {
      "model_module": "@jupyter-widgets/base",
      "model_module_version": "1.2.0",
      "model_name": "LayoutModel",
      "state": {}
     },
     "bba9707cbc0149adba0b6a2b30ed0a74": {
      "model_module": "@jupyter-widgets/controls",
      "model_module_version": "1.5.0",
      "model_name": "DescriptionStyleModel",
      "state": {
       "description_width": ""
      }
     },
     "bd41c250f8ab4ef8819015afaf2289c2": {
      "model_module": "@jupyter-widgets/base",
      "model_module_version": "1.2.0",
      "model_name": "LayoutModel",
      "state": {}
     },
     "bda2608d00ac464393b309b8b76a9db3": {
      "model_module": "@jupyter-widgets/controls",
      "model_module_version": "1.5.0",
      "model_name": "FloatProgressModel",
      "state": {
       "bar_style": "success",
       "layout": "IPY_MODEL_5d8f5f9b8d924b6bba216c0c547a3901",
       "max": 1032,
       "style": "IPY_MODEL_1aa45809881c4e41970f914e66080cdc",
       "value": 1032
      }
     },
     "bee32caff20c4740a1d8bd6382f94322": {
      "model_module": "@jupyter-widgets/controls",
      "model_module_version": "1.5.0",
      "model_name": "HTMLModel",
      "state": {
       "layout": "IPY_MODEL_355cfdb505d44109913c43eadb526c3f",
       "style": "IPY_MODEL_c50318253a6e4ebbaca1bb53f8ac8330",
       "value": "100%"
      }
     },
     "c017c302e9aa4176a588e04ad5382188": {
      "model_module": "@jupyter-widgets/controls",
      "model_module_version": "1.5.0",
      "model_name": "HTMLModel",
      "state": {
       "layout": "IPY_MODEL_864ade7f775541b6b3cc50292c688c98",
       "style": "IPY_MODEL_ded23d28679741dd8b6726b700a6ca0c",
       "value": " 1032/1032 [00:03&lt;00:00, 327.12it/s]"
      }
     },
     "c04a46192d9d4ef1b9e341c000ebe4f1": {
      "model_module": "@jupyter-widgets/base",
      "model_module_version": "1.2.0",
      "model_name": "LayoutModel",
      "state": {}
     },
     "c303863b6df34b73bbff9a17ae7514f0": {
      "model_module": "@jupyter-widgets/controls",
      "model_module_version": "1.5.0",
      "model_name": "HBoxModel",
      "state": {
       "children": [
        "IPY_MODEL_c9b102a1e4624604af0e3fb5288acc25",
        "IPY_MODEL_593bb2c1c7b2498ba40040881499dbec",
        "IPY_MODEL_9f71b0f4a0f4414cb3c23a6baa11d77b"
       ],
       "layout": "IPY_MODEL_f073701539074299b51963ad60c31122"
      }
     },
     "c50318253a6e4ebbaca1bb53f8ac8330": {
      "model_module": "@jupyter-widgets/controls",
      "model_module_version": "1.5.0",
      "model_name": "DescriptionStyleModel",
      "state": {
       "description_width": ""
      }
     },
     "c54d184adb794bda8139eb8c4d221892": {
      "model_module": "@jupyter-widgets/controls",
      "model_module_version": "1.5.0",
      "model_name": "DescriptionStyleModel",
      "state": {
       "description_width": ""
      }
     },
     "c619ec6ee4344f82af3c5067c3c47ed5": {
      "model_module": "@jupyter-widgets/base",
      "model_module_version": "1.2.0",
      "model_name": "LayoutModel",
      "state": {}
     },
     "c852086113d54bc58325c4b9088d20f7": {
      "model_module": "@jupyter-widgets/controls",
      "model_module_version": "1.5.0",
      "model_name": "FloatProgressModel",
      "state": {
       "bar_style": "success",
       "layout": "IPY_MODEL_19657e73ce3d42f4ab009aee557c5b55",
       "max": 1032,
       "style": "IPY_MODEL_a83cce734e6949d185fbce3e4325d016",
       "value": 1032
      }
     },
     "c88ba87bb8e346e499da08fcbecc504e": {
      "model_module": "@jupyter-widgets/controls",
      "model_module_version": "1.5.0",
      "model_name": "DescriptionStyleModel",
      "state": {
       "description_width": ""
      }
     },
     "c8da7f323689458b88b9c4bae29c6c74": {
      "model_module": "@jupyter-widgets/controls",
      "model_module_version": "1.5.0",
      "model_name": "DescriptionStyleModel",
      "state": {
       "description_width": ""
      }
     },
     "c9b102a1e4624604af0e3fb5288acc25": {
      "model_module": "@jupyter-widgets/controls",
      "model_module_version": "1.5.0",
      "model_name": "HTMLModel",
      "state": {
       "layout": "IPY_MODEL_24e14aa8ba12467e87c7af4423179b38",
       "style": "IPY_MODEL_105986a32a2e48059167398c78b90bde",
       "value": "100%"
      }
     },
     "cbd86428812b42809707b0184b6f9a62": {
      "model_module": "@jupyter-widgets/controls",
      "model_module_version": "1.5.0",
      "model_name": "DescriptionStyleModel",
      "state": {
       "description_width": ""
      }
     },
     "cde7647e437848898c98f7485507723c": {
      "model_module": "@jupyter-widgets/base",
      "model_module_version": "1.2.0",
      "model_name": "LayoutModel",
      "state": {}
     },
     "ce7e0d1095704f6aa4616de92b1f78ff": {
      "model_module": "@jupyter-widgets/base",
      "model_module_version": "1.2.0",
      "model_name": "LayoutModel",
      "state": {}
     },
     "d09d1ebfbaa34561b9c1cabe7ef2514b": {
      "model_module": "@jupyter-widgets/controls",
      "model_module_version": "1.5.0",
      "model_name": "FloatProgressModel",
      "state": {
       "bar_style": "success",
       "layout": "IPY_MODEL_8024c5468f384523b2b63bdfd427bfc5",
       "max": 1032,
       "style": "IPY_MODEL_1c00970ddba94c25a5213cf17e1efd9f",
       "value": 1032
      }
     },
     "d11625cf7912483f9b65499823ed1e2a": {
      "model_module": "@jupyter-widgets/controls",
      "model_module_version": "1.5.0",
      "model_name": "DescriptionStyleModel",
      "state": {
       "description_width": ""
      }
     },
     "d2854b73380b4e1d92fb2f8a35680df0": {
      "model_module": "@jupyter-widgets/controls",
      "model_module_version": "1.5.0",
      "model_name": "HBoxModel",
      "state": {
       "children": [
        "IPY_MODEL_586daff86bd04be4aa9efa4201946eb5",
        "IPY_MODEL_0e9894a0097845d4b2620341c600f849",
        "IPY_MODEL_da23a4eda61c4561bdb237cc0b8e6138"
       ],
       "layout": "IPY_MODEL_2af3fc0eb1ab4356a24a4784c30a869a"
      }
     },
     "d2953e7576cb41828e4cc787f80de05e": {
      "model_module": "@jupyter-widgets/controls",
      "model_module_version": "1.5.0",
      "model_name": "FloatProgressModel",
      "state": {
       "bar_style": "success",
       "layout": "IPY_MODEL_14f1dc09f6b04b0bb195e2af4f138060",
       "max": 1032,
       "style": "IPY_MODEL_9d5afc007ce440a39d83439b699e5829",
       "value": 1032
      }
     },
     "d3ea77cc6a884591a128173f1abf2e3d": {
      "model_module": "@jupyter-widgets/controls",
      "model_module_version": "1.5.0",
      "model_name": "DescriptionStyleModel",
      "state": {
       "description_width": ""
      }
     },
     "d6692d5b9ff64a299990551677aeafa5": {
      "model_module": "@jupyter-widgets/controls",
      "model_module_version": "1.5.0",
      "model_name": "HTMLModel",
      "state": {
       "layout": "IPY_MODEL_9da9bf2b72234309aac51b353075d444",
       "style": "IPY_MODEL_aafa42f94a24456296e879b13be535fe",
       "value": "100%"
      }
     },
     "d6ed072eaca44894a2664a0878713f7f": {
      "model_module": "@jupyter-widgets/base",
      "model_module_version": "1.2.0",
      "model_name": "LayoutModel",
      "state": {}
     },
     "d890736a2f38485ab902e617ea0bde27": {
      "model_module": "@jupyter-widgets/controls",
      "model_module_version": "1.5.0",
      "model_name": "HTMLModel",
      "state": {
       "layout": "IPY_MODEL_abdab90eba6b44ba8d86a27ce72dcd29",
       "style": "IPY_MODEL_8d5b8b5f50c4485198a203c34ad0417f",
       "value": "100%"
      }
     },
     "d8d56ea98f1d4953adb3ae83532e3f48": {
      "model_module": "@jupyter-widgets/controls",
      "model_module_version": "1.5.0",
      "model_name": "DescriptionStyleModel",
      "state": {
       "description_width": ""
      }
     },
     "d9a66f0bbb10429d9bae6128d5ae64ca": {
      "model_module": "@jupyter-widgets/base",
      "model_module_version": "1.2.0",
      "model_name": "LayoutModel",
      "state": {}
     },
     "da23a4eda61c4561bdb237cc0b8e6138": {
      "model_module": "@jupyter-widgets/controls",
      "model_module_version": "1.5.0",
      "model_name": "HTMLModel",
      "state": {
       "layout": "IPY_MODEL_a1533068207a494e895c80581e0c8f5c",
       "style": "IPY_MODEL_d3ea77cc6a884591a128173f1abf2e3d",
       "value": " 1032/1032 [00:06&lt;00:00, 161.52it/s]"
      }
     },
     "da49003257ee41199a543573b6b7dda1": {
      "model_module": "@jupyter-widgets/controls",
      "model_module_version": "1.5.0",
      "model_name": "ProgressStyleModel",
      "state": {
       "description_width": ""
      }
     },
     "db092ef72ad54f95aa2b53b529b3b7e3": {
      "model_module": "@jupyter-widgets/base",
      "model_module_version": "1.2.0",
      "model_name": "LayoutModel",
      "state": {}
     },
     "ded23d28679741dd8b6726b700a6ca0c": {
      "model_module": "@jupyter-widgets/controls",
      "model_module_version": "1.5.0",
      "model_name": "DescriptionStyleModel",
      "state": {
       "description_width": ""
      }
     },
     "df495c7961f0472e9a641fb1482cf052": {
      "model_module": "@jupyter-widgets/controls",
      "model_module_version": "1.5.0",
      "model_name": "DescriptionStyleModel",
      "state": {
       "description_width": ""
      }
     },
     "dfd0300cb7ef402286ae939562c3bef5": {
      "model_module": "@jupyter-widgets/base",
      "model_module_version": "1.2.0",
      "model_name": "LayoutModel",
      "state": {}
     },
     "e064ad0ff86144088ac2b190bfe56d42": {
      "model_module": "@jupyter-widgets/controls",
      "model_module_version": "1.5.0",
      "model_name": "HTMLModel",
      "state": {
       "layout": "IPY_MODEL_a198e164be9942ceb8782f7c338ddbcd",
       "style": "IPY_MODEL_e3e7f5500db44babb9b1a5a1e61082b0",
       "value": " 1032/1032 [00:05&lt;00:00, 208.21it/s]"
      }
     },
     "e10240627da149c8ac4ad0148d8c964b": {
      "model_module": "@jupyter-widgets/base",
      "model_module_version": "1.2.0",
      "model_name": "LayoutModel",
      "state": {}
     },
     "e130214942684ea49f9ac7a25055d670": {
      "model_module": "@jupyter-widgets/controls",
      "model_module_version": "1.5.0",
      "model_name": "HTMLModel",
      "state": {
       "layout": "IPY_MODEL_2591b5039bb943819ee9f8e00f1d995e",
       "style": "IPY_MODEL_559767a41b894aa8aea36a390665cc1b",
       "value": "100%"
      }
     },
     "e185d618fc7844c797105d431243b434": {
      "model_module": "@jupyter-widgets/base",
      "model_module_version": "1.2.0",
      "model_name": "LayoutModel",
      "state": {}
     },
     "e1e8eff337c047aca3d7b1b4f089e314": {
      "model_module": "@jupyter-widgets/controls",
      "model_module_version": "1.5.0",
      "model_name": "DescriptionStyleModel",
      "state": {
       "description_width": ""
      }
     },
     "e3c0a96237654d74aefff89e25c1dcbd": {
      "model_module": "@jupyter-widgets/controls",
      "model_module_version": "1.5.0",
      "model_name": "DescriptionStyleModel",
      "state": {
       "description_width": ""
      }
     },
     "e3e7f5500db44babb9b1a5a1e61082b0": {
      "model_module": "@jupyter-widgets/controls",
      "model_module_version": "1.5.0",
      "model_name": "DescriptionStyleModel",
      "state": {
       "description_width": ""
      }
     },
     "e821ea223b9c4156be2aa1bb0c593e18": {
      "model_module": "@jupyter-widgets/controls",
      "model_module_version": "1.5.0",
      "model_name": "HTMLModel",
      "state": {
       "layout": "IPY_MODEL_310d7df21f3b4c528669e99b0e8dc272",
       "style": "IPY_MODEL_853e4ddc48144bb2bb8b12738c0889ff",
       "value": " 1032/1032 [00:05&lt;00:00, 204.30it/s]"
      }
     },
     "e8ad28408f2c4019a7f1e5321f7f8451": {
      "model_module": "@jupyter-widgets/controls",
      "model_module_version": "1.5.0",
      "model_name": "ProgressStyleModel",
      "state": {
       "description_width": ""
      }
     },
     "e8e459945fcc4effa82abc03e6a86330": {
      "model_module": "@jupyter-widgets/controls",
      "model_module_version": "1.5.0",
      "model_name": "HTMLModel",
      "state": {
       "layout": "IPY_MODEL_0893bd22469648af8e7fab9369864a36",
       "style": "IPY_MODEL_f3db6649ee76407e947141795f230599",
       "value": "100%"
      }
     },
     "e94c3f0b4ad444138b06248ab6e6ca43": {
      "model_module": "@jupyter-widgets/controls",
      "model_module_version": "1.5.0",
      "model_name": "DescriptionStyleModel",
      "state": {
       "description_width": ""
      }
     },
     "e95c82d9d00a479fb786ed918cd9c205": {
      "model_module": "@jupyter-widgets/controls",
      "model_module_version": "1.5.0",
      "model_name": "HBoxModel",
      "state": {
       "children": [
        "IPY_MODEL_b3beee0c8f084294bb8820e90f0e8cf6",
        "IPY_MODEL_07d4eb05192a4ec78991e7beac70825e",
        "IPY_MODEL_b5a18755e4244e2cb0236a5efdc60408"
       ],
       "layout": "IPY_MODEL_5efab0992dca4935982cec726a576806"
      }
     },
     "e9b5da629fd64b3ebcd479cb77c0f271": {
      "model_module": "@jupyter-widgets/controls",
      "model_module_version": "1.5.0",
      "model_name": "HTMLModel",
      "state": {
       "layout": "IPY_MODEL_3e178e0bc9054d28a736572dfc0a5d6f",
       "style": "IPY_MODEL_955567e713644afc9881725598de1e48",
       "value": " 1032/1032 [00:05&lt;00:00, 198.18it/s]"
      }
     },
     "ea8115ad1ae143fabe8231aa1b88a6a4": {
      "model_module": "@jupyter-widgets/base",
      "model_module_version": "1.2.0",
      "model_name": "LayoutModel",
      "state": {}
     },
     "eb003b5ce9f14d638e90e503ce6fef7b": {
      "model_module": "@jupyter-widgets/controls",
      "model_module_version": "1.5.0",
      "model_name": "HTMLModel",
      "state": {
       "layout": "IPY_MODEL_5887aa3822064c308bacff01d1632cb9",
       "style": "IPY_MODEL_74b89c717e924cd59a8c5d30a11e500c",
       "value": " 1032/1032 [00:05&lt;00:00, 203.58it/s]"
      }
     },
     "ec7b6dcbdc1b45109ecdf90e50ac099b": {
      "model_module": "@jupyter-widgets/base",
      "model_module_version": "1.2.0",
      "model_name": "LayoutModel",
      "state": {}
     },
     "ed2c3391a6144715a0f66f65cd155975": {
      "model_module": "@jupyter-widgets/base",
      "model_module_version": "1.2.0",
      "model_name": "LayoutModel",
      "state": {}
     },
     "ed9184de88b045079bf7564784f4a26d": {
      "model_module": "@jupyter-widgets/base",
      "model_module_version": "1.2.0",
      "model_name": "LayoutModel",
      "state": {}
     },
     "edd964ee7d774c04a9e35ea2df1a6111": {
      "model_module": "@jupyter-widgets/controls",
      "model_module_version": "1.5.0",
      "model_name": "FloatProgressModel",
      "state": {
       "bar_style": "success",
       "layout": "IPY_MODEL_56fa4cd2e8a94acbac8e8b30f12376c2",
       "max": 1032,
       "style": "IPY_MODEL_4a40a9396eb94019bd40644a6b7dc912",
       "value": 1032
      }
     },
     "eec47eea17844407a6cb91de51912d8d": {
      "model_module": "@jupyter-widgets/controls",
      "model_module_version": "1.5.0",
      "model_name": "HTMLModel",
      "state": {
       "layout": "IPY_MODEL_dfd0300cb7ef402286ae939562c3bef5",
       "style": "IPY_MODEL_b1a204836f4049588db32d8ccfdcc412",
       "value": " 1032/1032 [00:05&lt;00:00, 179.38it/s]"
      }
     },
     "eef0d453c4154283947e3b4ac93fa074": {
      "model_module": "@jupyter-widgets/base",
      "model_module_version": "1.2.0",
      "model_name": "LayoutModel",
      "state": {}
     },
     "ef024a5c92df46558ba9aa70ed3605ce": {
      "model_module": "@jupyter-widgets/controls",
      "model_module_version": "1.5.0",
      "model_name": "FloatProgressModel",
      "state": {
       "bar_style": "success",
       "layout": "IPY_MODEL_309f89ff485d4902afb6362be052ee58",
       "max": 1032,
       "style": "IPY_MODEL_1c9ef83bf79446e59facdd0bab07ebf1",
       "value": 1032
      }
     },
     "f00038a6709f42b49b16a80ff73d89e0": {
      "model_module": "@jupyter-widgets/base",
      "model_module_version": "1.2.0",
      "model_name": "LayoutModel",
      "state": {}
     },
     "f073701539074299b51963ad60c31122": {
      "model_module": "@jupyter-widgets/base",
      "model_module_version": "1.2.0",
      "model_name": "LayoutModel",
      "state": {}
     },
     "f16059f003e34c02864ebae21d61c739": {
      "model_module": "@jupyter-widgets/controls",
      "model_module_version": "1.5.0",
      "model_name": "HBoxModel",
      "state": {
       "children": [
        "IPY_MODEL_44a2c0e4f2984cf9bc76f963d0792fbb",
        "IPY_MODEL_94248950acb6424991b63e0c150dc188",
        "IPY_MODEL_138caf3ff9c84f088dc722f3df84ae9f"
       ],
       "layout": "IPY_MODEL_4f3c6de2024b49b8b8a17c01c8cb5769"
      }
     },
     "f3db6649ee76407e947141795f230599": {
      "model_module": "@jupyter-widgets/controls",
      "model_module_version": "1.5.0",
      "model_name": "DescriptionStyleModel",
      "state": {
       "description_width": ""
      }
     },
     "f5f18ca3528449b3bab56ab899d27b39": {
      "model_module": "@jupyter-widgets/controls",
      "model_module_version": "1.5.0",
      "model_name": "HTMLModel",
      "state": {
       "layout": "IPY_MODEL_92068152151d4959a43ca7b38898c534",
       "style": "IPY_MODEL_202700b7721b48e698f889e1594e4940",
       "value": " 1032/1032 [00:05&lt;00:00, 175.72it/s]"
      }
     },
     "f6ca03f952d04f1fbf0c2ef0d10be04c": {
      "model_module": "@jupyter-widgets/controls",
      "model_module_version": "1.5.0",
      "model_name": "ProgressStyleModel",
      "state": {
       "description_width": ""
      }
     },
     "f7b818cf039340a189d9ef2607a14e25": {
      "model_module": "@jupyter-widgets/controls",
      "model_module_version": "1.5.0",
      "model_name": "HBoxModel",
      "state": {
       "children": [
        "IPY_MODEL_aa536fb0ca4e4d14948d6d405f3f9759",
        "IPY_MODEL_97d9302c3d5a4e1e9cd3015acef28ccd",
        "IPY_MODEL_4e6afbe0b3dc4d18b84a2bb993b6b374"
       ],
       "layout": "IPY_MODEL_3b0322fc265142919fb766c3a4519ac0"
      }
     },
     "f7f4907924924ec08adcc68ad161b6bb": {
      "model_module": "@jupyter-widgets/base",
      "model_module_version": "1.2.0",
      "model_name": "LayoutModel",
      "state": {}
     },
     "f89c3354a97e47148da06fe038c27618": {
      "model_module": "@jupyter-widgets/base",
      "model_module_version": "1.2.0",
      "model_name": "LayoutModel",
      "state": {}
     },
     "f8b2381e52574a278f69f2a39e7d9bd0": {
      "model_module": "@jupyter-widgets/controls",
      "model_module_version": "1.5.0",
      "model_name": "HTMLModel",
      "state": {
       "layout": "IPY_MODEL_a2f01d9096a644ab8a83503995610f13",
       "style": "IPY_MODEL_c88ba87bb8e346e499da08fcbecc504e",
       "value": " 1032/1032 [00:05&lt;00:00, 172.03it/s]"
      }
     },
     "f8e4ede4129045d98fa080d6d875a31c": {
      "model_module": "@jupyter-widgets/base",
      "model_module_version": "1.2.0",
      "model_name": "LayoutModel",
      "state": {}
     },
     "f915f9dc85cb4c81ba8a6f46fce07459": {
      "model_module": "@jupyter-widgets/controls",
      "model_module_version": "1.5.0",
      "model_name": "DescriptionStyleModel",
      "state": {
       "description_width": ""
      }
     },
     "fb9f8f3830c044ea94e5d63edc30a60f": {
      "model_module": "@jupyter-widgets/controls",
      "model_module_version": "1.5.0",
      "model_name": "HTMLModel",
      "state": {
       "layout": "IPY_MODEL_db092ef72ad54f95aa2b53b529b3b7e3",
       "style": "IPY_MODEL_57e9dfe55e10438ca2ca71c98ba3b85b",
       "value": " 1032/1032 [00:05&lt;00:00, 208.52it/s]"
      }
     },
     "fc303ecad0f14983b693e9741eed22fb": {
      "model_module": "@jupyter-widgets/controls",
      "model_module_version": "1.5.0",
      "model_name": "DescriptionStyleModel",
      "state": {
       "description_width": ""
      }
     },
     "fd692ccf9a404320b1b509394b797efb": {
      "model_module": "@jupyter-widgets/controls",
      "model_module_version": "1.5.0",
      "model_name": "ProgressStyleModel",
      "state": {
       "description_width": ""
      }
     },
     "fd6d66914a08470789985f9aed14be92": {
      "model_module": "@jupyter-widgets/controls",
      "model_module_version": "1.5.0",
      "model_name": "ProgressStyleModel",
      "state": {
       "description_width": ""
      }
     },
     "fe2e35d6f1b34ce8a317a29528a76c3f": {
      "model_module": "@jupyter-widgets/controls",
      "model_module_version": "1.5.0",
      "model_name": "DescriptionStyleModel",
      "state": {
       "description_width": ""
      }
     },
     "fff881d47c9044799a14fb883e39ff55": {
      "model_module": "@jupyter-widgets/controls",
      "model_module_version": "1.5.0",
      "model_name": "HTMLModel",
      "state": {
       "layout": "IPY_MODEL_ed9184de88b045079bf7564784f4a26d",
       "style": "IPY_MODEL_2dde5c97084f490ba23a176fa3f5bcb2",
       "value": " 1032/1032 [00:05&lt;00:00, 190.72it/s]"
      }
     }
    },
    "version_major": 2,
    "version_minor": 0
   }
  }
 },
 "nbformat": 4,
 "nbformat_minor": 5
}
