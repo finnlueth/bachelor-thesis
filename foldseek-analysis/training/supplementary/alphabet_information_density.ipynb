{
 "cells": [
  {
   "cell_type": "markdown",
   "metadata": {},
   "source": [
    "# Measure mutual information between aligned residue pairs for 3Di, CLE and 3D-BLAST"
   ]
  },
  {
   "cell_type": "code",
   "execution_count": null,
   "metadata": {},
   "outputs": [],
   "source": [
    "!mkdir tmp\n",
    "!awk '{print $1,$2,$10}' data/tmaln-06.out > tmp/pairfile.csv\n",
    "!curl https://wwwuser.gwdg.de/~compbiol/foldseek/scp40pdb.tar.gz | tar -xz\n",
    "!mv pdb tmp/"
   ]
  },
  {
   "cell_type": "markdown",
   "metadata": {},
   "source": [
    "## CLE"
   ]
  },
  {
   "cell_type": "code",
   "execution_count": null,
   "metadata": {
    "collapsed": true,
    "jupyter": {
     "outputs_hidden": true
    }
   },
   "outputs": [],
   "source": [
    "!git clone https://github.com/realbigws/PDB_Tool.git tmp/PDB_Tool\n",
    "!cd tmp/PDB_Tool/source_code/ && make"
   ]
  },
  {
   "cell_type": "code",
   "execution_count": null,
   "metadata": {},
   "outputs": [],
   "source": [
    "!mkdir tmp/cle_output\n",
    "!awk '{print $1,\"_\",$1}' tmp/pdbs.txt > tmp/pdbs_cle.txt"
   ]
  },
  {
   "cell_type": "code",
   "execution_count": null,
   "metadata": {},
   "outputs": [],
   "source": [
    "!tmp/PDB_Tool/PDB_Tool -i tmp/pdbs/  -L tmp/pdbs_cle.txt -o tmp/cle_output -F 1"
   ]
  },
  {
   "cell_type": "code",
   "execution_count": null,
   "metadata": {},
   "outputs": [],
   "source": [
    "!cat tmp/cle_output/*.cle > tmp/cle.fasta\n",
    "!awk '/^>/{printf \"%s \", substr($1,2,7)} /^[^>]/{print $0}' tmp/cle.fasta > tmp/cle.csv"
   ]
  },
  {
   "cell_type": "markdown",
   "metadata": {},
   "source": [
    "## 3Di"
   ]
  },
  {
   "cell_type": "code",
   "execution_count": null,
   "metadata": {},
   "outputs": [],
   "source": [
    "!foldseek createdb tmp/pdbs/ tmp/3Di\n",
    "!mv tmp/3Di_ss tmp/3Di # HACK\n",
    "!foldseek convert2fasta tmp/3Di tmp/3di.fasta\n",
    "!awk '/^>/{printf \"%s \", substr($1,2,7)} /^[^>]/{print $0}' tmp/3di.fasta > tmp/3di.csv"
   ]
  },
  {
   "cell_type": "markdown",
   "metadata": {},
   "source": [
    "## 3D-blast"
   ]
  },
  {
   "cell_type": "code",
   "execution_count": null,
   "metadata": {},
   "outputs": [],
   "source": [
    "!curl http://3d-blast.life.nctu.edu.tw/Standalone_3d-blast_Linux_beta102.tar.gz | tar -xz\n",
    "!mv Standalone_3d-blast_Linux_beta102 tmp/Standalone_3d-blast_Linux\n",
    "!cd tmp/Standalone_3d-blast_Linux && make"
   ]
  },
  {
   "cell_type": "markdown",
   "metadata": {},
   "source": [
    "**Need to apply this patch to 3d-blast.c !**\n",
    "This inserts an extra letter for invalid residues instead of skipping the residue (which would cause different sequence lenghts in comparison to the other tools)"
   ]
  },
  {
   "cell_type": "code",
   "execution_count": null,
   "metadata": {},
   "outputs": [],
   "source": [
    "%%writefile missing_states.patch\n",
    "\n",
    "diff --git a/3d-blast.c b/3d-blast.c.new\n",
    "index 4d90845..ba40dc3 100644\n",
    "--- a/3d-blast.c\n",
    "+++ b/3d-blast.c.new\n",
    "@@ -132,7 +132,7 @@ void SAcoding(string protein,char chain,COMMANDS Commands)\n",
    " \tchar ftmp[7];\n",
    " \tfloat kappa, kappa_tmp, alpha, alpha_tmp;\n",
    " \tchar coding[18][36];\n",
    "-\tchar SA_coding_rule[648];\n",
    "+\tchar SA_coding_rule[650];  // prev 648\n",
    " \tchar output[1];\n",
    " \tint flag_tempdssp=0;\n",
    " \tstring file_tempdssp;\n",
    "@@ -199,7 +199,7 @@ void SAcoding(string protein,char chain,COMMANDS Commands)\n",
    "             alpha=floor((alpha+180)/10);\n",
    " \n",
    "             if (kappa>18 || alpha>36)\n",
    "-\t\t\t\tcontinue;\n",
    "+                output[0] = 'J';  // prev continue;\n",
    " \t\t    else\n",
    " \t\t    {\n",
    " \t\t    \toutput[0]=coding[(int)kappa][(int)alpha];\n"
   ]
  },
  {
   "cell_type": "code",
   "execution_count": null,
   "metadata": {},
   "outputs": [],
   "source": [
    "!find tmp/pdb/ -type f -name 'd*' -exec mv -- {} {}\".pdb\" \\;"
   ]
  },
  {
   "cell_type": "code",
   "execution_count": null,
   "metadata": {},
   "outputs": [],
   "source": [
    "!for pdb in tmp/pdb/d*; do CHAIN=$(head -n 1 $pdb | awk '{print $5}'); tmp/Standalone_3d-blast_Linux/3d-blast -sq_append $pdb $CHAIN -o tmp/3dblast.fasta &> /dev/null; done"
   ]
  },
  {
   "cell_type": "code",
   "execution_count": null,
   "metadata": {},
   "outputs": [],
   "source": [
    "!awk '/^>/{printf \"%s \", substr($0,14,7)} /^[^>]/{print $0}' tmp/3dblast.fasta > tmp/3dblast.csv"
   ]
  },
  {
   "cell_type": "markdown",
   "metadata": {},
   "source": [
    "## Measure mutual information"
   ]
  },
  {
   "cell_type": "code",
   "execution_count": null,
   "metadata": {},
   "outputs": [
    {
     "name": "stdout",
     "output_type": "stream",
     "text": [
      "    A   C  D   E  F  G  H   I   K   L   M   N  P   Q  R   S   T   V   W   Y\n",
      "A   6  -3  1   2  3 -2 -2  -7  -3  -3 -10  -5 -1   1 -4  -7  -5  -6   0  -2\n",
      "C  -3   6 -2  -8 -5 -4 -4 -12 -13   1 -14   0  0   1 -1   0  -8   1  -7  -9\n",
      "D   1  -2  4  -3  0  1  1  -3  -4  -4  -5  -2  1  -1 -1  -4  -2  -3  -2  -2\n",
      "E   2  -8 -3   9 -2 -7 -4 -12 -10  -7 -17  -8 -6  -3 -8 -10 -10 -13  -6  -3\n",
      "F   3  -5  0  -2  7 -3 -3  -5   1  -3  -9  -5 -2   2 -5  -8  -3  -7   4  -4\n",
      "G  -2  -4  1  -7 -3  6  3   0  -7  -7  -1  -2 -2  -4  3  -3   4  -6  -4  -2\n",
      "H  -2  -4  1  -4 -3  3  6  -4  -7  -6  -6   0 -1  -3  1  -3  -1  -5  -5   3\n",
      "I  -7 -12 -3 -12 -5  0 -4   8  -5 -11   7  -7 -6  -6 -3  -9   6 -12  -5  -8\n",
      "K  -3 -13 -4 -10  1 -7 -7  -5   9 -11  -8 -12 -7  -5 -9 -14  -5 -15   5  -8\n",
      "L  -3   1 -4  -7 -3 -7 -6 -11 -11   6 -16  -3 -2   2 -4  -4  -9   0  -8  -9\n",
      "M -10 -14 -5 -17 -9 -1 -6   7  -8 -16  10  -9 -9 -10 -5 -10   3 -16  -6  -9\n",
      "N  -5   0 -2  -8 -5 -2  0  -7 -12  -3  -9   7  0  -2  2   3  -4   0  -8  -5\n",
      "P  -1   0  1  -6 -2 -2 -1  -6  -7  -2  -9   0  5   0  0  -2  -4   0  -4  -6\n",
      "Q   1   1 -1  -3  2 -4 -3  -6  -5   2 -10  -2  0   5 -2  -4  -5  -1  -2  -5\n",
      "R  -4  -1 -1  -8 -5  3  1  -3  -9  -4  -5   2  0  -2  6   2   0  -1  -6  -3\n",
      "S  -7   0 -4 -10 -8 -3 -3  -9 -14  -4 -10   3 -2  -4  2   6  -6   0 -11  -9\n",
      "T  -5  -8 -2 -10 -3  4 -1   6  -5  -9   3  -4 -4  -5  0  -6   8  -9  -5  -5\n",
      "V  -6   1 -3 -13 -7 -6 -5 -12 -15   0 -16   0  0  -1 -1   0  -9   3 -10 -11\n",
      "W   0  -7 -2  -6  4 -4 -5  -5   5  -8  -6  -8 -4  -2 -6 -11  -5 -10   8  -6\n",
      "Y  -2  -9 -2  -3 -4 -2  3  -8  -8  -9  -9  -5 -6  -5 -3  -9  -5 -11  -6   9\n",
      "MI = 1.3721\n",
      "MI_tot = 0.8356\n",
      "counts = 6549252\n"
     ]
    }
   ],
   "source": [
    "!../create_submat.py tmp/pairfile.csv tmp/3di.csv"
   ]
  },
  {
   "cell_type": "code",
   "execution_count": null,
   "metadata": {},
   "outputs": [
    {
     "name": "stdout",
     "output_type": "stream",
     "text": [
      "   A  B  C   D   E  F  G   H  I  J  K  L  M  N  O  P  Q  R\n",
      "A  7  1  1  -3  -4 -3 -2  -5 -3 -3 -2 -2 -1  0  2  3  1  0\n",
      "B  1  6  0   1   1  0  0  -8 -5 -4 -4 -1 -1 -2 -1  4  0  0\n",
      "C  1  0  5   2  -1  2 -1  -7 -5 -4 -3 -1 -2 -1 -1 -1  2  1\n",
      "D -3  1  2   5   2  1 -3 -11 -9 -7 -6 -2 -4 -4 -4 -2  1 -1\n",
      "E -4  1 -1   2   4  2 -2 -11 -9 -7 -7 -2 -5 -4 -5 -2 -1 -1\n",
      "F -3  0  2   1   2  5 -1  -8 -7 -6 -5 -1 -3 -3 -3 -1  0  0\n",
      "G -2  0 -1  -3  -2 -1  6  -5 -3 -2 -1  2  2 -2 -1  0  0  0\n",
      "H -5 -8 -7 -11 -11 -8 -5   3  2  1  0 -6 -1 -4 -5 -5 -8 -3\n",
      "I -3 -5 -5  -9  -9 -7 -3   2  3  2  2 -4  0 -1 -2 -4 -5 -2\n",
      "J -3 -4 -4  -7  -7 -6 -2   1  2  5  1 -3  1 -1 -2 -3 -3 -1\n",
      "K -2 -4 -3  -6  -7 -5 -1   0  2  1  6  0  1  3  0 -3 -2 -1\n",
      "L -2 -1 -1  -2  -2 -1  2  -6 -4 -3  0  7  0  0 -1 -2  2  0\n",
      "M -1 -1 -2  -4  -5 -3  2  -1  0  1  1  0  7  0  0  1 -1  0\n",
      "N  0 -2 -1  -4  -4 -3 -2  -4 -1 -1  3  0  0  8  2 -2  2  0\n",
      "O  2 -1 -1  -4  -5 -3 -1  -5 -2 -2  0 -1  0  2  9  0 -1 -1\n",
      "P  3  4 -1  -2  -2 -1  0  -5 -4 -3 -3 -2  1 -2  0  7 -1  0\n",
      "Q  1  0  2   1  -1  0  0  -8 -5 -3 -2  2 -1  2 -1 -1  9  0\n",
      "R  0  0  1  -1  -1  0  0  -3 -2 -1 -1  0  0  0 -1  0  0  9\n",
      "MI = 1.0795\n",
      "MI_tot = 0.3503\n",
      "counts = 6549252\n"
     ]
    }
   ],
   "source": [
    "!../create_submat.py tmp/pairfile.csv tmp/cle.csv"
   ]
  },
  {
   "cell_type": "code",
   "execution_count": null,
   "metadata": {},
   "outputs": [
    {
     "name": "stdout",
     "output_type": "stream",
     "text": [
      "    A   B   C   D   E   F  G   H  I  J  K  ...  N  P  Q  R  S  T  V   W  X   Y   Z\n",
      "A   4   2   3   3 -12 -10  0  -9 -1 -3 -8  ... -7 -6 -2 -5 -4 -6 -6  -4 -6   3  -6\n",
      "B   2   4   3   3 -12 -10  1  -9 -1 -2 -7  ... -7 -6 -2 -4 -4 -6 -5  -5 -6   3  -6\n",
      "C   3   3   4   2 -12  -9  0  -9  2 -3 -7  ... -7 -6 -2 -5 -4 -6 -6  -4 -6   3  -6\n",
      "D   3   3   2   3 -10  -9  2  -8  0 -2 -6  ... -6 -5 -1 -3 -3 -5 -3  -1 -4   2  -5\n",
      "E -12 -12 -12 -10   5   3 -7   3 -8 -2 -1  ...  0 -2 -7 -5 -8 -4 -4  -6 -2 -13  -2\n",
      "F -10 -10  -9  -9   3   5 -6   1 -7  0  3  ...  0 -2 -5 -4 -6 -2 -3  -4 -2 -10  -1\n",
      "G   0   1   0   2  -7  -6  5  -5  1 -1 -3  ... -3 -3  2 -1 -2 -2  0  -1 -1   0  -3\n",
      "H  -9  -9  -9  -8   3   1 -5   5 -6 -1  0  ...  2 -1 -4 -1 -5 -2 -3  -3  1 -10   0\n",
      "I  -1  -1   2   0  -8  -7  1  -6  9 -1 -4  ... -4 -3  0 -1 -1 -3 -2   3 -3  -2   0\n",
      "J  -3  -2  -3  -2  -2   0 -1  -1 -1  8  1  ...  0  0  0  0 -1  0  0  -1  0  -3   0\n",
      "K  -8  -7  -7  -6  -1   3 -3   0 -4  1  5  ...  2 -1 -3 -3 -3  1  0  -3  0  -8   1\n",
      "L   1  -1   0   1  -8  -7  0  -6  4 -1 -5  ... -4 -3  1  0  1 -3 -2   4 -3  -1   1\n",
      "M  -2  -2  -2  -1  -5  -4  3  -3  0 -1 -2  ... -2 -2  0 -1 -2 -1  4   0  3  -2   0\n",
      "N  -7  -7  -7  -6   0   0 -3   2 -4  0  2  ...  4  2 -2  1 -2  2 -1  -2  1  -8   0\n",
      "P  -6  -6  -6  -5  -2  -2 -3  -1 -3  0 -1  ...  2  6  0  2  2  3 -1  -1 -1  -6  -1\n",
      "Q  -2  -2  -2  -1  -7  -5  2  -4  0  0 -3  ... -2  0  6  4  0 -2 -1  -1  0  -2   1\n",
      "R  -5  -4  -5  -3  -5  -4 -1  -1 -1  0 -3  ...  1  2  4  8  0 -1 -2  -1  2  -5   1\n",
      "S  -4  -4  -4  -3  -8  -6 -2  -5 -1 -1 -3  ... -2  2  0  0  8  1 -1   4 -2  -5   1\n",
      "T  -6  -6  -6  -5  -4  -2 -2  -2 -3  0  1  ...  2  3 -2 -1  1  6  1   0  0  -7  -1\n",
      "V  -6  -5  -6  -3  -4  -3  0  -3 -2  0  0  ... -1 -1 -1 -2 -1  1  7   2  3  -7   1\n",
      "W  -4  -5  -4  -1  -6  -4 -1  -3  3 -1 -3  ... -2 -1 -1 -1  4  0  2  10 -2  -6   1\n",
      "X  -6  -6  -6  -4  -2  -2 -1   1 -3  0  0  ...  1 -1  0  2 -2  0  3  -2  6  -7   4\n",
      "Y   3   3   3   2 -13 -10  0 -10 -2 -3 -8  ... -8 -6 -2 -5 -5 -7 -7  -6 -7   4  -7\n",
      "Z  -6  -6  -6  -5  -2  -1 -3   0  0  0  1  ...  0 -1  1  1  1 -1  1   1  4  -7  11\n",
      "\n",
      "[24 rows x 24 columns]\n",
      "MI = 1.0739\n",
      "MI_tot = 0.3621\n",
      "counts = 6340268\n",
      "3864 err.txt\n"
     ]
    }
   ],
   "source": [
    "!../create_submat.py tmp/pairfile.csv tmp/3dblast.csv 2> tmp/err.txt && wc -l err.txt"
   ]
  },
  {
   "cell_type": "markdown",
   "metadata": {},
   "source": [
    "# Plot"
   ]
  },
  {
   "cell_type": "code",
   "execution_count": null,
   "metadata": {},
   "outputs": [],
   "source": [
    "import matplotlib.pyplot as plt"
   ]
  },
  {
   "cell_type": "code",
   "execution_count": null,
   "metadata": {},
   "outputs": [
    {
     "data": {
      "image/png": "[encoded data removed]",
      "text/plain": [
       "<Figure size 432x288 with 1 Axes>"
      ]
     },
     "metadata": {
      "needs_background": "light"
     },
     "output_type": "display_data"
    }
   ],
   "source": [
    "plt.bar(['3d-blast', 'CLE', '3Di'], [1.07, 1.08, 1.37])\n",
    "plt.show()"
   ]
  }
 ],
 "metadata": {
  "kernelspec": {
   "display_name": "Python 3",
   "language": "python",
   "name": "python3"
  },
  "language_info": {
   "codemirror_mode": {
    "name": "ipython",
    "version": 3
   },
   "file_extension": ".py",
   "mimetype": "text/x-python",
   "name": "python",
   "nbconvert_exporter": "python",
   "pygments_lexer": "ipython3",
   "version": "3.9.7"
  },
  "widgets": {
   "application/vnd.jupyter.widget-state+json": {
    "state": {},
    "version_major": 2,
    "version_minor": 0
   }
  }
 },
 "nbformat": 4,
 "nbformat_minor": 4
}
