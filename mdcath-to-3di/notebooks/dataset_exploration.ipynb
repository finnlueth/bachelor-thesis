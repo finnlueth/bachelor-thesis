{
 "cells": [
  {
   "cell_type": "code",
   "execution_count": null,
   "metadata": {},
   "outputs": [],
   "source": [
    "from datasets import load_from_disk\n",
    "import torch\n",
    "import matplotlib.pyplot as plt\n",
    "import seaborn as sns\n",
    "\n",
    "import numpy as np\n",
    "import pandas as pd"
   ]
  },
  {
   "cell_type": "code",
   "execution_count": null,
   "metadata": {},
   "outputs": [],
   "source": [
    "dataset = load_from_disk(\"../tmp/data/pssm/pssm_dataset_0_only\")\n",
    "print(dataset)\n",
    "\n",
    "for x in range(0, 18, 4):\n",
    "    print(dataset[x][\"name\"])\n",
    "    print(dataset[x][\"sequence\"])\n",
    "    print(torch.tensor(dataset[x][\"pssm_features\"]).shape)\n",
    "display(pd.DataFrame(dataset[x][\"pssm_features\"]))\n",
    "\n",
    "print(dataset)"
   ]
  },
  {
   "cell_type": "code",
   "execution_count": null,
   "metadata": {},
   "outputs": [],
   "source": [
    "tokens = [\"A\", \"C\", \"D\", \"E\", \"F\", \"G\", \"H\", \"I\", \"K\", \"L\", \"M\", \"N\", \"P\", \"Q\", \"R\", \"S\", \"T\", \"V\", \"W\", \"Y\"]\n",
    "token2idx = dict(zip(tokens, range(len(tokens))))\n",
    "idx2token = dict(zip(range(len(tokens)), tokens))\n",
    "\n",
    "print(token2idx)\n",
    "print(idx2token)"
   ]
  },
  {
   "cell_type": "code",
   "execution_count": 4,
   "metadata": {},
   "outputs": [],
   "source": [
    "def plot_pssm_heatmap(dataset, sample_idx, figsize=(12, 8)):\n",
    "    plt.figure(figsize=figsize)\n",
    "    ax = sns.heatmap(torch.tensor(dataset[sample_idx][\"pssm_features\"]), cmap=\"YlOrRd\")\n",
    "    plt.title(f\"PSSM Features Heatmap for Sample {sample_idx} ({dataset[sample_idx]['name']})\")\n",
    "    plt.xlabel(\"PSSM Position\")\n",
    "    plt.ylabel(\"Sequence Position\")\n",
    "\n",
    "    x_labels = [f\"{i} ({idx2token[i]})\" for i in range(20)]\n",
    "    ax.set_xticks(range(20))\n",
    "    ax.set_xticklabels(x_labels, rotation=45)\n",
    "\n",
    "    plt.show()\n",
    "\n",
    "\n",
    "# for x in torch.randint(0, len(dataset), (10,)).tolist():\n",
    "#     plot_pssm_heatmap(dataset, sample_idx=x)"
   ]
  },
  {
   "cell_type": "code",
   "execution_count": null,
   "metadata": {},
   "outputs": [],
   "source": [
    "# Get sequence lengths\n",
    "sequence_lengths = [len(sample[\"sequence\"]) for sample in dataset]\n",
    "\n",
    "plt.figure(figsize=(10, 6))\n",
    "plt.hist(sequence_lengths, bins=50, edgecolor=\"black\")\n",
    "plt.title(\"Distribution of Sequence Lengths\")\n",
    "plt.xlabel(\"Sequence Length\")\n",
    "plt.ylabel(\"Count\")\n",
    "plt.grid(True, alpha=0.3)\n",
    "plt.show()\n",
    "\n",
    "# Print some statistics\n",
    "print(f\"Mean sequence length: {np.mean(sequence_lengths):.2f}\")\n",
    "print(f\"Median sequence length: {np.median(sequence_lengths):.2f}\")\n",
    "print(f\"Min sequence length: {min(sequence_lengths)}\")\n",
    "print(f\"Max sequence length: {max(sequence_lengths)}\")\n"
   ]
  },
  {
   "cell_type": "code",
   "execution_count": null,
   "metadata": {},
   "outputs": [],
   "source": [
    "# Calculate mode sequence length\n",
    "from statistics import mode\n",
    "\n",
    "mode_length = mode(sequence_lengths)\n",
    "print(f\"Mode sequence length: {mode_length}\")\n"
   ]
  },
  {
   "cell_type": "code",
   "execution_count": null,
   "metadata": {},
   "outputs": [],
   "source": [
    "# Get all sequences of length 57\n",
    "length_57_indices = [i for i, sample in enumerate(dataset) if len(sample[\"sequence\"]) == 57]\n",
    "length_57_pssms = [dataset[i][\"pssm_features\"] for i in length_57_indices]\n",
    "\n",
    "# Convert to tensor and calculate mean\n",
    "length_57_pssms_tensor = torch.stack([torch.tensor(pssm) for pssm in length_57_pssms])\n",
    "mean_pssm = torch.mean(length_57_pssms_tensor, dim=0)\n",
    "\n",
    "# Plot average PSSM\n",
    "plt.figure(figsize=(10, 6))\n",
    "ax = sns.heatmap(mean_pssm, cmap=\"YlOrRd\")\n",
    "plt.title(f\"Average PSSM Features for Sequences of Length 57 (n={len(length_57_indices)})\")\n",
    "plt.xlabel(\"PSSM Position\")\n",
    "plt.ylabel(\"Sequence Position\")\n",
    "\n",
    "x_labels = [f\"{i} ({idx2token[i]})\" for i in range(20)]\n",
    "ax.set_xticks(range(20))\n",
    "ax.set_xticklabels(x_labels, rotation=45)\n",
    "\n",
    "plt.show()\n"
   ]
  },
  {
   "cell_type": "code",
   "execution_count": null,
   "metadata": {},
   "outputs": [],
   "source": []
  }
 ],
 "metadata": {
  "kernelspec": {
   "display_name": "Python 3",
   "language": "python",
   "name": "python3"
  },
  "language_info": {
   "codemirror_mode": {
    "name": "ipython",
    "version": 3
   },
   "file_extension": ".py",
   "mimetype": "text/x-python",
   "name": "python",
   "nbconvert_exporter": "python",
   "pygments_lexer": "ipython3",
   "version": "3.12.0"
  }
 },
 "nbformat": 4,
 "nbformat_minor": 2
}
