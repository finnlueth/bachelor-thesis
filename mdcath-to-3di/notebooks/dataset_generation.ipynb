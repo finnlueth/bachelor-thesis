{
 "cells": [
  {
   "cell_type": "code",
   "execution_count": 1,
   "metadata": {},
   "outputs": [],
   "source": [
    "%load_ext autoreload\n",
    "%autoreload 2\n",
    "\n",
    "from _header import *"
   ]
  },
  {
   "cell_type": "code",
   "execution_count": null,
   "metadata": {},
   "outputs": [],
   "source": [
    "\"\"\"\n",
    "Load Huggingface dataset for streaming and reload download state\n",
    "\"\"\"\n",
    "\n",
    "dataset_mdcath = load_dataset(\"compsciencelab/mdCATH\", split=\"train\", streaming=True)\n",
    "dataset_mdcath = dataset_mdcath.cast_column(\"image\", Image(decode=False))\n",
    "\n",
    "path_state_dict = \"../tmp/data/3Di/_state.pkl\"\n",
    "\n",
    "if os.path.exists(path_state_dict):\n",
    "    with open(path_state_dict, \"rb\") as f:\n",
    "        state = pickle.load(f)\n",
    "    print(\"State loaded,\", state)\n",
    "    dataset_mdcath = dataset_mdcath.skip(state)\n",
    "else:\n",
    "    state = 0\n",
    "    print(\"No state found\", state)"
   ]
  },
  {
   "cell_type": "code",
   "execution_count": null,
   "metadata": {},
   "outputs": [],
   "source": [
    "\"\"\"\n",
    "This script processes a dataset using multiprocessing to parallelize the workload.\n",
    "\"\"\"\n",
    "\n",
    "print(\"CPU Count: \", multiprocessing.cpu_count())\n",
    "\n",
    "iterations = 1\n",
    "urls = [item[\"image\"][\"path\"] for item in dataset_mdcath.take(iterations)]\n",
    "\n",
    "pool = multiprocessing.Pool(processes=multiprocessing.cpu_count() - 1 or 1)\n",
    "\n",
    "dataset_mdcath_mapped = pool.map(\n",
    "    # partial(download_process_pipeline, config=PROCESSING_CONFIG),\n",
    "    download_process_pipeline,\n",
    "    urls\n",
    ")\n",
    "pool.close()\n",
    "pool.join()"
   ]
  },
  {
   "cell_type": "code",
   "execution_count": null,
   "metadata": {},
   "outputs": [],
   "source": [
    "data = download(\n",
    "    url='hf://datasets/compsciencelab/mdCATH@2393a6d9aebd04b688022d7a681b7c96d608de79/data/mdcath_dataset_1a2nA02.h5',\n",
    "    # config=PROCESSING_CONFIG,\n",
    ")\n",
    "\n",
    "# [\"image\"][\"path\"]"
   ]
  },
  {
   "cell_type": "code",
   "execution_count": 2,
   "metadata": {},
   "outputs": [
    {
     "data": {
      "text/plain": [
       "<function src.data.mdcath_processing.process_pipeline(md_cath_hdf5: bytes)>"
      ]
     },
     "execution_count": 2,
     "metadata": {},
     "output_type": "execute_result"
    }
   ],
   "source": [
    "process_pipeline()"
   ]
  },
  {
   "cell_type": "code",
   "execution_count": null,
   "metadata": {},
   "outputs": [],
   "source": [
    "state = state + iterations\n",
    "with open(path_state_dict, \"wb\") as f:\n",
    "    pickle.dump(state, f)\n",
    "print(dataset_mdcath.state_dict())\n",
    "print(\"State saved\", state)"
   ]
  }
 ],
 "metadata": {
  "kernelspec": {
   "display_name": "Python 3",
   "language": "python",
   "name": "python3"
  },
  "language_info": {
   "codemirror_mode": {
    "name": "ipython",
    "version": 3
   },
   "file_extension": ".py",
   "mimetype": "text/x-python",
   "name": "python",
   "nbconvert_exporter": "python",
   "pygments_lexer": "ipython3",
   "version": "3.12.0"
  }
 },
 "nbformat": 4,
 "nbformat_minor": 2
}
