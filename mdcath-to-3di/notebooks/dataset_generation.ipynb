{
 "cells": [
  {
   "cell_type": "code",
   "execution_count": 1,
   "metadata": {},
   "outputs": [],
   "source": [
    "import os\n",
    "from datasets import Dataset\n",
    "import h5py\n",
    "import re\n",
    "from transformers import T5Tokenizer\n",
    "\n",
    "file_name = \"\"  # \"_dummy\""
   ]
  },
  {
   "cell_type": "code",
   "execution_count": null,
   "metadata": {},
   "outputs": [],
   "source": [
    "with h5py.File(f\"../tmp/data/pssm/pssm_data{file_name}.h5\", \"r\") as f:\n",
    "    print(len(list(f.keys())))\n",
    "    print(list(f[\"1k87A01\"].attrs))\n",
    "    print()\n",
    "    print(f[\"1k87A01\"].attrs[\"name\"])\n",
    "    print(f[\"1k87A01\"].attrs[\"sequence\"])\n",
    "    print(list(f[\"1k87A01\"].keys()))\n",
    "    print(type(f[\"1k87A01\"][\"320_0\"][:]))\n",
    "    print(f[\"1k87A01\"][\"320_0\"][:].shape)\n",
    "    print(f[\"1k87A01\"][\"320_0\"][:])\n",
    "    print()\n",
    "    # for x in range(1000):\n",
    "    # for x in list(f[\"1k87A01\"].keys()):\n",
    "    #     # asdf = f[\"1k87A01\"][x][:]\n",
    "    #     print(f[\"1k87A01\"][x][:].shape)"
   ]
  },
  {
   "cell_type": "code",
   "execution_count": null,
   "metadata": {},
   "outputs": [],
   "source": [
    "tokenizer = T5Tokenizer.from_pretrained(\n",
    "    pretrained_model_name_or_path=\"Rostlab/prot_t5_xl_uniref50\",\n",
    "    do_lower_case=False,\n",
    "    use_fast=True,\n",
    "    legacy=False,\n",
    ")\n",
    "\n",
    "\n",
    "def gen():\n",
    "    with h5py.File(f\"../tmp/data/pssm/pssm_data{file_name}.h5\", \"r\") as f:\n",
    "        for protein_id in f.keys():\n",
    "            for trajectory_pssm in f[protein_id].keys():\n",
    "                sequence_processed = \" \".join(list(re.sub(r\"[UZOB]\", \"X\", f[protein_id].attrs[\"sequence\"])))\n",
    "                sequence_tokenized = tokenizer(text=sequence_processed, padding=False, truncation=False)\n",
    "                input_ids = sequence_tokenized[\"input_ids\"]\n",
    "                attention_mask = sequence_tokenized[\"attention_mask\"]\n",
    "                yield {\n",
    "                    \"name\": f[protein_id].attrs[\"name\"] + \"_\" + trajectory_pssm,\n",
    "                    \"sequence\": f[protein_id].attrs[\"sequence\"],\n",
    "                    \"sequence_processed\": sequence_processed,\n",
    "                    \"input_ids\": input_ids,\n",
    "                    \"attention_mask\": attention_mask,\n",
    "                    \"pssm_features\": f[protein_id][trajectory_pssm][:],\n",
    "                }\n",
    "\n",
    "\n",
    "ds = Dataset.from_generator(gen)\n",
    "\n",
    "ds.save_to_disk(f\"../tmp/data/pssm/pssm_dataset{file_name}\")"
   ]
  },
  {
   "cell_type": "code",
   "execution_count": null,
   "metadata": {},
   "outputs": [],
   "source": [
    "from datasets import load_from_disk\n",
    "\n",
    "ds = load_from_disk(f\"../tmp/data/pssm/pssm_dataset{file_name}\")\n",
    "\n",
    "print(\"Dataset created with\", len(ds), \"examples\")\n",
    "print(\"\\nDataset:\", ds)\n",
    "print()\n",
    "print(ds[0])\n",
    "print(type(ds[0][\"name\"]))\n",
    "print(type(ds[0][\"sequence\"]))\n",
    "print(type(ds[0][\"sequence_processed\"]))\n",
    "print(type(ds[0][\"pssm_features\"]))"
   ]
  },
  {
   "cell_type": "code",
   "execution_count": null,
   "metadata": {},
   "outputs": [],
   "source": [
    "ds = ds.filter(lambda x: x[\"name\"].endswith(\"_0\"))\n",
    "print(ds)\n",
    "ds.save_to_disk(f\"../tmp/data/pssm/pssm_dataset{file_name}_0_only\")"
   ]
  },
  {
   "cell_type": "code",
   "execution_count": null,
   "metadata": {},
   "outputs": [],
   "source": [
    "ds = ds.filter(lambda x: len(x[\"sequence\"]) < 512)\n",
    "print(ds)\n",
    "ds.save_to_disk(f\"../tmp/data/pssm/pssm_dataset{file_name}_0_only_shorter_512\")\n"
   ]
  }
 ],
 "metadata": {
  "kernelspec": {
   "display_name": "Python 3",
   "language": "python",
   "name": "python3"
  },
  "language_info": {
   "codemirror_mode": {
    "name": "ipython",
    "version": 3
   },
   "file_extension": ".py",
   "mimetype": "text/x-python",
   "name": "python",
   "nbconvert_exporter": "python",
   "pygments_lexer": "ipython3",
   "version": "3.12.0"
  }
 },
 "nbformat": 4,
 "nbformat_minor": 2
}
