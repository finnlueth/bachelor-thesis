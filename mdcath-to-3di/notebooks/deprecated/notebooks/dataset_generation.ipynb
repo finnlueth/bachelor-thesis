{
 "cells": [
  {
   "cell_type": "code",
   "execution_count": 1,
   "metadata": {},
   "outputs": [
    {
     "name": "stderr",
     "output_type": "stream",
     "text": [
      "/opt/conda/envs/dev/lib/python3.12/site-packages/Bio/Application/__init__.py:39: BiopythonDeprecationWarning: The Bio.Application modules and modules relying on it have been deprecated.\n",
      "\n",
      "Due to the on going maintenance burden of keeping command line application\n",
      "wrappers up to date, we have decided to deprecate and eventually remove these\n",
      "modules.\n",
      "\n",
      "We instead now recommend building your command line and invoking it directly\n",
      "with the subprocess module.\n",
      "  warnings.warn(\n"
     ]
    }
   ],
   "source": [
    "%reload_ext autoreload\n",
    "%autoreload 2\n",
    "\n",
    "from _header_data import *"
   ]
  },
  {
   "cell_type": "markdown",
   "metadata": {},
   "source": [
    "---\n",
    "### Parallel Streaming and Processing\n",
    "uses n-1 threads for downloading and processing\\\n",
    "is broken: has to be updated to new processing pipeline"
   ]
  },
  {
   "cell_type": "code",
   "execution_count": null,
   "metadata": {},
   "outputs": [],
   "source": [
    "\"\"\"\n",
    "Load Huggingface dataset for streaming and reload download state\n",
    "\"\"\"\n",
    "\n",
    "dataset_mdcath = load_dataset(\"compsciencelab/mdCATH\", split=\"train\", streaming=True)\n",
    "dataset_mdcath = dataset_mdcath.cast_column(\"image\", Image(decode=False))\n",
    "\n",
    "path_state_dict = \"../tmp/data/3Di/_state.pkl\"\n",
    "\n",
    "if os.path.exists(path_state_dict):\n",
    "    with open(path_state_dict, \"rb\") as f:\n",
    "        state = pickle.load(f)\n",
    "    print(\"State loaded,\", state)\n",
    "    dataset_mdcath = dataset_mdcath.skip(state)\n",
    "else:\n",
    "    state = 0\n",
    "    print(\"No state found\", state)"
   ]
  },
  {
   "cell_type": "code",
   "execution_count": null,
   "metadata": {},
   "outputs": [],
   "source": [
    "\"\"\"\n",
    "This script processes a dataset using multiprocessing to parallelize the workload.\n",
    "\"\"\"\n",
    "\n",
    "print(\"CPU Count: \", multiprocessing.cpu_count())\n",
    "\n",
    "iterations = 1\n",
    "urls = [item[\"image\"][\"path\"] for item in dataset_mdcath.take(iterations)]\n",
    "\n",
    "pool = multiprocessing.Pool(processes=multiprocessing.cpu_count() - 1 or 1)\n",
    "\n",
    "dataset_mdcath_mapped = pool.map(\n",
    "    # partial(download_process_pipeline, config=PROCESSING_CONFIG),\n",
    "    download_process_pipeline,\n",
    "    urls\n",
    ")\n",
    "pool.close()\n",
    "pool.join()"
   ]
  },
  {
   "cell_type": "code",
   "execution_count": null,
   "metadata": {},
   "outputs": [],
   "source": [
    "state = state + iterations\n",
    "with open(path_state_dict, \"wb\") as f:\n",
    "    pickle.dump(state, f)\n",
    "print(dataset_mdcath.state_dict())\n",
    "print(\"State saved\", state)"
   ]
  },
  {
   "cell_type": "markdown",
   "metadata": {},
   "source": [
    "---\n",
    "### Process from Downloaded"
   ]
  },
  {
   "cell_type": "code",
   "execution_count": 9,
   "metadata": {},
   "outputs": [
    {
     "name": "stderr",
     "output_type": "stream",
     "text": [
      "/Users/finnlueth/Developer/gits/bachelor-thesis/mdcath-to-3di/.venv/lib/python3.12/site-packages/Bio/PDB/PDBParser.py:384: PDBConstructionWarning: Ignoring unrecognized record 'END' at line 1013\n",
      "  warnings.warn(\n",
      "/Users/finnlueth/Developer/gits/bachelor-thesis/mdcath-to-3di/.venv/lib/python3.12/site-packages/MDAnalysis/coordinates/memory.py:535: DeprecationWarning: asel argument to timeseries will be renamed to'atomgroup' in 3.0, see #3911\n",
      "  warnings.warn(\n",
      "/Users/finnlueth/Developer/gits/bachelor-thesis/mdcath-to-3di/src/data/mdcath_processing.py:385: RuntimeWarning: divide by zero encountered in log2\n",
      "  pssm = np.log2(pwm)\n",
      "/Users/finnlueth/Developer/gits/bachelor-thesis/mdcath-to-3di/.venv/lib/python3.12/site-packages/Bio/PDB/PDBParser.py:384: PDBConstructionWarning: Ignoring unrecognized record 'END' at line 6203\n",
      "  warnings.warn(\n",
      "/Users/finnlueth/Developer/gits/bachelor-thesis/mdcath-to-3di/.venv/lib/python3.12/site-packages/MDAnalysis/coordinates/memory.py:535: DeprecationWarning: asel argument to timeseries will be renamed to'atomgroup' in 3.0, see #3911\n",
      "  warnings.warn(\n",
      "/Users/finnlueth/Developer/gits/bachelor-thesis/mdcath-to-3di/src/data/mdcath_processing.py:385: RuntimeWarning: divide by zero encountered in log2\n",
      "  pssm = np.log2(pwm)\n"
     ]
    }
   ],
   "source": [
    "# if os.path.exists(os.path.join(FILE_PATHS['pssm'], 'dict_pssm.npy')):\n",
    "#     dict_pssm = np.load(os.path.join(FILE_PATHS['pssm'], 'dict_pssm.npy'), allow_pickle=True).item()\n",
    "# else:\n",
    "dict_pssm = {}\n",
    "\n",
    "for file in os.listdir(FILE_PATHS['trajectories'])[:2]:\n",
    "    processed_traj = download_process_pipeline(\n",
    "        path=f\"{FILE_PATHS['trajectories']}/{file}\",\n",
    "        # url='hf://datasets/compsciencelab/mdCATH@2393a6d9aebd04b688022d7a681b7c96d608de79/data/mdcath_dataset_1a2nA02.h5',\n",
    "        # config=PROCESSING_CONFIG,\n",
    "        # config=None,\n",
    "        # save_path_pdb=FILE_PATHS['PDB'],\n",
    "        save_path_fasta=FILE_PATHS['3Di'],\n",
    "    )\n",
    "    dict_pssm.update(processed_traj)\n",
    "    \n",
    "    \n",
    "np.save(os.path.join(FILE_PATHS['pssm'], 'dict_pssm.npy'), dict_pssm)"
   ]
  },
  {
   "cell_type": "code",
   "execution_count": null,
   "metadata": {},
   "outputs": [],
   "source": [
    "print(list(dict_pssm.keys()))\n",
    "display(pd.DataFrame(dict_pssm[list(dict_pssm.keys())[0]]))\n",
    "print((sys.getsizeof(dict_pssm[list(dict_pssm.keys())[0]])*5*5*5000)/(1024**3))"
   ]
  },
  {
   "cell_type": "code",
   "execution_count": null,
   "metadata": {},
   "outputs": [],
   "source": []
  }
 ],
 "metadata": {
  "kernelspec": {
   "display_name": "Python 3",
   "language": "python",
   "name": "python3"
  },
  "language_info": {
   "codemirror_mode": {
    "name": "ipython",
    "version": 3
   },
   "file_extension": ".py",
   "mimetype": "text/x-python",
   "name": "python",
   "nbconvert_exporter": "python",
   "pygments_lexer": "ipython3",
   "version": "3.12.0"
  }
 },
 "nbformat": 4,
 "nbformat_minor": 2
}
