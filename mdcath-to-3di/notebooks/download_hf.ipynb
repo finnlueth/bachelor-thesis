{
 "cells": [
  {
   "cell_type": "markdown",
   "metadata": {},
   "source": [
    "### Basic script for downloading a file from a URL using HF API\n",
    "todo: check if 10gbps is saturated, if not use multiple threads"
   ]
  },
  {
   "cell_type": "code",
   "execution_count": 17,
   "metadata": {},
   "outputs": [],
   "source": [
    "import os\n",
    "from os.path import join as opj\n",
    "from huggingface_hub import HfApi\n",
    "from huggingface_hub import hf_hub_download\n",
    "from huggingface_hub import hf_hub_url"
   ]
  },
  {
   "cell_type": "code",
   "execution_count": 15,
   "metadata": {},
   "outputs": [],
   "source": [
    "api = HfApi()"
   ]
  },
  {
   "cell_type": "code",
   "execution_count": 12,
   "metadata": {},
   "outputs": [],
   "source": [
    "data_root = \"../tmp/data/mdCATH/\"\n",
    "# domain_id = '1ba5A00'\n",
    "domain_id = \"1bdhA01\"\n",
    "# domain_ids = [\"12asA00\", \"153lA00\", \"16pkA02\", \"1a02F00\", \"1a05A00\", \"1a0aA00\", \"1a0hA01\", \"1a0rP01\", \"1a0sP00\", \"1a15A00\", \"1a1zA00\", \"1a2nA02\", \"1a39A00\", \"1a3dA00\", \"1a3oA00\", \"1a48A01\", \"1a5cA00\", \"1a66A00\", \"1a6aB01\", \"1a6cA02\", \"1a6sA00\"]\n",
    "domain_ids = [\"1a0rP01\", \"1avyB00\"]"
   ]
  },
  {
   "cell_type": "code",
   "execution_count": 8,
   "metadata": {},
   "outputs": [],
   "source": [
    "for domain_id in domain_ids:\n",
    "    hf_hub_download(\n",
    "        repo_id=\"compsciencelab/mdCATH\",\n",
    "        filename=f\"mdcath_dataset_{domain_id}.h5\",\n",
    "        subfolder=\"data\",\n",
    "        local_dir=data_root,\n",
    "        repo_type=\"dataset\",\n",
    "    )"
   ]
  },
  {
   "cell_type": "code",
   "execution_count": null,
   "metadata": {},
   "outputs": [],
   "source": []
  }
 ],
 "metadata": {
  "kernelspec": {
   "display_name": "Python 3",
   "language": "python",
   "name": "python3"
  },
  "language_info": {
   "codemirror_mode": {
    "name": "ipython",
    "version": 3
   },
   "file_extension": ".py",
   "mimetype": "text/x-python",
   "name": "python",
   "nbconvert_exporter": "python",
   "pygments_lexer": "ipython3",
   "version": "3.12.0"
  }
 },
 "nbformat": 4,
 "nbformat_minor": 2
}
