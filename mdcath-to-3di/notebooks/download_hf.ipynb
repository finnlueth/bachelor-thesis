{
 "cells": [
  {
   "cell_type": "code",
   "execution_count": 2,
   "metadata": {},
   "outputs": [],
   "source": [
    "import os\n",
    "from os.path import join as opj\n",
    "from huggingface_hub import HfApi\n",
    "from huggingface_hub import hf_hub_download\n",
    "from huggingface_hub import hf_hub_url"
   ]
  },
  {
   "cell_type": "code",
   "execution_count": 2,
   "metadata": {},
   "outputs": [],
   "source": [
    "api = HfApi()"
   ]
  },
  {
   "cell_type": "code",
   "execution_count": 3,
   "metadata": {},
   "outputs": [],
   "source": [
    "data_root = \"../tmp/data/mdCATH/\"\n",
    "# domain_id = '1ba5A00'\n",
    "domain_id = \"1bdhA01\"\n",
    "domain_ids = [\"12asA00\", \"153lA00\", \"16pkA02\", \"1a02F00\", \"1a05A00\", \"1a0aA00\", \"1a0hA01\", \"1a0rP01\", \"1a0sP00\", \"1a15A00\", \"1a1zA00\", \"1a2nA02\", \"1a39A00\", \"1a3dA00\", \"1a3oA00\", \"1a48A01\", \"1a5cA00\", \"1a66A00\", \"1a6aB01\", \"1a6cA02\", \"1a6sA00\"]"
   ]
  },
  {
   "cell_type": "code",
   "execution_count": null,
   "metadata": {},
   "outputs": [
    {
     "data": {
      "application/vnd.jupyter.widget-view+json": {
       "model_id": "712db5353d8f4db2bc9861f006ef1b83",
       "version_major": 2,
       "version_minor": 0
      },
      "text/plain": [
       "mdcath_dataset_12asA00.h5:   0%|          | 0.00/1.51G [00:00<?, ?B/s]"
      ]
     },
     "metadata": {},
     "output_type": "display_data"
    },
    {
     "data": {
      "application/vnd.jupyter.widget-view+json": {
       "model_id": "4490d90283db4a8698e48b60b458bb64",
       "version_major": 2,
       "version_minor": 0
      },
      "text/plain": [
       "mdcath_dataset_153lA00.h5:   0%|          | 0.00/851M [00:00<?, ?B/s]"
      ]
     },
     "metadata": {},
     "output_type": "display_data"
    },
    {
     "data": {
      "application/vnd.jupyter.widget-view+json": {
       "model_id": "add856c501c74783897c9a10536f8ed4",
       "version_major": 2,
       "version_minor": 0
      },
      "text/plain": [
       "mdcath_dataset_16pkA02.h5:   0%|          | 0.00/947M [00:00<?, ?B/s]"
      ]
     },
     "metadata": {},
     "output_type": "display_data"
    },
    {
     "data": {
      "application/vnd.jupyter.widget-view+json": {
       "model_id": "9d5b559fb8c0401b8a0103b6d3ba71a0",
       "version_major": 2,
       "version_minor": 0
      },
      "text/plain": [
       "mdcath_dataset_1a02F00.h5:   0%|          | 0.00/279M [00:00<?, ?B/s]"
      ]
     },
     "metadata": {},
     "output_type": "display_data"
    },
    {
     "data": {
      "application/vnd.jupyter.widget-view+json": {
       "model_id": "f6c30746fa3d4b7e81173d8182b3b178",
       "version_major": 2,
       "version_minor": 0
      },
      "text/plain": [
       "mdcath_dataset_1a05A00.h5:   0%|          | 0.00/1.60G [00:00<?, ?B/s]"
      ]
     },
     "metadata": {},
     "output_type": "display_data"
    },
    {
     "data": {
      "application/vnd.jupyter.widget-view+json": {
       "model_id": "6eaf9141a76d4ce3bef4a848c936a080",
       "version_major": 2,
       "version_minor": 0
      },
      "text/plain": [
       "mdcath_dataset_1a0aA00.h5:   0%|          | 0.00/300M [00:00<?, ?B/s]"
      ]
     },
     "metadata": {},
     "output_type": "display_data"
    },
    {
     "data": {
      "application/vnd.jupyter.widget-view+json": {
       "model_id": "255ec87c91e64bdf81e5a7fb0fa04e67",
       "version_major": 2,
       "version_minor": 0
      },
      "text/plain": [
       "mdcath_dataset_1a0hA01.h5:   0%|          | 0.00/398M [00:00<?, ?B/s]"
      ]
     },
     "metadata": {},
     "output_type": "display_data"
    },
    {
     "name": "stderr",
     "output_type": "stream",
     "text": [
      "Error while downloading from https://cdn-lfs-us-1.hf.co/repos/cb/3a/cb3acc51d88e83cb0d45f9dfa5f2049bf6dce4f656e57327e1128e96ade2df41/013eca26df1c5f7252c16523c5718714c72ce0d8a31271506ceeaa2d11679c1f?response-content-disposition=inline%3B+filename*%3DUTF-8%27%27mdcath_dataset_1a0hA01.h5%3B+filename%3D%22mdcath_dataset_1a0hA01.h5%22%3B&Expires=1729245938&Policy=eyJTdGF0ZW1lbnQiOlt7IkNvbmRpdGlvbiI6eyJEYXRlTGVzc1RoYW4iOnsiQVdTOkVwb2NoVGltZSI6MTcyOTI0NTkzOH19LCJSZXNvdXJjZSI6Imh0dHBzOi8vY2RuLWxmcy11cy0xLmhmLmNvL3JlcG9zL2NiLzNhL2NiM2FjYzUxZDg4ZTgzY2IwZDQ1ZjlkZmE1ZjIwNDliZjZkY2U0ZjY1NmU1NzMyN2UxMTI4ZTk2YWRlMmRmNDEvMDEzZWNhMjZkZjFjNWY3MjUyYzE2NTIzYzU3MTg3MTRjNzJjZTBkOGEzMTI3MTUwNmNlZWFhMmQxMTY3OWMxZj9yZXNwb25zZS1jb250ZW50LWRpc3Bvc2l0aW9uPSoifV19&Signature=tqF0o0VFIwfFkeZSCumlGpR1spPEMTCAr1bA9ndUXGigOaKce4wpa6b4CxJQP5cGmy759pf%7E7mSCxO6V1wymfoV2L0hvkCdK3errkuOclsxneRlBEDjj1hBKtREJX7lduPRaXT-xZD2F%7E8J4vfluI3I5PqeB5hNDYBqPasCD6rwzOexUB8qbjnMf2igG4ioEnL6tRMmL94Nm-1iXY3hd%7EC5cNK97tbEHx67yNphfAVEbgbpiWlkOOfwNQFv4iWdwupPUkSWoiMnjoaoSg4-ZrIpxwS35j2%7Ete1OHtyr4tQRFtDELdJMR%7EOhD6FEivQdjIpt1g0bbbP6W1q7cOdAIIA__&Key-Pair-Id=K24J24Z295AEI9: HTTPSConnectionPool(host='cdn-lfs-us-1.hf.co', port=443): Read timed out.\n",
      "Trying to resume download...\n"
     ]
    },
    {
     "data": {
      "application/vnd.jupyter.widget-view+json": {
       "model_id": "1a15c80668f14fd3b916cc58d51b2c03",
       "version_major": 2,
       "version_minor": 0
      },
      "text/plain": [
       "mdcath_dataset_1a0hA01.h5:  26%|##6       | 105M/398M [00:00<?, ?B/s]"
      ]
     },
     "metadata": {},
     "output_type": "display_data"
    },
    {
     "data": {
      "application/vnd.jupyter.widget-view+json": {
       "model_id": "157ff5ee079b4e98b14e98a05a89354b",
       "version_major": 2,
       "version_minor": 0
      },
      "text/plain": [
       "mdcath_dataset_1a0rP01.h5:   0%|          | 0.00/594M [00:00<?, ?B/s]"
      ]
     },
     "metadata": {},
     "output_type": "display_data"
    },
    {
     "name": "stderr",
     "output_type": "stream",
     "text": [
      "Error while downloading from https://cdn-lfs-us-1.hf.co/repos/cb/3a/cb3acc51d88e83cb0d45f9dfa5f2049bf6dce4f656e57327e1128e96ade2df41/7399ed40f55dbc33f87965cb134a9c6efe90737cd7b3c6138ca3ec4244a40e8a?response-content-disposition=inline%3B+filename*%3DUTF-8%27%27mdcath_dataset_1a0rP01.h5%3B+filename%3D%22mdcath_dataset_1a0rP01.h5%22%3B&Expires=1729246081&Policy=eyJTdGF0ZW1lbnQiOlt7IkNvbmRpdGlvbiI6eyJEYXRlTGVzc1RoYW4iOnsiQVdTOkVwb2NoVGltZSI6MTcyOTI0NjA4MX19LCJSZXNvdXJjZSI6Imh0dHBzOi8vY2RuLWxmcy11cy0xLmhmLmNvL3JlcG9zL2NiLzNhL2NiM2FjYzUxZDg4ZTgzY2IwZDQ1ZjlkZmE1ZjIwNDliZjZkY2U0ZjY1NmU1NzMyN2UxMTI4ZTk2YWRlMmRmNDEvNzM5OWVkNDBmNTVkYmMzM2Y4Nzk2NWNiMTM0YTljNmVmZTkwNzM3Y2Q3YjNjNjEzOGNhM2VjNDI0NGE0MGU4YT9yZXNwb25zZS1jb250ZW50LWRpc3Bvc2l0aW9uPSoifV19&Signature=jF1QETXl6CJw66QVmD-hsQVmnkZckb0o8qHlCyvj-k3fMnT-SgU-f5ezdlpGfiXeyga6uoj2gfUh4Qlk9vjzTahM6ljpEbsv-nhJtWbE0Lt3iZG2ctcx2num7Xd7AxezvMN0cIX7o7mNl2dvFgyb8GeeICKUMs-BeVqhg5K%7EGFiFvAAVff0tNRn9N1Jz-McL5NvBO4ohcIUnFwF3lCsmtLyYDL%7EdCRR082wiEFROYL0ma8IkNfrkPmrPHIKMmQnUVBDp0h%7Ep%7Es9Wiax%7ELMSj8A%7EznhuE-QehNu03669wL2yJv%7EPvR8HtkruDrbis3KJ7TaMUBXyQJuNNYd7NxcN9Eg__&Key-Pair-Id=K24J24Z295AEI9: HTTPSConnectionPool(host='cdn-lfs-us-1.hf.co', port=443): Read timed out.\n",
      "Trying to resume download...\n"
     ]
    },
    {
     "data": {
      "application/vnd.jupyter.widget-view+json": {
       "model_id": "e26a6e3fce2b4bc28248b573bddd62e6",
       "version_major": 2,
       "version_minor": 0
      },
      "text/plain": [
       "mdcath_dataset_1a0rP01.h5:  12%|#2        | 73.4M/594M [00:00<?, ?B/s]"
      ]
     },
     "metadata": {},
     "output_type": "display_data"
    },
    {
     "name": "stderr",
     "output_type": "stream",
     "text": [
      "Error while downloading from https://cdn-lfs-us-1.hf.co/repos/cb/3a/cb3acc51d88e83cb0d45f9dfa5f2049bf6dce4f656e57327e1128e96ade2df41/7399ed40f55dbc33f87965cb134a9c6efe90737cd7b3c6138ca3ec4244a40e8a?response-content-disposition=inline%3B+filename*%3DUTF-8%27%27mdcath_dataset_1a0rP01.h5%3B+filename%3D%22mdcath_dataset_1a0rP01.h5%22%3B&Expires=1729246081&Policy=eyJTdGF0ZW1lbnQiOlt7IkNvbmRpdGlvbiI6eyJEYXRlTGVzc1RoYW4iOnsiQVdTOkVwb2NoVGltZSI6MTcyOTI0NjA4MX19LCJSZXNvdXJjZSI6Imh0dHBzOi8vY2RuLWxmcy11cy0xLmhmLmNvL3JlcG9zL2NiLzNhL2NiM2FjYzUxZDg4ZTgzY2IwZDQ1ZjlkZmE1ZjIwNDliZjZkY2U0ZjY1NmU1NzMyN2UxMTI4ZTk2YWRlMmRmNDEvNzM5OWVkNDBmNTVkYmMzM2Y4Nzk2NWNiMTM0YTljNmVmZTkwNzM3Y2Q3YjNjNjEzOGNhM2VjNDI0NGE0MGU4YT9yZXNwb25zZS1jb250ZW50LWRpc3Bvc2l0aW9uPSoifV19&Signature=jF1QETXl6CJw66QVmD-hsQVmnkZckb0o8qHlCyvj-k3fMnT-SgU-f5ezdlpGfiXeyga6uoj2gfUh4Qlk9vjzTahM6ljpEbsv-nhJtWbE0Lt3iZG2ctcx2num7Xd7AxezvMN0cIX7o7mNl2dvFgyb8GeeICKUMs-BeVqhg5K%7EGFiFvAAVff0tNRn9N1Jz-McL5NvBO4ohcIUnFwF3lCsmtLyYDL%7EdCRR082wiEFROYL0ma8IkNfrkPmrPHIKMmQnUVBDp0h%7Ep%7Es9Wiax%7ELMSj8A%7EznhuE-QehNu03669wL2yJv%7EPvR8HtkruDrbis3KJ7TaMUBXyQJuNNYd7NxcN9Eg__&Key-Pair-Id=K24J24Z295AEI9: HTTPSConnectionPool(host='cdn-lfs-us-1.hf.co', port=443): Read timed out.\n",
      "Trying to resume download...\n"
     ]
    },
    {
     "data": {
      "application/vnd.jupyter.widget-view+json": {
       "model_id": "48b386a4cf0f40588077e7fe65a78614",
       "version_major": 2,
       "version_minor": 0
      },
      "text/plain": [
       "mdcath_dataset_1a0rP01.h5:  62%|######1   | 367M/594M [00:00<?, ?B/s]"
      ]
     },
     "metadata": {},
     "output_type": "display_data"
    },
    {
     "data": {
      "application/vnd.jupyter.widget-view+json": {
       "model_id": "50237d600db540efa494aa1cf969170f",
       "version_major": 2,
       "version_minor": 0
      },
      "text/plain": [
       "mdcath_dataset_1a0sP00.h5:   0%|          | 0.00/1.82G [00:00<?, ?B/s]"
      ]
     },
     "metadata": {},
     "output_type": "display_data"
    },
    {
     "name": "stderr",
     "output_type": "stream",
     "text": [
      "Error while downloading from https://cdn-lfs-us-1.hf.co/repos/cb/3a/cb3acc51d88e83cb0d45f9dfa5f2049bf6dce4f656e57327e1128e96ade2df41/eb4574ebfb6ab7fbb703227c6cf3b4b6ce60b644087df56c7b72b6f93f7c4779?response-content-disposition=inline%3B+filename*%3DUTF-8%27%27mdcath_dataset_1a0sP00.h5%3B+filename%3D%22mdcath_dataset_1a0sP00.h5%22%3B&Expires=1729246504&Policy=eyJTdGF0ZW1lbnQiOlt7IkNvbmRpdGlvbiI6eyJEYXRlTGVzc1RoYW4iOnsiQVdTOkVwb2NoVGltZSI6MTcyOTI0NjUwNH19LCJSZXNvdXJjZSI6Imh0dHBzOi8vY2RuLWxmcy11cy0xLmhmLmNvL3JlcG9zL2NiLzNhL2NiM2FjYzUxZDg4ZTgzY2IwZDQ1ZjlkZmE1ZjIwNDliZjZkY2U0ZjY1NmU1NzMyN2UxMTI4ZTk2YWRlMmRmNDEvZWI0NTc0ZWJmYjZhYjdmYmI3MDMyMjdjNmNmM2I0YjZjZTYwYjY0NDA4N2RmNTZjN2I3MmI2ZjkzZjdjNDc3OT9yZXNwb25zZS1jb250ZW50LWRpc3Bvc2l0aW9uPSoifV19&Signature=EDTY1rkJdxtEGFom7tRutU1puz8nR0YIlCJ7uL4x3WG%7EeEqG4u%7E9yfmohgRUiuV7bfcpqDwOql-rTOdQaEmThrWF9YOjNM2VnTfw5vm5K%7EE0lLfTc5oP0WFTaYA-%7EmPlcxWvwnn2u55sv7b71s9MTGHLA3W7iqVX%7E3BnquVIofg91VOrEgKvKelSNdgLJ%7EUyg5uoLLcMAwBQ9URbPT%7EwZZtwdJePFUvOX%7Eu7E6%7End9Q99VXx8b%7EovEQkKkL2RxkJ08DR06jR8VePsAPsasgZM6uhdDE2v%7EpvC0O4Y5hC%7Ei6T%7E8OlbqNoX9DwrYQXonLo5weo2M4gq9Iz2L3rNiSjDA__&Key-Pair-Id=K24J24Z295AEI9: HTTPSConnectionPool(host='cdn-lfs-us-1.hf.co', port=443): Read timed out.\n",
      "Trying to resume download...\n"
     ]
    },
    {
     "data": {
      "application/vnd.jupyter.widget-view+json": {
       "model_id": "6c1219e5e4394221b61ad186fd541653",
       "version_major": 2,
       "version_minor": 0
      },
      "text/plain": [
       "mdcath_dataset_1a0sP00.h5:   7%|6         | 126M/1.82G [00:00<?, ?B/s]"
      ]
     },
     "metadata": {},
     "output_type": "display_data"
    }
   ],
   "source": [
    "for domain_id in domain_ids:\n",
    "    hf_hub_download(\n",
    "        repo_id=\"compsciencelab/mdCATH\",\n",
    "        filename=f\"mdcath_dataset_{domain_id}.h5\",\n",
    "        subfolder=\"data\",\n",
    "        local_dir=data_root,\n",
    "        repo_type=\"dataset\",\n",
    "    )"
   ]
  },
  {
   "cell_type": "code",
   "execution_count": null,
   "metadata": {},
   "outputs": [],
   "source": [
    "\n",
    "hf_hub_download(\n",
    "    repo_id=\"compsciencelab/mdCATH\",\n",
    "    filename=f\"mdcath_dataset_{domain_id}.h5\",\n",
    "    subfolder=\"data\",\n",
    "    local_dir=data_root,\n",
    "    repo_type=\"dataset\",\n",
    ")"
   ]
  },
  {
   "cell_type": "code",
   "execution_count": null,
   "metadata": {},
   "outputs": [],
   "source": [
    "\n",
    "hf_hub_download(\n",
    "    repo_id=\"compsciencelab/mdCATH\",\n",
    "    filename=f\"mdcath_dataset_{domain_id}.h5\",\n",
    "    subfolder=\"data\",\n",
    "    local_dir=data_root,\n",
    "    repo_type=\"dataset\",\n",
    ")"
   ]
  },
  {
   "cell_type": "code",
   "execution_count": null,
   "metadata": {},
   "outputs": [],
   "source": [
    "\n",
    "hf_hub_download(\n",
    "    repo_id=\"compsciencelab/mdCATH\",\n",
    "    filename=f\"mdcath_dataset_{domain_id}.h5\",\n",
    "    subfolder=\"data\",\n",
    "    local_dir=data_root,\n",
    "    repo_type=\"dataset\",\n",
    ")"
   ]
  },
  {
   "cell_type": "code",
   "execution_count": null,
   "metadata": {},
   "outputs": [],
   "source": []
  }
 ],
 "metadata": {
  "kernelspec": {
   "display_name": "Python 3",
   "language": "python",
   "name": "python3"
  },
  "language_info": {
   "codemirror_mode": {
    "name": "ipython",
    "version": 3
   },
   "file_extension": ".py",
   "mimetype": "text/x-python",
   "name": "python",
   "nbconvert_exporter": "python",
   "pygments_lexer": "ipython3",
   "version": "3.12.0"
  }
 },
 "nbformat": 4,
 "nbformat_minor": 2
}
