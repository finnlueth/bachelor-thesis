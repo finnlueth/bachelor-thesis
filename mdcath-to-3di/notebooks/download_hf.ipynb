{
 "cells": [
  {
   "cell_type": "markdown",
   "metadata": {},
   "source": [
    "### Basic script for downloading a file from a URL using HF API\n",
    "todo: check if 10gbps is saturated, if not use multiple threads"
   ]
  },
  {
   "cell_type": "code",
   "execution_count": 1,
   "metadata": {},
   "outputs": [],
   "source": [
    "import os\n",
    "from os.path import join as opj\n",
    "from huggingface_hub import HfApi\n",
    "from huggingface_hub import hf_hub_download\n",
    "from huggingface_hub import hf_hub_url"
   ]
  },
  {
   "cell_type": "code",
   "execution_count": 2,
   "metadata": {},
   "outputs": [],
   "source": [
    "api = HfApi()"
   ]
  },
  {
   "cell_type": "code",
   "execution_count": 3,
   "metadata": {},
   "outputs": [],
   "source": [
    "data_root = \"../tmp/data/mdCATH/\"\n",
    "# domain_id = '1ba5A00'\n",
    "# domain_id = \"1bdhA01\"\n",
    "domain_ids = [\"12asA00\", \"153lA00\", \"16pkA02\", \"1a02F00\", \"1a05A00\", \"1a0aA00\", \"1a0hA01\", \"1a0rP01\", \"1a0sP00\", \"1a15A00\", \"1a1zA00\", \"1a2nA02\", \"1a39A00\", \"1a3dA00\", \"1a3oA00\", \"1a48A01\", \"1a5cA00\", \"1a66A00\", \"1a6aB01\", \"1a6cA02\", \"1a6sA00\"]\n",
    "# domain_ids = [\"1a0rP01\", \"1avyB00\"]"
   ]
  },
  {
   "cell_type": "code",
   "execution_count": 4,
   "metadata": {},
   "outputs": [
    {
     "data": {
      "application/vnd.jupyter.widget-view+json": {
       "model_id": "693f582fab194677809097fdf01c2c94",
       "version_major": 2,
       "version_minor": 0
      },
      "text/plain": [
       "mdcath_dataset_16pkA02.h5:  20%|#9        | 189M/947M [00:00<?, ?B/s]"
      ]
     },
     "metadata": {},
     "output_type": "display_data"
    },
    {
     "data": {
      "application/vnd.jupyter.widget-view+json": {
       "model_id": "870f2a7af9fd45889e7d9240500fd766",
       "version_major": 2,
       "version_minor": 0
      },
      "text/plain": [
       "mdcath_dataset_1a02F00.h5:   0%|          | 0.00/279M [00:00<?, ?B/s]"
      ]
     },
     "metadata": {},
     "output_type": "display_data"
    },
    {
     "data": {
      "application/vnd.jupyter.widget-view+json": {
       "model_id": "b67e441f65bc470ba9d66946b678cbcf",
       "version_major": 2,
       "version_minor": 0
      },
      "text/plain": [
       "mdcath_dataset_1a05A00.h5:   0%|          | 0.00/1.60G [00:00<?, ?B/s]"
      ]
     },
     "metadata": {},
     "output_type": "display_data"
    },
    {
     "data": {
      "application/vnd.jupyter.widget-view+json": {
       "model_id": "35500ba74b4044669f5a3d25638e0092",
       "version_major": 2,
       "version_minor": 0
      },
      "text/plain": [
       "mdcath_dataset_1a0aA00.h5:   0%|          | 0.00/300M [00:00<?, ?B/s]"
      ]
     },
     "metadata": {},
     "output_type": "display_data"
    },
    {
     "data": {
      "application/vnd.jupyter.widget-view+json": {
       "model_id": "61126c93320d43d498ab938063ca18eb",
       "version_major": 2,
       "version_minor": 0
      },
      "text/plain": [
       "mdcath_dataset_1a0hA01.h5:   0%|          | 0.00/398M [00:00<?, ?B/s]"
      ]
     },
     "metadata": {},
     "output_type": "display_data"
    },
    {
     "data": {
      "application/vnd.jupyter.widget-view+json": {
       "model_id": "0284188dba9c4445bc6ee9f4a60cb38d",
       "version_major": 2,
       "version_minor": 0
      },
      "text/plain": [
       "mdcath_dataset_1a0rP01.h5:   0%|          | 0.00/594M [00:00<?, ?B/s]"
      ]
     },
     "metadata": {},
     "output_type": "display_data"
    },
    {
     "data": {
      "application/vnd.jupyter.widget-view+json": {
       "model_id": "b9d4e2e413504fb38903c78b169f6ba2",
       "version_major": 2,
       "version_minor": 0
      },
      "text/plain": [
       "mdcath_dataset_1a0sP00.h5:   0%|          | 0.00/1.82G [00:00<?, ?B/s]"
      ]
     },
     "metadata": {},
     "output_type": "display_data"
    },
    {
     "data": {
      "application/vnd.jupyter.widget-view+json": {
       "model_id": "49ec89ed9a0f4d5d8152cc6bab17715c",
       "version_major": 2,
       "version_minor": 0
      },
      "text/plain": [
       "mdcath_dataset_1a15A00.h5:   0%|          | 0.00/332M [00:00<?, ?B/s]"
      ]
     },
     "metadata": {},
     "output_type": "display_data"
    },
    {
     "data": {
      "application/vnd.jupyter.widget-view+json": {
       "model_id": "5d092baf562346429d5fee20786fa8cb",
       "version_major": 2,
       "version_minor": 0
      },
      "text/plain": [
       "mdcath_dataset_1a1zA00.h5:   0%|          | 0.00/400M [00:00<?, ?B/s]"
      ]
     },
     "metadata": {},
     "output_type": "display_data"
    },
    {
     "data": {
      "application/vnd.jupyter.widget-view+json": {
       "model_id": "30f184587c6242e48eb4d3282fd3ed8a",
       "version_major": 2,
       "version_minor": 0
      },
      "text/plain": [
       "mdcath_dataset_1a2nA02.h5:   0%|          | 0.00/931M [00:00<?, ?B/s]"
      ]
     },
     "metadata": {},
     "output_type": "display_data"
    },
    {
     "data": {
      "application/vnd.jupyter.widget-view+json": {
       "model_id": "6c4e2f896e1d4c4d9ec4d73737e803c5",
       "version_major": 2,
       "version_minor": 0
      },
      "text/plain": [
       "mdcath_dataset_1a39A00.h5:   0%|          | 0.00/1.80G [00:00<?, ?B/s]"
      ]
     },
     "metadata": {},
     "output_type": "display_data"
    },
    {
     "data": {
      "application/vnd.jupyter.widget-view+json": {
       "model_id": "c4c978eccb4a4bffa252bf98cec74705",
       "version_major": 2,
       "version_minor": 0
      },
      "text/plain": [
       "mdcath_dataset_1a3dA00.h5:   0%|          | 0.00/526M [00:00<?, ?B/s]"
      ]
     },
     "metadata": {},
     "output_type": "display_data"
    },
    {
     "data": {
      "application/vnd.jupyter.widget-view+json": {
       "model_id": "2750f2b6885e468286158aedee5aa94b",
       "version_major": 2,
       "version_minor": 0
      },
      "text/plain": [
       "mdcath_dataset_1a3oA00.h5:   0%|          | 0.00/635M [00:00<?, ?B/s]"
      ]
     },
     "metadata": {},
     "output_type": "display_data"
    },
    {
     "data": {
      "application/vnd.jupyter.widget-view+json": {
       "model_id": "6d65d56e2c1b469aa595ef8b335cd992",
       "version_major": 2,
       "version_minor": 0
      },
      "text/plain": [
       "mdcath_dataset_1a48A01.h5:   0%|          | 0.00/537M [00:00<?, ?B/s]"
      ]
     },
     "metadata": {},
     "output_type": "display_data"
    },
    {
     "data": {
      "application/vnd.jupyter.widget-view+json": {
       "model_id": "56536e67858f4449b59f1a08e9c11ac5",
       "version_major": 2,
       "version_minor": 0
      },
      "text/plain": [
       "mdcath_dataset_1a5cA00.h5:   0%|          | 0.00/1.55G [00:00<?, ?B/s]"
      ]
     },
     "metadata": {},
     "output_type": "display_data"
    },
    {
     "data": {
      "application/vnd.jupyter.widget-view+json": {
       "model_id": "55ead38393e948da89b7225e965c7307",
       "version_major": 2,
       "version_minor": 0
      },
      "text/plain": [
       "mdcath_dataset_1a66A00.h5:   0%|          | 0.00/837M [00:00<?, ?B/s]"
      ]
     },
     "metadata": {},
     "output_type": "display_data"
    },
    {
     "data": {
      "application/vnd.jupyter.widget-view+json": {
       "model_id": "d90348c70e2d46dd855d361949b3dad8",
       "version_major": 2,
       "version_minor": 0
      },
      "text/plain": [
       "mdcath_dataset_1a6aB01.h5:   0%|          | 0.00/436M [00:00<?, ?B/s]"
      ]
     },
     "metadata": {},
     "output_type": "display_data"
    },
    {
     "data": {
      "application/vnd.jupyter.widget-view+json": {
       "model_id": "8580f7a32fcc4a51a42bd3a4c2f140dd",
       "version_major": 2,
       "version_minor": 0
      },
      "text/plain": [
       "mdcath_dataset_1a6cA02.h5:   0%|          | 0.00/763M [00:00<?, ?B/s]"
      ]
     },
     "metadata": {},
     "output_type": "display_data"
    },
    {
     "data": {
      "application/vnd.jupyter.widget-view+json": {
       "model_id": "cbb499c2c04b435f9df9ff084808a794",
       "version_major": 2,
       "version_minor": 0
      },
      "text/plain": [
       "mdcath_dataset_1a6sA00.h5:   0%|          | 0.00/394M [00:00<?, ?B/s]"
      ]
     },
     "metadata": {},
     "output_type": "display_data"
    }
   ],
   "source": [
    "for domain_id in domain_ids:\n",
    "    hf_hub_download(\n",
    "        repo_id=\"compsciencelab/mdCATH\",\n",
    "        filename=f\"mdcath_dataset_{domain_id}.h5\",\n",
    "        subfolder=\"data\",\n",
    "        local_dir=data_root,\n",
    "        repo_type=\"dataset\",\n",
    "    )"
   ]
  },
  {
   "cell_type": "code",
   "execution_count": null,
   "metadata": {},
   "outputs": [],
   "source": []
  }
 ],
 "metadata": {
  "kernelspec": {
   "display_name": "Python 3",
   "language": "python",
   "name": "python3"
  },
  "language_info": {
   "codemirror_mode": {
    "name": "ipython",
    "version": 3
   },
   "file_extension": ".py",
   "mimetype": "text/x-python",
   "name": "python",
   "nbconvert_exporter": "python",
   "pygments_lexer": "ipython3",
   "version": "3.12.0"
  }
 },
 "nbformat": 4,
 "nbformat_minor": 2
}
