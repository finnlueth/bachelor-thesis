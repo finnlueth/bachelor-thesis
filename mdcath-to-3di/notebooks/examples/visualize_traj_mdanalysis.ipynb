{
 "cells": [
  {
   "cell_type": "code",
   "execution_count": 1,
   "metadata": {},
   "outputs": [
    {
     "data": {
      "application/vnd.jupyter.widget-view+json": {
       "model_id": "1b5b871ae0cc47258f0b79ab40a0ff90",
       "version_major": 2,
       "version_minor": 0
      },
      "text/plain": []
     },
     "metadata": {},
     "output_type": "display_data"
    },
    {
     "name": "stderr",
     "output_type": "stream",
     "text": [
      "/Users/finnlueth/Developer/gits/bachelor-thesis/mdcath-to-3di/.venv/lib/python3.12/site-packages/MDAnalysis/coordinates/memory.py:535: DeprecationWarning: asel argument to timeseries will be renamed to'atomgroup' in 3.0, see #3911\n",
      "  warnings.warn(\n"
     ]
    },
    {
     "data": {
      "application/vnd.jupyter.widget-view+json": {
       "model_id": "e0f74c62c40c4ed680f99b960b34a72d",
       "version_major": 2,
       "version_minor": 0
      },
      "text/plain": [
       "NGLWidget(max_frame=439)"
      ]
     },
     "metadata": {},
     "output_type": "display_data"
    }
   ],
   "source": [
    "import h5py\n",
    "import MDAnalysis as mda\n",
    "import nglview as nv\n",
    "import numpy as np\n",
    "import io\n",
    "from src.utils.bio import rmsd_align\n",
    "\n",
    "\n",
    "name = \"12asA00\"\n",
    "with h5py.File(f\"../../tmp/data/mdcath/data/mdcath_dataset_{name}.h5\", \"r\") as file:\n",
    "    name = list(file.keys())[0]\n",
    "    structure = file[name][\"pdbProteinAtoms\"][()].decode(\"utf-8\")\n",
    "    coords = file[name][\"320\"][\"0\"][\"coords\"][()]\n",
    "\n",
    "u = mda.Universe(io.StringIO(structure), format=\"PDB\")\n",
    "u.load_new(coords, format=mda.coordinates.memory.MemoryReader)\n",
    "aligned_coords = rmsd_align(reference_pdb=structure, coordinates=coords, frame=0)\n",
    "u.load_new(aligned_coords, format=mda.coordinates.memory.MemoryReader)\n",
    "view = nv.show_mdanalysis(u)\n",
    "view"
   ]
  },
  {
   "cell_type": "code",
   "execution_count": 5,
   "metadata": {},
   "outputs": [],
   "source": [
    "\n",
    "with mda.Writer(f\"../../tmp/output/trajectories/{name}.xtc\", u.atoms.n_atoms) as W:\n",
    "    for ts in u.trajectory:\n",
    "        W.write(u)\n",
    "\n",
    "with open(f\"../../tmp/output/trajectories/{name}.pdb\", \"w\") as f:\n",
    "    f.write(structure)\n"
   ]
  },
  {
   "cell_type": "code",
   "execution_count": null,
   "metadata": {},
   "outputs": [],
   "source": []
  }
 ],
 "metadata": {
  "kernelspec": {
   "display_name": "Python 3",
   "language": "python",
   "name": "python3"
  },
  "language_info": {
   "codemirror_mode": {
    "name": "ipython",
    "version": 3
   },
   "file_extension": ".py",
   "mimetype": "text/x-python",
   "name": "python",
   "nbconvert_exporter": "python",
   "pygments_lexer": "ipython3",
   "version": "3.12.0"
  }
 },
 "nbformat": 4,
 "nbformat_minor": 2
}
