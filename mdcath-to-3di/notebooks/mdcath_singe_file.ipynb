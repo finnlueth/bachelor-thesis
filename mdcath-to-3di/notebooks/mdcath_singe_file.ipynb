{
 "cells": [
  {
   "cell_type": "code",
   "execution_count": 2,
   "metadata": {},
   "outputs": [
    {
     "name": "stdout",
     "output_type": "stream",
     "text": [
      "The autoreload extension is already loaded. To reload it, use:\n",
      "  %reload_ext autoreload\n"
     ]
    }
   ],
   "source": [
    "%load_ext autoreload\n",
    "%autoreload 2\n",
    "\n",
    "from _header import *"
   ]
  },
  {
   "cell_type": "code",
   "execution_count": 3,
   "metadata": {},
   "outputs": [],
   "source": [
    "\"\"\"\n",
    "Load .h5 file and extract trajectory information information\n",
    "\"\"\"\n",
    "\n",
    "extraced_traj = extract_mdcath_information(\n",
    "    file_path=FILE_PATHS['trajectories']+\"mdcath_dataset_1avyB00.h5\",\n",
    "    # config=PROCESSING_CONFIG\n",
    "    )"
   ]
  },
  {
   "cell_type": "code",
   "execution_count": 7,
   "metadata": {},
   "outputs": [
    {
     "name": "stderr",
     "output_type": "stream",
     "text": [
      "/Users/finnlueth/Developer/gits/bachelor-thesis/mdcath-to-3di/.venv/lib/python3.12/site-packages/MDAnalysis/coordinates/memory.py:535: DeprecationWarning: asel argument to timeseries will be renamed to'atomgroup' in 3.0, see #3911\n",
      "  warnings.warn(\n"
     ]
    }
   ],
   "source": [
    "\"\"\"\n",
    "Align trajectory to reference structure or to the first frame\n",
    "\"\"\"\n",
    "\n",
    "for temp in extraced_traj['coords']:\n",
    "    for replica in extraced_traj['coords'][temp]:\n",
    "        extraced_traj['coords'][temp][replica] = rmsd_align(\n",
    "                coordiantes=extraced_traj['coords'][temp][replica],\n",
    "                reference_pdb=extraced_traj['pdb']\n",
    "            )"
   ]
  },
  {
   "cell_type": "markdown",
   "metadata": {},
   "source": [
    "---\n",
    "### Process Single Trajectory in h5"
   ]
  },
  {
   "cell_type": "code",
   "execution_count": 4,
   "metadata": {},
   "outputs": [],
   "source": [
    "\"\"\"\n",
    "Generate single PDBs with coordinates for a single trajectory\n",
    "\"\"\"\n",
    "\n",
    "pdbs_with_coords = replace_coordinates_in_pdbs(\n",
    "    pdb=extraced_traj[\"pdb\"],\n",
    "    coordinates=extraced_traj['coords'][\"320\"][\"0\"]\n",
    "    )"
   ]
  },
  {
   "cell_type": "code",
   "execution_count": null,
   "metadata": {},
   "outputs": [],
   "source": [
    "\"\"\"\n",
    "Save PDBs (one PDB for each frame in trajectory) to disk\n",
    "\"\"\"\n",
    "\n",
    "saved_at_path = save_PDBs(\n",
    "    pdbs=pdbs_with_coords[:10],\n",
    "    template_PDB=extraced_traj['pdb'],\n",
    "    name=extraced_traj['name'],\n",
    "    output_dir=FILE_PATHS['PDBs'],\n",
    "    )\n",
    "\n",
    "print(f\"Saved PDBs at: {saved_at_path}\")"
   ]
  },
  {
   "cell_type": "markdown",
   "metadata": {},
   "source": [
    "---\n",
    "### Process all Trajectories in h5"
   ]
  },
  {
   "cell_type": "code",
   "execution_count": 8,
   "metadata": {},
   "outputs": [],
   "source": [
    "\"\"\"\n",
    "Generate PDBs with coordinates for all trajectories\n",
    "\"\"\"\n",
    "\n",
    "processed_all_replica_pdbs = generate_mdcath_coordiante_pdbs(extraced_trajectroy=extraced_traj)"
   ]
  },
  {
   "cell_type": "code",
   "execution_count": 9,
   "metadata": {},
   "outputs": [
    {
     "name": "stdout",
     "output_type": "stream",
     "text": [
      "dict_keys(['320|0', '320|1', '320|2', '320|3', '320|4', '348|0', '348|1', '348|2', '348|3', '348|4', '379|0', '379|1', '379|2', '379|3', '379|4', '413|0', '413|1', '413|2', '413|3', '413|4', '450|0', '450|1', '450|2', '450|3', '450|4'])\n",
      "25\n",
      "440\n"
     ]
    }
   ],
   "source": [
    "print(processed_all_replica_pdbs.keys())\n",
    "print(len(processed_all_replica_pdbs.keys()))\n",
    "print(len(processed_all_replica_pdbs['320|0']))"
   ]
  },
  {
   "cell_type": "code",
   "execution_count": 10,
   "metadata": {},
   "outputs": [],
   "source": [
    "processed_all_replicas_3Di = translate_pdb_to_3di(processed_all_replica_pdbs)"
   ]
  },
  {
   "cell_type": "code",
   "execution_count": 11,
   "metadata": {},
   "outputs": [
    {
     "data": {
      "text/plain": [
       "dict_keys(['320|0', '320|1', '320|2', '320|3', '320|4', '348|0', '348|1', '348|2', '348|3', '348|4', '379|0', '379|1', '379|2', '379|3', '379|4', '413|0', '413|1', '413|2', '413|3', '413|4', '450|0', '450|1', '450|2', '450|3', '450|4'])"
      ]
     },
     "execution_count": 11,
     "metadata": {},
     "output_type": "execute_result"
    }
   ],
   "source": [
    "processed_all_replicas_3Di.keys()"
   ]
  },
  {
   "cell_type": "code",
   "execution_count": null,
   "metadata": {},
   "outputs": [],
   "source": [
    "processed_all_replicas_3Di['320|0']"
   ]
  },
  {
   "cell_type": "code",
   "execution_count": 13,
   "metadata": {},
   "outputs": [],
   "source": [
    "fasta = generate_fasta(\n",
    "    extraced_traj=extraced_traj,\n",
    "    processed_3Di=processed_all_replicas_3Di\n",
    ")"
   ]
  },
  {
   "cell_type": "code",
   "execution_count": 14,
   "metadata": {},
   "outputs": [
    {
     "data": {
      "text/plain": [
       "'../tmp/data/3Di/1avyB00.fasta'"
      ]
     },
     "execution_count": 14,
     "metadata": {},
     "output_type": "execute_result"
    }
   ],
   "source": [
    "save_fasta(\n",
    "    path=f\"{FILE_PATHS['3Di']}{extraced_traj['name']}.fasta\",\n",
    "    fasta=fasta\n",
    ")"
   ]
  },
  {
   "cell_type": "code",
   "execution_count": null,
   "metadata": {},
   "outputs": [],
   "source": []
  }
 ],
 "metadata": {
  "kernelspec": {
   "display_name": "Python 3",
   "language": "python",
   "name": "python3"
  },
  "language_info": {
   "codemirror_mode": {
    "name": "ipython",
    "version": 3
   },
   "file_extension": ".py",
   "mimetype": "text/x-python",
   "name": "python",
   "nbconvert_exporter": "python",
   "pygments_lexer": "ipython3",
   "version": "3.12.0"
  }
 },
 "nbformat": 4,
 "nbformat_minor": 2
}
