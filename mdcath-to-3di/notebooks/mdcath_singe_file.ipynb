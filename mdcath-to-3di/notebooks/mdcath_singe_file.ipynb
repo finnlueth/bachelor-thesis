{
 "cells": [
  {
   "cell_type": "code",
   "execution_count": null,
   "metadata": {},
   "outputs": [],
   "source": [
    "%load_ext autoreload\n",
    "%autoreload 2\n",
    "\n",
    "from _header import *"
   ]
  },
  {
   "cell_type": "code",
   "execution_count": 3,
   "metadata": {},
   "outputs": [],
   "source": [
    "\"\"\"\n",
    "Load .h5 file and extract trajectory information information\n",
    "\"\"\"\n",
    "\n",
    "extraced_traj = extract_mdcath_information(\n",
    "    file_path=FILE_PATHS['trajectories']+\"mdcath_dataset_1avyB00.h5\",\n",
    "    # config=PROCESSING_CONFIG\n",
    "    )"
   ]
  },
  {
   "cell_type": "code",
   "execution_count": null,
   "metadata": {},
   "outputs": [],
   "source": [
    "\"\"\"\n",
    "Align trajectory to reference structure or to the first frame\n",
    "\"\"\"\n",
    "\n",
    "for temp in extraced_traj['coords']:\n",
    "    for replica in extraced_traj['coords'][temp]:\n",
    "        extraced_traj['coords'][temp][replica] = rmsd_align(\n",
    "                coordiantes=extraced_traj['coords'][temp][replica],\n",
    "                reference_pdb=extraced_traj['pdb']\n",
    "            )"
   ]
  },
  {
   "cell_type": "markdown",
   "metadata": {},
   "source": [
    "---\n",
    "### Process Single Trajectory in h5\n",
    "Used for debugging\\\n",
    "is broken: needs to be updated to new processing pipeline"
   ]
  },
  {
   "cell_type": "code",
   "execution_count": 4,
   "metadata": {},
   "outputs": [],
   "source": [
    "\"\"\"\n",
    "Generate single PDBs with coordinates for a single trajectory\n",
    "\"\"\"\n",
    "\n",
    "pdbs_with_coords = replace_coordinates_in_pdbs(\n",
    "    pdb=extraced_traj[\"pdb\"],\n",
    "    coordinates=extraced_traj['coords'][\"320\"][\"0\"]\n",
    "    )"
   ]
  },
  {
   "cell_type": "code",
   "execution_count": null,
   "metadata": {},
   "outputs": [],
   "source": [
    "\"\"\"\n",
    "Save PDBs (one PDB for each frame in trajectory) to disk\n",
    "\"\"\"\n",
    "\n",
    "saved_at_path = save_PDBs(\n",
    "    pdbs=pdbs_with_coords[:10],\n",
    "    template_PDB=extraced_traj['pdb'],\n",
    "    name=extraced_traj['name'],\n",
    "    output_dir=FILE_PATHS['PDBs'],\n",
    "    )\n",
    "\n",
    "print(f\"Saved PDBs at: {saved_at_path}\")"
   ]
  },
  {
   "cell_type": "markdown",
   "metadata": {},
   "source": [
    "---\n",
    "### Process all Trajectories in h5"
   ]
  },
  {
   "cell_type": "code",
   "execution_count": 8,
   "metadata": {},
   "outputs": [],
   "source": [
    "\"\"\"\n",
    "Generate PDBs with coordinates for all trajectories\n",
    "\"\"\"\n",
    "\n",
    "processed_all_replica_pdbs = generate_mdcath_coordiante_pdbs(extraced_trajectroy=extraced_traj)"
   ]
  },
  {
   "cell_type": "code",
   "execution_count": null,
   "metadata": {},
   "outputs": [],
   "source": [
    "print(processed_all_replica_pdbs.keys())\n",
    "print(len(processed_all_replica_pdbs.keys()))\n",
    "print(len(processed_all_replica_pdbs['320|0']))"
   ]
  },
  {
   "cell_type": "code",
   "execution_count": 10,
   "metadata": {},
   "outputs": [],
   "source": [
    "processed_all_replicas_3Di = translate_pdb_to_3di(processed_all_replica_pdbs)"
   ]
  },
  {
   "cell_type": "code",
   "execution_count": null,
   "metadata": {},
   "outputs": [],
   "source": [
    "processed_all_replicas_3Di.keys()"
   ]
  },
  {
   "cell_type": "code",
   "execution_count": null,
   "metadata": {},
   "outputs": [],
   "source": [
    "processed_all_replicas_3Di['320|0']"
   ]
  },
  {
   "cell_type": "code",
   "execution_count": 13,
   "metadata": {},
   "outputs": [],
   "source": [
    "fasta = generate_fasta(\n",
    "    extraced_traj=extraced_traj,\n",
    "    processed_3Di=processed_all_replicas_3Di\n",
    ")"
   ]
  },
  {
   "cell_type": "code",
   "execution_count": null,
   "metadata": {},
   "outputs": [],
   "source": [
    "save_fasta(\n",
    "    path=f\"{FILE_PATHS['3Di']}/{extraced_traj['name']}.fasta\",\n",
    "    fasta=fasta\n",
    ")"
   ]
  },
  {
   "cell_type": "code",
   "execution_count": null,
   "metadata": {},
   "outputs": [],
   "source": []
  }
 ],
 "metadata": {
  "kernelspec": {
   "display_name": "Python 3",
   "language": "python",
   "name": "python3"
  },
  "language_info": {
   "codemirror_mode": {
    "name": "ipython",
    "version": 3
   },
   "file_extension": ".py",
   "mimetype": "text/x-python",
   "name": "python",
   "nbconvert_exporter": "python",
   "pygments_lexer": "ipython3",
   "version": "3.12.0"
  }
 },
 "nbformat": 4,
 "nbformat_minor": 2
}
