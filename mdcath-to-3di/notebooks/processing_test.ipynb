{
 "cells": [
  {
   "cell_type": "code",
   "execution_count": 1,
   "metadata": {},
   "outputs": [],
   "source": [
    "%reload_ext autoreload\n",
    "%autoreload 2\n",
    "\n",
    "from src.data.tokenize import (\n",
    "    FoldSeekTokenizer,\n",
    "    Bio2TokenTokenizer,\n",
    "    FoldToken4Tokenizer,\n",
    ")\n",
    "from src.data.load import (\n",
    "    MDCATHDataset,\n",
    "    MisatoDataset,\n",
    "    AtlasDataset,\n",
    ")"
   ]
  },
  {
   "cell_type": "code",
   "execution_count": 3,
   "metadata": {},
   "outputs": [
    {
     "name": "stdout",
     "output_type": "stream",
     "text": [
      "['../tmp/data/mdcath/data/mdcath_dataset_1a0aA00.h5', '../tmp/data/mdcath/data/mdcath_dataset_1a0sP00.h5', '../tmp/data/mdcath/data/mdcath_dataset_1a15A00.h5', '../tmp/data/mdcath/data/mdcath_dataset_1a3oA00.h5', '../tmp/data/mdcath/data/mdcath_dataset_1a2nA02.h5', '../tmp/data/mdcath/data/mdcath_dataset_1a0rP01.h5', '../tmp/data/mdcath/data/mdcath_dataset_1ba5A00.h5', '../tmp/data/mdcath/data/mdcath_dataset_12asA00.h5', '../tmp/data/mdcath/data/mdcath_dataset_1a48A01.h5', '../tmp/data/mdcath/data/mdcath_dataset_1a05A00.h5', '../tmp/data/mdcath/data/mdcath_dataset_1a02F00.h5', '../tmp/data/mdcath/data/mdcath_dataset_1a6cA02.h5', '../tmp/data/mdcath/data/mdcath_dataset_1a1zA00.h5', '../tmp/data/mdcath/data/mdcath_dataset_1a66A00.h5', '../tmp/data/mdcath/data/mdcath_dataset_1a6aB01.h5', '../tmp/data/mdcath/data/mdcath_dataset_1a0hA01.h5', '../tmp/data/mdcath/data/mdcath_dataset_1avyB00.h5', '../tmp/data/mdcath/data/mdcath_dataset_1bdhA01.h5', '../tmp/data/mdcath/data/mdcath_dataset_1a3dA00.h5', '../tmp/data/mdcath/data/mdcath_dataset_153lA00.h5', '../tmp/data/mdcath/data/mdcath_dataset_1a6sA00.h5', '../tmp/data/mdcath/data/mdcath_dataset_16pkA02.h5', '../tmp/data/mdcath/data/mdcath_dataset_1a39A00.h5', '../tmp/data/mdcath/data/mdcath_dataset_1a5cA00.h5']\n",
      "{'../tmp/data/mdcath/data/mdcath_dataset_1a0sP00.h5'}\n"
     ]
    }
   ],
   "source": [
    "mdcath_dataset = MDCATHDataset(data_dir=\"../tmp/data/mdcath/data\", save_path=\"../tmp/data/tokenized/mdcath\")\n",
    "print(mdcath_dataset.trajectory_locations)\n",
    "print(mdcath_dataset.used_trajectory_locations)"
   ]
  },
  {
   "cell_type": "code",
   "execution_count": null,
   "metadata": {},
   "outputs": [],
   "source": [
    "mdcath_dataset.reset()\n",
    "print(mdcath_dataset[10])\n",
    "mdcath_dataset.use_trajectory_location(10)\n",
    "try:\n",
    "    mdcath_dataset[10]\n",
    "except ValueError as e:\n",
    "    print(e)\n",
    "mdcath_dataset.reset()\n",
    "print(mdcath_dataset[10])"
   ]
  },
  {
   "cell_type": "code",
   "execution_count": null,
   "metadata": {},
   "outputs": [],
   "source": [
    "mdcath_dataset.is_used_index(10), mdcath_dataset.is_used_index(9)"
   ]
  },
  {
   "cell_type": "code",
   "execution_count": 11,
   "metadata": {},
   "outputs": [
    {
     "name": "stdout",
     "output_type": "stream",
     "text": [
      "Trajectory ../tmp/data/mdcath/data/mdcath_dataset_1a0aA00.h5 has already been accessed and used.Trajectory ../tmp/data/mdcath/data/mdcath_dataset_1a0sP00.h5 has already been accessed and used.\n",
      "\n",
      "Trajectory ../tmp/data/mdcath/data/mdcath_dataset_1a15A00.h5 has already been accessed and used.\n",
      "Trajectory ../tmp/data/mdcath/data/mdcath_dataset_1a3oA00.h5 has already been accessed and used.\n",
      "Trajectory ../tmp/data/mdcath/data/mdcath_dataset_1a2nA02.h5 has already been accessed and used.\n",
      "Trajectory ../tmp/data/mdcath/data/mdcath_dataset_1a0rP01.h5 has already been accessed and used.\n",
      "Trajectory ../tmp/data/mdcath/data/mdcath_dataset_1ba5A00.h5 has already been accessed and used.\n",
      "Trajectory ../tmp/data/mdcath/data/mdcath_dataset_12asA00.h5 has already been accessed and used.\n",
      "1a48A01\n",
      "1a05A00\n",
      "1a6cA02\n",
      "1a02F00\n",
      "1a6aB01\n",
      "1a0hA01\n",
      "1a1zA00\n",
      "1a66A00\n",
      "1avyB00\n",
      "1bdhA01\n",
      "16pkA02\n",
      "1a3dA00\n",
      "1a6sA00\n",
      "153lA00\n",
      "1a39A00\n",
      "1a5cA00\n",
      "['1a48A01', '1a05A00', '1a02F00', '1a6cA02', '1a1zA00', '1a66A00', '1a6aB01', '1a0hA01', '1avyB00', '1bdhA01', '1a3dA00', '153lA00', '1a6sA00', '16pkA02', '1a39A00', '1a5cA00']\n"
     ]
    }
   ],
   "source": [
    "from concurrent.futures import ThreadPoolExecutor\n",
    "import threading\n",
    "from typing import Callable\n",
    "import os\n",
    "from src.data.load.trajectory_dataset import TrajectoryDataset\n",
    "import time\n",
    "\n",
    "def process_dataset_parallel(dataset: TrajectoryDataset, process_fn: Callable, max_workers: int = os.cpu_count() - 1):\n",
    "    def _process_item(idx: int):\n",
    "        try:\n",
    "            item = dataset[idx]\n",
    "            result = process_fn(item)\n",
    "            dataset.use_trajectory_location(idx)\n",
    "            return result\n",
    "        except ValueError as e:\n",
    "            print(e)\n",
    "\n",
    "    with ThreadPoolExecutor(max_workers=max_workers) as executor:\n",
    "        results = list(executor.map(_process_item, range(len(dataset))))\n",
    "\n",
    "    return [r for r in results if r is not None]\n",
    "\n",
    "\n",
    "def example_process_fn(item):\n",
    "    time.sleep(1)\n",
    "    print(item)\n",
    "    time.sleep(1)\n",
    "    return item\n",
    "\n",
    "\n",
    "results = process_dataset_parallel(mdcath_dataset, example_process_fn)\n",
    "print(results)"
   ]
  },
  {
   "cell_type": "code",
   "execution_count": 12,
   "metadata": {},
   "outputs": [
    {
     "data": {
      "text/plain": [
       "16"
      ]
     },
     "execution_count": 12,
     "metadata": {},
     "output_type": "execute_result"
    }
   ],
   "source": [
    "len(results)"
   ]
  },
  {
   "cell_type": "code",
   "execution_count": null,
   "metadata": {},
   "outputs": [],
   "source": [
    "len(mdcath_dataset.used_trajectory_locations)"
   ]
  },
  {
   "cell_type": "code",
   "execution_count": 9,
   "metadata": {},
   "outputs": [],
   "source": [
    "mdcath_dataset.reset()"
   ]
  },
  {
   "cell_type": "code",
   "execution_count": null,
   "metadata": {},
   "outputs": [],
   "source": []
  }
 ],
 "metadata": {
  "kernelspec": {
   "display_name": "Python 3",
   "language": "python",
   "name": "python3"
  },
  "language_info": {
   "codemirror_mode": {
    "name": "ipython",
    "version": 3
   },
   "file_extension": ".py",
   "mimetype": "text/x-python",
   "name": "python",
   "nbconvert_exporter": "python",
   "pygments_lexer": "ipython3",
   "version": "3.12.0"
  }
 },
 "nbformat": 4,
 "nbformat_minor": 2
}
