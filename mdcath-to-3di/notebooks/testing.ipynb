{
 "cells": [
  {
   "cell_type": "code",
   "execution_count": null,
   "metadata": {},
   "outputs": [],
   "source": [
    "class T5EncoderModelForPssmGeneration(T5EncoderModel):\n",
    "    def __init__(\n",
    "        self,\n",
    "        config: T5Config,\n",
    "    ):\n",
    "        super().__init__(config)\n",
    "        self.dropout = nn.Dropout(config.classifier_dropout)\n",
    "        # Don't create classifier here\n",
    "        \n",
    "    def post_init(self):\n",
    "        super().post_init()\n",
    "        # Create classifier after everything else is initialized\n",
    "        self.classifier = nn.Linear(self.config.hidden_size, self.config.num_labels)\n",
    "        with torch.no_grad():\n",
    "            self.classifier.weight.uniform_(-0.02, 0.02)\n",
    "            print(f\"Weight mean: {self.classifier.weight.mean().item():.5f}\")\n",
    "            print(f\"Weight std: {self.classifier.weight.std().item():.5f}\")\n",
    "\n",
    "# Create model\n",
    "model = T5EncoderModelForPssmGeneration.from_pretrained(\n",
    "    \"Rostlab/prot_t5_xl_uniref50\",\n",
    "    config=config\n",
    ")"
   ]
  },
  {
   "cell_type": "code",
   "execution_count": 2,
   "metadata": {},
   "outputs": [],
   "source": [
    "from transformers import DataCollatorWithPadding, AutoTokenizer\n",
    "\n",
    "# Initialize tokenizer\n",
    "tokenizer = AutoTokenizer.from_pretrained(\"bert-base-uncased\")\n",
    "\n",
    "# Create data collator with tokenizer\n",
    "data_collator = DataCollatorWithPadding(tokenizer=tokenizer)\n",
    "\n",
    "# Example data\n",
    "sequences = [\"Hello world\", \"This is another sequence\"]\n",
    "encoded_sequences = [tokenizer(seq, truncation=True) for seq in sequences]"
   ]
  },
  {
   "cell_type": "code",
   "execution_count": 3,
   "metadata": {},
   "outputs": [
    {
     "data": {
      "text/plain": [
       "[{'input_ids': [101, 7592, 2088, 102], 'token_type_ids': [0, 0, 0, 0], 'attention_mask': [1, 1, 1, 1]},\n",
       " {'input_ids': [101, 2023, 2003, 2178, 5537, 102], 'token_type_ids': [0, 0, 0, 0, 0, 0], 'attention_mask': [1, 1, 1, 1, 1, 1]}]"
      ]
     },
     "execution_count": 3,
     "metadata": {},
     "output_type": "execute_result"
    }
   ],
   "source": [
    "encoded_sequences"
   ]
  },
  {
   "cell_type": "code",
   "execution_count": 4,
   "metadata": {},
   "outputs": [],
   "source": [
    "\n",
    "# The data collator will tokenize and pad in one step\n",
    "batch = data_collator(encoded_sequences)"
   ]
  },
  {
   "cell_type": "code",
   "execution_count": 5,
   "metadata": {},
   "outputs": [
    {
     "data": {
      "text/plain": [
       "{'input_ids': tensor([[ 101, 7592, 2088,  102,    0,    0],\n",
       "        [ 101, 2023, 2003, 2178, 5537,  102]]), 'token_type_ids': tensor([[0, 0, 0, 0, 0, 0],\n",
       "        [0, 0, 0, 0, 0, 0]]), 'attention_mask': tensor([[1, 1, 1, 1, 0, 0],\n",
       "        [1, 1, 1, 1, 1, 1]])}"
      ]
     },
     "execution_count": 5,
     "metadata": {},
     "output_type": "execute_result"
    }
   ],
   "source": [
    "batch"
   ]
  }
 ],
 "metadata": {
  "kernelspec": {
   "display_name": "Python 3",
   "language": "python",
   "name": "python3"
  },
  "language_info": {
   "codemirror_mode": {
    "name": "ipython",
    "version": 3
   },
   "file_extension": ".py",
   "mimetype": "text/x-python",
   "name": "python",
   "nbconvert_exporter": "python",
   "pygments_lexer": "ipython3",
   "version": "3.12.0"
  }
 },
 "nbformat": 4,
 "nbformat_minor": 2
}
