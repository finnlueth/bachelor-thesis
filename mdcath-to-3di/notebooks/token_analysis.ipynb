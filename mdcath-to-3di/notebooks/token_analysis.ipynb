{
 "cells": [
  {
   "cell_type": "code",
   "execution_count": 1,
   "metadata": {},
   "outputs": [
    {
     "name": "stderr",
     "output_type": "stream",
     "text": [
      "Matplotlib created a temporary cache directory at /tmp/matplotlib-fsvqhz4j because the default path (/home/lfi/.cache/matplotlib) is not a writable directory; it is highly recommended to set the MPLCONFIGDIR environment variable to a writable directory, in particular to speed up the import of Matplotlib and to better support multiprocessing.\n"
     ]
    }
   ],
   "source": [
    "%reload_ext autoreload\n",
    "%autoreload 2\n",
    "\n",
    "import src.rust_modules as rust_modules\n",
    "from tqdm import tqdm\n",
    "import pickle\n",
    "import h5py\n",
    "\n",
    "import src.data.plot.plot_mdcath as plot_mdcath\n"
   ]
  },
  {
   "cell_type": "code",
   "execution_count": 2,
   "metadata": {},
   "outputs": [
    {
     "name": "stdout",
     "output_type": "stream",
     "text": [
      "['12asA00', '153lA00', '16pkA02', '1a02F00', '1a05A00', '1a0aA00', '1a0hA01', '1a0rP01', '1a0sP00', '1a15A00']\n",
      "5398\n"
     ]
    }
   ],
   "source": [
    "with h5py.File('../tmp/data/tokenized/mdcath/tokenized_data.h5', 'r') as file:\n",
    "    tokenized_keys = list(file['foldseek'].keys())\n",
    "print(tokenized_keys[:10])\n",
    "print(len(tokenized_keys))"
   ]
  },
  {
   "cell_type": "code",
   "execution_count": 3,
   "metadata": {},
   "outputs": [
    {
     "name": "stdout",
     "output_type": "stream",
     "text": [
      "AYIAKQRQISFVKSXFSRQLEERLGLIEVQAPILSRVGDGTQDNLSGAEKAVQVKVKALPDAQFEVVXSLAKWKRQTLGQXDFSAGEGLYTXMKALRPDEDRLSPLXSVYVDQWDWERVMGDGERQFSTLKSTVEAIWAGIKATEAAVSEEFGLAPFLPDQIXFVXSQELLSRYPDLDAKGRERAIAKDLGAVFLVGIGGKLSDGXRXDVRAPDYDDWSTPSELGXAGLNGDILVWNPVLEDAFELSSMGIRVDADTLKXQLALTGDEDRLELEWXQALLRGEMPQTIGGGIGQSRLTMLLLQLPXIGQVQAGVWPAAVRESVPSLL\n"
     ]
    }
   ],
   "source": [
    "with h5py.File('../tmp/data/tokenized/mdcath/tokenized_data.h5', 'r') as file:\n",
    "    sequence = file['foldseek']['12asA00'].attrs['sequence']\n",
    "    print(sequence)"
   ]
  },
  {
   "cell_type": "code",
   "execution_count": 4,
   "metadata": {},
   "outputs": [],
   "source": [
    "with open('../tmp/data/tokenized/mdcath/mdcath_foldseek_trajectories.pkl', 'rb') as f:\n",
    "    tokenized_mdcath = pickle.load(f)"
   ]
  },
  {
   "cell_type": "code",
   "execution_count": 5,
   "metadata": {},
   "outputs": [
    {
     "name": "stdout",
     "output_type": "stream",
     "text": [
      "['12asA00_320_0', '12asA00_320_1', '12asA00_320_2', '12asA00_320_3', '12asA00_320_4', '12asA00_348_0', '12asA00_348_1', '12asA00_348_2', '12asA00_348_3', '12asA00_348_4', '12asA00_379_0', '12asA00_379_1', '12asA00_379_2', '12asA00_379_3', '12asA00_379_4', '12asA00_413_0', '12asA00_413_1', '12asA00_413_2', '12asA00_413_3', '12asA00_413_4', '12asA00_450_0', '12asA00_450_1', '12asA00_450_2', '12asA00_450_3', '12asA00_450_4', '12asA00_base', '153lA00_320_0', '153lA00_320_1', '153lA00_320_2', '153lA00_320_3', '153lA00_320_4', '153lA00_348_0', '153lA00_348_1', '153lA00_348_2', '153lA00_348_3', '153lA00_348_4', '153lA00_379_0', '153lA00_379_1', '153lA00_379_2', '153lA00_379_3', '153lA00_379_4', '153lA00_413_0', '153lA00_413_1', '153lA00_413_2', '153lA00_413_3', '153lA00_413_4', '153lA00_450_0', '153lA00_450_1', '153lA00_450_2', '153lA00_450_3', '153lA00_450_4', '153lA00_base', '16pkA02_320_0', '16pkA02_320_1', '16pkA02_320_2', '16pkA02_320_3', '16pkA02_320_4', '16pkA02_348_0', '16pkA02_348_1', '16pkA02_348_2', '16pkA02_348_3', '16pkA02_348_4', '16pkA02_379_0', '16pkA02_379_1', '16pkA02_379_2', '16pkA02_379_3', '16pkA02_379_4', '16pkA02_413_0', '16pkA02_413_1', '16pkA02_413_2', '16pkA02_413_3', '16pkA02_413_4', '16pkA02_450_0', '16pkA02_450_1', '16pkA02_450_2', '16pkA02_450_3', '16pkA02_450_4', '16pkA02_base', '1a02F00_320_0', '1a02F00_320_1', '1a02F00_320_2', '1a02F00_320_3', '1a02F00_320_4', '1a02F00_348_0', '1a02F00_348_1', '1a02F00_348_2', '1a02F00_348_3', '1a02F00_348_4', '1a02F00_379_0', '1a02F00_379_1', '1a02F00_379_2', '1a02F00_379_3', '1a02F00_379_4', '1a02F00_413_0', '1a02F00_413_1', '1a02F00_413_2', '1a02F00_413_3', '1a02F00_413_4', '1a02F00_450_0', '1a02F00_450_1']\n"
     ]
    }
   ],
   "source": [
    "print(list(tokenized_mdcath.keys())[:100])\n",
    "# print(len(tokenized_mdcath))"
   ]
  },
  {
   "cell_type": "code",
   "execution_count": 8,
   "metadata": {},
   "outputs": [],
   "source": [
    "n = 10\n",
    "for x in list(tokenized_mdcath.items())[0:2]:#[26*n:26*(n+1)-1]:\n",
    "    plot_mdcath.plot_sequence_order_pca(dict([x])).show()"
   ]
  },
  {
   "cell_type": "code",
   "execution_count": null,
   "metadata": {},
   "outputs": [],
   "source": [
    "print(tokenized_mdcath['12asA00_base'])\n",
    "print(*tokenized_mdcath['12asA00_379_4'], sep='\\n')"
   ]
  },
  {
   "cell_type": "code",
   "execution_count": null,
   "metadata": {},
   "outputs": [],
   "source": [
    "print(len(tokenized_mdcath))\n",
    "print(sum([len(tokenized_mdcath[token]) for token in dict(list(tokenized_mdcath.items()))]))\n"
   ]
  },
  {
   "cell_type": "code",
   "execution_count": 4,
   "metadata": {},
   "outputs": [],
   "source": [
    "subset_tokenized_mdcath = dict(list(tokenized_mdcath.items())[:2])\n",
    "single_tokenized_mdcath = list(tokenized_mdcath.items())[0]"
   ]
  },
  {
   "cell_type": "code",
   "execution_count": null,
   "metadata": {},
   "outputs": [],
   "source": [
    "single_tokenized_mdcath"
   ]
  },
  {
   "cell_type": "code",
   "execution_count": null,
   "metadata": {},
   "outputs": [],
   "source": [
    "fig = create_single_sequence_logo(single_tokenized_mdcath[1])\n",
    "# display(fig)"
   ]
  },
  {
   "cell_type": "code",
   "execution_count": null,
   "metadata": {},
   "outputs": [],
   "source": []
  }
 ],
 "metadata": {
  "kernelspec": {
   "display_name": "Python 3",
   "language": "python",
   "name": "python3"
  },
  "language_info": {
   "codemirror_mode": {
    "name": "ipython",
    "version": 3
   },
   "file_extension": ".py",
   "mimetype": "text/x-python",
   "name": "python",
   "nbconvert_exporter": "python",
   "pygments_lexer": "ipython3",
   "version": "3.12.0"
  }
 },
 "nbformat": 4,
 "nbformat_minor": 2
}
