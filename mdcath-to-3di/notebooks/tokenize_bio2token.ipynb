{
 "cells": [
  {
   "cell_type": "code",
   "execution_count": 13,
   "metadata": {},
   "outputs": [],
   "source": [
    "%reload_ext autoreload\n",
    "%autoreload 2\n",
    "\n",
    "import src.data.process_mdcath as process_mdcath\n",
    "import yaml\n",
    "\n",
    "with open('../configs/data.yml', 'r') as file:\n",
    "    DATA_CONFIG = yaml.safe_load(file)"
   ]
  },
  {
   "cell_type": "code",
   "execution_count": 15,
   "metadata": {},
   "outputs": [
    {
     "name": "stderr",
     "output_type": "stream",
     "text": [
      "/Users/finnlueth/Developer/gits/bachelor-thesis/mdcath-to-3di/.venv/lib/python3.12/site-packages/Bio/PDB/PDBParser.py:384: PDBConstructionWarning: Ignoring unrecognized record 'END' at line 5094\n",
      "  warnings.warn(\n"
     ]
    }
   ],
   "source": [
    "trajs = process_mdcath.extract_mdcath_information(\n",
    "    file_path=\"../tmp/data/mdCATH/data/mdcath_dataset_12asA00.h5\",\n",
    "    config=DATA_CONFIG['mdcath_all'],\n",
    "    )\n",
    "\n",
    "pdbs = process_mdcath.replace_coordinates_in_pdbs(\n",
    "    pdb=trajs['pdb'],\n",
    "    coordinates=trajs['coords']['320']['0'],\n",
    "    )"
   ]
  },
  {
   "cell_type": "code",
   "execution_count": 17,
   "metadata": {},
   "outputs": [
    {
     "data": {
      "text/plain": [
       "(440, 5091, 3)"
      ]
     },
     "execution_count": 17,
     "metadata": {},
     "output_type": "execute_result"
    }
   ],
   "source": [
    "trajs['coords']['320']['0'].shape"
   ]
  }
 ],
 "metadata": {
  "kernelspec": {
   "display_name": "Python 3",
   "language": "python",
   "name": "python3"
  },
  "language_info": {
   "codemirror_mode": {
    "name": "ipython",
    "version": 3
   },
   "file_extension": ".py",
   "mimetype": "text/x-python",
   "name": "python",
   "nbconvert_exporter": "python",
   "pygments_lexer": "ipython3",
   "version": "3.12.0"
  }
 },
 "nbformat": 4,
 "nbformat_minor": 2
}
