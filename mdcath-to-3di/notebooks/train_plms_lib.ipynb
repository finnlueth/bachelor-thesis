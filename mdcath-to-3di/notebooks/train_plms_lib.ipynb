{
 "cells": [
  {
   "cell_type": "code",
   "execution_count": 1,
   "metadata": {},
   "outputs": [],
   "source": [
    "%reload_ext autoreload\n",
    "%autoreload 2"
   ]
  },
  {
   "cell_type": "code",
   "execution_count": 2,
   "metadata": {},
   "outputs": [],
   "source": [
    "from plms.models.T5.protT5 import ProtT5\n",
    "import os\n",
    "from transformers import T5EncoderModel\n",
    "\n",
    "os.environ[\"CUDA_DEVICE_ORDER\"] = \"PCI_BUS_ID\"\n",
    "os.environ[\"CUDA_VISIBLE_DEVICES\"] = \"1, 2, 3\""
   ]
  },
  {
   "cell_type": "code",
   "execution_count": 3,
   "metadata": {},
   "outputs": [],
   "source": [
    "model = ProtT5(\"Rostlab/prot_t5_xl_uniref50\")"
   ]
  },
  {
   "cell_type": "code",
   "execution_count": 11,
   "metadata": {},
   "outputs": [
    {
     "name": "stdout",
     "output_type": "stream",
     "text": [
      "M D C A T H</s>\n",
      "[19, 10, 22, 3, 11, 20, 1]\n"
     ]
    }
   ],
   "source": [
    "sequence_processed = \"M D C A T H\"\n",
    "tokens = model.tokenizer(text=sequence_processed, padding=False, truncation=False)\n",
    "\n",
    "decoded_tokens = model.tokenizer.decode(tokens[\"input_ids\"])\n",
    "\n",
    "print(decoded_tokens)\n",
    "print(tokens[\"input_ids\"])"
   ]
  },
  {
   "cell_type": "code",
   "execution_count": null,
   "metadata": {},
   "outputs": [],
   "source": [
    "embeddings = model(tokens[\"input_ids\"], tokens[\"attention_mask\"])\n",
    "\n",
    "embeddings = model.update_attention_mask(tokens[\"attention_mask\"])\n",
    "\n",
    "ProtT5.mean_pooling(embeddings, attention_mask)"
   ]
  }
 ],
 "metadata": {
  "kernelspec": {
   "display_name": "Python 3",
   "language": "python",
   "name": "python3"
  },
  "language_info": {
   "codemirror_mode": {
    "name": "ipython",
    "version": 3
   },
   "file_extension": ".py",
   "mimetype": "text/x-python",
   "name": "python",
   "nbconvert_exporter": "python",
   "pygments_lexer": "ipython3",
   "version": "3.12.0"
  }
 },
 "nbformat": 4,
 "nbformat_minor": 2
}
