{
 "cells": [
  {
   "cell_type": "code",
   "execution_count": 1,
   "metadata": {},
   "outputs": [],
   "source": [
    "%reload_ext autoreload\n",
    "%autoreload 2"
   ]
  },
  {
   "cell_type": "code",
   "execution_count": null,
   "metadata": {},
   "outputs": [],
   "source": [
    "import gc\n",
    "import os\n",
    "import random\n",
    "\n",
    "import accelerate\n",
    "import pandas as pd\n",
    "import torch\n",
    "import transformers\n",
    "from datasets import load_from_disk\n",
    "from peft import LoraConfig, get_peft_model\n",
    "from transformers import T5Tokenizer, Trainer, TrainingArguments\n",
    "\n",
    "from src._shared import (\n",
    "    load_config,\n",
    "    setup_environment,\n",
    ")\n",
    "from src.model.configuration_md_pssm import MDPSSMConfig\n",
    "from src.model.modeling_md_pssm import T5EncoderModelForPssmGeneration\n",
    "from src.model.utils.data_collator import DataCollatorForT5Pssm\n"
   ]
  },
  {
   "cell_type": "code",
   "execution_count": null,
   "metadata": {},
   "outputs": [],
   "source": [
    "os.environ[\"CUDA_DEVICE_ORDER\"] = \"PCI_BUS_ID\"\n",
    "os.environ[\"CUDA_VISIBLE_DEVICES\"] = \"2\"\n",
    "\n",
    "train_config = load_config()\n",
    "model_name_identifier, device, report_to, run, USE_WANDB, SEED = setup_environment(train_config)\n",
    "\n",
    "accelerate.utils.set_seed(SEED + 1)\n",
    "transformers.set_seed(SEED + 2)\n",
    "torch.manual_seed(SEED + 3)\n",
    "random.seed(SEED + 4)"
   ]
  },
  {
   "cell_type": "code",
   "execution_count": 4,
   "metadata": {},
   "outputs": [],
   "source": [
    "config = MDPSSMConfig()\n",
    "model = T5EncoderModelForPssmGeneration(config=config)"
   ]
  },
  {
   "cell_type": "code",
   "execution_count": null,
   "metadata": {},
   "outputs": [],
   "source": [
    "target_modules = [\"q\", \"v\"]\n",
    "modules_to_save = [\"pssm_head\"]\n",
    "\n",
    "lora_config = LoraConfig(\n",
    "    inference_mode=False,\n",
    "    r=train_config[\"lora\"][\"r\"],\n",
    "    lora_alpha=train_config[\"lora\"][\"lora_alpha\"],\n",
    "    lora_dropout=train_config[\"lora\"][\"lora_dropout\"],\n",
    "    target_modules=target_modules,\n",
    "    bias=\"none\",\n",
    "    modules_to_save=modules_to_save,\n",
    "    use_rslora=train_config[\"lora\"][\"use_rslora\"],\n",
    "    use_dora=train_config[\"lora\"][\"use_dora\"],\n",
    ")\n",
    "\n",
    "model = get_peft_model(model, lora_config)\n",
    "\n",
    "print(\"target_modules:\", target_modules)\n",
    "print(\"modules_to_save:\", modules_to_save)\n",
    "model.print_trainable_parameters()\n"
   ]
  },
  {
   "cell_type": "code",
   "execution_count": null,
   "metadata": {},
   "outputs": [],
   "source": [
    "dataset = load_from_disk(\"../tmp/data/pssm/pssm_dataset_0_only\")\n",
    "# dataset = dataset.select(range(22, 30))\n",
    "print(dataset)\n",
    "\n",
    "for x in range(6):\n",
    "    print(dataset[x][\"name\"])\n",
    "    print(dataset[x][\"sequence\"])\n",
    "    print(torch.tensor(dataset[x][\"pssm_features\"]).shape)\n",
    "display(torch.tensor(dataset[x][\"pssm_features\"]))\n",
    "\n",
    "dataset = dataset.rename_column(\"pssm_features\", \"labels\")\n",
    "dataset = dataset.remove_columns([\"name\", \"sequence\", \"sequence_processed\"])\n",
    "\n",
    "print(dataset)"
   ]
  },
  {
   "cell_type": "code",
   "execution_count": null,
   "metadata": {},
   "outputs": [],
   "source": [
    "tokenizer = T5Tokenizer.from_pretrained(\n",
    "    pretrained_model_name_or_path=\"Rostlab/prot_t5_xl_uniref50\",\n",
    "    do_lower_case=False,\n",
    "    use_fast=True,\n",
    "    legacy=False,\n",
    ")\n",
    "\n",
    "\n",
    "data_collator = DataCollatorForT5Pssm(\n",
    "    tokenizer=tokenizer,\n",
    "    padding=True,\n",
    "    max_length=512,\n",
    "    pad_to_multiple_of=8,\n",
    ")\n",
    "\n",
    "\n",
    "def compute_metrics(eval_preds):\n",
    "    return {}\n",
    "\n",
    "\n",
    "training_args = TrainingArguments(\n",
    "    output_dir=f\"../tmp/models/checkpoints/{model_name_identifier}\",\n",
    "    run_name=model_name_identifier if USE_WANDB else None,\n",
    "    report_to=\"wandb\" if USE_WANDB else None,\n",
    "    learning_rate=train_config[\"trainer\"][\"learning_rate\"],\n",
    "    per_device_train_batch_size=train_config[\"trainer\"][\"train_batch_size\"],\n",
    "    num_train_epochs=train_config[\"trainer\"][\"num_epochs\"],\n",
    "    eval_strategy=train_config[\"trainer\"][\"eval_strategy\"],\n",
    "    eval_steps=train_config[\"trainer\"][\"eval_steps\"],\n",
    "    per_device_eval_batch_size=train_config[\"trainer\"][\"eval_batch_size\"],\n",
    "    eval_on_start=train_config[\"trainer\"][\"eval_on_start\"],\n",
    "    batch_eval_metrics=train_config[\"trainer\"][\"batch_eval_metrics\"],\n",
    "    save_strategy=train_config[\"trainer\"][\"save_strategy\"],\n",
    "    save_steps=train_config[\"trainer\"][\"save_steps\"],\n",
    "    save_total_limit=train_config[\"trainer\"][\"save_total_limit\"],\n",
    "    remove_unused_columns=train_config[\"trainer\"][\"remove_unused_columns\"],\n",
    "    label_names=[\"input_ids\", \"attention_mask\"],\n",
    "    logging_strategy=\"steps\",\n",
    "    logging_steps=train_config[\"trainer\"][\"logging_steps\"],\n",
    "    seed=train_config[\"seed\"],\n",
    "    lr_scheduler_type=train_config[\"trainer\"][\"lr_scheduler_type\"],\n",
    "    warmup_steps=train_config[\"trainer\"][\"warmup_steps\"],\n",
    ")\n",
    "\n",
    "trainer = Trainer(\n",
    "    model=model,\n",
    "    args=training_args,\n",
    "    train_dataset=dataset,\n",
    "    eval_dataset=dataset,\n",
    "    data_collator=data_collator,\n",
    "    compute_metrics=compute_metrics,\n",
    ")"
   ]
  },
  {
   "cell_type": "code",
   "execution_count": null,
   "metadata": {},
   "outputs": [],
   "source": [
    "# torch.set_printoptions(profile=\"full\")\n",
    "torch.set_printoptions(profile=\"default\")\n",
    "\n",
    "\n",
    "gc.collect()\n",
    "if torch.cuda.is_available():\n",
    "    torch.cuda.empty_cache()\n",
    "if torch.backends.mps.is_available():\n",
    "    torch.mps.empty_cache()\n",
    "\n",
    "trainer.train()\n",
    "trainer.evaluate()\n",
    "\n",
    "gc.collect()\n",
    "if torch.cuda.is_available():\n",
    "    torch.cuda.empty_cache()\n",
    "if torch.backends.mps.is_available():\n",
    "    torch.mps.empty_cache()\n",
    "\n",
    "pd.DataFrame(trainer.state.log_history)"
   ]
  },
  {
   "cell_type": "code",
   "execution_count": null,
   "metadata": {},
   "outputs": [],
   "source": []
  }
 ],
 "metadata": {
  "kernelspec": {
   "display_name": "Python 3",
   "language": "python",
   "name": "python3"
  },
  "language_info": {
   "codemirror_mode": {
    "name": "ipython",
    "version": 3
   },
   "file_extension": ".py",
   "mimetype": "text/x-python",
   "name": "python",
   "nbconvert_exporter": "python",
   "pygments_lexer": "ipython3",
   "version": "3.12.0"
  }
 },
 "nbformat": 4,
 "nbformat_minor": 2
}
