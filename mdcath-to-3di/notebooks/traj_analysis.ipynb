{
 "cells": [
  {
   "cell_type": "code",
   "execution_count": null,
   "metadata": {},
   "outputs": [],
   "source": [
    "import MDAnalysis as mda\n",
    "from MDAnalysis.analysis import rms, align\n",
    "import plotly.graph_objects as go\n",
    "import numpy as np\n",
    "import pickle\n",
    "from src.data.plot.plot_mdcath import hamming_distance\n",
    "from Levenshtein import distance as levenshtein_distance"
   ]
  },
  {
   "cell_type": "code",
   "execution_count": null,
   "metadata": {},
   "outputs": [],
   "source": [
    "u = mda.Universe(\"../tmp/output/trajectories/12asA00.pdb\", \n",
    "                 \"../tmp/output/trajectories/12asA00_320_0.xtc\")\n",
    "\n",
    "n_frames = len(u.trajectory)\n",
    "dt = u.trajectory.dt\n",
    "time = np.arange(n_frames) * dt\n",
    "\n",
    "rmsd_values = np.zeros(n_frames)\n",
    "\n",
    "u.trajectory[0]\n",
    "first_frame_coords = u.select_atoms('backbone').positions.copy()\n",
    "\n",
    "ref = u.copy()\n",
    "ref.trajectory[0]\n",
    "\n",
    "aligner = align.AlignTraj(u, ref, select='backbone', in_memory=True)\n",
    "aligner.run()\n",
    "\n",
    "for i, ts in enumerate(u.trajectory):\n",
    "    current_pos = u.select_atoms('backbone').positions\n",
    "    rmsd = rms.rmsd(current_pos, first_frame_coords)\n",
    "    rmsd_values[i] = rmsd\n",
    "\n",
    "fig = go.Figure()\n",
    "fig.add_trace(go.Scatter(x=time, y=rmsd_values,\n",
    "                        mode='lines',\n",
    "                        name='RMSD'))\n",
    "\n",
    "fig.update_layout(\n",
    "    title='Backbone RMSD vs First Frame',\n",
    "    xaxis_title='Time (ps)',\n",
    "    yaxis_title='RMSD (Å)',\n",
    "    showlegend=True,\n",
    "    template='plotly_white'\n",
    ")\n",
    "\n",
    "fig.show()"
   ]
  },
  {
   "cell_type": "code",
   "execution_count": null,
   "metadata": {},
   "outputs": [],
   "source": [
    "\n",
    "\n",
    "u = mda.Universe(\"../tmp/output/trajectories/12asA00.pdb\", \n",
    "                 \"../tmp/output/trajectories/12asA00_320_0.xtc\")\n",
    "\n",
    "n_frames = len(u.trajectory)\n",
    "dt = u.trajectory.dt\n",
    "time = np.arange(n_frames) * dt\n",
    "\n",
    "rmsd_values = np.zeros(n_frames - 1)\n",
    "\n",
    "ref = u.copy()\n",
    "ref.trajectory[0]\n",
    "\n",
    "aligner = align.AlignTraj(u, ref, select='backbone', in_memory=True)\n",
    "aligner.run()\n",
    "\n",
    "prev_pos = None\n",
    "for i, ts in enumerate(u.trajectory):\n",
    "    if i > 0:\n",
    "        current_pos = u.select_atoms('backbone').positions\n",
    "        rmsd = rms.rmsd(current_pos, prev_pos)\n",
    "        rmsd_values[i-1] = rmsd\n",
    "    prev_pos = u.select_atoms('backbone').positions.copy()\n",
    "\n",
    "fig = go.Figure()\n",
    "fig.add_trace(go.Scatter(x=time[1:], y=rmsd_values,\n",
    "                        mode='lines',\n",
    "                        name='RMSD'))\n",
    "\n",
    "fig.update_layout(\n",
    "    title='Backbone RMSD Between Consecutive Frames',\n",
    "    xaxis_title='Time (ps)',\n",
    "    yaxis_title='RMSD (Å)',\n",
    "    showlegend=True,\n",
    "    template='plotly_white'\n",
    ")\n",
    "\n",
    "fig.show()"
   ]
  },
  {
   "cell_type": "code",
   "execution_count": 4,
   "metadata": {},
   "outputs": [],
   "source": [
    "with open('../tmp/data/tokenized/mdcath/mdcath_foldseek_trajectories.pkl', 'rb') as f:\n",
    "    tokenized_mdcath = pickle.load(f)"
   ]
  },
  {
   "cell_type": "code",
   "execution_count": null,
   "metadata": {},
   "outputs": [],
   "source": [
    "print(*tokenized_mdcath['12asA00_320_0'][164:167], sep='\\n')"
   ]
  },
  {
   "cell_type": "code",
   "execution_count": null,
   "metadata": {},
   "outputs": [],
   "source": [
    "print('hi')"
   ]
  },
  {
   "cell_type": "code",
   "execution_count": null,
   "metadata": {},
   "outputs": [],
   "source": [
    "distances = []\n",
    "dist_name = \"Levenshtein\"\n",
    "for i in range(0, len(tokenized_mdcath['12asA00_320_0'])):\n",
    "    distance = levenshtein_distance(tokenized_mdcath['12asA00_320_0'][0], tokenized_mdcath['12asA00_320_0'][i])\n",
    "    distances.append(distance)\n",
    "\n",
    "fig = go.Figure()\n",
    "fig.add_trace(go.Scatter(x=time[1:], y=distances,\n",
    "                        mode='lines',\n",
    "                        name=dist_name))\n",
    "\n",
    "fig.update_layout(\n",
    "    title=f'{dist_name} Distance vs First Frame',\n",
    "    xaxis_title='Time (ps)',\n",
    "    yaxis_title=f'{dist_name} Distance',\n",
    "    showlegend=True,\n",
    "    template='plotly_white'\n",
    ")\n",
    "\n",
    "fig.show()"
   ]
  },
  {
   "cell_type": "code",
   "execution_count": null,
   "metadata": {},
   "outputs": [],
   "source": [
    "# Calculate hamming distances between consecutive frames\n",
    "distances = []\n",
    "dist_name = \"Levenshtein\"\n",
    "for i in range(1, len(tokenized_mdcath['12asA00_320_0'])):\n",
    "    distance = levenshtein_distance(tokenized_mdcath['12asA00_320_0'][i-1], tokenized_mdcath['12asA00_320_0'][i])\n",
    "    distances.append(distance)\n",
    "\n",
    "fig = go.Figure()\n",
    "fig.add_trace(go.Scatter(x=time[1:], y=distances,\n",
    "                        mode='lines',\n",
    "                        name='Distance'))\n",
    "\n",
    "fig.update_layout(\n",
    "    title=f'{dist_name} Distance Between Consecutive Frames',\n",
    "    xaxis_title='Time ', \n",
    "    yaxis_title=f'{dist_name} Distance',\n",
    "    showlegend=True,\n",
    "    template='plotly_white'\n",
    ")\n",
    "\n",
    "fig.show()\n"
   ]
  },
  {
   "cell_type": "code",
   "execution_count": null,
   "metadata": {},
   "outputs": [],
   "source": []
  }
 ],
 "metadata": {
  "kernelspec": {
   "display_name": "Python 3",
   "language": "python",
   "name": "python3"
  },
  "language_info": {
   "codemirror_mode": {
    "name": "ipython",
    "version": 3
   },
   "file_extension": ".py",
   "mimetype": "text/x-python",
   "name": "python",
   "nbconvert_exporter": "python",
   "pygments_lexer": "ipython3",
   "version": "3.12.0"
  }
 },
 "nbformat": 4,
 "nbformat_minor": 2
}
