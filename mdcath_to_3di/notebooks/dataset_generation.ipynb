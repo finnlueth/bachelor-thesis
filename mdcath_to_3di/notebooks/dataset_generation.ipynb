{
 "cells": [
  {
   "cell_type": "code",
   "execution_count": 2,
   "metadata": {},
   "outputs": [],
   "source": [
    "%load_ext autoreload\n",
    "%autoreload 2\n",
    "\n",
    "import multiprocessing\n",
    "import os\n",
    "import pickle\n",
    "import warnings\n",
    "from dataclasses import InitVar, dataclass, field, fields\n",
    "from functools import partial\n",
    "from io import BytesIO\n",
    "\n",
    "import h5py\n",
    "import pyarrow as pa\n",
    "from Bio import BiopythonWarning\n",
    "from datasets import ClassLabel, Dataset, Image, Value, load_dataset\n",
    "from datasets.utils.file_utils import xopen\n",
    "\n",
    "from src.data import foldseek, mdcath_processing\n",
    "\n",
    "warnings.filterwarnings(\"ignore\", category=BiopythonWarning)\n",
    "\n",
    "FILE_PATHS = {\n",
    "    \"3Di\": \"../tmp/data/3Di/\",\n",
    "    \"mdCATH\": \"../tmp/data/mdCATH/\",\n",
    "    \"trajectories\": \"../tmp/data/trajectories/\",\n",
    "    \"cache\": \"../tmp/data/cache/\",\n",
    "}\n",
    "\n",
    "for x in FILE_PATHS.values():\n",
    "    os.makedirs(x, exist_ok=True)"
   ]
  },
  {
   "cell_type": "code",
   "execution_count": 13,
   "metadata": {},
   "outputs": [],
   "source": [
    "# trajectory_url = \"\"\n",
    "\n",
    "# with xopen(trajectory_url, \"rb\") as file:\n",
    "#         bytes_ = BytesIO(file.read())"
   ]
  },
  {
   "cell_type": "code",
   "execution_count": 18,
   "metadata": {},
   "outputs": [
    {
     "name": "stdout",
     "output_type": "stream",
     "text": [
      "1avyB00 320 0\n",
      "1avyB00 320 1\n",
      "1avyB00 348 0\n",
      "1avyB00 348 1\n"
     ]
    }
   ],
   "source": [
    "from src.data.mdcath_processing import extract_mdcath_information\n",
    "\n",
    "tmp_config = {\n",
    "    \"temperatures\": [\"320\", \"348\"],\n",
    "    \"replicas\": [\"0\", \"1\"]\n",
    "}\n",
    "\n",
    "extract_mdcath_information(\n",
    "    file_path=FILE_PATHS['trajectories']+\"mdcath_dataset_1avyB00.h5\",\n",
    "    config=tmp_config)"
   ]
  },
  {
   "cell_type": "code",
   "execution_count": 2,
   "metadata": {},
   "outputs": [
    {
     "data": {
      "application/vnd.jupyter.widget-view+json": {
       "model_id": "e1993813ea6b4e44b3afff9b7c2362b1",
       "version_major": 2,
       "version_minor": 0
      },
      "text/plain": [
       "Resolving data files:   0%|          | 0/5400 [00:00<?, ?it/s]"
      ]
     },
     "metadata": {},
     "output_type": "display_data"
    },
    {
     "name": "stdout",
     "output_type": "stream",
     "text": [
      "No state found 0\n"
     ]
    }
   ],
   "source": [
    "dataset_mdcath = load_dataset(\"compsciencelab/mdCATH\", split=\"train\", streaming=True)\n",
    "dataset_mdcath = dataset_mdcath.cast_column(\"image\", Image(decode=False))\n",
    "\n",
    "path_state_dict = \"../tmp/data/3Di/_state.pkl\"\n",
    "\n",
    "if os.path.exists(path_state_dict):\n",
    "    with open(path_state_dict, \"rb\") as f:\n",
    "        state = pickle.load(f)\n",
    "    print(\"State loaded,\", state)\n",
    "    dataset_mdcath = dataset_mdcath.skip(state)\n",
    "else:\n",
    "    state = 0\n",
    "    print(\"No state found\", state)"
   ]
  },
  {
   "cell_type": "code",
   "execution_count": 3,
   "metadata": {},
   "outputs": [
    {
     "name": "stdout",
     "output_type": "stream",
     "text": [
      "Elapsed time: 328.3863 seconds\n"
     ]
    },
    {
     "name": "stderr",
     "output_type": "stream",
     "text": [
      "/Users/finnlueth/Developer/gits/bachelor-thesis/mdcath_to_3di/.venv/lib/python3.12/site-packages/Bio/PDB/PDBParser.py:384: PDBConstructionWarning: Ignoring unrecognized record 'END' at line 919\n",
      "  warnings.warn(\n"
     ]
    },
    {
     "name": "stdout",
     "output_type": "stream",
     "text": [
      "Elapsed time: 0.9007 seconds\n",
      "Elapsed time: 0.1924 seconds\n",
      "Elapsed time: 397.9927 seconds\n"
     ]
    },
    {
     "name": "stderr",
     "output_type": "stream",
     "text": [
      "/Users/finnlueth/Developer/gits/bachelor-thesis/mdcath_to_3di/.venv/lib/python3.12/site-packages/Bio/PDB/PDBParser.py:384: PDBConstructionWarning: Ignoring unrecognized record 'END' at line 1013\n",
      "  warnings.warn(\n"
     ]
    },
    {
     "name": "stdout",
     "output_type": "stream",
     "text": [
      "Elapsed time: 1.4628 seconds\n",
      "Elapsed time: 0.3007 seconds\n",
      "Elapsed time: 429.2657 seconds\n"
     ]
    },
    {
     "name": "stderr",
     "output_type": "stream",
     "text": [
      "/Users/finnlueth/Developer/gits/bachelor-thesis/mdcath_to_3di/.venv/lib/python3.12/site-packages/Bio/PDB/PDBParser.py:384: PDBConstructionWarning: Ignoring unrecognized record 'END' at line 1341\n",
      "  warnings.warn(\n"
     ]
    },
    {
     "name": "stdout",
     "output_type": "stream",
     "text": [
      "Elapsed time: 1.3457 seconds\n",
      "Elapsed time: 0.2384 seconds\n",
      "Elapsed time: 576.5274 seconds\n"
     ]
    },
    {
     "name": "stderr",
     "output_type": "stream",
     "text": [
      "/Users/finnlueth/Developer/gits/bachelor-thesis/mdcath_to_3di/.venv/lib/python3.12/site-packages/Bio/PDB/PDBParser.py:384: PDBConstructionWarning: Ignoring unrecognized record 'END' at line 2011\n",
      "  warnings.warn(\n"
     ]
    },
    {
     "name": "stdout",
     "output_type": "stream",
     "text": [
      "Elapsed time: 1.8924 seconds\n",
      "Elapsed time: 0.2091 seconds\n",
      "Elapsed time: 323.6645 seconds\n"
     ]
    },
    {
     "name": "stderr",
     "output_type": "stream",
     "text": [
      "/Users/finnlueth/Developer/gits/bachelor-thesis/mdcath_to_3di/.venv/lib/python3.12/site-packages/Bio/PDB/PDBParser.py:384: PDBConstructionWarning: Ignoring unrecognized record 'END' at line 1120\n",
      "  warnings.warn(\n"
     ]
    },
    {
     "name": "stdout",
     "output_type": "stream",
     "text": [
      "Elapsed time: 1.0554 seconds\n",
      "Elapsed time: 0.1486 seconds\n",
      "Elapsed time: 786.6145 seconds\n"
     ]
    },
    {
     "name": "stderr",
     "output_type": "stream",
     "text": [
      "/Users/finnlueth/Developer/gits/bachelor-thesis/mdcath_to_3di/.venv/lib/python3.12/site-packages/Bio/PDB/PDBParser.py:384: PDBConstructionWarning: Ignoring unrecognized record 'END' at line 2858\n",
      "  warnings.warn(\n"
     ]
    },
    {
     "name": "stdout",
     "output_type": "stream",
     "text": [
      "Elapsed time: 2.7971 seconds\n",
      "Elapsed time: 0.2389 seconds\n",
      "Elapsed time: 835.0794 seconds\n"
     ]
    },
    {
     "name": "stderr",
     "output_type": "stream",
     "text": [
      "/Users/finnlueth/Developer/gits/bachelor-thesis/mdcath_to_3di/.venv/lib/python3.12/site-packages/Bio/PDB/PDBParser.py:384: PDBConstructionWarning: Ignoring unrecognized record 'END' at line 3184\n",
      "  warnings.warn(\n"
     ]
    },
    {
     "name": "stdout",
     "output_type": "stream",
     "text": [
      "Elapsed time: 3.1871 seconds\n",
      "Elapsed time: 0.2277 seconds\n",
      "Elapsed time: 1082.0669 seconds\n"
     ]
    },
    {
     "name": "stderr",
     "output_type": "stream",
     "text": [
      "/Users/finnlueth/Developer/gits/bachelor-thesis/mdcath_to_3di/.venv/lib/python3.12/site-packages/Bio/PDB/PDBParser.py:384: PDBConstructionWarning: Ignoring unrecognized record 'END' at line 5094\n",
      "  warnings.warn(\n"
     ]
    },
    {
     "name": "stdout",
     "output_type": "stream",
     "text": [
      "Elapsed time: 4.7903 seconds\n",
      "Elapsed time: 0.5071 seconds\n",
      "Elapsed time: 1123.8518 seconds\n"
     ]
    },
    {
     "name": "stderr",
     "output_type": "stream",
     "text": [
      "/Users/finnlueth/Developer/gits/bachelor-thesis/mdcath_to_3di/.venv/lib/python3.12/site-packages/Bio/PDB/PDBParser.py:384: PDBConstructionWarning: Ignoring unrecognized record 'END' at line 5445\n",
      "  warnings.warn(\n"
     ]
    },
    {
     "name": "stdout",
     "output_type": "stream",
     "text": [
      "Elapsed time: 5.1936 seconds\n",
      "Elapsed time: 0.4152 seconds\n",
      "Elapsed time: 1156.6098 seconds\n"
     ]
    },
    {
     "name": "stderr",
     "output_type": "stream",
     "text": [
      "/Users/finnlueth/Developer/gits/bachelor-thesis/mdcath_to_3di/.venv/lib/python3.12/site-packages/Bio/PDB/PDBParser.py:384: PDBConstructionWarning: Ignoring unrecognized record 'END' at line 6203\n",
      "  warnings.warn(\n"
     ]
    },
    {
     "name": "stdout",
     "output_type": "stream",
     "text": [
      "Elapsed time: 5.7324 seconds\n",
      "Elapsed time: 0.4725 seconds\n",
      "{'num_taken': 10, 'ex_iterable': {'shard_idx': 9, 'shard_example_idx': 1}}\n",
      "State saved 10\n"
     ]
    }
   ],
   "source": [
    "iterations = 10\n",
    "dataset_mdcath = dataset_mdcath.take(iterations)\n",
    "\n",
    "print(\"CPU Count: \", multiprocessing.cpu_count())\n",
    "\n",
    "pool = multiprocessing.Pool(processes=multiprocessing.cpu_count() - 1 or 1)\n",
    "process_config = {\n",
    "    \"traj_temp\": \"320\",\n",
    "    \"traj_sim\": \"0\",\n",
    "}\n",
    "dataset_mdcath_mapped = pool.map(\n",
    "    partial(mdcath_processing.download_process, config=process_config),\n",
    "    dataset_mdcath,\n",
    ")\n",
    "pool.close()\n",
    "pool.join()\n",
    "\n",
    "state = state + iterations\n",
    "with open(path_state_dict, \"wb\") as f:\n",
    "    pickle.dump(state, f)\n",
    "print(dataset_mdcath.state_dict())\n",
    "print(\"State saved\", state)"
   ]
  },
  {
   "cell_type": "code",
   "execution_count": 4,
   "metadata": {},
   "outputs": [],
   "source": [
    "# from src.data import foldseek, mdcath_processing\n",
    "# import h5py\n",
    "\n",
    "# file_path = \"../tmp/data/traj/mdcath_dataset_1avyB00.h5\"\n",
    "# process_config = {\n",
    "#     \"traj_temp\": \"320\",\n",
    "#     \"traj_sim\": \"0\",\n",
    "# }\n",
    "\n",
    "# data = mdcath_processing.extract_dataset_information(file_path, traj_temp=process_config[\"traj_temp\"], traj_sim=process_config[\"traj_sim\"])\n",
    "# mdcath_processing.mdcath_process(data)"
   ]
  },
  {
   "cell_type": "code",
   "execution_count": null,
   "metadata": {},
   "outputs": [],
   "source": []
  }
 ],
 "metadata": {
  "kernelspec": {
   "display_name": "Python 3",
   "language": "python",
   "name": "python3"
  },
  "language_info": {
   "codemirror_mode": {
    "name": "ipython",
    "version": 3
   },
   "file_extension": ".py",
   "mimetype": "text/x-python",
   "name": "python",
   "nbconvert_exporter": "python",
   "pygments_lexer": "ipython3",
   "version": "3.12.0"
  }
 },
 "nbformat": 4,
 "nbformat_minor": 2
}
