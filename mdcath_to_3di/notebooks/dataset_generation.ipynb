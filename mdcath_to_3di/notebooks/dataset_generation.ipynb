{
 "cells": [
  {
   "cell_type": "code",
   "execution_count": 1,
   "metadata": {},
   "outputs": [],
   "source": [
    "%load_ext autoreload\n",
    "%autoreload 2"
   ]
  },
  {
   "cell_type": "code",
   "execution_count": 2,
   "metadata": {},
   "outputs": [],
   "source": [
    "from src.data.foldseek import (\n",
    "    get_foldseek_onehot,\n",
    "    get_3di_sequences_from_file,\n",
    "    get_3di_sequences_from_memory,\n",
    ")\n",
    "from src.data.utils import extract_dataset_information, replace_coordinates_in_pdb\n",
    "from datasets import load_dataset\n",
    "from datasets import Dataset, ClassLabel, Value, Image\n",
    "import pickle\n",
    "import pyarrow as pa\n",
    "import h5py\n",
    "from dataclasses import InitVar, dataclass, field, fields\n",
    "\n",
    "from datasets.utils.file_utils import xopen\n",
    "from io import BytesIO\n",
    "import multiprocessing\n",
    "\n",
    "import warnings\n",
    "from Bio import BiopythonWarning\n",
    "\n",
    "warnings.filterwarnings(\"ignore\", category=BiopythonWarning)"
   ]
  },
  {
   "cell_type": "code",
   "execution_count": 5,
   "metadata": {},
   "outputs": [
    {
     "data": {
      "application/vnd.jupyter.widget-view+json": {
       "model_id": "2f809871789848949dd253396e878804",
       "version_major": 2,
       "version_minor": 0
      },
      "text/plain": [
       "Resolving data files:   0%|          | 0/5400 [00:00<?, ?it/s]"
      ]
     },
     "metadata": {},
     "output_type": "display_data"
    }
   ],
   "source": [
    "md_cath_dataset = load_dataset('compsciencelab/mdCATH', split='train', streaming=True)\n",
    "md_cath_dataset = md_cath_dataset.cast_column(\"image\", Image(decode=False))"
   ]
  },
  {
   "cell_type": "code",
   "execution_count": 19,
   "metadata": {},
   "outputs": [
    {
     "name": "stdout",
     "output_type": "stream",
     "text": [
      "{'num_taken': 8, 'ex_iterable': {'num_taken': 8, 'ex_iterable': {'num_taken': 8, 'ex_iterable': {'num_taken': 8, 'ex_iterable': {'num_taken': 8, 'ex_iterable': {'num_taken': 8, 'ex_iterable': {'num_taken': 8, 'ex_iterable': {'num_taken': 8, 'ex_iterable': {'num_taken': 8, 'ex_iterable': {'num_taken': 8, 'ex_iterable': {'num_taken': 8, 'ex_iterable': {'shard_idx': 7, 'shard_example_idx': 1}}}}}}}}}}}}\n"
     ]
    }
   ],
   "source": []
  },
  {
   "cell_type": "code",
   "execution_count": 23,
   "metadata": {},
   "outputs": [
    {
     "ename": "KeyError",
     "evalue": "'num_taken'",
     "output_type": "error",
     "traceback": [
      "\u001b[0;31m---------------------------------------------------------------------------\u001b[0m",
      "\u001b[0;31mKeyError\u001b[0m                                  Traceback (most recent call last)",
      "Cell \u001b[0;32mIn[23], line 3\u001b[0m\n\u001b[1;32m      1\u001b[0m \u001b[38;5;28;01mwith\u001b[39;00m \u001b[38;5;28mopen\u001b[39m(\u001b[38;5;124m'\u001b[39m\u001b[38;5;124m../data/3Di/_state_dict.pkl\u001b[39m\u001b[38;5;124m'\u001b[39m, \u001b[38;5;124m'\u001b[39m\u001b[38;5;124mrb\u001b[39m\u001b[38;5;124m'\u001b[39m) \u001b[38;5;28;01mas\u001b[39;00m f:\n\u001b[1;32m      2\u001b[0m     state_dict \u001b[38;5;241m=\u001b[39m pickle\u001b[38;5;241m.\u001b[39mload(f)\n\u001b[0;32m----> 3\u001b[0m \u001b[43mmd_cath_dataset\u001b[49m\u001b[38;5;241;43m.\u001b[39;49m\u001b[43mload_state_dict\u001b[49m\u001b[43m(\u001b[49m\u001b[43mstate_dict\u001b[49m\u001b[43m)\u001b[49m\n\u001b[1;32m      4\u001b[0m \u001b[38;5;28mprint\u001b[39m(state_dict)\n\u001b[1;32m      6\u001b[0m \u001b[38;5;66;03m# md_cath_dataset = md_cath_dataset.skip(state_dict['num_taken'])\u001b[39;00m\n",
      "File \u001b[0;32m~/dev/bachelor-thesis/mdcath_to_3di/.venv/lib/python3.12/site-packages/datasets/iterable_dataset.py:1848\u001b[0m, in \u001b[0;36mIterableDataset.load_state_dict\u001b[0;34m(self, state_dict)\u001b[0m\n\u001b[1;32m   1800\u001b[0m \u001b[38;5;28;01mdef\u001b[39;00m \u001b[38;5;21mload_state_dict\u001b[39m(\u001b[38;5;28mself\u001b[39m, state_dict: \u001b[38;5;28mdict\u001b[39m) \u001b[38;5;241m-\u001b[39m\u001b[38;5;241m>\u001b[39m \u001b[38;5;28;01mNone\u001b[39;00m:\n\u001b[1;32m   1801\u001b[0m \u001b[38;5;250m    \u001b[39m\u001b[38;5;124;03m\"\"\"Load the state_dict of the dataset.\u001b[39;00m\n\u001b[1;32m   1802\u001b[0m \u001b[38;5;124;03m    The iteration will restart at the next example from when the state was saved.\u001b[39;00m\n\u001b[1;32m   1803\u001b[0m \n\u001b[0;32m   (...)\u001b[0m\n\u001b[1;32m   1846\u001b[0m \u001b[38;5;124;03m    ```\u001b[39;00m\n\u001b[1;32m   1847\u001b[0m \u001b[38;5;124;03m    \"\"\"\u001b[39;00m\n\u001b[0;32m-> 1848\u001b[0m     \u001b[38;5;28;43mself\u001b[39;49m\u001b[38;5;241;43m.\u001b[39;49m\u001b[43m_prepared_ex_iterable\u001b[49m\u001b[38;5;241;43m.\u001b[39;49m\u001b[43mload_state_dict\u001b[49m\u001b[43m(\u001b[49m\u001b[43mstate_dict\u001b[49m\u001b[43m)\u001b[49m\n\u001b[1;32m   1849\u001b[0m     \u001b[38;5;28mself\u001b[39m\u001b[38;5;241m.\u001b[39m_starting_state_dict \u001b[38;5;241m=\u001b[39m state_dict\n",
      "File \u001b[0;32m~/dev/bachelor-thesis/mdcath_to_3di/.venv/lib/python3.12/site-packages/datasets/iterable_dataset.py:167\u001b[0m, in \u001b[0;36m_BaseExamplesIterable.load_state_dict\u001b[0;34m(self, state_dict)\u001b[0m\n\u001b[1;32m    164\u001b[0m         \u001b[38;5;28;01mreturn\u001b[39;00m state\n\u001b[1;32m    165\u001b[0m     \u001b[38;5;28;01mreturn\u001b[39;00m new_state\n\u001b[0;32m--> 167\u001b[0m \u001b[38;5;28;01mreturn\u001b[39;00m \u001b[43m_inner_load_state_dict\u001b[49m\u001b[43m(\u001b[49m\u001b[38;5;28;43mself\u001b[39;49m\u001b[38;5;241;43m.\u001b[39;49m\u001b[43m_state_dict\u001b[49m\u001b[43m,\u001b[49m\u001b[43m \u001b[49m\u001b[43mstate_dict\u001b[49m\u001b[43m)\u001b[49m\n",
      "File \u001b[0;32m~/dev/bachelor-thesis/mdcath_to_3di/.venv/lib/python3.12/site-packages/datasets/iterable_dataset.py:159\u001b[0m, in \u001b[0;36m_BaseExamplesIterable.load_state_dict.<locals>._inner_load_state_dict\u001b[0;34m(state, new_state)\u001b[0m\n\u001b[1;32m    157\u001b[0m \u001b[38;5;28;01mif\u001b[39;00m new_state \u001b[38;5;129;01mis\u001b[39;00m \u001b[38;5;129;01mnot\u001b[39;00m \u001b[38;5;28;01mNone\u001b[39;00m \u001b[38;5;129;01mand\u001b[39;00m \u001b[38;5;28misinstance\u001b[39m(state, \u001b[38;5;28mdict\u001b[39m):\n\u001b[1;32m    158\u001b[0m     \u001b[38;5;28;01mfor\u001b[39;00m key \u001b[38;5;129;01min\u001b[39;00m new_state:\n\u001b[0;32m--> 159\u001b[0m         state[key] \u001b[38;5;241m=\u001b[39m _inner_load_state_dict(\u001b[43mstate\u001b[49m\u001b[43m[\u001b[49m\u001b[43mkey\u001b[49m\u001b[43m]\u001b[49m, new_state[key])\n\u001b[1;32m    160\u001b[0m     \u001b[38;5;28;01mreturn\u001b[39;00m state\n\u001b[1;32m    161\u001b[0m \u001b[38;5;28;01melif\u001b[39;00m new_state \u001b[38;5;129;01mis\u001b[39;00m \u001b[38;5;129;01mnot\u001b[39;00m \u001b[38;5;28;01mNone\u001b[39;00m \u001b[38;5;129;01mand\u001b[39;00m \u001b[38;5;28misinstance\u001b[39m(state, \u001b[38;5;28mlist\u001b[39m):\n",
      "\u001b[0;31mKeyError\u001b[0m: 'num_taken'"
     ]
    }
   ],
   "source": [
    "with open('../data/3Di/_state_dict.pkl', 'rb') as f:\n",
    "    state_dict = pickle.load(f)\n",
    "md_cath_dataset.load_state_dict(state_dict)\n",
    "print(state_dict)\n",
    "\n",
    "# md_cath_dataset = md_cath_dataset.skip(state_dict['num_taken'])\n",
    "\n",
    "def process_mdcath_from_hf(value: dict):\n",
    "    with xopen(value['image']['path'], \"rb\") as file:\n",
    "        bytes_ = BytesIO(file.read())\n",
    "        \n",
    "    data = extract_dataset_information(bytes_)\n",
    "    \n",
    "    items = []\n",
    "    for x in range(0, len(data[\"coords\"])):\n",
    "        new = replace_coordinates_in_pdb(\n",
    "            original_pdb=data[\"pdb\"], new_coordinates=data[\"coords\"][x]\n",
    "        )\n",
    "        items.append(new)\n",
    "        \n",
    "    file_path = f\"../data/3Di/{data['name']}.fasta\"\n",
    "\n",
    "    with open(file_path, \"w\") as file:\n",
    "        file.write(f\">{data['name']}|{data['seq']}\\n\" + \"\\n\".join(get_3di_sequences_from_memory(pdb_files=items)))\n",
    "    print(data['name'])\n",
    "    return value\n",
    "\n",
    "# md_cath_dataset_mapped = md_cath_dataset.map(process_mdcath_from_hf, num_proc=8)\n",
    "\n",
    "\n",
    "pool = multiprocessing.Pool(processes=8)\n",
    "md_cath_dataset_mapped = pool.map(process_mdcath_from_hf, md_cath_dataset)\n",
    "pool.close()\n",
    "pool.join()\n",
    "\n",
    "\n",
    "state_dict = md_cath_dataset.state_dict()\n",
    "with open('../data/3Di/_state_dict.pkl', 'wb') as f:\n",
    "    pickle.dump(state_dict, f)\n",
    "print(state_dict)\n",
    "\n",
    "\n",
    "\"\"\"\n",
    "1a02F00\n",
    "153lA00\n",
    "16pkA02\n",
    "12asA00\n",
    "1a0aA00\n",
    "1a0hA01\n",
    "1a0rP01\n",
    "1a05A00\n",
    "\"\"\"\n",
    "\n",
    "\n",
    "\"\"\"\n",
    "1a02F00\n",
    "16pkA02\n",
    "153lA00\n",
    "1a0aA00\n",
    "12asA00\n",
    "1a0hA01\n",
    "1a0rP01\n",
    "1a05A00\n",
    "\"\"\""
   ]
  },
  {
   "cell_type": "code",
   "execution_count": null,
   "metadata": {},
   "outputs": [],
   "source": [
    "# @dataclass\n",
    "# class HDF5:\n",
    "#     decode: bool = True\n",
    "    \n",
    "#     def __repr__(self):\n",
    "#         return 'dict'\n",
    "    \n",
    "#     def decode_example(self, value: dict, token_per_repo_id=None):\n",
    "#         print('decoding...')\n",
    "#         return 'decoded example'\n",
    "\n",
    "# md_cath_dataset = md_cath_dataset.cast_column(\"image\", HDF5())\n",
    "# md_cath_dataset = md_cath_dataset.rename_column(\"image\", \"hdf5\")\n",
    "\n",
    "\n",
    "# item_name = \"mdcath_dataset_1avyB00.h5\"\n",
    "# matching_item = md_cath_dataset.filter(lambda example: item_name in example['file_name'])\n",
    "\n",
    "\n",
    "\n",
    "# md_cath_dataset = md_cath_dataset.cast_column(\"image\", Image(decode=False))\n",
    "# md_cath_dataset = md_cath_dataset.cast_column(\"image\", dict)\n",
    "# md_cath_dataset = md_cath_dataset.rename_column(\"image\", \"mdcath\")\n",
    "\n",
    "\n",
    "\n",
    "\n",
    "# item = item.cast_column(\"image\", Image(decode=False))\n",
    "# md_cath_dataset = md_cath_dataset.rename_column(\"image\", \"mdcath\")\n",
    "\n",
    "\n",
    "# item.info.builder_name= None\n",
    "\n",
    "\n",
    "# ds_item = next(iter(md_cath_dataset))\n",
    "\n",
    "\n",
    "\n",
    "# md_cath_dataset.info\n",
    "\n",
    "\n",
    "\n",
    "# \"mdcath_dataset_1avyB00.h5\""
   ]
  },
  {
   "cell_type": "markdown",
   "metadata": {},
   "source": [
    "---"
   ]
  },
  {
   "cell_type": "code",
   "execution_count": null,
   "metadata": {},
   "outputs": [],
   "source": []
  },
  {
   "cell_type": "code",
   "execution_count": null,
   "metadata": {},
   "outputs": [],
   "source": []
  },
  {
   "cell_type": "code",
   "execution_count": null,
   "metadata": {},
   "outputs": [],
   "source": []
  },
  {
   "cell_type": "code",
   "execution_count": null,
   "metadata": {},
   "outputs": [],
   "source": []
  },
  {
   "cell_type": "code",
   "execution_count": null,
   "metadata": {},
   "outputs": [],
   "source": [
    "# # md_cath_dataset = Dataset.from_dict({\"a\": range(10)}).to_iterable_dataset(num_shards=3)\n",
    "\n",
    "# for idx, data in enumerate(md_cath_dataset):\n",
    "#     data = h5py.File(data, 'r')\n",
    "#     print(data.keys())\n",
    "#     # data = extract_dataset_information(\n",
    "#     #     file_path=f\"../data/mdcath/mdcath_dataset_{item}.h5\",\n",
    "#     # )\n",
    "\n",
    "#     # items = []\n",
    "#     # for x in range(0, len(data[item][\"coords\"])):\n",
    "#     #     new = replace_coordinates_in_pdb(\n",
    "#     #         original_pdb=data[item][\"pdb\"], new_coordinates=data[item][\"coords\"][x]\n",
    "#     #     )\n",
    "#     #     items.append(new)\n",
    "        \n",
    "#     # file_path = f\"../data/3Di/{item}.fasta\"\n",
    "\n",
    "#     # with open(file_path, \"w\") as file:\n",
    "#     #     file.write(f\">{item}|{data[item]['seq']}\\n\" + \"\\n\".join(get_3di_sequences_from_memory(pdb_files=items)))\n",
    "    \n",
    "#     if idx == 0:\n",
    "#         state_dict = md_cath_dataset.state_dict()\n",
    "#         break\n",
    "\n",
    "\n",
    "# with open('../data/3Di/_state_dict.pkl', 'wb') as f:\n",
    "#     pickle.dump(state_dict, f)"
   ]
  },
  {
   "cell_type": "code",
   "execution_count": null,
   "metadata": {},
   "outputs": [],
   "source": []
  },
  {
   "cell_type": "code",
   "execution_count": null,
   "metadata": {},
   "outputs": [],
   "source": [
    "# state_dict"
   ]
  },
  {
   "cell_type": "code",
   "execution_count": null,
   "metadata": {},
   "outputs": [],
   "source": [
    "# ds_item = next(iter(md_cath_dataset))"
   ]
  }
 ],
 "metadata": {
  "kernelspec": {
   "display_name": "Python 3",
   "language": "python",
   "name": "python3"
  },
  "language_info": {
   "codemirror_mode": {
    "name": "ipython",
    "version": 3
   },
   "file_extension": ".py",
   "mimetype": "text/x-python",
   "name": "python",
   "nbconvert_exporter": "python",
   "pygments_lexer": "ipython3",
   "version": "3.12.0"
  }
 },
 "nbformat": 4,
 "nbformat_minor": 2
}
