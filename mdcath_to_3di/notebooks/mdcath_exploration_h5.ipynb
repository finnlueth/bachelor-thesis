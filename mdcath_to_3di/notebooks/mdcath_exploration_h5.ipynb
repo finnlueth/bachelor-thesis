{
 "cells": [
  {
   "cell_type": "code",
   "execution_count": null,
   "metadata": {},
   "outputs": [],
   "source": [
    "import h5py\n",
    "import pandas as pd"
   ]
  },
  {
   "cell_type": "code",
   "execution_count": null,
   "metadata": {},
   "outputs": [],
   "source": [
    "def h5_tree(val, pre=''):\n",
    "    output = ''\n",
    "    items = len(val)\n",
    "    for key, val in val.items():\n",
    "        items -= 1\n",
    "        if items == 0:\n",
    "            if type(val) == h5py._hl.group.Group:\n",
    "                output += pre + '└── ' + key + '\\n'\n",
    "                output += h5_tree(val, pre+'    ')\n",
    "            else:\n",
    "                try:\n",
    "                    output += pre + '└── ' + key + ' (%d)\\n' % len(val)\n",
    "                except TypeError:\n",
    "                    output += pre + '└── ' + key + ' (scalar)\\n'\n",
    "        else:\n",
    "            if type(val) == h5py._hl.group.Group:\n",
    "                output += pre + '├── ' + key + '\\n'\n",
    "                output += h5_tree(val, pre+'│   ')\n",
    "            else:\n",
    "                try:\n",
    "                    output += pre + '├── ' + key + ' (%d)\\n' % len(val)\n",
    "                except TypeError:\n",
    "                    output += pre + '├── ' + key + ' (scalar)\\n'\n",
    "    return output\n"
   ]
  },
  {
   "cell_type": "code",
   "execution_count": null,
   "metadata": {},
   "outputs": [],
   "source": [
    "file_path = \"../data/mdcath_dataset_1a0rP01.h5\"\n",
    "\n",
    "with h5py.File(file_path, \"r\") as file:\n",
    "    print(h5_tree(file))\n",
    "    print(file['1a0rP01']['pdb'])"
   ]
  },
  {
   "cell_type": "code",
   "execution_count": null,
   "metadata": {},
   "outputs": [],
   "source": [
    "# with h5py.File(file_path, \"r\") as file:\n",
    "#     print(file['1a0rP01']['pdb'][()].decode(\"utf-8\"))\n",
    "#     text = file['1a0rP01']['pdb'][()].decode(\"utf-8\")\n",
    "\n",
    "#     out_dir = '../data/output.pdb'\n",
    "#     with open(out_dir, 'w') as f:\n",
    "#         f.write(text)"
   ]
  },
  {
   "cell_type": "code",
   "execution_count": null,
   "metadata": {},
   "outputs": [],
   "source": [
    "# with h5py.File(file_path, \"r\") as file:\n",
    "#     tag = 'pdbProteinAtoms'\n",
    "#     print(file['1a0rP01'][tag][()].decode(\"utf-8\"))\n",
    "#     text = file['1a0rP01'][tag][()].decode(\"utf-8\")\n",
    "    \n",
    "#     # out_dir = '../data/output2.pdb'\n",
    "#     # with open(out_dir, 'w') as f:\n",
    "#     #     f.write(text)"
   ]
  },
  {
   "cell_type": "code",
   "execution_count": null,
   "metadata": {},
   "outputs": [],
   "source": [
    "with h5py.File(file_path, \"r\") as file:\n",
    "    tag = 'chain'\n",
    "    item = file['1a0rP01'][tag][()]"
   ]
  },
  {
   "cell_type": "code",
   "execution_count": null,
   "metadata": {},
   "outputs": [],
   "source": [
    "pd.DataFrame(item, columns=['chain'])['chain'].value_counts()"
   ]
  },
  {
   "cell_type": "code",
   "execution_count": null,
   "metadata": {},
   "outputs": [],
   "source": [
    "with h5py.File(file_path, \"r\") as file:\n",
    "    tag0 = '320'\n",
    "    tag1 = '0'\n",
    "    tag2 = 'gyrationRadius'\n",
    "    item = file['1a0rP01'][tag0][tag1][tag2][()]\n",
    "item, item.shape"
   ]
  }
 ],
 "metadata": {
  "language_info": {
   "name": "python"
  }
 },
 "nbformat": 4,
 "nbformat_minor": 2
}
