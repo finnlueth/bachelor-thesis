{
 "cells": [
  {
   "cell_type": "code",
   "execution_count": null,
   "metadata": {},
   "outputs": [],
   "source": [
    "%load_ext autoreload\n",
    "%autoreload 2"
   ]
  },
  {
   "cell_type": "code",
   "execution_count": null,
   "metadata": {},
   "outputs": [],
   "source": [
    "import nglview as nv\n",
    "import MDAnalysis as mda\n",
    "import h5py\n",
    "import pandas as pd\n",
    "import numpy as np\n",
    "import io, os"
   ]
  },
  {
   "cell_type": "code",
   "execution_count": null,
   "metadata": {},
   "outputs": [],
   "source": [
    "traj_name = \"1a0rP01\"\n",
    "temperature = \"320\"\n",
    "replica = \"0\"\n",
    "file_path = f\"../data/mdcath/mdcath_dataset_{traj_name}.h5\""
   ]
  },
  {
   "cell_type": "code",
   "execution_count": null,
   "metadata": {},
   "outputs": [],
   "source": [
    "with h5py.File(file_path, \"r\") as file:\n",
    "    pdb = file[traj_name]['pdbProteinAtoms'][()].decode(\"utf-8\")\n",
    "    nxyz = file[traj_name][temperature][replica]['coords'][()]"
   ]
  },
  {
   "cell_type": "code",
   "execution_count": null,
   "metadata": {},
   "outputs": [],
   "source": [
    "u = mda.Universe(io.StringIO(pdb), format='PDB')\n",
    "u.load_new(nxyz)"
   ]
  },
  {
   "cell_type": "code",
   "execution_count": null,
   "metadata": {},
   "outputs": [],
   "source": [
    "view = nv.show_mdanalysis(u)\n",
    "view"
   ]
  },
  {
   "cell_type": "code",
   "execution_count": null,
   "metadata": {},
   "outputs": [],
   "source": [
    "from MDAnalysis.analysis import align\n",
    "\n",
    "u.trajectory[0]\n",
    "reference = u.select_atoms('protein')\n",
    "\n",
    "aligner = align.AlignTraj(u, reference, select='protein', in_memory=True).run()\n",
    "aligner"
   ]
  },
  {
   "cell_type": "code",
   "execution_count": null,
   "metadata": {},
   "outputs": [],
   "source": [
    "view = nv.show_mdanalysis(u)\n",
    "view"
   ]
  },
  {
   "cell_type": "code",
   "execution_count": null,
   "metadata": {},
   "outputs": [],
   "source": [
    "output_path = f\"../data/files/{traj_name}_trajectory_aligned.dcd\"\n",
    "with mda.Writer(output_path, u.atoms.n_atoms) as writer:\n",
    "    for ts in u.trajectory:\n",
    "        writer.write(u.atoms)"
   ]
  },
  {
   "cell_type": "code",
   "execution_count": null,
   "metadata": {},
   "outputs": [],
   "source": []
  }
 ],
 "metadata": {
  "kernelspec": {
   "display_name": "Python 3",
   "language": "python",
   "name": "python3"
  },
  "language_info": {
   "codemirror_mode": {
    "name": "ipython",
    "version": 3
   },
   "file_extension": ".py",
   "mimetype": "text/x-python",
   "name": "python",
   "nbconvert_exporter": "python",
   "pygments_lexer": "ipython3",
   "version": "3.12.0"
  }
 },
 "nbformat": 4,
 "nbformat_minor": 2
}
