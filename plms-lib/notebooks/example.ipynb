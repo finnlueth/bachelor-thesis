{
 "cells": [
  {
   "cell_type": "code",
   "execution_count": 1,
   "metadata": {},
   "outputs": [],
   "source": [
    "%reload_ext autoreload\n",
    "%autoreload 2\n",
    "\n",
    "import os\n",
    "\n",
    "os.environ[\"CUDA_DEVICE_ORDER\"] = \"PCI_BUS_ID\"\n",
    "os.environ[\"CUDA_VISIBLE_DEVICES\"] = \"3\"\n",
    "\n",
    "import torch\n",
    "import pandas as pd\n",
    "\n",
    "from plms.configurations.configuration_base_plm import PLMConfig\n",
    "from plms.models import auto_model, auto_tokenizer\n",
    "from plms.models.T5.modeling_protT5 import ProtT5\n",
    "from plms.models.T5.tokenization_protT5 import ProtT5Tokenizer"
   ]
  },
  {
   "cell_type": "code",
   "execution_count": 2,
   "metadata": {},
   "outputs": [],
   "source": [
    "# model_name = \"Rostlab/prot_t5_xl_uniref50\"\n",
    "model_name = \"Rostlab/ProstT5\"\n",
    "\n",
    "tokenizer = auto_tokenizer(model_name)\n",
    "# Or for more explicity:\n",
    "# tokenizer = ProtT5Tokenizer(name_or_path=\"Rostlab/prot_t5_xl_uniref50\")\n",
    "\n",
    "\n",
    "model = auto_model(model_name=model_name)\n",
    "# Or for more explicity:\n",
    "# model = ProtT5(name_or_path=\"Rostlab/prot_t5_xl_uniref50\")\n",
    "# Or with a config:\n",
    "# config=PLMConfig(name_or_path=\"Rostlab/prot_t5_xl_uniref50\")\n",
    "# model = ProtT5(config=config)"
   ]
  },
  {
   "cell_type": "code",
   "execution_count": null,
   "metadata": {},
   "outputs": [],
   "source": [
    "sequence_fasta = \"\"\">seq1\n",
    "ACDEFGHIKLMNPQRSTVWY\n",
    "ACDEFGHIKLMNPQRSTVWY\n",
    "ACDEFGHIKLMNPQRSTVWY\n",
    "ACDEFGHIKLMNPQRSTVWY\n",
    ">seq2\n",
    "ACDEFGHIKLMNPQRSTVWY\n",
    ">seq3\n",
    "acdefghiklmnpqrstvwy\n",
    "acdefghiklmnpqrstvwy\n",
    "\"\"\"\n",
    "sequence_strings = [\"ACDEFGHIKLMNPQRSTVWYO\", \"ACDEFGHIKLMNPQRSTVWYOACDEFGHIKLMNPQRSTVWYO\", \"acdefghiklmnpqrstvwyo\"]\n",
    "\n",
    "tokenizer_output = tokenizer.tokenize_fasta(\n",
    "    \"../../prot-md-pssm-benchmark/scope-benchmark-minimal/data/scope40_sequences_aa_short.fasta\",\n",
    "    padding=True,\n",
    ")\n",
    "# tokenizer_output = tokenizer.tokenize_fasta(fasta=sequence_fasta, return_headers=True)\n",
    "# tokenizer_output = tokenizer.encode(sequence_strings, padding=True)\n",
    "\n",
    "print(*tokenizer_output[\"input_ids\"], sep=\"\\n\")\n",
    "print(*tokenizer_output[\"attention_mask\"], sep=\"\\n\")"
   ]
  },
  {
   "cell_type": "code",
   "execution_count": null,
   "metadata": {},
   "outputs": [],
   "source": [
    "input_ids = tokenizer_output[\"input_ids\"]\n",
    "attention_mask = tokenizer_output[\"attention_mask\"]\n",
    "decoded_tokens = tokenizer.decode(input_ids)\n",
    "for i, m, d in zip(input_ids, attention_mask, decoded_tokens):\n",
    "    print(*[str(x)[:4].ljust(3) for x in i], sep=\" \")\n",
    "    print(*[str(x)[:4].ljust(3) for x in m], sep=\" \")\n",
    "    print(*[str(x)[:4].ljust(3) for x in d], sep=\" \")\n",
    "    print()\n"
   ]
  },
  {
   "cell_type": "code",
   "execution_count": null,
   "metadata": {},
   "outputs": [],
   "source": [
    "model.eval()\n",
    "with torch.no_grad():\n",
    "    embeddings = model(\n",
    "        input_ids=torch.tensor(tokenizer_output[\"input_ids\"]).to(model.device),\n",
    "        attention_mask=torch.tensor(tokenizer_output[\"attention_mask\"]).to(model.device),\n",
    "    )"
   ]
  },
  {
   "cell_type": "code",
   "execution_count": null,
   "metadata": {},
   "outputs": [],
   "source": [
    "embeddings"
   ]
  },
  {
   "cell_type": "code",
   "execution_count": null,
   "metadata": {},
   "outputs": [],
   "source": [
    "print(tokenizer_output[\"attention_mask\"][0])"
   ]
  },
  {
   "cell_type": "code",
   "execution_count": null,
   "metadata": {},
   "outputs": [],
   "source": [
    "print(tokenizer_output[\"attention_mask\"])"
   ]
  },
  {
   "cell_type": "code",
   "execution_count": null,
   "metadata": {},
   "outputs": [],
   "source": [
    "index = 0\n",
    "\n",
    "df = pd.DataFrame(embeddings[\"last_hidden_state\"][index].cpu().numpy())\n",
    "df[\"sequence\"] = list(\n",
    "    \"-\" + sequence_strings[index] + (embeddings[\"last_hidden_state\"][index].shape[0] - len(sequence_strings[index]) - 1) * \"-\"\n",
    ")"
   ]
  },
  {
   "cell_type": "code",
   "execution_count": null,
   "metadata": {},
   "outputs": [],
   "source": [
    "from plms.utils import modeling_utils\n",
    "\n",
    "for x in range(len(embeddings[\"last_hidden_state\"])):\n",
    "    print(\n",
    "        modeling_utils.mean_pool(\n",
    "            embeddings[\"last_hidden_state\"][x].unsqueeze(0),\n",
    "            embeddings[\"masks\"][x].unsqueeze(0),\n",
    "        ).mean()\n",
    "    )\n",
    "\n",
    "df_mean = modeling_utils.mean_pool(\n",
    "    embeddings[\"last_hidden_state\"],\n",
    "    embeddings[\"masks\"],\n",
    ")\n",
    "\n",
    "first = list(pd.DataFrame(df_mean.cpu().numpy()).iloc[0])\n",
    "second = list(embeddings[\"last_hidden_state\"][0].sum(dim=0) / embeddings[\"masks\"][0].sum(dim=0))\n",
    "\n",
    "print(first == second)"
   ]
  },
  {
   "cell_type": "code",
   "execution_count": null,
   "metadata": {},
   "outputs": [],
   "source": []
  },
  {
   "cell_type": "code",
   "execution_count": null,
   "metadata": {},
   "outputs": [],
   "source": []
  },
  {
   "cell_type": "code",
   "execution_count": null,
   "metadata": {},
   "outputs": [],
   "source": []
  }
 ],
 "metadata": {
  "kernelspec": {
   "display_name": "Python 3",
   "language": "python",
   "name": "python3"
  },
  "language_info": {
   "codemirror_mode": {
    "name": "ipython",
    "version": 3
   },
   "file_extension": ".py",
   "mimetype": "text/x-python",
   "name": "python",
   "nbconvert_exporter": "python",
   "pygments_lexer": "ipython3",
   "version": "undefined.undefined.undefined"
  }
 },
 "nbformat": 4,
 "nbformat_minor": 2
}
