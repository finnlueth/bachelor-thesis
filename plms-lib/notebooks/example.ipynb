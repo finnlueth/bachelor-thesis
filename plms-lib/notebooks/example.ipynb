{
 "cells": [
  {
   "cell_type": "code",
   "execution_count": 1,
   "metadata": {},
   "outputs": [],
   "source": [
    "%reload_ext autoreload\n",
    "%autoreload 2\n",
    "\n",
    "import torch\n",
    "from plms.models import ProtT5, auto_model\n",
    "import os\n",
    "from plms.configurations.configuration_base_plm import PLMConfig\n",
    "\n",
    "os.environ[\"CUDA_DEVICE_ORDER\"] = \"PCI_BUS_ID\"\n",
    "os.environ[\"CUDA_VISIBLE_DEVICES\"] = \"1, 2\""
   ]
  },
  {
   "cell_type": "code",
   "execution_count": 4,
   "metadata": {},
   "outputs": [],
   "source": [
    "model = auto_model(model_name=\"Rostlab/ProstT5\")\n",
    "# model = auto_model(model_name=\"Rostlab/prot_t5_xl_uniref50\")"
   ]
  },
  {
   "cell_type": "code",
   "execution_count": 8,
   "metadata": {},
   "outputs": [
    {
     "data": {
      "text/plain": [
       "False"
      ]
     },
     "execution_count": 8,
     "metadata": {},
     "output_type": "execute_result"
    }
   ],
   "source": [
    "model.config.mean_pooling"
   ]
  },
  {
   "cell_type": "code",
   "execution_count": null,
   "metadata": {},
   "outputs": [],
   "source": [
    "sequence_processed = \"A C D E F G H I K L M N P Q R S T V W Y\"\n",
    "tokenizer_output = model.get_tokenizer()(text=sequence_processed, padding=False, truncation=False)\n",
    "\n",
    "input_ids = tokenizer_output[\"input_ids\"]\n",
    "attention_mask = tokenizer_output[\"attention_mask\"]\n",
    "\n",
    "decoded_tokens = model.get_tokenizer().decode(input_ids)\n",
    "\n",
    "print(*input_ids)\n",
    "print(*attention_mask)\n",
    "print(decoded_tokens)"
   ]
  },
  {
   "cell_type": "code",
   "execution_count": 6,
   "metadata": {},
   "outputs": [],
   "source": [
    "embeddings = model(\n",
    "    input_ids=torch.tensor([input_ids, input_ids]).to(model.device),\n",
    "    attention_mask=torch.tensor([attention_mask, attention_mask]).to(model.device),\n",
    ")"
   ]
  },
  {
   "cell_type": "code",
   "execution_count": null,
   "metadata": {},
   "outputs": [],
   "source": [
    "embeddings.shape, embeddings"
   ]
  }
 ],
 "metadata": {
  "kernelspec": {
   "display_name": "Python 3",
   "language": "python",
   "name": "python3"
  },
  "language_info": {
   "codemirror_mode": {
    "name": "ipython",
    "version": 3
   },
   "file_extension": ".py",
   "mimetype": "text/x-python",
   "name": "python",
   "nbconvert_exporter": "python",
   "pygments_lexer": "ipython3",
   "version": "undefined.undefined.undefined"
  }
 },
 "nbformat": 4,
 "nbformat_minor": 2
}
