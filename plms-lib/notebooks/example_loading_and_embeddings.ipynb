{
 "cells": [
  {
   "cell_type": "code",
   "execution_count": 2,
   "metadata": {},
   "outputs": [],
   "source": [
    "%reload_ext autoreload\n",
    "%autoreload 2\n",
    "\n",
    "import os\n",
    "\n",
    "os.environ[\"CUDA_DEVICE_ORDER\"] = \"PCI_BUS_ID\"\n",
    "os.environ[\"CUDA_VISIBLE_DEVICES\"] = \"3\"\n",
    "\n",
    "import torch\n",
    "import pandas as pd\n",
    "\n",
    "from plms import (\n",
    "    ProtT5,\n",
    "    ProstT5,\n",
    "    ProtT5Tokenizer,\n",
    "    ProstT5Tokenizer,\n",
    "    auto_model,\n",
    "    auto_tokenizer,\n",
    "    PLMConfig,\n",
    ")"
   ]
  },
  {
   "cell_type": "code",
   "execution_count": 3,
   "metadata": {},
   "outputs": [],
   "source": [
    "# model_name = \"Rostlab/prot_t5_xl_uniref50\"\n",
    "model_name = \"Rostlab/ProstT5\"\n",
    "\n",
    "tokenizer = auto_tokenizer(model_name)\n",
    "# Or for more explicity:\n",
    "# tokenizer = ProtT5Tokenizer(name_or_path=\"Rostlab/prot_t5_xl_uniref50\")"
   ]
  },
  {
   "cell_type": "code",
   "execution_count": null,
   "metadata": {},
   "outputs": [],
   "source": [
    "sequence_fasta = \"\"\">seq1\n",
    "ACDEFGHIKLMNPQRSTVWY\n",
    "ACDEFGHIKLMNPQRSTVWY\n",
    "ACDEFGHIKLMNPQRSTVWY\n",
    "ACDEFGHIKLMNPQRSTVWY\n",
    ">seq2\n",
    "ACDEFGHIKLMNPQRSTVWY\n",
    ">seq3\n",
    "acdefghiklmnpqrstvwy\n",
    "acdefghiklmnpqrstvwy\n",
    "\"\"\"\n",
    "sequence_strings = [\"ACDEFGHIKLMNPQRSTVWYOOO\", \"ACDEFGHIKLMNPQRSTVWYACDEFGHIKLMNPQRSTVWYOOO\", \"acdefghiklmnpqrstvwyooo\"]\n",
    "\n",
    "# tokenizer_output = tokenizer.tokenize_fasta(\n",
    "#     \"../../prot-md-pssm-benchmark/scope-benchmark-minimal/data/scope40_sequences_aa_short.fasta\",\n",
    "#     padding=True,\n",
    "# )\n",
    "# tokenizer_output = tokenizer.tokenize_fasta(fasta=sequence_fasta, return_headers=True)\n",
    "tokenizer_output = tokenizer.encode(sequence_strings, padding=True)\n",
    "\n",
    "print(\"Encoded tokens:\")\n",
    "for ids, mask in zip(tokenizer_output[\"input_ids\"], tokenizer_output[\"attention_mask\"]):\n",
    "    print(*[f\"{x:<4d}\" for x in ids], sep=\"\")\n",
    "    print(*[f\"{x:<4d}\" for x in mask], sep=\"\")\n",
    "    print()\n",
    "\n",
    "print(\"\\nDecoded tokens:\")\n",
    "\n",
    "input_ids = tokenizer_output[\"input_ids\"]\n",
    "attention_mask = tokenizer_output[\"attention_mask\"]\n",
    "decoded_tokens = tokenizer.decode(input_ids)\n",
    "for i, m, d, o in zip(input_ids, attention_mask, decoded_tokens, sequence_strings):\n",
    "    print(*[str(x)[:4].ljust(3) for x in i], sep=\" \")\n",
    "    print(*[str(x)[:4].ljust(3) for x in m], sep=\" \")\n",
    "    print(*[str(x)[:4].ljust(3) for x in d], sep=\" \")\n",
    "    print(*[str(x)[:4].ljust(3) for x in o], sep=\" \")\n",
    "    print()"
   ]
  },
  {
   "cell_type": "code",
   "execution_count": 5,
   "metadata": {},
   "outputs": [],
   "source": [
    "model = auto_model(model_name=model_name)\n",
    "\n",
    "# Or for more explicity:\n",
    "# model = ProtT5(name_or_path=\"Rostlab/prot_t5_xl_uniref50\")\n",
    "# model = ProstT5(name_or_path=\"Rostlab/ProstT5\")\n",
    "\n",
    "# Or with a config:\n",
    "# config=PLMConfig(name_or_path=\"Rostlab/prot_t5_xl_uniref50\")\n",
    "# model = ProtT5(config=config)\n",
    "# config = PLMConfig(name_or_path=\"Rostlab/ProstT5\")\n",
    "# model = ProstT5(config=config)"
   ]
  },
  {
   "cell_type": "code",
   "execution_count": 6,
   "metadata": {},
   "outputs": [],
   "source": [
    "model.eval()\n",
    "with torch.no_grad():\n",
    "    embeddings = model(\n",
    "        input_ids=torch.tensor(tokenizer_output[\"input_ids\"]).to(model.device),\n",
    "        attention_mask=torch.tensor(tokenizer_output[\"attention_mask\"]).to(model.device),\n",
    "    )"
   ]
  },
  {
   "cell_type": "code",
   "execution_count": null,
   "metadata": {},
   "outputs": [],
   "source": [
    "index = 1\n",
    "print(sequence_strings[index])\n",
    "print(*embeddings[\"mask\"][index].tolist(), sep=\"\")\n",
    "\n",
    "df = pd.DataFrame(embeddings[\"last_hidden_state\"][index].cpu().numpy())\n",
    "df[\"sequence\"] = list(\n",
    "    sequence_strings[index] + (embeddings[\"last_hidden_state\"][index].shape[0] - len(sequence_strings[index])) * \"-\"\n",
    ")\n",
    "df[\"mask\"] = embeddings[\"mask\"][index].tolist()\n",
    "display(df)"
   ]
  },
  {
   "cell_type": "code",
   "execution_count": null,
   "metadata": {},
   "outputs": [],
   "source": [
    "from plms.utils.modeling_utils import mean_pool\n",
    "import numpy as np\n",
    "print(\"First\")\n",
    "\n",
    "for x in range(len(embeddings[\"last_hidden_state\"])):\n",
    "    print(\n",
    "        mean_pool(\n",
    "            embeddings[\"last_hidden_state\"][x].unsqueeze(0),\n",
    "            embeddings[\"mask\"][x].unsqueeze(0),\n",
    "        ).mean().tolist()\n",
    "    )\n",
    "\n",
    "df_mean = mean_pool(\n",
    "    embeddings[\"last_hidden_state\"],\n",
    "    embeddings[\"mask\"],\n",
    ")\n",
    "\n",
    "print(*embeddings[\"last_hidden_state\"].mean(dim=1).mean(dim=1).tolist(), sep=\"\\n\")\n",
    "\n",
    "\n",
    "print(\"Second\")\n",
    "first = list(pd.DataFrame(df_mean.cpu().numpy()).iloc[0])\n",
    "second = embeddings[\"last_hidden_state\"][0].sum(dim=0) / embeddings[\"mask\"][0].sum(dim=0)\n",
    "second = second.tolist()\n",
    "\n",
    "print(np.mean(first))\n",
    "print(np.mean(second))\n",
    "print(first == second)\n",
    "\n",
    "\n",
    "# first = list(pd.DataFrame(df_mean.cpu().numpy()))\n",
    "# second = embeddings[\"last_hidden_state\"].sum(dim=0) / embeddings[\"mask\"].sum(dim=0)\n",
    "# print(np.mean(first))\n",
    "# print(np.mean(second))\n",
    "# print(first == second)\n",
    "\n",
    "\n"
   ]
  },
  {
   "cell_type": "code",
   "execution_count": null,
   "metadata": {},
   "outputs": [],
   "source": [
    "\n",
    "\n",
    "\n",
    "\n"
   ]
  },
  {
   "cell_type": "code",
   "execution_count": null,
   "metadata": {},
   "outputs": [],
   "source": []
  }
 ],
 "metadata": {
  "kernelspec": {
   "display_name": "Python 3",
   "language": "python",
   "name": "python3"
  },
  "language_info": {
   "codemirror_mode": {
    "name": "ipython",
    "version": 3
   },
   "file_extension": ".py",
   "mimetype": "text/x-python",
   "name": "python",
   "nbconvert_exporter": "python",
   "pygments_lexer": "ipython3",
   "version": "3.12.0"
  }
 },
 "nbformat": 4,
 "nbformat_minor": 2
}
