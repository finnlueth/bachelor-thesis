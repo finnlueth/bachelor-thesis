{
 "cells": [
  {
   "cell_type": "code",
   "execution_count": 1,
   "id": "0d07b3c3-aeaa-4dfd-b828-4272aecf7cb8",
   "metadata": {},
   "outputs": [],
   "source": [
    "import numpy as np\n",
    "import matplotlib.pyplot as plt\n",
    "import sys\n",
    "import warnings\n",
    "import random\n",
    "import pickle\n",
    "import scipy\n",
    "import os.path as osp\n",
    "\n",
    "import pandas as pd\n",
    "import seaborn as sns\n",
    "import torch\n",
    "import torch.nn as nn\n",
    "\n",
    "from tqdm.notebook import tqdm"
   ]
  },
  {
   "cell_type": "markdown",
   "id": "47b51e21-1df1-4906-ac66-1bcce7c268aa",
   "metadata": {},
   "source": [
    "# $k$ optimization"
   ]
  },
  {
   "cell_type": "markdown",
   "id": "8169d96c-5b06-4ac7-8f2d-41e5a60724e1",
   "metadata": {},
   "source": [
    "### Roc1"
   ]
  },
  {
   "cell_type": "code",
   "execution_count": 2,
   "id": "cf3a9965-c7c2-4b0f-8e34-6d81fc24ad3c",
   "metadata": {},
   "outputs": [],
   "source": [
    "res = \"\"\"\n",
    "4 0.672917 0.227101 0.0263188\n",
    "8 0.779795 0.340687 0.0555327\n",
    "12 0.813021 0.382774 0.065329\n",
    "16 0.82026 0.397336 0.0712361\n",
    "20 0.834776 0.408998 0.0725226\n",
    "24 0.83391 0.415321 0.0744766\n",
    "28 0.839543 0.420737 0.0753114\n",
    "32 0.84156 0.426954 0.079717\n",
    "36 0.841484 0.424818 0.0758483\n",
    "40 0.846543 0.433617 0.0794761\n",
    "\"\"\""
   ]
  },
  {
   "cell_type": "code",
   "execution_count": 3,
   "id": "a288c584-30ff-4dea-8510-546893f2d052",
   "metadata": {},
   "outputs": [],
   "source": [
    "l = []\n",
    "for line in res.splitlines():\n",
    "    if line.strip():\n",
    "        l.append([float(i) for i in line.split(' ')])\n",
    "df_auc = pd.DataFrame(l, columns='k fam sfam fold'.split())"
   ]
  },
  {
   "cell_type": "code",
   "execution_count": 4,
   "id": "1bf44ba2-c589-4edb-a595-07526d78493d",
   "metadata": {},
   "outputs": [
    {
     "name": "stdout",
     "output_type": "stream",
     "text": [
      "[6.59 2.2 ]\n"
     ]
    },
    {
     "data": {
      "image/png": "[encoded data removed]",
      "text/plain": [
       "<Figure size 474.48x158.4 with 3 Axes>"
      ]
     },
     "metadata": {
      "needs_background": "light"
     },
     "output_type": "display_data"
    }
   ],
   "source": [
    "textwidth = 170  # mm\n",
    "\n",
    "mm_per_inch = 25.4\n",
    "golden_ratio = 1.618\n",
    "\n",
    "w_inch = round((170 / mm_per_inch) - 0.1, 2)\n",
    "h_inch = w_inch / golden_ratio\n",
    "w_inch, h_inch\n",
    "\n",
    "mw = 6.525 # golden_ratio = 1.618\n",
    "plt.figure(figsize=(w_inch, 2.2))\n",
    "#plt.suptitle('Area under ROC5 plot by alphabet size $k$')\n",
    "\n",
    "#plt.rc('font', family='sans serif', serif='Times')\n",
    "#plt.rc('text', usetex=True)\n",
    "plt.rc('xtick', labelsize=7)\n",
    "plt.rc('ytick', labelsize=7)\n",
    "plt.rc('axes', labelsize=7)\n",
    "plt.rc('axes', titlesize=9)\n",
    "\n",
    "ylabel = 'Avg. Sensitivity up to the 1st FP' # 'Area under the ROC curve'\n",
    "#ylabel = 'test'\n",
    "\n",
    "ax = plt.subplot(131)\n",
    "plt.title('Family')\n",
    "sns.lineplot(data=df_auc, x='k', y='fam', marker='o')\n",
    "plt.xticks(list(range(4, 40+1, 4)), list(range(4, 40+1, 4)))\n",
    "#ax.label_outer()\n",
    "#plt.xscale('log')\n",
    "plt.ylabel(ylabel)\n",
    "plt.xlabel('Alphabet size')\n",
    "\n",
    "ax = plt.subplot(132)\n",
    "plt.title('Super Family')\n",
    "sns.lineplot(data=df_auc, x='k', y='sfam', marker='o')\n",
    "plt.xticks(list(range(4, 40+1, 4)), list(range(4, 40+1, 4)))\n",
    "plt.ylabel(None)\n",
    "#plt.xscale('log')\n",
    "#ax.label_outer()\n",
    "plt.xlabel('Alphabet size')\n",
    "\n",
    "ax = plt.subplot(133)\n",
    "plt.title('Fold')\n",
    "sns.lineplot(data=df_auc, x='k', y='fold', marker='o')\n",
    "plt.xticks(list(range(4, 40+1, 4)), list(range(4, 40+1, 4)))\n",
    "#plt.xscale('log')\n",
    "#ax.label_outer()\n",
    "plt.ylabel(None)\n",
    "plt.xlabel('Alphabet size')\n",
    "\n",
    "plt.tight_layout(pad=0.1)\n",
    "print(plt.gcf().get_size_inches())\n",
    "plt.savefig('3Di_k_optimization.pdf', dpi=400, transparent=True, pad_inches=0.0)  # , bbox_inches='tight'\n",
    "plt.show()"
   ]
  },
  {
   "cell_type": "markdown",
   "id": "4cf63db4-d37b-43c0-9a07-ff7bb79e0591",
   "metadata": {},
   "source": [
    "# Cross-validation"
   ]
  },
  {
   "cell_type": "code",
   "execution_count": 5,
   "id": "37bcff8f-d7d9-41f0-a151-ca4db73495df",
   "metadata": {},
   "outputs": [],
   "source": [
    "!cat tmp/crossval_ref?.rocx | awk '(NR==1 || /^[^NAME]/)' > tmp/crossval_ref_all.rocx\n",
    "!cat tmp/crossval_splitmodel?.rocx | awk '(NR==1 || /^[^NAME]/)' > tmp/crossval_splitmodel_all.rocx"
   ]
  },
  {
   "cell_type": "code",
   "execution_count": 6,
   "id": "634cef82-1b7f-4f41-82ae-8d3efb6c884f",
   "metadata": {},
   "outputs": [
    {
     "name": "stdout",
     "output_type": "stream",
     "text": [
      "0.868966 0.508279 0.13231\n"
     ]
    }
   ],
   "source": [
    "!awk '{famsum+=$3; supfamsum+=$4; foldsum+=$5} END{print famsum/NR,supfamsum/NR,foldsum/NR}' tmp/crossval_ref_all.rocx"
   ]
  },
  {
   "cell_type": "code",
   "execution_count": 7,
   "id": "2bb1345c-fdef-49b3-950f-779613a59279",
   "metadata": {},
   "outputs": [
    {
     "name": "stdout",
     "output_type": "stream",
     "text": [
      "0.864283 0.495354 0.131605\n"
     ]
    }
   ],
   "source": [
    "!awk '{famsum+=$3; supfamsum+=$4; foldsum+=$5} END{print famsum/NR,supfamsum/NR,foldsum/NR}' tmp/crossval_splitmodel_all.rocx"
   ]
  },
  {
   "cell_type": "code",
   "execution_count": null,
   "id": "c80854de-dbef-41a5-a5b6-3528d1ff3e91",
   "metadata": {},
   "outputs": [],
   "source": []
  },
  {
   "cell_type": "code",
   "execution_count": 8,
   "id": "c0626f90-da58-422e-86c2-d68924723104",
   "metadata": {},
   "outputs": [],
   "source": [
    "def rocx2coord(fn, colID):\n",
    "    df = pd.read_csv(fn, header=0, sep='\\t')\n",
    "    dfsort = df.sort_values(by=colID, ascending=False)\n",
    "    x, y, n = [], [], 1\n",
    "    sumscore = 0.0\n",
    "    for index,row in dfsort.iterrows():\n",
    "        score = float(row[colID])\n",
    "        qfraction = n / df.shape[0]\n",
    "        x.append(min(score, 1))\n",
    "        y.append(qfraction)\n",
    "        n+=1\n",
    "    return x, y"
   ]
  },
  {
   "cell_type": "code",
   "execution_count": 9,
   "id": "13b50113-6789-4840-81d3-16e50d5a5ba0",
   "metadata": {},
   "outputs": [
    {
     "data": {
      "image/png": "[encoded data removed]",
      "text/plain": [
       "<Figure size 475.2x180 with 3 Axes>"
      ]
     },
     "metadata": {
      "needs_background": "light"
     },
     "output_type": "display_data"
    }
   ],
   "source": [
    "w_inch = 6.6\n",
    "h_inch = 2.5 # 8.55\n",
    "\n",
    "plt.rc('legend',fontsize=7)\n",
    "plt.rc('xtick', labelsize=7)\n",
    "plt.rc('ytick', labelsize=7)\n",
    "plt.rc('axes', labelsize=7)\n",
    "plt.rc('axes', titlesize=9)\n",
    "lw = 1\n",
    "\n",
    "w = np.array([3135, 3706, 2219, 2100])  # num of PDBS per split\n",
    "w = w / w.sum()\n",
    "\n",
    "category = [\"Family\", \"Super Family\", \"Fold\"]\n",
    "dfcol = [\"FAM\", \"SFAM\", \"FOLD\"]\n",
    "style = ['-','--','-.']\n",
    "\n",
    "fig, axs = plt.subplots(1,3, sharey=True)\n",
    "fig.set_size_inches(w_inch, h_inch, forward=True)\n",
    "\n",
    "for i, cls in enumerate(dfcol):\n",
    "    qfracs, senss = [], []\n",
    "    axs[i].set_title(category[i])\n",
    "    for k in range(4):\n",
    "        sens, qfrac = rocx2coord(f'tmp/crossval_splitmodel{k}.rocx', cls)        \n",
    "        qfracs.append(qfrac)\n",
    "        senss.append(sens)\n",
    "        \n",
    "\n",
    "    qfrac_all = np.sort(np.concatenate(qfracs))\n",
    "    sens_interp = []\n",
    "    for j in range(4):\n",
    "        sens_interp.append(scipy.interpolate.interp1d(qfracs[j], senss[j], kind='linear', fill_value='extrapolate')(qfrac_all))\n",
    "    sens_interp = np.stack(sens_interp)\n",
    "    \n",
    "    x_ref, y_ref = rocx2coord(f'tmp/crossval_ref_all.rocx', cls)\n",
    "    axs[i].plot(y_ref, x_ref, label='Foldseek',color='red',linestyle='--',linewidth=lw)\n",
    "    \n",
    "    sens_w = (sens_interp.T @ w)\n",
    "    axs[i].fill_between(qfrac_all, sens_w - sens_interp.std(axis=0), sens_w + sens_interp.std(axis=0), alpha=0.3, color='gray')    \n",
    "    axs[i].plot(qfrac_all, sens_w, label='Cross-validation avg.',color='black',linestyle='--',linewidth=lw)\n",
    "\n",
    "for ax in axs.flat:\n",
    "    ax.set(ylabel=\"Sensitivity up to the 1st FP\", xlabel=\"Fraction of queries\")\n",
    "for ax in axs.flat:\n",
    "    ax.label_outer()\n",
    "plt.legend()\n",
    "plt.tight_layout(pad=0.1)\n",
    "plt.savefig('3Di_crossval_SCOPe.pdf', dpi=400)\n",
    "plt.show()"
   ]
  },
  {
   "cell_type": "code",
   "execution_count": null,
   "id": "3ca007cd-3fc2-4972-8b60-8a9bd98647ec",
   "metadata": {},
   "outputs": [],
   "source": []
  }
 ],
 "metadata": {
  "kernelspec": {
   "display_name": "Python 3",
   "language": "python",
   "name": "python3"
  },
  "language_info": {
   "codemirror_mode": {
    "name": "ipython",
    "version": 3
   },
   "file_extension": ".py",
   "mimetype": "text/x-python",
   "name": "python",
   "nbconvert_exporter": "python",
   "pygments_lexer": "ipython3",
   "version": "3.9.7"
  },
  "widgets": {
   "application/vnd.jupyter.widget-state+json": {
    "state": {},
    "version_major": 2,
    "version_minor": 0
   }
  }
 },
 "nbformat": 4,
 "nbformat_minor": 5
}
