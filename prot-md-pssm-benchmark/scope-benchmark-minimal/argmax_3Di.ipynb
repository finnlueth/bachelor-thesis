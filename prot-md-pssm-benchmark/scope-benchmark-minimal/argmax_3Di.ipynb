{
 "cells": [
  {
   "cell_type": "code",
   "execution_count": 3,
   "metadata": {},
   "outputs": [],
   "source": [
    "import pandas as pd\n",
    "\n",
    "AA_ALPHABET = [\n",
    "    \"A\",\n",
    "    \"C\",\n",
    "    \"D\",\n",
    "    \"E\",\n",
    "    \"F\",\n",
    "    \"G\",\n",
    "    \"H\",\n",
    "    \"I\",\n",
    "    \"K\",\n",
    "    \"L\",\n",
    "    \"M\",\n",
    "    \"N\",\n",
    "    \"P\",\n",
    "    \"Q\",\n",
    "    \"R\",\n",
    "    \"S\",\n",
    "    \"T\",\n",
    "    \"V\",\n",
    "    \"W\",\n",
    "    \"Y\",\n",
    "]"
   ]
  },
  {
   "cell_type": "code",
   "execution_count": null,
   "metadata": {},
   "outputs": [],
   "source": [
    "with open(\n",
    "    \"data/scope40_prot-md-pssm-2025-03-05-17-43-47-full-dataset_concatenated.tsv\",\n",
    "    \"r\",\n",
    ") as f:\n",
    "    data = f.read()\n",
    "\n",
    "profiles = data.split(\"Query profile of sequence \")\n",
    "\n",
    "if profiles[0].strip() == \"\":\n",
    "    profiles = profiles[1:]\n",
    "\n",
    "profile_dict = {}\n",
    "for profile in profiles:\n",
    "    if not profile.strip():\n",
    "        continue\n",
    "\n",
    "    lines = profile.strip().split(\"\\n\")\n",
    "    seq_id = lines[0]\n",
    "\n",
    "    aa_cols = lines[1].split()\n",
    "\n",
    "    matrix_data = []\n",
    "    for line in lines[2:]:\n",
    "        if line.strip():\n",
    "            matrix_data.append([float(x) for x in line.split()])\n",
    "\n",
    "    profile_df = pd.DataFrame(matrix_data, columns=aa_cols)\n",
    "    profile_dict[seq_id] = profile_df\n",
    "\n",
    "print(len(profile_dict))\n"
   ]
  },
  {
   "cell_type": "code",
   "execution_count": 11,
   "metadata": {},
   "outputs": [],
   "source": [
    "seq_dict = {}\n",
    "with open(\"data/scope40_sequences_3Di.fasta\") as f:\n",
    "    current_id = None\n",
    "    current_seq = []\n",
    "    for line in f:\n",
    "        line = line.strip()\n",
    "        if line.startswith(\">\"):\n",
    "            if current_id is not None:\n",
    "                seq_dict[current_id] = \"\".join(current_seq)\n",
    "            current_id = line[1:]\n",
    "            current_seq = []\n",
    "        else:\n",
    "            current_seq.append(line)\n",
    "    if current_id is not None:\n",
    "        seq_dict[current_id] = \"\".join(current_seq)\n"
   ]
  },
  {
   "cell_type": "code",
   "execution_count": null,
   "metadata": {},
   "outputs": [],
   "source": [
    "def get_argmax_aa(profile_matrix):\n",
    "    \"\"\"Get the amino acid with highest probability for each position.\n",
    "\n",
    "    Args:\n",
    "        profile_matrix: DataFrame containing position-specific scoring matrix\n",
    "\n",
    "    Returns:\n",
    "        List of amino acids with highest probability at each position\n",
    "    \"\"\"\n",
    "    # Get argmax index for each row\n",
    "    argmax_indices = list(profile_matrix.values.argmax(axis=1))\n",
    "\n",
    "    # Map indices to amino acids using AA_ALPHABET\n",
    "    argmax_aa = \"\".join([AA_ALPHABET[idx] for idx in argmax_indices])\n",
    "\n",
    "    return argmax_aa\n",
    "\n",
    "\n",
    "for name, profile in list(profile_dict.items()):\n",
    "    print(name)\n",
    "    print(get_argmax_aa(profile))\n",
    "    print(seq_dict[name])\n"
   ]
  },
  {
   "cell_type": "code",
   "execution_count": 16,
   "metadata": {},
   "outputs": [],
   "source": [
    "with open(\"data/scope40_sequences_3Di_argmax.fasta\", \"w\") as f:\n",
    "    for name, profile in profile_dict.items():\n",
    "        f.write(f\">{name}\\n\")\n",
    "        argmax_seq = get_argmax_aa(profile)\n",
    "        f.write(f\"{argmax_seq}\\n\")\n"
   ]
  },
  {
   "cell_type": "code",
   "execution_count": null,
   "metadata": {},
   "outputs": [],
   "source": []
  }
 ],
 "metadata": {
  "kernelspec": {
   "display_name": "Python 3",
   "language": "python",
   "name": "python3"
  },
  "language_info": {
   "codemirror_mode": {
    "name": "ipython",
    "version": 3
   },
   "file_extension": ".py",
   "mimetype": "text/x-python",
   "name": "python",
   "nbconvert_exporter": "python",
   "pygments_lexer": "ipython3",
   "version": "3.12.0"
  }
 },
 "nbformat": 4,
 "nbformat_minor": 2
}
