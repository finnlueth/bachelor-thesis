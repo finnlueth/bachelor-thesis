{
 "cells": [
  {
   "cell_type": "code",
   "execution_count": null,
   "metadata": {},
   "outputs": [],
   "source": [
    "%load_ext autoreload\n",
    "%autoreload 2\n",
    "\n",
    "from plot_benchmarks import plot_scope_benchmarks\n",
    "import pandas as pd\n",
    "import matplotlib.pyplot as plt\n",
    "import numpy as np\n",
    "import os"
   ]
  },
  {
   "cell_type": "code",
   "execution_count": null,
   "metadata": {},
   "outputs": [],
   "source": [
    "paths = {\n",
    "    'Foldseek (PDB - SCOPe)': 'out/foldseek_benchmark/alignResults/rocx/foldseek.rocx',\n",
    "    'MMseqs2 (AA - SCOPe)': 'out/mmseqs_benchmark/alignResults/rocx/mmseqs.rocx', \n",
    "    'MMseqs2 (3Di as AA - ProstT5)': 'out/mmseqs_3Di_benchmark/alignResults/rocx/mmseqs.rocx',\n",
    "    'Foldseek (3Di - ProstT5)': 'out/foldseek_3Di_benchmark/alignResults/rocx/foldseek.rocx',\n",
    "}\n",
    "\n",
    "plot_scope_benchmarks(paths)"
   ]
  },
  {
   "cell_type": "code",
   "execution_count": null,
   "metadata": {},
   "outputs": [],
   "source": []
  }
 ],
 "metadata": {
  "language_info": {
   "name": "python"
  }
 },
 "nbformat": 4,
 "nbformat_minor": 2
}
