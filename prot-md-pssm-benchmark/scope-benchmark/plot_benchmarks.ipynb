{
 "cells": [
  {
   "cell_type": "code",
   "execution_count": null,
   "metadata": {},
   "outputs": [],
   "source": [
    "%load_ext autoreload\n",
    "%autoreload 2\n",
    "\n",
    "from plot_benchmarks import plot_scope_benchmarks\n",
    "import pandas as pd\n",
    "import matplotlib.pyplot as plt\n",
    "import numpy as np\n",
    "import os"
   ]
  },
  {
   "cell_type": "code",
   "execution_count": null,
   "metadata": {},
   "outputs": [],
   "source": [
    "paths = {\n",
    "    'Foldseek (PDB)': 'out/foldseek_benchmark/alignResults/rocx/foldseek.rocx',\n",
    "    'MMseqs2 (AA)': 'out/mmseqs_benchmark/alignResults/rocx/mmseqs.rocx', \n",
    "    'MMseqs2 (3Di - ProstT5)': 'out/mmseqs_3Di_benchmark/alignResults/rocx/mmseqs.rocx'\n",
    "}\n",
    "\n",
    "plot_scope_benchmarks(paths)"
   ]
  },
  {
   "cell_type": "code",
   "execution_count": null,
   "metadata": {},
   "outputs": [],
   "source": []
  }
 ],
 "metadata": {
  "language_info": {
   "name": "python"
  }
 },
 "nbformat": 4,
 "nbformat_minor": 2
}
