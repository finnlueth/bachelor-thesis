{
 "cells": [
  {
   "cell_type": "code",
   "execution_count": null,
   "metadata": {},
   "outputs": [],
   "source": [
    "import json\n",
    "\n",
    "with open('data/scope40_sequences.json', 'r') as f:\n",
    "    sequences = json.load(f)\n",
    "\n",
    "with open('data/scope40_sequences.fasta', 'w') as f:\n",
    "    for seq_id, sequence in sequences.items():\n",
    "        f.write(f'>{seq_id}\\n{sequence}\\n')"
   ]
  }
 ],
 "metadata": {
  "language_info": {
   "name": "python"
  }
 },
 "nbformat": 4,
 "nbformat_minor": 2
}
