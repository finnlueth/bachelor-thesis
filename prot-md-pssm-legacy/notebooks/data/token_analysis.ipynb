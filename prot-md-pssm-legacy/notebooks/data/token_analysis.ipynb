{
 "cells": [
  {
   "cell_type": "code",
   "execution_count": null,
   "metadata": {},
   "outputs": [],
   "source": [
    "%reload_ext autoreload\n",
    "%autoreload 2\n",
    "\n",
    "import src.rust_modules as rust_modules\n",
    "from tqdm import tqdm\n",
    "import pickle\n",
    "import h5py\n",
    "\n",
    "import src.data.plot.plot_mdcath as plot_mdcath\n",
    "\n",
    "import matplotlib.pyplot as plt\n",
    "plt.cm.cool\n"
   ]
  },
  {
   "cell_type": "code",
   "execution_count": null,
   "metadata": {},
   "outputs": [],
   "source": [
    "with h5py.File('../tmp/data/tokenized/mdcath/mdcath_tokenized_foldseek.h5', 'r') as file:\n",
    "    _tokenized_keys = list(file['foldseek'].keys())\n",
    "print(_tokenized_keys[:10])\n",
    "print(len(_tokenized_keys))\n",
    "\n",
    "with h5py.File('../tmp/data/tokenized/mdcath/mdcath_tokenized_foldseek.h5', 'r') as file:\n",
    "    _sequence = file['foldseek']['12asA00'].attrs['sequence']\n",
    "    print(_sequence)"
   ]
  },
  {
   "cell_type": "code",
   "execution_count": null,
   "metadata": {},
   "outputs": [],
   "source": [
    "\n",
    "with h5py.File('../tmp/data/tokenized/mdcath/mdcath_tokenized_foldseek.h5', 'r') as file:\n",
    "    _sequence = [x.decode('utf-8') for x in file['foldseek']['12asA00']['320_0']]\n",
    "    print(_sequence)\n",
    "    _sequence = [x.decode('utf-8') for x in file['foldseek']['12asA00']['320_1']]\n",
    "    print(_sequence)\n",
    "    _sequence = [x.decode('utf-8') for x in file['foldseek']['12asA00']['413_1']]\n",
    "    print(_sequence)\n"
   ]
  },
  {
   "cell_type": "code",
   "execution_count": 5,
   "metadata": {},
   "outputs": [],
   "source": [
    "with h5py.File('../tmp/data/tokenized/mdcath/mdcath_tokenized_foldseek.h5', 'r') as file:\n",
    "    tokenized_mdcath = {\n",
    "        f\"{protein}_{trajectory}\": [x.decode('utf-8') for x in file['foldseek'][protein][trajectory]]\n",
    "        for protein in list(file['foldseek'].keys())[:25]\n",
    "        for trajectory in list(file['foldseek'][protein].keys())\n",
    "    }"
   ]
  },
  {
   "cell_type": "code",
   "execution_count": null,
   "metadata": {},
   "outputs": [],
   "source": [
    "# 140348\n",
    "# 5398\n",
    "n = 10\n",
    "index = 0\n",
    "\n",
    "\n",
    "for index in range(0, 10):\n",
    "    plots = []\n",
    "    for x in list(tokenized_mdcath.items())[index*26:index*26+25:5]:#[26*n:26*(n+1)-1]:\n",
    "    # for x in list({k: v for k, v in tokenized_mdcath.items() if k.startswith('1a1zA00')}.items())[index*26:index*26+25:5]:#[26*n:26*(n+1)-1]:\n",
    "        x = dict([x])\n",
    "        plot = plot_mdcath.plot_sequence_order_pca_plotly(sequences_dict=x, numbering=False, average_arrows=False, arrows=False)\n",
    "        plots.append(plot)\n",
    "\n",
    "\n",
    "    combined_fig = plot_mdcath.combine_plots(plots, max_cols=2)\n",
    "    combined_fig.show(renderer=\"notebook\")\n",
    "    \n",
    "# print(plots)\n"
   ]
  },
  {
   "cell_type": "code",
   "execution_count": null,
   "metadata": {},
   "outputs": [],
   "source": [
    "print(list(tokenized_mdcath.keys())[:100])\n",
    "# print(len(tokenized_mdcath))"
   ]
  },
  {
   "cell_type": "code",
   "execution_count": null,
   "metadata": {},
   "outputs": [],
   "source": [
    "xs = [0, 5, 10, 15, 20]\n",
    "aggragate_list = {'__'.join([list(tokenized_mdcath.keys())[x] for x in xs]): [seq for x in xs for seq in list(tokenized_mdcath.values())[x]]}\n",
    "plot_mdcath.plot_sequence_order_pca_plotly(aggragate_list)\n",
    "\n",
    "\n"
   ]
  },
  {
   "cell_type": "code",
   "execution_count": null,
   "metadata": {},
   "outputs": [],
   "source": [
    "print(tokenized_mdcath['12asA00_base'])\n",
    "print(*tokenized_mdcath['12asA00_379_4'], sep='\\n')"
   ]
  },
  {
   "cell_type": "code",
   "execution_count": null,
   "metadata": {},
   "outputs": [],
   "source": [
    "print(len(tokenized_mdcath))\n",
    "print(sum([len(tokenized_mdcath[token]) for token in dict(list(tokenized_mdcath.items()))]))\n"
   ]
  },
  {
   "cell_type": "code",
   "execution_count": 9,
   "metadata": {},
   "outputs": [],
   "source": [
    "subset_tokenized_mdcath = dict(list(tokenized_mdcath.items())[:2])\n",
    "single_tokenized_mdcath = list(tokenized_mdcath.items())[0]"
   ]
  },
  {
   "cell_type": "code",
   "execution_count": null,
   "metadata": {},
   "outputs": [],
   "source": [
    "single_tokenized_mdcath"
   ]
  },
  {
   "cell_type": "code",
   "execution_count": null,
   "metadata": {},
   "outputs": [],
   "source": [
    "fig = create_single_sequence_logo(single_tokenized_mdcath[1])\n",
    "# display(fig)"
   ]
  },
  {
   "cell_type": "code",
   "execution_count": null,
   "metadata": {},
   "outputs": [],
   "source": []
  }
 ],
 "metadata": {
  "kernelspec": {
   "display_name": "Python 3",
   "language": "python",
   "name": "python3"
  },
  "language_info": {
   "codemirror_mode": {
    "name": "ipython",
    "version": 3
   },
   "file_extension": ".py",
   "mimetype": "text/x-python",
   "name": "python",
   "nbconvert_exporter": "python",
   "pygments_lexer": "ipython3",
   "version": "3.12.0"
  }
 },
 "nbformat": 4,
 "nbformat_minor": 2
}
