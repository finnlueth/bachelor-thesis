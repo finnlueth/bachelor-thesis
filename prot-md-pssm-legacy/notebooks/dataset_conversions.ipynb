{
 "cells": [
  {
   "cell_type": "code",
   "execution_count": 1,
   "metadata": {},
   "outputs": [],
   "source": [
    "import h5py\n",
    "\n",
    "import numpy as np\n",
    "import pandas as pd\n",
    "import matplotlib.pyplot as plt\n",
    "import seaborn as sns\n",
    "import datasets"
   ]
  },
  {
   "cell_type": "code",
   "execution_count": null,
   "metadata": {},
   "outputs": [],
   "source": [
    "def plot_pssm_heatmap(df):\n",
    "    plt.figure(figsize=(12, 8))\n",
    "    colors = plt.cm.viridis(np.linspace(0, 1, 256))\n",
    "    custom_cmap = plt.cm.colors.ListedColormap([\"black\"] + list(colors[1:]))\n",
    "\n",
    "    sns.heatmap(df, cmap=custom_cmap)\n",
    "    plt.title(\"Heatmap of PSSM Data\")\n",
    "    plt.xlabel(\"Position\")\n",
    "    plt.ylabel(\"Sequence Index\")\n",
    "    plt.show()\n",
    "\n",
    "\n",
    "def analyze_pssm_data(f):\n",
    "    item = list(f.keys())[675]\n",
    "    keys = f[item].keys()\n",
    "    print(keys)\n",
    "    # display(|pd.DataFrame(f[item][list(keys)[0]]))\n",
    "    plot_pssm_heatmap(pd.DataFrame(f[\"12asA00\"][\"320_0\"]).T)\n",
    "\n",
    "\n",
    "# with h5py.File(\"/mnt/gondolin/data/datasets_created/bachelor_thesis/mdCATH/mdCATH_3Di_dynamics_profiles_with_pc.h5\", 'r') as f:\n",
    "#     analyze_pssm_data(f)\n",
    "\n",
    "# print()\n",
    "# with h5py.File(\"/mnt/gondolin/data/datasets_created/bachelor_thesis/mdCATH/mdCATH_3Di_dynamics_profiles_without_pc.h5\", 'r') as f:\n",
    "#     analyze_pssm_data(f)"
   ]
  },
  {
   "cell_type": "code",
   "execution_count": null,
   "metadata": {},
   "outputs": [],
   "source": []
  }
 ],
 "metadata": {
  "language_info": {
   "name": "python"
  }
 },
 "nbformat": 4,
 "nbformat_minor": 2
}
