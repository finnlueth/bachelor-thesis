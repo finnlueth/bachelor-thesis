{
 "cells": [
  {
   "cell_type": "code",
   "execution_count": null,
   "metadata": {},
   "outputs": [],
   "source": [
    "from datasets import load_from_disk\n",
    "from transformers import ProstT5Tokenizer"
   ]
  },
  {
   "cell_type": "code",
   "execution_count": null,
   "metadata": {},
   "outputs": [],
   "source": [
    "dataset = load_from_disk(train_config[\"dataset\"][\"path\"])\n",
    "dataset = dataset.remove_columns([\"input_ids\", \"attention_mask\", \"sequence_processed\"])\n",
    "dataset = dataset.filter(lambda x: \"320\" in x[\"name\"])\n",
    "\n",
    "tokenizer = ProstT5Tokenizer(name_or_path=\"Rostlab/ProstT5\")\n",
    "encoded = tokenizer.encode(dataset[\"sequence\"])\n",
    "dataset = dataset.add_column(\"input_ids\", encoded[\"input_ids\"])\n",
    "dataset = dataset.add_column(\"attention_mask\", encoded[\"attention_mask\"])\n",
    "dataset.save_to_disk(\"../tmp/data/pssm/pssm_dataset_320_only_prostt5\")"
   ]
  },
  {
   "cell_type": "code",
   "execution_count": null,
   "metadata": {},
   "outputs": [],
   "source": [
    "import random\n",
    "\n",
    "for x in random.sample(range(len(dataset)), 10):\n",
    "    print(dataset[\"sequence\"][x])\n",
    "    print(dataset[\"input_ids\"][x])\n",
    "    print(tokenizer.decode(dataset[\"input_ids\"][x]))\n",
    "    print()"
   ]
  },
  {
   "cell_type": "code",
   "execution_count": null,
   "metadata": {},
   "outputs": [],
   "source": [
    "dataset[0]"
   ]
  },
  {
   "cell_type": "code",
   "execution_count": null,
   "metadata": {},
   "outputs": [],
   "source": [
    "from transformers import T5Tokenizer\n",
    "\n",
    "tokenizer_prost = T5Tokenizer.from_pretrained(\"Rostlab/ProstT5\", do_lower_case=False)"
   ]
  },
  {
   "cell_type": "code",
   "execution_count": null,
   "metadata": {},
   "outputs": [],
   "source": [
    "dataset[\"sequence\"][0]"
   ]
  }
 ],
 "metadata": {
  "kernelspec": {
   "display_name": "Python 3",
   "language": "python",
   "name": "python3"
  },
  "language_info": {
   "name": "python",
   "version": "3.12.0"
  }
 },
 "nbformat": 4,
 "nbformat_minor": 2
}
