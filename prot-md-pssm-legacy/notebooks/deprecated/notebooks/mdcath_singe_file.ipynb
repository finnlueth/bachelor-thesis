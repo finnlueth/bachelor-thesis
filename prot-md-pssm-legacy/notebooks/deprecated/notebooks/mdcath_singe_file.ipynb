{
 "cells": [
  {
   "cell_type": "code",
   "execution_count": 5,
   "metadata": {},
   "outputs": [
    {
     "name": "stdout",
     "output_type": "stream",
     "text": [
      "The autoreload extension is already loaded. To reload it, use:\n",
      "  %reload_ext autoreload\n"
     ]
    },
    {
     "ename": "ModuleNotFoundError",
     "evalue": "No module named 'src'",
     "output_type": "error",
     "traceback": [
      "\u001b[0;31m---------------------------------------------------------------------------\u001b[0m",
      "\u001b[0;31mModuleNotFoundError\u001b[0m                       Traceback (most recent call last)",
      "Cell \u001b[0;32mIn[5], line 4\u001b[0m\n\u001b[1;32m      1\u001b[0m get_ipython()\u001b[38;5;241m.\u001b[39mrun_line_magic(\u001b[38;5;124m'\u001b[39m\u001b[38;5;124mload_ext\u001b[39m\u001b[38;5;124m'\u001b[39m, \u001b[38;5;124m'\u001b[39m\u001b[38;5;124mautoreload\u001b[39m\u001b[38;5;124m'\u001b[39m)\n\u001b[1;32m      2\u001b[0m get_ipython()\u001b[38;5;241m.\u001b[39mrun_line_magic(\u001b[38;5;124m'\u001b[39m\u001b[38;5;124mautoreload\u001b[39m\u001b[38;5;124m'\u001b[39m, \u001b[38;5;124m'\u001b[39m\u001b[38;5;124m2\u001b[39m\u001b[38;5;124m'\u001b[39m)\n\u001b[0;32m----> 4\u001b[0m \u001b[38;5;28;01mfrom\u001b[39;00m \u001b[38;5;21;01m_header_data\u001b[39;00m \u001b[38;5;28;01mimport\u001b[39;00m \u001b[38;5;241m*\u001b[39m\n",
      "File \u001b[0;32m/mnt/code/notebooks/_header_data.py:15\u001b[0m\n\u001b[1;32m     12\u001b[0m \u001b[38;5;28;01mfrom\u001b[39;00m \u001b[38;5;21;01mdatasets\u001b[39;00m \u001b[38;5;28;01mimport\u001b[39;00m ClassLabel, Dataset, Image, Value, load_dataset\n\u001b[1;32m     13\u001b[0m \u001b[38;5;28;01mfrom\u001b[39;00m \u001b[38;5;21;01mdatasets\u001b[39;00m\u001b[38;5;21;01m.\u001b[39;00m\u001b[38;5;21;01mutils\u001b[39;00m\u001b[38;5;21;01m.\u001b[39;00m\u001b[38;5;21;01mfile_utils\u001b[39;00m \u001b[38;5;28;01mimport\u001b[39;00m xopen\n\u001b[0;32m---> 15\u001b[0m \u001b[38;5;28;01mfrom\u001b[39;00m \u001b[38;5;21;01msrc\u001b[39;00m\u001b[38;5;21;01m.\u001b[39;00m\u001b[38;5;21;01mdata\u001b[39;00m \u001b[38;5;28;01mimport\u001b[39;00m tokenize_foldseek\n\u001b[1;32m     16\u001b[0m \u001b[38;5;28;01mfrom\u001b[39;00m \u001b[38;5;21;01msrc\u001b[39;00m\u001b[38;5;21;01m.\u001b[39;00m\u001b[38;5;21;01mdata\u001b[39;00m\u001b[38;5;21;01m.\u001b[39;00m\u001b[38;5;21;01mprocess_mdcath\u001b[39;00m \u001b[38;5;28;01mimport\u001b[39;00m (\n\u001b[1;32m     17\u001b[0m     download_open,\n\u001b[1;32m     18\u001b[0m     extract_mdcath_information,\n\u001b[0;32m   (...)\u001b[0m\n\u001b[1;32m     24\u001b[0m     save_PDBs,\n\u001b[1;32m     25\u001b[0m )\n\u001b[1;32m     26\u001b[0m \u001b[38;5;66;03m# todo read config\u001b[39;00m\n",
      "\u001b[0;31mModuleNotFoundError\u001b[0m: No module named 'src'"
     ]
    }
   ],
   "source": [
    "# %load_ext autoreload\n",
    "# %autoreload 2\n",
    "\n",
    "# from _header_data import *"
   ]
  },
  {
   "cell_type": "code",
   "execution_count": 3,
   "metadata": {},
   "outputs": [],
   "source": [
    "# \"\"\"\n",
    "# Load .h5 file and extract trajectory information information\n",
    "# \"\"\"\n",
    "\n",
    "# extraced_traj = extract_mdcath_information(\n",
    "#     file_path=FILE_PATHS['trajectories']+\"mdcath_dataset_1avyB00.h5\",\n",
    "#     # config=PROCESSING_CONFIG\n",
    "#     )"
   ]
  },
  {
   "cell_type": "code",
   "execution_count": null,
   "metadata": {},
   "outputs": [],
   "source": [
    "# \"\"\"\n",
    "# Align trajectory to reference structure or to the first frame\n",
    "# \"\"\"\n",
    "\n",
    "# for temp in extraced_traj['coords']:\n",
    "#     for replica in extraced_traj['coords'][temp]:\n",
    "#         extraced_traj['coords'][temp][replica] = rmsd_align(\n",
    "#                 coordiantes=extraced_traj['coords'][temp][replica],\n",
    "#                 reference_pdb=extraced_traj['pdb']\n",
    "#             )"
   ]
  },
  {
   "cell_type": "markdown",
   "metadata": {},
   "source": [
    "---\n",
    "### Process Single Trajectory in h5\n",
    "Used for debugging\\\n",
    "is broken: needs to be updated to new processing pipeline"
   ]
  },
  {
   "cell_type": "code",
   "execution_count": 4,
   "metadata": {},
   "outputs": [],
   "source": [
    "# \"\"\"\n",
    "# Generate single PDBs with coordinates for a single trajectory\n",
    "# \"\"\"\n",
    "\n",
    "# pdbs_with_coords = replace_coordinates_in_pdbs(\n",
    "#     pdb=extraced_traj[\"pdb\"],\n",
    "#     coordinates=extraced_traj['coords'][\"320\"][\"0\"]\n",
    "#     )"
   ]
  },
  {
   "cell_type": "code",
   "execution_count": null,
   "metadata": {},
   "outputs": [],
   "source": [
    "# \"\"\"\n",
    "# Save PDBs (one PDB for each frame in trajectory) to disk\n",
    "# \"\"\"\n",
    "\n",
    "# saved_at_path = save_PDBs(\n",
    "#     pdbs=pdbs_with_coords[:10],\n",
    "#     template_PDB=extraced_traj['pdb'],\n",
    "#     name=extraced_traj['name'],\n",
    "#     output_dir=FILE_PATHS['PDBs'],\n",
    "#     )\n",
    "\n",
    "# print(f\"Saved PDBs at: {saved_at_path}\")"
   ]
  },
  {
   "cell_type": "markdown",
   "metadata": {},
   "source": [
    "---\n",
    "### Process all Trajectories in h5"
   ]
  },
  {
   "cell_type": "code",
   "execution_count": 8,
   "metadata": {},
   "outputs": [],
   "source": [
    "# \"\"\"\n",
    "# Generate PDBs with coordinates for all trajectories\n",
    "# \"\"\"\n",
    "\n",
    "# processed_all_replica_pdbs = generate_mdcath_coordiante_pdbs(extraced_trajectroy=extraced_traj)"
   ]
  },
  {
   "cell_type": "code",
   "execution_count": null,
   "metadata": {},
   "outputs": [],
   "source": [
    "# print(processed_all_replica_pdbs.keys())\n",
    "# print(len(processed_all_replica_pdbs.keys()))\n",
    "# print(len(processed_all_replica_pdbs['320|0']))"
   ]
  },
  {
   "cell_type": "code",
   "execution_count": 10,
   "metadata": {},
   "outputs": [],
   "source": [
    "# processed_all_replicas_3Di = translate_pdb_to_3di(processed_all_replica_pdbs)"
   ]
  },
  {
   "cell_type": "code",
   "execution_count": null,
   "metadata": {},
   "outputs": [],
   "source": [
    "# processed_all_replicas_3Di.keys()"
   ]
  },
  {
   "cell_type": "code",
   "execution_count": null,
   "metadata": {},
   "outputs": [],
   "source": [
    "# processed_all_replicas_3Di['320|0']"
   ]
  },
  {
   "cell_type": "code",
   "execution_count": 13,
   "metadata": {},
   "outputs": [],
   "source": [
    "# fasta = generate_fasta(\n",
    "#     extraced_traj=extraced_traj,\n",
    "#     processed_3Di=processed_all_replicas_3Di\n",
    "# )"
   ]
  },
  {
   "cell_type": "code",
   "execution_count": null,
   "metadata": {},
   "outputs": [],
   "source": [
    "# save_fasta(\n",
    "#     path=f\"{FILE_PATHS['3Di']}/{extraced_traj['name']}.fasta\",\n",
    "#     fasta=fasta\n",
    "# )"
   ]
  },
  {
   "cell_type": "code",
   "execution_count": null,
   "metadata": {},
   "outputs": [],
   "source": [
    "# "
   ]
  }
 ],
 "metadata": {
  "kernelspec": {
   "display_name": "Python 3",
   "language": "python",
   "name": "python3"
  },
  "language_info": {
   "codemirror_mode": {
    "name": "ipython",
    "version": 3
   },
   "file_extension": ".py",
   "mimetype": "text/x-python",
   "name": "python",
   "nbconvert_exporter": "python",
   "pygments_lexer": "ipython3",
   "version": "3.12.0"
  }
 },
 "nbformat": 4,
 "nbformat_minor": 2
}
