{
 "cells": [
  {
   "cell_type": "code",
   "execution_count": 6,
   "metadata": {},
   "outputs": [
    {
     "name": "stderr",
     "output_type": "stream",
     "text": [
      "/Users/finnlueth/Developer/gits/bachelor-thesis/mdcath-to-3di/.venv/lib/python3.12/site-packages/MDAnalysis/coordinates/memory.py:535: DeprecationWarning: asel argument to timeseries will be renamed to'atomgroup' in 3.0, see #3911\n",
      "  warnings.warn(\n"
     ]
    },
    {
     "data": {
      "application/vnd.jupyter.widget-view+json": {
       "model_id": "8612a3667bce426fba4a7e4ddb4749d0",
       "version_major": 2,
       "version_minor": 0
      },
      "text/plain": [
       "NGLWidget(max_frame=439)"
      ]
     },
     "metadata": {},
     "output_type": "display_data"
    }
   ],
   "source": [
    "import h5py\n",
    "import MDAnalysis as mda\n",
    "import nglview as nv\n",
    "import numpy as np\n",
    "import io\n",
    "from src.utils.bio import rmsd_align\n",
    "\n",
    "SAVE_TRAJECTORY = False\n",
    "\n",
    "\n",
    "name = \"1a02F00\"\n",
    "temp = \"320\"\n",
    "replica = \"0\"\n",
    "with h5py.File(f\"../../tmp/data/mdcath/data/mdcath_dataset_{name}.h5\", \"r\") as file:\n",
    "    name = list(file.keys())[0]\n",
    "    structure = file[name][\"pdbProteinAtoms\"][()].decode(\"utf-8\")\n",
    "    coords = file[name][temp][replica][\"coords\"][()]\n",
    "\n",
    "u = mda.Universe(io.StringIO(structure), format=\"PDB\")\n",
    "u.load_new(coords, format=mda.coordinates.memory.MemoryReader)\n",
    "aligned_coords = rmsd_align(reference_pdb=structure, coordinates=coords, frame=0)\n",
    "u.load_new(aligned_coords, format=mda.coordinates.memory.MemoryReader)\n",
    "view = nv.show_mdanalysis(u)\n",
    "display(view)\n",
    "\n",
    "if SAVE_TRAJECTORY:\n",
    "    with mda.Writer(f\"../../tmp/output/trajectories/{name}_{temp}_{replica}.xtc\", u.atoms.n_atoms) as W:\n",
    "        for ts in u.trajectory:\n",
    "            W.write(u)\n",
    "\n",
    "    with open(f\"../../tmp/output/trajectories/{name}.pdb\", \"w\") as f:\n",
    "        f.write(structure)\n"
   ]
  },
  {
   "cell_type": "code",
   "execution_count": null,
   "metadata": {},
   "outputs": [],
   "source": []
  }
 ],
 "metadata": {
  "kernelspec": {
   "display_name": "Python 3",
   "language": "python",
   "name": "python3"
  },
  "language_info": {
   "codemirror_mode": {
    "name": "ipython",
    "version": 3
   },
   "file_extension": ".py",
   "mimetype": "text/x-python",
   "name": "python",
   "nbconvert_exporter": "python",
   "pygments_lexer": "ipython3",
   "version": "3.12.0"
  }
 },
 "nbformat": 4,
 "nbformat_minor": 2
}
