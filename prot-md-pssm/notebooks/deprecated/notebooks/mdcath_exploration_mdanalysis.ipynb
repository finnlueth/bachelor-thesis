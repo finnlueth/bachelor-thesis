{
 "cells": [
  {
   "cell_type": "code",
   "execution_count": 1,
   "metadata": {},
   "outputs": [],
   "source": [
    "%load_ext autoreload\n",
    "%autoreload 2"
   ]
  },
  {
   "cell_type": "code",
   "execution_count": 2,
   "metadata": {},
   "outputs": [
    {
     "data": {
      "application/vnd.jupyter.widget-view+json": {
       "model_id": "0311ad5e4b9f4620887abd582b2b2e75",
       "version_major": 2,
       "version_minor": 0
      },
      "text/plain": []
     },
     "metadata": {},
     "output_type": "display_data"
    }
   ],
   "source": [
    "import nglview as nv\n",
    "import MDAnalysis as mda\n",
    "import h5py\n",
    "import pandas as pd\n",
    "import numpy as np\n",
    "import io, os"
   ]
  },
  {
   "cell_type": "code",
   "execution_count": 3,
   "metadata": {},
   "outputs": [],
   "source": [
    "traj_name = \"1avyB00\"\n",
    "temperature = \"320\"\n",
    "replica = \"0\"\n",
    "file_path = f\"../tmp/data/trajectories/mdcath_dataset_{traj_name}.h5\""
   ]
  },
  {
   "cell_type": "code",
   "execution_count": 4,
   "metadata": {},
   "outputs": [],
   "source": [
    "with h5py.File(file_path, \"r\") as file:\n",
    "    pdb = file[traj_name]['pdbProteinAtoms'][()].decode(\"utf-8\")\n",
    "    nxyz = file[traj_name][temperature][replica]['coords'][()]"
   ]
  },
  {
   "cell_type": "code",
   "execution_count": 5,
   "metadata": {},
   "outputs": [
    {
     "data": {
      "text/plain": [
       "<Universe with 835 atoms>"
      ]
     },
     "execution_count": 5,
     "metadata": {},
     "output_type": "execute_result"
    }
   ],
   "source": [
    "u = mda.Universe(io.StringIO(pdb), format='PDB')\n",
    "u.load_new(nxyz)"
   ]
  },
  {
   "cell_type": "code",
   "execution_count": 6,
   "metadata": {},
   "outputs": [
    {
     "data": {
      "application/vnd.jupyter.widget-view+json": {
       "model_id": "7fa0d7281aa9471583b27c29a50eae82",
       "version_major": 2,
       "version_minor": 0
      },
      "text/plain": [
       "NGLWidget(max_frame=439)"
      ]
     },
     "metadata": {},
     "output_type": "display_data"
    }
   ],
   "source": [
    "view = nv.show_mdanalysis(u)\n",
    "view"
   ]
  },
  {
   "cell_type": "code",
   "execution_count": 7,
   "metadata": {},
   "outputs": [
    {
     "name": "stderr",
     "output_type": "stream",
     "text": [
      "/Users/finnlueth/Developer/gits/bachelor-thesis/mdcath_to_3di/.venv/lib/python3.12/site-packages/Bio/Application/__init__.py:39: BiopythonDeprecationWarning: The Bio.Application modules and modules relying on it have been deprecated.\n",
      "\n",
      "Due to the on going maintenance burden of keeping command line application\n",
      "wrappers up to date, we have decided to deprecate and eventually remove these\n",
      "modules.\n",
      "\n",
      "We instead now recommend building your command line and invoking it directly\n",
      "with the subprocess module.\n",
      "  warnings.warn(\n"
     ]
    },
    {
     "data": {
      "text/plain": [
       "<MDAnalysis.analysis.align.AlignTraj at 0x16a6f8aa0>"
      ]
     },
     "execution_count": 7,
     "metadata": {},
     "output_type": "execute_result"
    }
   ],
   "source": [
    "from MDAnalysis.analysis import align\n",
    "\n",
    "u.trajectory[0]\n",
    "reference = u.select_atoms('protein')\n",
    "\n",
    "aligner = align.AlignTraj(u, reference, select='protein', in_memory=True).run()\n",
    "aligner"
   ]
  },
  {
   "cell_type": "code",
   "execution_count": 14,
   "metadata": {},
   "outputs": [
    {
     "data": {
      "text/plain": [
       "<AtomGroup with 835 atoms>"
      ]
     },
     "execution_count": 14,
     "metadata": {},
     "output_type": "execute_result"
    }
   ],
   "source": [
    "reference"
   ]
  },
  {
   "cell_type": "code",
   "execution_count": 8,
   "metadata": {},
   "outputs": [
    {
     "data": {
      "application/vnd.jupyter.widget-view+json": {
       "model_id": "f007be24e03644cd944e86abf454cb39",
       "version_major": 2,
       "version_minor": 0
      },
      "text/plain": [
       "NGLWidget(max_frame=439)"
      ]
     },
     "metadata": {},
     "output_type": "display_data"
    }
   ],
   "source": [
    "view = nv.show_mdanalysis(u)\n",
    "view"
   ]
  },
  {
   "cell_type": "code",
   "execution_count": 10,
   "metadata": {},
   "outputs": [],
   "source": [
    "# output_path = f\"../data/files/{traj_name}_trajectory_aligned.dcd\"\n",
    "# with mda.Writer(output_path, u.atoms.n_atoms) as writer:\n",
    "#     for ts in u.trajectory:\n",
    "#         writer.write(u.atoms)"
   ]
  },
  {
   "cell_type": "code",
   "execution_count": 11,
   "metadata": {},
   "outputs": [],
   "source": [
    "# def export_frame_as_pdb(universe, frame_number, output_path):\n",
    "#     \"\"\"\n",
    "#     Export a specific frame from the trajectory as a PDB file.\n",
    "\n",
    "#     Parameters:\n",
    "#     universe (MDAnalysis.core.universe.Universe): The MDAnalysis Universe object containing the trajectory.\n",
    "#     frame_number (int): The frame number to export.\n",
    "#     output_path (str): The path to save the PDB file.\n",
    "#     \"\"\"\n",
    "#     universe.trajectory[frame_number]  # Set the trajectory to the specified frame\n",
    "#     with mda.Writer(output_path, universe.atoms.n_atoms) as writer:\n",
    "#         writer.write(universe.atoms)\n",
    "\n",
    "# # Example usage:\n",
    "# frame_number = 100  # Specify the frame number you want to export\n",
    "# output_pdb_path = f\"../tmp/data/PDBs/{traj_name}_frame_{frame_number}.pdb\"\n",
    "\n",
    "# export_frame_as_pdb(u, frame_number, output_pdb_path)"
   ]
  },
  {
   "cell_type": "code",
   "execution_count": 13,
   "metadata": {},
   "outputs": [
    {
     "name": "stderr",
     "output_type": "stream",
     "text": [
      "/Users/finnlueth/Developer/gits/bachelor-thesis/mdcath_to_3di/.venv/lib/python3.12/site-packages/MDAnalysis/coordinates/PDB.py:777: UserWarning: Unit cell dimensions not found. CRYST1 record set to unitary values.\n",
      "  warnings.warn(\"Unit cell dimensions not found. \"\n",
      "/Users/finnlueth/Developer/gits/bachelor-thesis/mdcath_to_3di/.venv/lib/python3.12/site-packages/MDAnalysis/coordinates/PDB.py:1153: UserWarning: Found no information for attr: 'formalcharges' Using default value of '0'\n",
      "  warnings.warn(\"Found no information for attr: '{}'\"\n"
     ]
    }
   ],
   "source": [
    "from MDAnalysis.coordinates import PDB\n",
    "\n",
    "def export_frame_as_pdb(universe, frame_number):\n",
    "    \"\"\"\n",
    "    Export a specific frame from the MDAnalysis universe as a PDB file and return the PDB content as a string.\n",
    "\n",
    "    Parameters:\n",
    "    universe (MDAnalysis.core.universe.Universe): The MDAnalysis universe containing the trajectory.\n",
    "    frame_number (int): The frame number to export.\n",
    "\n",
    "    Returns:\n",
    "    str: The PDB content of the specified frame.\n",
    "    \"\"\"\n",
    "\n",
    "    universe.trajectory[frame_number]\n",
    "    pdb_io = io.StringIO()\n",
    "\n",
    "    with PDB.PDBWriter(pdb_io) as pdb_writer:\n",
    "        pdb_writer.write(universe.atoms)\n",
    "    \n",
    "        pdb_content = pdb_io.getvalue()\n",
    "    \n",
    "    return pdb_content\n",
    "\n",
    "frame_number = 100\n",
    "for _ in range(400):\n",
    "    frame_pdb_content = export_frame_as_pdb(u, frame_number)\n",
    "# print(frame_pdb_content)"
   ]
  },
  {
   "cell_type": "code",
   "execution_count": null,
   "metadata": {},
   "outputs": [],
   "source": []
  }
 ],
 "metadata": {
  "kernelspec": {
   "display_name": "Python 3",
   "language": "python",
   "name": "python3"
  },
  "language_info": {
   "codemirror_mode": {
    "name": "ipython",
    "version": 3
   },
   "file_extension": ".py",
   "mimetype": "text/x-python",
   "name": "python",
   "nbconvert_exporter": "python",
   "pygments_lexer": "ipython3",
   "version": "3.12.0"
  }
 },
 "nbformat": 4,
 "nbformat_minor": 2
}
