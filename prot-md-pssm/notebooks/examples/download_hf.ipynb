{
 "cells": [
  {
   "cell_type": "markdown",
   "metadata": {},
   "source": [
    "### Basic script for downloading a file from a URL using HF API\n",
    "todo: check if 10gbps is saturated, if not use multiple threads"
   ]
  },
  {
   "cell_type": "code",
   "execution_count": 1,
   "metadata": {},
   "outputs": [],
   "source": [
    "import os\n",
    "from os.path import join as opj\n",
    "from huggingface_hub import HfApi\n",
    "from huggingface_hub import hf_hub_download\n",
    "from huggingface_hub import hf_hub_url"
   ]
  },
  {
   "cell_type": "code",
   "execution_count": null,
   "metadata": {},
   "outputs": [],
   "source": [
    "with open(\"../tmp/data/mdCATH/mdcath_domains.txt\", \"r\") as file:\n",
    "    domain_ids = [line.strip() for line in file.readlines()]\n",
    "\n",
    "for domain_id in domain_ids[:100]:\n",
    "    hf_hub_download(\n",
    "        repo_id=\"compsciencelab/mdCATH\",\n",
    "        filename=f\"mdcath_dataset_{domain_id}.h5\",\n",
    "        subfolder=\"data\",\n",
    "        local_dir=\"../tmp/data/mdCATH/\",\n",
    "        repo_type=\"dataset\",\n",
    "    )"
   ]
  },
  {
   "cell_type": "code",
   "execution_count": null,
   "metadata": {},
   "outputs": [],
   "source": []
  }
 ],
 "metadata": {
  "kernelspec": {
   "display_name": "Python 3",
   "language": "python",
   "name": "python3"
  },
  "language_info": {
   "codemirror_mode": {
    "name": "ipython",
    "version": 3
   },
   "file_extension": ".py",
   "mimetype": "text/x-python",
   "name": "python",
   "nbconvert_exporter": "python",
   "pygments_lexer": "ipython3",
   "version": "3.12.0"
  }
 },
 "nbformat": 4,
 "nbformat_minor": 2
}
