{
 "cells": [
  {
   "cell_type": "code",
   "execution_count": 1,
   "metadata": {},
   "outputs": [],
   "source": [
    "import h5py\n",
    "import os\n",
    "import numpy as np\n",
    "import pandas as pd\n",
    "import json\n",
    "\n",
    "SAVE_PATH = \"../tmp/data\"\n",
    "SAVE_PATH_STRUCTURES = f\"{SAVE_PATH}/mdcath_pdb_structures\"\n",
    "\n",
    "os.makedirs(SAVE_PATH, exist_ok=True)\n",
    "os.makedirs(SAVE_PATH_STRUCTURES, exist_ok=True)\n",
    "\n",
    "AA_ALPHABET = [\"A\", \"C\", \"D\", \"E\", \"F\", \"G\", \"H\", \"I\", \"K\", \"L\", \"M\", \"N\", \"P\", \"Q\", \"R\", \"S\", \"T\", \"V\", \"W\", \"Y\"]"
   ]
  },
  {
   "cell_type": "code",
   "execution_count": null,
   "metadata": {},
   "outputs": [],
   "source": [
    "with h5py.File(\n",
    "    \"/mnt/gondolin/data/datasets_created/bachelor_thesis/mdCATH/mdCATH_3Di_dynamics_profiles.h5\", \"r\"\n",
    ") as mdcath_3di_dynamics:\n",
    "    print(list(mdcath_3di_dynamics.keys())[0])\n",
    "    print(list(mdcath_3di_dynamics[\"12asA00\"].attrs))\n",
    "    print(list(mdcath_3di_dynamics[\"12asA00\"].keys()))\n",
    "    print(mdcath_3di_dynamics[\"12asA00\"].attrs[\"sequence\"])\n",
    "    # with open(f\"{SAVE_PATH}/mdcath_sequence_aa.fasta\", \"w\") as f:\n",
    "    #     f.write(\"\\n\".join(([f\">{mdcath_3di_dynamics[item].attrs['name']}\\n{mdcath_3di_dynamics[item].attrs['sequence']}\" for item in list(mdcath_3di_dynamics.keys())])))\n"
   ]
  },
  {
   "cell_type": "code",
   "execution_count": null,
   "metadata": {},
   "outputs": [],
   "source": [
    "with h5py.File(\"/mnt/gondolin/data/datasets_created/bachelor_thesis/mdCATH/mdCATH_3Di_tokens.h5\", \"r\") as mdcath_3di_structures:\n",
    "    print(list(mdcath_3di_structures.keys())[0])\n",
    "    print(list(mdcath_3di_structures[\"foldseek\"].attrs))\n",
    "    print(list(mdcath_3di_structures[\"foldseek\"].keys())[0])\n",
    "    print(list(mdcath_3di_structures[\"foldseek\"][\"12asA00\"].attrs))\n",
    "    print(list(mdcath_3di_structures[\"foldseek\"][\"12asA00\"].keys()))\n",
    "    print(mdcath_3di_structures[\"foldseek\"][\"12asA00\"][\"base\"][()][0].decode(\"utf-8\"))\n",
    "    with open(\"../tmp/data/mdcath_sequence_3Di.fasta\", \"w\") as f:\n",
    "        f.write(\n",
    "            \"\\n\".join(\n",
    "                (\n",
    "                    [\n",
    "                        f\">{mdcath_3di_structures['foldseek'][item].attrs['name']}\\n{mdcath_3di_structures['foldseek'][item]['base'][()][0].decode('utf-8')}\"\n",
    "                        for item in list(mdcath_3di_structures[\"foldseek\"].keys())\n",
    "                    ]\n",
    "                )\n",
    "            )\n",
    "        )\n"
   ]
  },
  {
   "cell_type": "code",
   "execution_count": null,
   "metadata": {},
   "outputs": [],
   "source": [
    "with h5py.File(\n",
    "    \"/mnt/gondolin/data/datasets_created/bachelor_thesis/mdCATH/mdCATH_3Di_dynamics_profiles.h5\", \"r\"\n",
    ") as mdcath_3di_dynamics:\n",
    "    print(list(mdcath_3di_dynamics.keys())[0])\n",
    "    print(len(list(mdcath_3di_dynamics.keys())))\n",
    "    print(list(mdcath_3di_dynamics[\"12asA00\"].attrs))\n",
    "    print(list(mdcath_3di_dynamics[\"12asA00\"].keys()))\n",
    "    # print(mdcath_3di_dynamics['12asA00'].attrs['structure'])\n",
    "\n",
    "    for item in [\"3uzoA01\"]:  # list(mdcath_3di_dynamics.keys()):\n",
    "        print(mdcath_3di_dynamics[item].attrs[\"structure\"])\n",
    "        with open(f\"{SAVE_PATH_STRUCTURES}/{item}.pdbzip\", \"w\") as f:\n",
    "            f.write(mdcath_3di_dynamics[item].attrs[\"structure\"])\n"
   ]
  },
  {
   "cell_type": "code",
   "execution_count": null,
   "metadata": {},
   "outputs": [],
   "source": [
    "PSSM_SAVE_DIR = \"../tmp/data/generated_pssms/mdCATH_profiles_320_0/\"\n",
    "os.makedirs(PSSM_SAVE_DIR, exist_ok=True)\n",
    "\n",
    "\n",
    "def pssm_to_csv(name, pssm):\n",
    "    df_pssm = pd.DataFrame(pssm)\n",
    "    with open(f\"{PSSM_SAVE_DIR}/{name}.tsv\", \"w\") as f:\n",
    "        f.write(f\"Query profile of sequence {name}\\n\")\n",
    "        f.write(f\"     {\"      \".join(AA_ALPHABET)}      \\n\")\n",
    "        df_pssm = df_pssm.round(4)\n",
    "        df_pssm.to_csv(f, index=False, sep=\" \", float_format=\"%.4f\", header=False, lineterminator=\" \\n\")\n",
    "\n",
    "\n",
    "with h5py.File(\n",
    "    \"/mnt/gondolin/data/datasets_created/bachelor_thesis/mdCATH/mdCATH_3Di_dynamics_profiles.h5\", \"r\"\n",
    ") as mdcath_3di_dynamics:\n",
    "    print(list(mdcath_3di_dynamics.keys())[0])\n",
    "    print(list(mdcath_3di_dynamics[\"12asA00\"].attrs))\n",
    "    print(list(mdcath_3di_dynamics[\"12asA00\"].keys()))\n",
    "    for name in list(mdcath_3di_dynamics.keys()):\n",
    "        pssm_to_csv(name, mdcath_3di_dynamics[name][\"320_0\"])\n"
   ]
  },
  {
   "cell_type": "code",
   "execution_count": null,
   "metadata": {},
   "outputs": [],
   "source": [
    "with h5py.File(\n",
    "    \"/mnt/gondolin/data/datasets_created/bachelor_thesis/mdCATH/mdCATH_3Di_dynamics_profiles.h5\", \"r\"\n",
    ") as mdcath_3di_dynamics:\n",
    "    mdCATH_3Di_dynamics_keys = list(mdcath_3di_dynamics.keys())\n",
    "    print(len(mdCATH_3Di_dynamics_keys))\n",
    "    print(mdCATH_3Di_dynamics_keys[:10])"
   ]
  },
  {
   "cell_type": "code",
   "execution_count": null,
   "metadata": {},
   "outputs": [],
   "source": [
    "with h5py.File(\"/mnt/gondolin/data/datasets_created/bachelor_thesis/mdCATH/mdCATH_3Di_tokens.h5\", \"r\") as mdcath_3di_structures:\n",
    "    mdCATH_3Di_tokens_keys = list(mdcath_3di_structures[\"foldseek\"].keys())\n",
    "    print(len(mdCATH_3Di_tokens_keys))\n",
    "    print(mdCATH_3Di_tokens_keys[:10])"
   ]
  },
  {
   "cell_type": "code",
   "execution_count": null,
   "metadata": {},
   "outputs": [],
   "source": [
    "set(mdCATH_3Di_dynamics_keys) - set(mdCATH_3Di_tokens_keys)"
   ]
  },
  {
   "cell_type": "code",
   "execution_count": null,
   "metadata": {},
   "outputs": [],
   "source": [
    "with h5py.File(\n",
    "    \"/mnt/gondolin/data/datasets_created/bachelor_thesis/mdCATH/mdCATH_3Di_dynamics_profiles.h5\", \"r\"\n",
    ") as mdcath_3di_dynamics:\n",
    "    filepaths = [\n",
    "        f\"/mnt/gondolin/data/datasets/mdCATH/data/mdcath_dataset_{name}.h5\" for name in list(mdcath_3di_dynamics.keys())\n",
    "    ]\n",
    "    with open(\"../tmp/data/mdcath_dataset_filepaths.json\", \"w\") as f:\n",
    "        json.dump(filepaths, f)\n"
   ]
  },
  {
   "cell_type": "code",
   "execution_count": null,
   "metadata": {},
   "outputs": [],
   "source": [
    "import os\n",
    "\n",
    "pdb_structures_dir = \"../tmp/data/mdcath_pdb_structures\"\n",
    "pdb_filenames = os.listdir(pdb_structures_dir)\n",
    "print(f\"Found {len(pdb_filenames)} PDB files\")\n",
    "print(\"First 10 files:\", pdb_filenames[:10])\n"
   ]
  },
  {
   "cell_type": "code",
   "execution_count": 18,
   "metadata": {},
   "outputs": [],
   "source": [
    "pdb_filenames = [x.lower() for x in pdb_filenames]"
   ]
  },
  {
   "cell_type": "code",
   "execution_count": null,
   "metadata": {},
   "outputs": [],
   "source": [
    "pdb_filenames"
   ]
  },
  {
   "cell_type": "code",
   "execution_count": null,
   "metadata": {},
   "outputs": [],
   "source": [
    "pdb_ids = [x[:7] for x in pdb_filenames]\n",
    "duplicates = [x for x in set(pdb_ids) if pdb_ids.count(x) > 1]\n",
    "print(f\"Found {len(duplicates)} duplicate PDB IDs: {duplicates}\")"
   ]
  },
  {
   "cell_type": "code",
   "execution_count": null,
   "metadata": {},
   "outputs": [],
   "source": []
  }
 ],
 "metadata": {
  "kernelspec": {
   "display_name": "Python 3",
   "language": "python",
   "name": "python3"
  },
  "language_info": {
   "name": "python",
   "version": "3.12.0"
  }
 },
 "nbformat": 4,
 "nbformat_minor": 2
}
