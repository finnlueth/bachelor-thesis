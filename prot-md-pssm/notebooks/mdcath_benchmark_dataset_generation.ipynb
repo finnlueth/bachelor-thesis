{
 "cells": [
  {
   "cell_type": "code",
   "execution_count": 1,
   "metadata": {},
   "outputs": [],
   "source": [
    "import h5py\n",
    "import os\n",
    "import numpy as np\n",
    "import pandas as pd\n",
    "\n",
    "SAVE_PATH = \"../tmp/data\"\n",
    "SAVE_PATH_STRUCTURES = f\"{SAVE_PATH}/structures\"\n",
    "\n",
    "os.makedirs(SAVE_PATH, exist_ok=True)\n",
    "os.makedirs(SAVE_PATH_STRUCTURES, exist_ok=True)\n",
    "\n",
    "AA_ALPHABET = [\"A\", \"C\", \"D\", \"E\", \"F\", \"G\", \"H\", \"I\", \"K\", \"L\", \"M\", \"N\", \"P\", \"Q\", \"R\", \"S\", \"T\", \"V\", \"W\", \"Y\"]"
   ]
  },
  {
   "cell_type": "code",
   "execution_count": null,
   "metadata": {},
   "outputs": [],
   "source": [
    "with h5py.File('/mnt/gondolin/data/datasets_created/bachelor_thesis/mdCATH/mdCATH_3Di_dynamics_profiles.h5', 'r') as mdcath_3di_dynamics:\n",
    "    print(list(mdcath_3di_dynamics.keys())[0])\n",
    "    print(list(mdcath_3di_dynamics['12asA00'].attrs))\n",
    "    print(list(mdcath_3di_dynamics['12asA00'].keys()))\n",
    "    print(mdcath_3di_dynamics['12asA00'].attrs['sequence'])\n",
    "    # with open(f\"{SAVE_PATH}/mdcath_sequence_aa.fasta\", \"w\") as f:\n",
    "    #     f.write(\"\\n\".join(([f\">{mdcath_3di_dynamics[item].attrs['name']}\\n{mdcath_3di_dynamics[item].attrs['sequence']}\" for item in list(mdcath_3di_dynamics.keys())])))\n"
   ]
  },
  {
   "cell_type": "code",
   "execution_count": null,
   "metadata": {},
   "outputs": [],
   "source": [
    "with h5py.File('/mnt/gondolin/data/datasets_created/bachelor_thesis/mdCATH/mdCATH_3Di_tokens.h5', 'r') as mdcath_3di_structures:\n",
    "    print(list(mdcath_3di_structures.keys())[0])\n",
    "    print(list(mdcath_3di_structures['foldseek'].attrs))\n",
    "    print(list(mdcath_3di_structures['foldseek'].keys())[0])\n",
    "    print(list(mdcath_3di_structures['foldseek']['12asA00'].attrs))\n",
    "    print(list(mdcath_3di_structures['foldseek']['12asA00'].keys()))\n",
    "    print(mdcath_3di_structures['foldseek']['12asA00']['base'][()][0].decode('utf-8'))\n",
    "    # with open(\"../tmp/data/mdcath_sequence_3Di.fasta\", \"w\") as f:\n",
    "    #     f.write(\"\\n\".join(([f\">{mdcath_3di_structures['foldseek'][item].attrs['name']}\\n{mdcath_3di_structures['foldseek'][item]['base'][()][0].decode('utf-8')}\" for item in list(mdcath_3di_structures['foldseek'].keys())])))\n"
   ]
  },
  {
   "cell_type": "code",
   "execution_count": 31,
   "metadata": {},
   "outputs": [
    {
     "name": "stdout",
     "output_type": "stream",
     "text": [
      "12asA00\n",
      "5398\n",
      "['name', 'sequence', 'structure']\n",
      "['320_0', '320_1', '320_2', '320_3', '320_4', '348_0', '348_1', '348_2', '348_3', '348_4', '379_0', '379_1', '379_2', '379_3', '379_4', '413_0', '413_1', '413_2', '413_3', '413_4', '450_0', '450_1', '450_2', '450_3', '450_4']\n"
     ]
    },
    {
     "ename": "",
     "evalue": "",
     "output_type": "error",
     "traceback": [
      "\u001b[1;31mThe Kernel crashed while executing code in the the current cell or a previous cell. Please review the code in the cell(s) to identify a possible cause of the failure. Click <a href='https://aka.ms/vscodeJupyterKernelCrash'>here</a> for more info. View Jupyter <a href='command:jupyter.viewOutput'>log</a> for further details."
     ]
    }
   ],
   "source": [
    "with h5py.File('/mnt/gondolin/data/datasets_created/bachelor_thesis/mdCATH/mdCATH_3Di_dynamics_profiles.h5', 'r') as mdcath_3di_dynamics:\n",
    "    print(list(mdcath_3di_dynamics.keys())[0])\n",
    "    print(len(list(mdcath_3di_dynamics.keys())))\n",
    "    print(list(mdcath_3di_dynamics['12asA00'].attrs))\n",
    "    print(list(mdcath_3di_dynamics['12asA00'].keys()))\n",
    "    # print(mdcath_3di_dynamics['12asA00'].attrs['structure'])\n",
    "    \n",
    "    # for item in list(mdcath_3di_dynamics.keys()):\n",
    "        # print(mdcath_3di_dynamics[item].attrs['structure'])\n",
    "        # with open(f\"{SAVE_PATH_STRUCTURES}/{item}.pdbzip\", \"w\") as f:\n",
    "        #     f.write(mdcath_3di_dynamics[item].attrs['structure'])\n"
   ]
  },
  {
   "cell_type": "code",
   "execution_count": 12,
   "metadata": {},
   "outputs": [
    {
     "name": "stdout",
     "output_type": "stream",
     "text": [
      "12asA00\n",
      "['name', 'sequence', 'structure']\n",
      "['320_0', '320_1', '320_2', '320_3', '320_4', '348_0', '348_1', '348_2', '348_3', '348_4', '379_0', '379_1', '379_2', '379_3', '379_4', '413_0', '413_1', '413_2', '413_3', '413_4', '450_0', '450_1', '450_2', '450_3', '450_4']\n"
     ]
    }
   ],
   "source": [
    "PSSM_SAVE_DIR = \"../tmp/data/generated_pssms/mdCATH_profiles_320_0/\"\n",
    "os.makedirs(PSSM_SAVE_DIR, exist_ok=True)\n",
    "\n",
    "def pssm_to_csv(name, pssm):\n",
    "    df_pssm = pd.DataFrame(pssm)\n",
    "    with open(f\"{PSSM_SAVE_DIR}/{name}.tsv\", \"w\") as f:\n",
    "        f.write(f\"Query profile of sequence {name}\\n\")\n",
    "        f.write(f\"     {\"      \".join(AA_ALPHABET)}      \\n\")\n",
    "        df_pssm = df_pssm.round(4)\n",
    "        df_pssm.to_csv(f, index=False, sep=\" \", float_format=\"%.4f\", header=False, lineterminator=\" \\n\")\n",
    "\n",
    "\n",
    "with h5py.File('/mnt/gondolin/data/datasets_created/bachelor_thesis/mdCATH/mdCATH_3Di_dynamics_profiles.h5', 'r') as mdcath_3di_dynamics:\n",
    "    print(list(mdcath_3di_dynamics.keys())[0])\n",
    "    print(list(mdcath_3di_dynamics['12asA00'].attrs))\n",
    "    print(list(mdcath_3di_dynamics['12asA00'].keys()))\n",
    "    for name in list(mdcath_3di_dynamics.keys()):\n",
    "        pssm_to_csv(name, mdcath_3di_dynamics[name]['320_0'])\n"
   ]
  },
  {
   "cell_type": "code",
   "execution_count": 17,
   "metadata": {},
   "outputs": [
    {
     "name": "stdout",
     "output_type": "stream",
     "text": [
      "5398\n",
      "['12asA00', '153lA00', '16pkA02', '1a02F00', '1a05A00', '1a0aA00', '1a0hA01', '1a0rP01', '1a0sP00', '1a15A00']\n"
     ]
    }
   ],
   "source": [
    "with h5py.File('/mnt/gondolin/data/datasets_created/bachelor_thesis/mdCATH/mdCATH_3Di_dynamics_profiles.h5', 'r') as mdcath_3di_dynamics:\n",
    "    mdCATH_3Di_dynamics_keys = list(mdcath_3di_dynamics.keys())\n",
    "    print(len(mdCATH_3Di_dynamics_keys))\n",
    "    print(mdCATH_3Di_dynamics_keys[:10])"
   ]
  },
  {
   "cell_type": "code",
   "execution_count": 16,
   "metadata": {},
   "outputs": [
    {
     "name": "stdout",
     "output_type": "stream",
     "text": [
      "5397\n",
      "['12asA00', '153lA00', '16pkA02', '1a02F00', '1a05A00', '1a0aA00', '1a0hA01', '1a0rP01', '1a0sP00', '1a15A00']\n"
     ]
    }
   ],
   "source": [
    "with h5py.File('/mnt/gondolin/data/datasets_created/bachelor_thesis/mdCATH/mdCATH_3Di_tokens.h5', 'r') as mdcath_3di_structures:\n",
    "    mdCATH_3Di_tokens_keys = list(mdcath_3di_structures['foldseek'].keys())\n",
    "    print(len(mdCATH_3Di_tokens_keys))\n",
    "    print(mdCATH_3Di_tokens_keys[:10])"
   ]
  },
  {
   "cell_type": "code",
   "execution_count": 24,
   "metadata": {},
   "outputs": [
    {
     "data": {
      "text/plain": [
       "{'3uzoA01'}"
      ]
     },
     "execution_count": 24,
     "metadata": {},
     "output_type": "execute_result"
    }
   ],
   "source": [
    "set(mdCATH_3Di_dynamics_keys) - set(mdCATH_3Di_tokens_keys)"
   ]
  },
  {
   "cell_type": "code",
   "execution_count": null,
   "metadata": {},
   "outputs": [],
   "source": []
  }
 ],
 "metadata": {
  "language_info": {
   "name": "python"
  }
 },
 "nbformat": 4,
 "nbformat_minor": 2
}
