{
 "cells": [
  {
   "cell_type": "code",
   "execution_count": 55,
   "metadata": {},
   "outputs": [],
   "source": [
    "import h5py\n",
    "import os\n",
    "\n",
    "SAVE_PATH = \"../tmp/data\"\n",
    "SAVE_PATH_STRUCTURES = f\"{SAVE_PATH}/structures\"\n",
    "\n",
    "os.makedirs(SAVE_PATH, exist_ok=True)\n",
    "os.makedirs(SAVE_PATH_STRUCTURES, exist_ok=True)"
   ]
  },
  {
   "cell_type": "code",
   "execution_count": null,
   "metadata": {},
   "outputs": [],
   "source": [
    "with h5py.File('/mnt/gondolin/data/datasets_created/bachelor_thesis/mdCATH/mdCATH_3Di_dynamics_profiles.h5', 'r') as mdcath_3di_dynamics:\n",
    "    print(list(mdcath_3di_dynamics.keys())[0])\n",
    "    print(list(mdcath_3di_dynamics['12asA00'].attrs))\n",
    "    print(list(mdcath_3di_dynamics['12asA00'].keys()))\n",
    "    print(mdcath_3di_dynamics['12asA00'].attrs['sequence'])\n",
    "    # with open(f\"{SAVE_PATH}/mdcath_sequence_aa.fasta\", \"w\") as f:\n",
    "    #     f.write(\"\\n\".join(([f\">{mdcath_3di_dynamics[item].attrs['name']}\\n{mdcath_3di_dynamics[item].attrs['sequence']}\" for item in list(mdcath_3di_dynamics.keys())])))\n"
   ]
  },
  {
   "cell_type": "code",
   "execution_count": null,
   "metadata": {},
   "outputs": [],
   "source": [
    "with h5py.File('/mnt/gondolin/data/datasets_created/bachelor_thesis/mdCATH/mdCATH_3Di_tokens.h5', 'r') as mdcath_3di_structures:\n",
    "    print(list(mdcath_3di_structures.keys())[0])\n",
    "    print(list(mdcath_3di_structures['foldseek'].attrs))\n",
    "    print(list(mdcath_3di_structures['foldseek'].keys())[0])\n",
    "    print(list(mdcath_3di_structures['foldseek']['12asA00'].attrs))\n",
    "    print(list(mdcath_3di_structures['foldseek']['12asA00'].keys()))\n",
    "    print(mdcath_3di_structures['foldseek']['12asA00']['base'][()][0].decode('utf-8'))\n",
    "    with open(\"../tmp/data/mdcath_sequence_3Di.fasta\", \"w\") as f:\n",
    "        f.write(\"\\n\".join(([f\">{mdcath_3di_structures['foldseek'][item].attrs['name']}\\n{mdcath_3di_structures['foldseek'][item]['base'][()][0].decode('utf-8')}\" for item in list(mdcath_3di_structures['foldseek'].keys())])))\n"
   ]
  },
  {
   "cell_type": "code",
   "execution_count": null,
   "metadata": {},
   "outputs": [],
   "source": [
    "with h5py.File('/mnt/gondolin/data/datasets_created/bachelor_thesis/mdCATH/mdCATH_3Di_dynamics_profiles.h5', 'r') as mdcath_3di_dynamics:\n",
    "    print(list(mdcath_3di_dynamics.keys())[0])\n",
    "    print(list(mdcath_3di_dynamics['12asA00'].attrs))\n",
    "    print(list(mdcath_3di_dynamics['12asA00'].keys()))\n",
    "    # print(mdcath_3di_dynamics['12asA00'].attrs['structure'])\n",
    "    \n",
    "    for item in list(mdcath_3di_dynamics.keys()):\n",
    "        # print(mdcath_3di_dynamics[item].attrs['structure'])\n",
    "        with open(f\"{SAVE_PATH_STRUCTURES}/{item}.pdbzip\", \"w\") as f:\n",
    "            f.write(mdcath_3di_dynamics[item].attrs['structure'])\n"
   ]
  },
  {
   "cell_type": "code",
   "execution_count": null,
   "metadata": {},
   "outputs": [],
   "source": []
  }
 ],
 "metadata": {
  "language_info": {
   "name": "python"
  }
 },
 "nbformat": 4,
 "nbformat_minor": 2
}
