{
 "cells": [
  {
   "cell_type": "code",
   "execution_count": 1,
   "metadata": {},
   "outputs": [],
   "source": [
    "%reload_ext autoreload\n",
    "%autoreload 2"
   ]
  },
  {
   "cell_type": "code",
   "execution_count": 2,
   "metadata": {},
   "outputs": [],
   "source": [
    "import torch\n",
    "from plms.models.T5.protT5 import ProtT5\n",
    "from plms.models import auto_model\n",
    "import os\n",
    "from transformers import T5EncoderModel\n",
    "\n",
    "os.environ[\"CUDA_DEVICE_ORDER\"] = \"PCI_BUS_ID\"\n",
    "os.environ[\"CUDA_VISIBLE_DEVICES\"] = \"1, 2\""
   ]
  },
  {
   "cell_type": "code",
   "execution_count": 3,
   "metadata": {},
   "outputs": [],
   "source": [
    "model = auto_model(\"Rostlab/prot_t5_xl_uniref50\")\n",
    "# model = ProtT5(\"Rostlab/prot_t5_xl_uniref50\")"
   ]
  },
  {
   "cell_type": "code",
   "execution_count": 18,
   "metadata": {},
   "outputs": [
    {
     "name": "stdout",
     "output_type": "stream",
     "text": [
      "3 22 10 9 15 5 20 12 14 4 19 17 13 16 8 7 11 6 21 18 1\n",
      "1 1 1 1 1 1 1 1 1 1 1 1 1 1 1 1 1 1 1 1 1\n",
      "A C D E F G H I K L M N P Q R S T V W Y</s>\n"
     ]
    }
   ],
   "source": [
    "sequence_processed = \"A C D E F G H I K L M N P Q R S T V W Y\"\n",
    "tokenizer_output = model.get_tokenizer()(text=sequence_processed, padding=False, truncation=False)\n",
    "\n",
    "input_ids = tokenizer_output[\"input_ids\"]\n",
    "attention_mask = tokenizer_output[\"attention_mask\"]\n",
    "\n",
    "decoded_tokens = model.get_tokenizer().decode(input_ids)\n",
    "\n",
    "print(*input_ids)\n",
    "print(*attention_mask)\n",
    "print(decoded_tokens)"
   ]
  },
  {
   "cell_type": "code",
   "execution_count": 25,
   "metadata": {},
   "outputs": [],
   "source": [
    "embeddings = model(\n",
    "    input_ids=torch.tensor([input_ids, input_ids]).to(model.device),\n",
    "    attention_mask=torch.tensor([attention_mask, attention_mask]).to(model.device),\n",
    ")"
   ]
  },
  {
   "cell_type": "code",
   "execution_count": 26,
   "metadata": {},
   "outputs": [
    {
     "data": {
      "text/plain": [
       "(torch.Size([2, 21, 1024]),\n",
       " tensor([[[-0.1307, -0.0025, -0.1295,  ...,  0.2355,  0.0278, -0.0275],\n",
       "          [ 0.6045, -0.0055,  0.0294,  ..., -0.1195,  0.2319, -0.0606],\n",
       "          [ 0.0499, -0.1446, -0.0074,  ...,  0.2809, -0.0068, -0.0222],\n",
       "          ...,\n",
       "          [-0.0565,  0.2416, -0.0685,  ...,  0.0873, -0.0659, -0.0446],\n",
       "          [-0.0456,  0.0570, -0.0363,  ...,  0.0156,  0.0488, -0.1885],\n",
       "          [ 0.0000,  0.0000,  0.0000,  ...,  0.0000,  0.0000,  0.0000]],\n",
       " \n",
       "         [[-0.1307, -0.0025, -0.1295,  ...,  0.2355,  0.0278, -0.0275],\n",
       "          [ 0.6045, -0.0055,  0.0294,  ..., -0.1195,  0.2319, -0.0606],\n",
       "          [ 0.0499, -0.1446, -0.0074,  ...,  0.2809, -0.0068, -0.0222],\n",
       "          ...,\n",
       "          [-0.0565,  0.2416, -0.0685,  ...,  0.0873, -0.0659, -0.0446],\n",
       "          [-0.0456,  0.0570, -0.0363,  ...,  0.0156,  0.0488, -0.1885],\n",
       "          [ 0.0000,  0.0000,  0.0000,  ...,  0.0000,  0.0000,  0.0000]]],\n",
       "        device='cuda:0', grad_fn=<WhereBackward0>))"
      ]
     },
     "execution_count": 26,
     "metadata": {},
     "output_type": "execute_result"
    }
   ],
   "source": [
    "embeddings.shape, embeddings"
   ]
  },
  {
   "cell_type": "code",
   "execution_count": null,
   "metadata": {},
   "outputs": [],
   "source": []
  }
 ],
 "metadata": {
  "kernelspec": {
   "display_name": "Python 3",
   "language": "python",
   "name": "python3"
  },
  "language_info": {
   "codemirror_mode": {
    "name": "ipython",
    "version": 3
   },
   "file_extension": ".py",
   "mimetype": "text/x-python",
   "name": "python",
   "nbconvert_exporter": "python",
   "pygments_lexer": "ipython3",
   "version": "3.12.0"
  }
 },
 "nbformat": 4,
 "nbformat_minor": 2
}
