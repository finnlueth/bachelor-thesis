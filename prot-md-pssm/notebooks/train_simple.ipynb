{
 "cells": [
  {
   "cell_type": "code",
   "execution_count": 1,
   "metadata": {},
   "outputs": [],
   "source": [
    "%reload_ext autoreload\n",
    "%autoreload 2"
   ]
  },
  {
   "cell_type": "code",
   "execution_count": null,
   "metadata": {},
   "outputs": [],
   "source": [
    "import os\n",
    "import random\n",
    "\n",
    "import accelerate\n",
    "import torch\n",
    "import transformers\n",
    "\n",
    "from src._shared import (\n",
    "    apply_lora_to_model,\n",
    "    load_config,\n",
    "    load_model,\n",
    "    load_tokenizer,\n",
    "    prepare_dataset,\n",
    "    save_model_and_logs,\n",
    "    setup_environment,\n",
    "    setup_trainer,\n",
    "    train_model,\n",
    ")\n",
    "from src.utils.sanity_checks import sanity_checks"
   ]
  },
  {
   "cell_type": "code",
   "execution_count": null,
   "metadata": {},
   "outputs": [],
   "source": [
    "os.environ[\"CUDA_DEVICE_ORDER\"] = \"PCI_BUS_ID\"\n",
    "os.environ[\"CUDA_VISIBLE_DEVICES\"] = \"1\"\n",
    "\n",
    "train_config = load_config()\n",
    "model_name_identifier, device, report_to, run, USE_WANDB, SEED = setup_environment(train_config)\n",
    "\n",
    "accelerate.utils.set_seed(SEED + 1)\n",
    "transformers.set_seed(SEED + 2)\n",
    "torch.manual_seed(SEED + 3)\n",
    "random.seed(SEED + 4)"
   ]
  },
  {
   "cell_type": "code",
   "execution_count": 4,
   "metadata": {},
   "outputs": [],
   "source": [
    "tokenizer = load_tokenizer(train_config)\n",
    "model = load_model(train_config)\n",
    "model = apply_lora_to_model(model, train_config)\n",
    "dataset = prepare_dataset(train_config)\n",
    "trainer = setup_trainer(train_config, tokenizer, model, model_name_identifier, USE_WANDB, dataset)\n",
    "train_model(trainer)\n",
    "model_save_path = save_model_and_logs(model, train_config, model_name_identifier, trainer)\n",
    "sanity_checks(model, train_config, model_save_path)"
   ]
  },
  {
   "cell_type": "code",
   "execution_count": null,
   "metadata": {},
   "outputs": [],
   "source": []
  }
 ],
 "metadata": {
  "kernelspec": {
   "display_name": "Python 3",
   "language": "python",
   "name": "python3"
  },
  "language_info": {
   "codemirror_mode": {
    "name": "ipython",
    "version": 3
   },
   "file_extension": ".py",
   "mimetype": "text/x-python",
   "name": "python",
   "nbconvert_exporter": "python",
   "pygments_lexer": "ipython3",
   "version": "3.12.0"
  }
 },
 "nbformat": 4,
 "nbformat_minor": 2
}
