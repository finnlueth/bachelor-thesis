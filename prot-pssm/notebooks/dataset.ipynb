{
 "cells": [
  {
   "cell_type": "code",
   "execution_count": 1,
   "metadata": {},
   "outputs": [],
   "source": [
    "%reload_ext autoreload\n",
    "%autoreload 2\n",
    "\n",
    "import h5py\n",
    "from plms import auto_tokenizer\n",
    "from datasets import Dataset, load_from_disk\n"
   ]
  },
  {
   "cell_type": "code",
   "execution_count": 2,
   "metadata": {},
   "outputs": [],
   "source": [
    "tokenizer_prostT5 = auto_tokenizer(\"Rostlab/ProstT5\")\n",
    "tokenizer_protT5 = auto_tokenizer(\"Rostlab/prot_t5_xl_uniref50\")\n",
    "data_path = \"/home/lfi/mnt/dev/prot-md-pssm-legacy/tmp/data/pssm/pssm_data.h5\""
   ]
  },
  {
   "cell_type": "code",
   "execution_count": null,
   "metadata": {},
   "outputs": [],
   "source": [
    "def gen():\n",
    "    with h5py.File(data_path, \"r\") as f:\n",
    "        for protein_id in f:\n",
    "            for trajectory_pssm in f[protein_id]:\n",
    "                # ProstT5\n",
    "                sequence_tokenized_prostT5 = tokenizer_prostT5.encode(\n",
    "                    text=f[protein_id].attrs[\"sequence\"], padding=False, truncation=False\n",
    "                )\n",
    "                input_ids_prostT5 = sequence_tokenized_prostT5[\"input_ids\"]\n",
    "                attention_mask_prostT5 = sequence_tokenized_prostT5[\"attention_mask\"]\n",
    "\n",
    "                # ProtT5\n",
    "                sequence_tokenized_protT5 = tokenizer_protT5.encode(\n",
    "                    text=f[protein_id].attrs[\"sequence\"], padding=False, truncation=False\n",
    "                )\n",
    "                input_ids_protT5 = sequence_tokenized_protT5[\"input_ids\"]\n",
    "                attention_mask_protT5 = sequence_tokenized_protT5[\"attention_mask\"]\n",
    "\n",
    "                # Metadata\n",
    "                temperature = trajectory_pssm.split(\"_\")[0]\n",
    "                replica = trajectory_pssm.split(\"_\")[1]\n",
    "                yield {\n",
    "                    \"name\": f[protein_id].attrs[\"name\"],\n",
    "                    \"temperature\": temperature,\n",
    "                    \"replica\": replica,\n",
    "                    \"sequence\": f[protein_id].attrs[\"sequence\"],\n",
    "                    \"input_ids_prostT5\": input_ids_prostT5,\n",
    "                    \"attention_mask_prostT5\": attention_mask_prostT5,\n",
    "                    \"input_ids_protT5\": input_ids_protT5,\n",
    "                    \"attention_mask_protT5\": attention_mask_protT5,\n",
    "                    \"pssm_features\": f[protein_id][trajectory_pssm][:],\n",
    "                }\n",
    "\n",
    "\n",
    "ds = Dataset.from_generator(gen)"
   ]
  },
  {
   "cell_type": "code",
   "execution_count": null,
   "metadata": {},
   "outputs": [],
   "source": [
    "ds.save_to_disk(\"../tmp/data/pssm/mdcath_pssm_full\")\n",
    "ds = load_from_disk(\"../tmp/data/pssm/mdcath_pssm_full\")"
   ]
  },
  {
   "cell_type": "code",
   "execution_count": 5,
   "metadata": {},
   "outputs": [],
   "source": [
    "# Faster way to save filtered datasets\n",
    "\n",
    "from concurrent.futures import ProcessPoolExecutor\n",
    "\n",
    "\n",
    "identifiers_temperature = [\"320\", \"348\", \"379\", \"413\", \"450\"]\n",
    "identifiers_replica = [\"0\", \"1\", \"2\", \"3\", \"4\"]\n",
    "\n",
    "\n",
    "def save_filtered(identifier):\n",
    "    ds_tmp = ds.filter(lambda x: x[\"temperature\"] == identifier)\n",
    "    path = f\"../tmp/data/pssm/mdcath_pssm_{identifier}\"\n",
    "    ds_tmp.save_to_disk(path)\n",
    "    return path\n",
    "\n",
    "\n",
    "with ProcessPoolExecutor() as executor:\n",
    "    results = list(executor.map(save_filtered, identifiers_temperature))\n",
    "\n",
    "\n",
    "def save_filtered(identifier):\n",
    "    ds_tmp = ds.filter(lambda x: x[\"replica\"] == identifier)\n",
    "    path = f\"../tmp/data/pssm/mdcath_pssm_{identifier}\"\n",
    "    ds_tmp.save_to_disk(path)\n",
    "    return path\n",
    "\n",
    "\n",
    "with ProcessPoolExecutor() as executor:\n",
    "    results = list(executor.map(save_filtered, identifiers_replica))"
   ]
  },
  {
   "cell_type": "code",
   "execution_count": null,
   "metadata": {},
   "outputs": [],
   "source": [
    "# Slower way to save filtered datasets\n",
    "# file_name = \"_prostT5\"\n",
    "# for temp in [\"320\", \"348\", \"379\", \"413\", \"450\"]:\n",
    "#     ds_tmp = ds.filter(lambda x: x[\"temperature\"] == temp)\n",
    "#     ds_tmp.save_to_disk(f\"../tmp/data/pssm/pssm_dataset{file_name}_{temp}\")"
   ]
  },
  {
   "cell_type": "code",
   "execution_count": 15,
   "metadata": {},
   "outputs": [],
   "source": [
    "ds_reloaded = load_from_disk(\"../tmp/data/pssm/mdcath_pssm_450\")"
   ]
  },
  {
   "cell_type": "code",
   "execution_count": null,
   "metadata": {},
   "outputs": [],
   "source": [
    "import pandas as pd\n",
    "\n",
    "display(pd.DataFrame(ds_reloaded[\"temperature\"]).value_counts())\n",
    "display(pd.DataFrame(ds_reloaded[\"replica\"]).value_counts())"
   ]
  },
  {
   "cell_type": "code",
   "execution_count": null,
   "metadata": {},
   "outputs": [],
   "source": []
  }
 ],
 "metadata": {
  "kernelspec": {
   "display_name": "Python 3",
   "language": "python",
   "name": "python3"
  },
  "language_info": {
   "codemirror_mode": {
    "name": "ipython",
    "version": 3
   },
   "file_extension": ".py",
   "mimetype": "text/x-python",
   "name": "python",
   "nbconvert_exporter": "python",
   "pygments_lexer": "ipython3",
   "version": "3.12.0"
  }
 },
 "nbformat": 4,
 "nbformat_minor": 2
}
