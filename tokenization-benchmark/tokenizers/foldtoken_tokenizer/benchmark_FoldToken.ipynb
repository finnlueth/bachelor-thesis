{
 "cells": [
  {
   "cell_type": "code",
   "execution_count": 10,
   "metadata": {},
   "outputs": [],
   "source": [
    "import os\n",
    "\n",
    "os.environ[\"NO_PROXY\"] = \"*\"  # Disable proxy settings\n",
    "os.environ[\"no_proxy\"] = \"*\"\n",
    "\n",
    "# Disable network access for common Python libraries\n",
    "import socket\n",
    "\n",
    "\n",
    "def no_network(*args, **kwargs):\n",
    "    raise Exception(\"Network access disabled\")\n",
    "\n",
    "\n",
    "socket.socket = no_network\n",
    "\n",
    "# Disable urllib\n",
    "import urllib.request\n",
    "\n",
    "urllib.request.urlopen = no_network"
   ]
  },
  {
   "cell_type": "code",
   "execution_count": 11,
   "metadata": {},
   "outputs": [],
   "source": [
    "import sys\n",
    "\n",
    "sys.path.append(\"./FoldToken_open_master/foldtoken5\")\n",
    "\n",
    "from FoldToken_open_master.foldtoken5.extract_vq_ids_jsonl import load_model, parse_args\n",
    "\n",
    "TOKENIZER_PATH = \"./FoldToken_open_master/foldtoken5\""
   ]
  },
  {
   "cell_type": "code",
   "execution_count": 15,
   "metadata": {},
   "outputs": [],
   "source": [
    "class Args:\n",
    "    def __init__(self):\n",
    "        self.path_in = \"\"\n",
    "        self.save_vqid_path = \"\"\n",
    "        self.level = 16\n",
    "        self.multichian = 1\n",
    "        self.config = None  # Will be set later\n",
    "        self.checkpoint = None  # Will be set later\n",
    "\n",
    "\n",
    "args = Args()\n",
    "\n",
    "configs = {\n",
    "    16: [\n",
    "        \"./foldtoken5/model_zoom/FSQ16/config.yaml\",\n",
    "        \"./foldtoken5/model_zoom/FSQ16/last.pth\",\n",
    "    ],\n",
    "    20: [\n",
    "        \"./foldtoken5/model_zoom/FSQ20/config.yaml\",\n",
    "        \"./foldtoken5/model_zoom/FSQ20/last.pth\",\n",
    "    ],\n",
    "    256: [\n",
    "        \"./foldtoken5/model_zoom/FSQ256/config.yaml\",\n",
    "        \"./foldtoken5/model_zoom/FSQ256/last.pth\",\n",
    "    ],\n",
    "    1024: [\n",
    "        \"./foldtoken5/model_zoom/FSQ1024/config.yaml\",\n",
    "        \"./foldtoken5/model_zoom/FSQ1024/last.pth\",\n",
    "    ],\n",
    "    4096: [\n",
    "        \"./foldtoken5/model_zoom/FSQ4096/config.yaml\",\n",
    "        \"./foldtoken5/model_zoom/FSQ4096/last.pth\",\n",
    "    ],\n",
    "}\n",
    "\n",
    "for key, value in configs.items():\n",
    "    configs[key] = [TOKENIZER_PATH + item[1:] for item in value]\n",
    "\n",
    "args.config = configs[args.level][0]\n",
    "args.checkpoint = configs[args.level][1]"
   ]
  },
  {
   "cell_type": "code",
   "execution_count": 17,
   "metadata": {},
   "outputs": [
    {
     "ename": "FileNotFoundError",
     "evalue": "[Errno 2] No such file or directory: '/home/finnlueth/repos/bachelor-thesis/tokenization-benchmark/tokenizers/foldtoken_tokenizer/FoldToken_open_master/foldtoken5/foldtoken5/model_zoom/FSQ16/config.yaml'",
     "output_type": "error",
     "traceback": [
      "\u001b[31m---------------------------------------------------------------------------\u001b[39m",
      "\u001b[31mFileNotFoundError\u001b[39m                         Traceback (most recent call last)",
      "\u001b[36mCell\u001b[39m\u001b[36m \u001b[39m\u001b[32mIn[17]\u001b[39m\u001b[32m, line 1\u001b[39m\n\u001b[32m----> \u001b[39m\u001b[32m1\u001b[39m model = \u001b[43mload_model\u001b[49m\u001b[43m(\u001b[49m\u001b[43margs\u001b[49m\u001b[43m)\u001b[49m\n",
      "\u001b[36mFile \u001b[39m\u001b[32m~/repos/bachelor-thesis/tokenization-benchmark/tokenizers/foldtoken_tokenizer/FoldToken_open_master/foldtoken5/extract_vq_ids_jsonl.py:20\u001b[39m, in \u001b[36mload_model\u001b[39m\u001b[34m(args)\u001b[39m\n\u001b[32m     19\u001b[39m \u001b[38;5;28;01mdef\u001b[39;00m\u001b[38;5;250m \u001b[39m\u001b[34mload_model\u001b[39m(args):\n\u001b[32m---> \u001b[39m\u001b[32m20\u001b[39m     config = \u001b[43mOmegaConf\u001b[49m\u001b[43m.\u001b[49m\u001b[43mload\u001b[49m\u001b[43m(\u001b[49m\u001b[43margs\u001b[49m\u001b[43m.\u001b[49m\u001b[43mconfig\u001b[49m\u001b[43m)\u001b[49m\n\u001b[32m     21\u001b[39m     config = OmegaConf.to_container(config, resolve=\u001b[38;5;28;01mTrue\u001b[39;00m)\n\u001b[32m     22\u001b[39m     model = MInterface(**config)\n",
      "\u001b[36mFile \u001b[39m\u001b[32m~/repos/bachelor-thesis/tokenization-benchmark/tokenizers/foldtoken_tokenizer/.venv/lib/python3.13/site-packages/omegaconf/omegaconf.py:189\u001b[39m, in \u001b[36mOmegaConf.load\u001b[39m\u001b[34m(file_)\u001b[39m\n\u001b[32m    186\u001b[39m \u001b[38;5;28;01mfrom\u001b[39;00m\u001b[38;5;250m \u001b[39m\u001b[34;01m.\u001b[39;00m\u001b[34;01m_utils\u001b[39;00m\u001b[38;5;250m \u001b[39m\u001b[38;5;28;01mimport\u001b[39;00m get_yaml_loader\n\u001b[32m    188\u001b[39m \u001b[38;5;28;01mif\u001b[39;00m \u001b[38;5;28misinstance\u001b[39m(file_, (\u001b[38;5;28mstr\u001b[39m, pathlib.Path)):\n\u001b[32m--> \u001b[39m\u001b[32m189\u001b[39m     \u001b[38;5;28;01mwith\u001b[39;00m \u001b[43mio\u001b[49m\u001b[43m.\u001b[49m\u001b[43mopen\u001b[49m\u001b[43m(\u001b[49m\u001b[43mos\u001b[49m\u001b[43m.\u001b[49m\u001b[43mpath\u001b[49m\u001b[43m.\u001b[49m\u001b[43mabspath\u001b[49m\u001b[43m(\u001b[49m\u001b[43mfile_\u001b[49m\u001b[43m)\u001b[49m\u001b[43m,\u001b[49m\u001b[43m \u001b[49m\u001b[33;43m\"\u001b[39;49m\u001b[33;43mr\u001b[39;49m\u001b[33;43m\"\u001b[39;49m\u001b[43m,\u001b[49m\u001b[43m \u001b[49m\u001b[43mencoding\u001b[49m\u001b[43m=\u001b[49m\u001b[33;43m\"\u001b[39;49m\u001b[33;43mutf-8\u001b[39;49m\u001b[33;43m\"\u001b[39;49m\u001b[43m)\u001b[49m \u001b[38;5;28;01mas\u001b[39;00m f:\n\u001b[32m    190\u001b[39m         obj = yaml.load(f, Loader=get_yaml_loader())\n\u001b[32m    191\u001b[39m \u001b[38;5;28;01melif\u001b[39;00m \u001b[38;5;28mgetattr\u001b[39m(file_, \u001b[33m\"\u001b[39m\u001b[33mread\u001b[39m\u001b[33m\"\u001b[39m, \u001b[38;5;28;01mNone\u001b[39;00m):\n",
      "\u001b[31mFileNotFoundError\u001b[39m: [Errno 2] No such file or directory: '/home/finnlueth/repos/bachelor-thesis/tokenization-benchmark/tokenizers/foldtoken_tokenizer/FoldToken_open_master/foldtoken5/foldtoken5/model_zoom/FSQ16/config.yaml'"
     ]
    }
   ],
   "source": [
    "model = load_model(args)"
   ]
  },
  {
   "cell_type": "code",
   "execution_count": null,
   "metadata": {},
   "outputs": [],
   "source": []
  }
 ],
 "metadata": {
  "language_info": {
   "name": "python"
  }
 },
 "nbformat": 4,
 "nbformat_minor": 2
}
